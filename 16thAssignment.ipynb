{
  "nbformat": 4,
  "nbformat_minor": 0,
  "metadata": {
    "colab": {
      "name": "16thAssignment.ipynb",
      "provenance": [],
      "collapsed_sections": [],
      "authorship_tag": "ABX9TyNK2+094sNXGeXaajaSIj8V",
      "include_colab_link": true
    },
    "kernelspec": {
      "name": "python3",
      "display_name": "Python 3"
    },
    "language_info": {
      "name": "python"
    }
  },
  "cells": [
    {
      "cell_type": "markdown",
      "metadata": {
        "id": "view-in-github",
        "colab_type": "text"
      },
      "source": [
        "<a href=\"https://colab.research.google.com/github/pafernannapi18/GithubIntro/blob/main/16thAssignment.ipynb\" target=\"_parent\"><img src=\"https://colab.research.google.com/assets/colab-badge.svg\" alt=\"Open In Colab\"/></a>"
      ]
    },
    {
      "cell_type": "code",
      "metadata": {
        "id": "ATU0u9V_6LJS"
      },
      "source": [
        ""
      ],
      "execution_count": 3,
      "outputs": []
    },
    {
      "cell_type": "markdown",
      "metadata": {
        "id": "yVELE9AY69rn"
      },
      "source": [
        "# [Problem 1] Enumeration of classes used so far\n",
        "\n",
        "1.   pandas.read_csv()\n",
        "2.   matplotlib.show()\n",
        "3.   sklearn.ensemble\n",
        "\n"
      ]
    },
    {
      "cell_type": "markdown",
      "metadata": {
        "id": "2SK1Mwt676hj"
      },
      "source": [
        "## [Problem 2] Enumeration of methods and instance variables used so far\n",
        "\n",
        "\n",
        "\n",
        "Explaining methods\n",
        "*   pandas.loc()\n",
        "*   pandas.iloc()\n",
        "*   numpy.sum\n",
        "*   numpy.reshape\n",
        "*   numpy.ravel\n",
        "\n",
        "Instance Variable\n",
        "\n",
        "*   ndarray.shape\n",
        "*   ndarray.ndim\n",
        "*   ndarray.size\n",
        "*   ndarray.dtype\n",
        "*   ndarray.data"
      ]
    },
    {
      "cell_type": "markdown",
      "metadata": {
        "id": "WXskmswF-Kto"
      },
      "source": [
        "## [Problem 3] Creating a standardized class by scratch"
      ]
    },
    {
      "cell_type": "code",
      "metadata": {
        "id": "NaKmmby_7A-w"
      },
      "source": [
        "import numpy as np\n",
        "class ScratchStandardScaler():\n",
        "  def fit(self, X):\n",
        "    self.mean_ = np.mean(X, axis=0)\n",
        "    self.var_ = np.var(X, axis=0)\n",
        "    pass\n",
        "  def transform(self, X):\n",
        "    X_scaled = (X-self.mean_)/self.var_\n",
        "    pass\n",
        "    return X_scaled "
      ],
      "execution_count": 4,
      "outputs": []
    },
    {
      "cell_type": "code",
      "metadata": {
        "colab": {
          "base_uri": "https://localhost:8080/"
        },
        "id": "Sh6Yvw0Y_QCe",
        "outputId": "bbb3d932-97d9-4642-a6a4-a4083df73195"
      },
      "source": [
        "from sklearn.datasets import load_iris\n",
        "data = load_iris()\n",
        "X = data.data[:10]\n",
        "scratch_scaler = ScratchStandardScaler()\n",
        "scratch_scaler.fit(X)\n",
        "print('mean :{}'.format(scratch_scaler.mean_))\n",
        "print('distributed :{}'.format(scratch_scaler.var_))\n",
        "X_std = scratch_scaler.transform(X)\n",
        "print(X_std)"
      ],
      "execution_count": 5,
      "outputs": [
        {
          "output_type": "stream",
          "name": "stdout",
          "text": [
            "mean :[4.86 3.31 1.45 0.22]\n",
            "distributed :[0.0764 0.0849 0.0105 0.0056]\n",
            "[[  3.14136126   2.23792697  -4.76190476  -3.57142857]\n",
            " [  0.52356021  -3.65135453  -4.76190476  -3.57142857]\n",
            " [ -2.09424084  -1.29564193 -14.28571429  -3.57142857]\n",
            " [ -3.40314136  -2.47349823   4.76190476  -3.57142857]\n",
            " [  1.83246073   3.41578327  -4.76190476  -3.57142857]\n",
            " [  7.06806283   6.94935218  23.80952381  32.14285714]\n",
            " [ -3.40314136   1.06007067  -4.76190476  14.28571429]\n",
            " [  1.83246073   1.06007067   4.76190476  -3.57142857]\n",
            " [ -6.02094241  -4.82921084  -4.76190476  -3.57142857]\n",
            " [  0.52356021  -2.47349823   4.76190476 -21.42857143]]\n"
          ]
        }
      ]
    },
    {
      "cell_type": "markdown",
      "metadata": {
        "id": "-TEw0svs_plz"
      },
      "source": [
        "## [Problem 4] Creating a class that performs 4 arithmetic operations"
      ]
    },
    {
      "cell_type": "code",
      "metadata": {
        "colab": {
          "base_uri": "https://localhost:8080/"
        },
        "id": "R2Ax8aAr_g5z",
        "outputId": "7584d47b-05b9-4c6d-f4e1-177441255fff"
      },
      "source": [
        "def type_judge(value_to_judge):\n",
        "  if not isinstance(value_to_judge, (int, float)):\n",
        "    print(\"Please input only numbers\")\n",
        "    return False\n",
        "  else:\n",
        "    return True\n",
        "\n",
        "class ArthClass():\n",
        "  #\n",
        "  #\n",
        "  #\n",
        "  def __init__(self, value):\n",
        "    if(type_judge(value)):\n",
        "      self.value = value\n",
        "      print(\"something{}\".format(self.value))\n",
        "    else:\n",
        "      self.self_value = value  \n",
        "\n",
        "  def add(self, value2):\n",
        "\n",
        "    if type_judge(self.value) and type_judge(value2):\n",
        "      self.value += value2\n",
        "    else:\n",
        "      self.value = \"cannot be calculated because one of the values is not a number\"\n",
        "\n",
        "  def sub(self, value2):\n",
        "\n",
        "    # subtract the received argument with the self.value\n",
        "    if type_judge(self.value) and type_judge(value2):\n",
        "      self.value -= value2\n",
        "    else:\n",
        "       self.value = \"cannot be calculated because one of the values is not a number\"\n",
        "\n",
        "  def mult(self, value2):\n",
        "     # multiply the received argument with the self.value\n",
        "    if type_judge(self.value) and type_judge(value2):\n",
        "       self.value *= value2\n",
        "    else:\n",
        "       self.value = \"cannot be calculated because one of the values is not a number\"\n",
        "\n",
        "  def div(self, value2):\n",
        "     # divide the received argument with the self.value\n",
        "    if type_judge(self.value) and type_judge(value2):\n",
        "       self.value /= value2\n",
        "    else:\n",
        "       self.value = \"cannot be calculated because one of the values is not a number\"\n",
        "\n",
        "example = ArthClass(5)\n",
        "print(\"value : {}\".format(example.value)) \n",
        "example.add(3)\n",
        "print(\"addition value : {}\".format(example.value))\n",
        "\n",
        "example2 = ArthClass(\"k\") \n",
        "example.sub(3)\n",
        "print(\"subtaction value : {}\".format(example.value))\n",
        " \n",
        "example.mult(3) \n",
        "print(\"multiplication value : {}\".format(example.value)) \n",
        "\n",
        "example.div('k') \n",
        "print(\"division value : {}\".format(example.value))"
      ],
      "execution_count": 6,
      "outputs": [
        {
          "output_type": "stream",
          "name": "stdout",
          "text": [
            "something5\n",
            "value : 5\n",
            "addition value : 8\n",
            "Please input only numbers\n",
            "subtaction value : 5\n",
            "multiplication value : 15\n",
            "Please input only numbers\n",
            "division value : cannot be calculated because one of the values is not a number\n"
          ]
        }
      ]
    }
  ]
}