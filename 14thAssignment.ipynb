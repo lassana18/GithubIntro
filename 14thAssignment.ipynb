{
  "nbformat": 4,
  "nbformat_minor": 0,
  "metadata": {
    "colab": {
      "name": "14thAssignment.ipynb",
      "provenance": [],
      "collapsed_sections": [],
      "mount_file_id": "1hhlYKFofNiNfS5SHudQJtq5RkabNN4J_",
      "authorship_tag": "ABX9TyMuZk7AwPr6sY/DRy1rCPzU",
      "include_colab_link": true
    },
    "kernelspec": {
      "name": "python3",
      "display_name": "Python 3"
    },
    "language_info": {
      "name": "python"
    }
  },
  "cells": [
    {
      "cell_type": "markdown",
      "metadata": {
        "id": "view-in-github",
        "colab_type": "text"
      },
      "source": [
        "<a href=\"https://colab.research.google.com/github/pafernannapi18/GithubIntro/blob/main/14thAssignment.ipynb\" target=\"_parent\"><img src=\"https://colab.research.google.com/assets/colab-badge.svg\" alt=\"Open In Colab\"/></a>"
      ]
    },
    {
      "cell_type": "code",
      "metadata": {
        "colab": {
          "base_uri": "https://localhost:8080/",
          "height": 419
        },
        "id": "RlHgQe_V8fF3",
        "outputId": "f6d8f452-3cdf-4d53-ca72-c2ec695ef39a"
      },
      "source": [
        "#Problem 1\n",
        "import pandas as pd\n",
        "import numpy as np\n",
        "from pandas import Series, DataFrame\n",
        "from sklearn.datasets import load_iris\n",
        "import matplotlib.pyplot as plt\n",
        "import matplotlib_inline \n",
        "iris= load_iris()\n",
        "\n",
        "X = pd.DataFrame(iris.data, columns= iris.feature_names)\n",
        "X.head()\n",
        "y  = pd.DataFrame(iris.target, columns= (['species']))\n",
        "y.head()\n",
        "df = pd.concat([X, y], axis=1)\n",
        "i = df.iloc[:,0] # Sepal length location\n",
        "k= df.iloc[:,2]  # petal length location\n",
        "j= df.iloc[:,4]  # Species location\n",
        "df1 = pd.concat([i, k,j], axis=1)\n",
        "h1 = df1.loc[df1['species']!= 0]\n",
        "h1\n"
      ],
      "execution_count": 246,
      "outputs": [
        {
          "output_type": "execute_result",
          "data": {
            "text/html": [
              "<div>\n",
              "<style scoped>\n",
              "    .dataframe tbody tr th:only-of-type {\n",
              "        vertical-align: middle;\n",
              "    }\n",
              "\n",
              "    .dataframe tbody tr th {\n",
              "        vertical-align: top;\n",
              "    }\n",
              "\n",
              "    .dataframe thead th {\n",
              "        text-align: right;\n",
              "    }\n",
              "</style>\n",
              "<table border=\"1\" class=\"dataframe\">\n",
              "  <thead>\n",
              "    <tr style=\"text-align: right;\">\n",
              "      <th></th>\n",
              "      <th>sepal length (cm)</th>\n",
              "      <th>petal length (cm)</th>\n",
              "      <th>species</th>\n",
              "    </tr>\n",
              "  </thead>\n",
              "  <tbody>\n",
              "    <tr>\n",
              "      <th>50</th>\n",
              "      <td>7.0</td>\n",
              "      <td>4.7</td>\n",
              "      <td>1</td>\n",
              "    </tr>\n",
              "    <tr>\n",
              "      <th>51</th>\n",
              "      <td>6.4</td>\n",
              "      <td>4.5</td>\n",
              "      <td>1</td>\n",
              "    </tr>\n",
              "    <tr>\n",
              "      <th>52</th>\n",
              "      <td>6.9</td>\n",
              "      <td>4.9</td>\n",
              "      <td>1</td>\n",
              "    </tr>\n",
              "    <tr>\n",
              "      <th>53</th>\n",
              "      <td>5.5</td>\n",
              "      <td>4.0</td>\n",
              "      <td>1</td>\n",
              "    </tr>\n",
              "    <tr>\n",
              "      <th>54</th>\n",
              "      <td>6.5</td>\n",
              "      <td>4.6</td>\n",
              "      <td>1</td>\n",
              "    </tr>\n",
              "    <tr>\n",
              "      <th>...</th>\n",
              "      <td>...</td>\n",
              "      <td>...</td>\n",
              "      <td>...</td>\n",
              "    </tr>\n",
              "    <tr>\n",
              "      <th>145</th>\n",
              "      <td>6.7</td>\n",
              "      <td>5.2</td>\n",
              "      <td>2</td>\n",
              "    </tr>\n",
              "    <tr>\n",
              "      <th>146</th>\n",
              "      <td>6.3</td>\n",
              "      <td>5.0</td>\n",
              "      <td>2</td>\n",
              "    </tr>\n",
              "    <tr>\n",
              "      <th>147</th>\n",
              "      <td>6.5</td>\n",
              "      <td>5.2</td>\n",
              "      <td>2</td>\n",
              "    </tr>\n",
              "    <tr>\n",
              "      <th>148</th>\n",
              "      <td>6.2</td>\n",
              "      <td>5.4</td>\n",
              "      <td>2</td>\n",
              "    </tr>\n",
              "    <tr>\n",
              "      <th>149</th>\n",
              "      <td>5.9</td>\n",
              "      <td>5.1</td>\n",
              "      <td>2</td>\n",
              "    </tr>\n",
              "  </tbody>\n",
              "</table>\n",
              "<p>100 rows × 3 columns</p>\n",
              "</div>"
            ],
            "text/plain": [
              "     sepal length (cm)  petal length (cm)  species\n",
              "50                 7.0                4.7        1\n",
              "51                 6.4                4.5        1\n",
              "52                 6.9                4.9        1\n",
              "53                 5.5                4.0        1\n",
              "54                 6.5                4.6        1\n",
              "..                 ...                ...      ...\n",
              "145                6.7                5.2        2\n",
              "146                6.3                5.0        2\n",
              "147                6.5                5.2        2\n",
              "148                6.2                5.4        2\n",
              "149                5.9                5.1        2\n",
              "\n",
              "[100 rows x 3 columns]"
            ]
          },
          "metadata": {},
          "execution_count": 246
        }
      ]
    },
    {
      "cell_type": "code",
      "metadata": {
        "colab": {
          "base_uri": "https://localhost:8080/",
          "height": 295
        },
        "id": "CaaG9mEK-IqF",
        "outputId": "7a8ba98f-83fc-4c69-c036-cf11ffaad5ec"
      },
      "source": [
        "## Problem 2-a\n",
        "colors = ['green', 'magenta']\n",
        "species = [1, 2]\n",
        "for i in range(2):\n",
        "  x = h1[h1['species'] == species[i]]\n",
        "  plt.scatter(x['sepal length (cm)'], x['petal length (cm)'], c = colors[i], label = species[i])\n",
        "  plt.xlabel(\"sepal length (cm)\")\n",
        "  plt.ylabel(\"petal length (cm)\")\n",
        "  plt.title('Two variables')\n",
        "  plt.legend()"
      ],
      "execution_count": 247,
      "outputs": [
        {
          "output_type": "display_data",
          "data": {
            "image/png": "[encoded data removed]",
            "text/plain": [
              "<Figure size 432x288 with 1 Axes>"
            ]
          },
          "metadata": {
            "needs_background": "light"
          }
        }
      ]
    },
    {
      "cell_type": "code",
      "metadata": {
        "colab": {
          "base_uri": "https://localhost:8080/",
          "height": 764
        },
        "id": "soacEE_SM_v_",
        "outputId": "182a1da7-e577-40b8-9a1a-872bde04e1e2"
      },
      "source": [
        "#Problem 2-b\n",
        "#import matplotlib.pyplot as plt\n",
        "plt.figure(figsize=(10,6))\n",
        "plt.title('Box plot in the 3 variables')\n",
        "plt.boxplot(h1.values, labels=['sepal length (cm)', 'petal length (cm)', 'species'])"
      ],
      "execution_count": 248,
      "outputs": [
        {
          "output_type": "execute_result",
          "data": {
            "text/plain": [
              "{'boxes': [<matplotlib.lines.Line2D at 0x7fd21e96da50>,\n",
              "  <matplotlib.lines.Line2D at 0x7fd21e8f9fd0>,\n",
              "  <matplotlib.lines.Line2D at 0x7fd21e90d350>],\n",
              " 'caps': [<matplotlib.lines.Line2D at 0x7fd21e8f0a90>,\n",
              "  <matplotlib.lines.Line2D at 0x7fd21e8f0fd0>,\n",
              "  <matplotlib.lines.Line2D at 0x7fd21e900f10>,\n",
              "  <matplotlib.lines.Line2D at 0x7fd21e907450>,\n",
              "  <matplotlib.lines.Line2D at 0x7fd21e915310>,\n",
              "  <matplotlib.lines.Line2D at 0x7fd21e915850>],\n",
              " 'fliers': [<matplotlib.lines.Line2D at 0x7fd21e8f9ad0>,\n",
              "  <matplotlib.lines.Line2D at 0x7fd21e907e50>,\n",
              "  <matplotlib.lines.Line2D at 0x7fd21e91e290>],\n",
              " 'means': [],\n",
              " 'medians': [<matplotlib.lines.Line2D at 0x7fd21e8f9590>,\n",
              "  <matplotlib.lines.Line2D at 0x7fd21e907950>,\n",
              "  <matplotlib.lines.Line2D at 0x7fd21e915d50>],\n",
              " 'whiskers': [<matplotlib.lines.Line2D at 0x7fd21e96dfd0>,\n",
              "  <matplotlib.lines.Line2D at 0x7fd21e8f0550>,\n",
              "  <matplotlib.lines.Line2D at 0x7fd21e900550>,\n",
              "  <matplotlib.lines.Line2D at 0x7fd21e900a10>,\n",
              "  <matplotlib.lines.Line2D at 0x7fd21e90d890>,\n",
              "  <matplotlib.lines.Line2D at 0x7fd21e90ddd0>]}"
            ]
          },
          "metadata": {},
          "execution_count": 248
        },
        {
          "output_type": "display_data",
          "data": {
            "image/png": "[encoded data removed]",
            "text/plain": [
              "<Figure size 720x432 with 1 Axes>"
            ]
          },
          "metadata": {
            "needs_background": "light"
          }
        }
      ]
    },
    {
      "cell_type": "code",
      "metadata": {
        "colab": {
          "base_uri": "https://localhost:8080/",
          "height": 509
        },
        "id": "P-idzAe9OW_f",
        "outputId": "15332a8e-294c-4aa8-81b1-4fa6a86ee93d"
      },
      "source": [
        "## Problem 2-c\n",
        "import matplotlib.pyplot as plt\n",
        "plt.figure(figsize=(6,6))\n",
        "plt.title('Violin plot')\n",
        "plt.violinplot(h1.values, showmedians= True)"
      ],
      "execution_count": 249,
      "outputs": [
        {
          "output_type": "execute_result",
          "data": {
            "text/plain": [
              "{'bodies': [<matplotlib.collections.PolyCollection at 0x7fd21ea63dd0>,\n",
              "  <matplotlib.collections.PolyCollection at 0x7fd21e883390>,\n",
              "  <matplotlib.collections.PolyCollection at 0x7fd21e8836d0>],\n",
              " 'cbars': <matplotlib.collections.LineCollection at 0x7fd21e883490>,\n",
              " 'cmaxes': <matplotlib.collections.LineCollection at 0x7fd21e875e10>,\n",
              " 'cmedians': <matplotlib.collections.LineCollection at 0x7fd21e883c90>,\n",
              " 'cmins': <matplotlib.collections.LineCollection at 0x7fd21e8837d0>}"
            ]
          },
          "metadata": {},
          "execution_count": 249
        },
        {
          "output_type": "display_data",
          "data": {
            "image/png": "[encoded data removed]",
            "text/plain": [
              "<Figure size 432x432 with 1 Axes>"
            ]
          },
          "metadata": {
            "needs_background": "light"
          }
        }
      ]
    },
    {
      "cell_type": "code",
      "metadata": {
        "id": "n93F4UO1qjMv"
      },
      "source": [
        "## Probelm 3\n",
        "from sklearn.model_selection import train_test_split\n",
        "# train 75%\n",
        "# test 25%\n",
        "X = h1.drop(columns=['species'])\n",
        "Y = h1['species']\n",
        "x_train, x_test, y_train, y_test = train_test_split(X,Y, test_size = 0.25, random_state= 42)"
      ],
      "execution_count": 250,
      "outputs": []
    },
    {
      "cell_type": "code",
      "metadata": {
        "colab": {
          "base_uri": "https://localhost:8080/"
        },
        "id": "A2M2p9QMbjV6",
        "outputId": "cf17418b-fa9e-4d6b-ea66-1917a479cce1"
      },
      "source": [
        "## Problem 4\n",
        "from sklearn.preprocessing import StandardScaler\n",
        "\n",
        "iris = h1\n",
        "scaler = StandardScaler()\n",
        "\n",
        "print(scaler.fit(iris))\n",
        "StandardScaler()\n",
        "print(scaler.mean_)\n",
        "#print(scaler.transform(iris))"
      ],
      "execution_count": 251,
      "outputs": [
        {
          "output_type": "stream",
          "name": "stdout",
          "text": [
            "StandardScaler(copy=True, with_mean=True, with_std=True)\n",
            "[6.262 4.906 1.5  ]\n"
          ]
        }
      ]
    },
    {
      "cell_type": "code",
      "metadata": {
        "id": "b6G04BWDhVm3"
      },
      "source": [
        "## Problem 5\n",
        "# knn - k-nearest neighbours\n",
        "from sklearn.neighbors import KNeighborsClassifier\n",
        "model = KNeighborsClassifier(n_neighbors=3)"
      ],
      "execution_count": 252,
      "outputs": []
    },
    {
      "cell_type": "code",
      "metadata": {
        "colab": {
          "base_uri": "https://localhost:8080/"
        },
        "id": "cdwi2uI1iMdy",
        "outputId": "ca74117b-617c-4186-c1e4-42c51acac14b"
      },
      "source": [
        "model.fit(x_train, y_train)\n"
      ],
      "execution_count": 253,
      "outputs": [
        {
          "output_type": "execute_result",
          "data": {
            "text/plain": [
              "KNeighborsClassifier(algorithm='auto', leaf_size=30, metric='minkowski',\n",
              "                     metric_params=None, n_jobs=None, n_neighbors=3, p=2,\n",
              "                     weights='uniform')"
            ]
          },
          "metadata": {},
          "execution_count": 253
        }
      ]
    },
    {
      "cell_type": "code",
      "metadata": {
        "colab": {
          "base_uri": "https://localhost:8080/"
        },
        "id": "NvX4r8DniJ1h",
        "outputId": "dbdde3fe-162d-41ff-ceb6-7049ea8c77e6"
      },
      "source": [
        "print(model.predict(X))\n",
        "preds = model.predict(X)"
      ],
      "execution_count": 254,
      "outputs": [
        {
          "output_type": "stream",
          "name": "stdout",
          "text": [
            "[1 1 1 1 1 1 1 1 1 1 1 1 1 1 1 1 1 1 1 1 1 1 2 1 1 1 1 2 1 1 1 1 1 2 1 1 1\n",
            " 1 1 1 1 1 1 1 1 1 1 1 1 1 2 2 2 2 2 2 1 2 2 2 2 2 2 2 2 2 2 2 2 2 2 2 2 2\n",
            " 2 2 1 1 2 2 2 2 2 2 2 2 2 2 1 2 2 1 2 2 2 2 2 2 2 2]\n"
          ]
        }
      ]
    },
    {
      "cell_type": "code",
      "metadata": {
        "colab": {
          "base_uri": "https://localhost:8080/"
        },
        "id": "Ol-z9p1fiYyB",
        "outputId": "385e4c40-4786-459f-cd34-7c82b8d38b36"
      },
      "source": [
        "print(model.predict_proba(X))"
      ],
      "execution_count": 255,
      "outputs": [
        {
          "output_type": "stream",
          "name": "stdout",
          "text": [
            "[[0.66666667 0.33333333]\n",
            " [1.         0.        ]\n",
            " [0.66666667 0.33333333]\n",
            " [1.         0.        ]\n",
            " [1.         0.        ]\n",
            " [1.         0.        ]\n",
            " [1.         0.        ]\n",
            " [1.         0.        ]\n",
            " [1.         0.        ]\n",
            " [1.         0.        ]\n",
            " [1.         0.        ]\n",
            " [1.         0.        ]\n",
            " [1.         0.        ]\n",
            " [1.         0.        ]\n",
            " [1.         0.        ]\n",
            " [1.         0.        ]\n",
            " [1.         0.        ]\n",
            " [1.         0.        ]\n",
            " [1.         0.        ]\n",
            " [1.         0.        ]\n",
            " [1.         0.        ]\n",
            " [1.         0.        ]\n",
            " [0.33333333 0.66666667]\n",
            " [1.         0.        ]\n",
            " [1.         0.        ]\n",
            " [1.         0.        ]\n",
            " [1.         0.        ]\n",
            " [0.33333333 0.66666667]\n",
            " [1.         0.        ]\n",
            " [1.         0.        ]\n",
            " [1.         0.        ]\n",
            " [1.         0.        ]\n",
            " [1.         0.        ]\n",
            " [0.         1.        ]\n",
            " [1.         0.        ]\n",
            " [1.         0.        ]\n",
            " [1.         0.        ]\n",
            " [1.         0.        ]\n",
            " [1.         0.        ]\n",
            " [1.         0.        ]\n",
            " [1.         0.        ]\n",
            " [1.         0.        ]\n",
            " [1.         0.        ]\n",
            " [1.         0.        ]\n",
            " [1.         0.        ]\n",
            " [1.         0.        ]\n",
            " [1.         0.        ]\n",
            " [1.         0.        ]\n",
            " [1.         0.        ]\n",
            " [1.         0.        ]\n",
            " [0.         1.        ]\n",
            " [0.         1.        ]\n",
            " [0.         1.        ]\n",
            " [0.         1.        ]\n",
            " [0.         1.        ]\n",
            " [0.         1.        ]\n",
            " [0.66666667 0.33333333]\n",
            " [0.         1.        ]\n",
            " [0.         1.        ]\n",
            " [0.         1.        ]\n",
            " [0.         1.        ]\n",
            " [0.         1.        ]\n",
            " [0.         1.        ]\n",
            " [0.         1.        ]\n",
            " [0.         1.        ]\n",
            " [0.         1.        ]\n",
            " [0.         1.        ]\n",
            " [0.         1.        ]\n",
            " [0.         1.        ]\n",
            " [0.         1.        ]\n",
            " [0.         1.        ]\n",
            " [0.         1.        ]\n",
            " [0.         1.        ]\n",
            " [0.33333333 0.66666667]\n",
            " [0.         1.        ]\n",
            " [0.         1.        ]\n",
            " [1.         0.        ]\n",
            " [1.         0.        ]\n",
            " [0.         1.        ]\n",
            " [0.         1.        ]\n",
            " [0.         1.        ]\n",
            " [0.         1.        ]\n",
            " [0.         1.        ]\n",
            " [0.         1.        ]\n",
            " [0.         1.        ]\n",
            " [0.         1.        ]\n",
            " [0.         1.        ]\n",
            " [0.         1.        ]\n",
            " [1.         0.        ]\n",
            " [0.         1.        ]\n",
            " [0.         1.        ]\n",
            " [0.66666667 0.33333333]\n",
            " [0.         1.        ]\n",
            " [0.         1.        ]\n",
            " [0.         1.        ]\n",
            " [0.33333333 0.66666667]\n",
            " [0.         1.        ]\n",
            " [0.         1.        ]\n",
            " [0.         1.        ]\n",
            " [0.         1.        ]]\n"
          ]
        }
      ]
    },
    {
      "cell_type": "code",
      "metadata": {
        "colab": {
          "base_uri": "https://localhost:8080/"
        },
        "id": "HgwdEIyBg-e4",
        "outputId": "2a642e36-762c-4fd2-deb3-223bd7c7d720"
      },
      "source": [
        "## Problem 6\n",
        "# Print metric to get performance \n",
        "print(\"accuracy:\", round(model.score(x_train, y_train)*100))"
      ],
      "execution_count": 256,
      "outputs": [
        {
          "output_type": "stream",
          "name": "stdout",
          "text": [
            "accuracy: 96\n"
          ]
        }
      ]
    },
    {
      "cell_type": "code",
      "metadata": {
        "colab": {
          "base_uri": "https://localhost:8080/",
          "height": 300
        },
        "id": "ehiYORXui-9O",
        "outputId": "6cceff4c-9bbf-41c1-f77c-b873b194cd1a"
      },
      "source": [
        "# Print metric to get performance\n",
        "from sklearn.metrics import precision_score\n",
        "from sklearn import metrics\n",
        "preds = model.predict(x_test)\n",
        "metrics.plot_confusion_matrix(model, x_test, y_test, display_labels=['Negative', 'Positive'])"
      ],
      "execution_count": 257,
      "outputs": [
        {
          "output_type": "execute_result",
          "data": {
            "text/plain": [
              "<sklearn.metrics._plot.confusion_matrix.ConfusionMatrixDisplay at 0x7fd21e83e250>"
            ]
          },
          "metadata": {},
          "execution_count": 257
        },
        {
          "output_type": "display_data",
          "data": {
            "image/png": "[encoded data removed]",
            "text/plain": [
              "<Figure size 432x288 with 2 Axes>"
            ]
          },
          "metadata": {
            "needs_background": "light"
          }
        }
      ]
    },
    {
      "cell_type": "code",
      "metadata": {
        "colab": {
          "base_uri": "https://localhost:8080/"
        },
        "id": "958z2GxykArT",
        "outputId": "e6f26594-72ed-4a34-a132-7ea759dc61cd"
      },
      "source": [
        "## Confusion Matrix\n",
        "confusion = metrics.confusion_matrix(y_test, preds)\n",
        "confusion.ravel()"
      ],
      "execution_count": 258,
      "outputs": [
        {
          "output_type": "execute_result",
          "data": {
            "text/plain": [
              "array([12,  2,  3,  8])"
            ]
          },
          "metadata": {},
          "execution_count": 258
        }
      ]
    },
    {
      "cell_type": "code",
      "metadata": {
        "colab": {
          "base_uri": "https://localhost:8080/"
        },
        "id": "gXaIt3hdkeY5",
        "outputId": "e2d6aa22-1c24-47aa-ab0a-f924c8140877"
      },
      "source": [
        "## Accuracy Measure\n",
        "accuracy = metrics.accuracy_score(y_test, preds)\n",
        "accuracy"
      ],
      "execution_count": 259,
      "outputs": [
        {
          "output_type": "execute_result",
          "data": {
            "text/plain": [
              "0.8"
            ]
          },
          "metadata": {},
          "execution_count": 259
        }
      ]
    },
    {
      "cell_type": "code",
      "metadata": {
        "colab": {
          "base_uri": "https://localhost:8080/"
        },
        "id": "wk1rAnbbk9nU",
        "outputId": "21541260-ac72-4418-e2c9-7a8236cba7da"
      },
      "source": [
        "## Precision Measure\n",
        "precision_positive = metrics.precision_score(y_test, preds, pos_label=1)\n",
        "precision_negative = metrics.precision_score(y_test, preds, pos_label=2)\n",
        "precision_positive, precision_negative\n"
      ],
      "execution_count": 260,
      "outputs": [
        {
          "output_type": "execute_result",
          "data": {
            "text/plain": [
              "(0.8, 0.8)"
            ]
          },
          "metadata": {},
          "execution_count": 260
        }
      ]
    },
    {
      "cell_type": "code",
      "metadata": {
        "colab": {
          "base_uri": "https://localhost:8080/"
        },
        "id": "rvgOnxZbltcv",
        "outputId": "98f047c2-56b8-4fbf-f590-ca2bc10f8096"
      },
      "source": [
        "## Recall \n",
        "recall_sensitivity = metrics.recall_score(y_test, preds, pos_label=1)\n",
        "recall_spesificity = metrics.recall_score(y_test, preds, pos_label=2)\n",
        "recall_sensitivity, recall_spesificity"
      ],
      "execution_count": 261,
      "outputs": [
        {
          "output_type": "execute_result",
          "data": {
            "text/plain": [
              "(0.8571428571428571, 0.7272727272727273)"
            ]
          },
          "metadata": {},
          "execution_count": 261
        }
      ]
    },
    {
      "cell_type": "code",
      "metadata": {
        "colab": {
          "base_uri": "https://localhost:8080/"
        },
        "id": "wE3LgfFUmkI0",
        "outputId": "3e63f457-89ea-4ec8-e1d9-6e8cbd474280"
      },
      "source": [
        "## F1-score Measure\n",
        "f1_positive = metrics.f1_score(y_test, preds, pos_label=1)\n",
        "f1_negative = metrics.f1_score(y_test, preds, pos_label=2)\n",
        "f1_negative, f1_positive\n"
      ],
      "execution_count": 262,
      "outputs": [
        {
          "output_type": "execute_result",
          "data": {
            "text/plain": [
              "(0.761904761904762, 0.8275862068965518)"
            ]
          },
          "metadata": {},
          "execution_count": 262
        }
      ]
    },
    {
      "cell_type": "code",
      "metadata": {
        "id": "d5hNAQa11Z2A"
      },
      "source": [
        "## Problem 7\n",
        "from matplotlib.colors import ListedColormap\n",
        "from sklearn.tree import DecisionTreeClassifier, plot_tree\n",
        "import matplotlib.patches as mpatches\n",
        "import seaborn as sns\n",
        "\n"
      ],
      "execution_count": 263,
      "outputs": []
    },
    {
      "cell_type": "code",
      "metadata": {
        "colab": {
          "base_uri": "https://localhost:8080/",
          "height": 300
        },
        "id": "tRWoWySmrhAl",
        "outputId": "2f67c37c-9796-45de-96a4-22899f68b8e0"
      },
      "source": [
        "import numpy as np\n",
        "import pandas as pd\n",
        "from matplotlib import pyplot as plt\n",
        "from sklearn import neighbors, datasets\n",
        "from sklearn.datasets import load_iris\n",
        "from matplotlib.colors import ListedColormap\n",
        "iris= load_iris()\n",
        "\n",
        "# Create color maps for 3-class classification problem, as with iris\n",
        "cmap_light = ListedColormap(['#FFAAAA', '#AAFFAA', '#AAAAFF'])\n",
        "cmap_bold = ListedColormap(['#FF0000', '#00FF00', '#0000FF'])\n",
        "\n",
        "P = pd.DataFrame(iris.data, columns= iris.feature_names)\n",
        "P.head()\n",
        "V  = pd.DataFrame(iris.target, columns= (['species']))\n",
        "V.head()\n",
        "df = pd.concat([P, V], axis=1)\n",
        "i = df.iloc[:,0] # Sepal length location\n",
        "k= df.iloc[:,2]  # petal length location\n",
        "j= df.iloc[:,4]  # Species location\n",
        "df1 = pd.concat([i, k,j], axis=1)\n",
        "h1 = df1.loc[df1['species']!= 0]\n",
        "t = h1.iloc[:, 0]\n",
        "r = h1.iloc[:, 1]\n",
        "X =pd.concat([t, r], axis=1)\n",
        "y = h1.iloc[:, 2]\n",
        "\n",
        "#iris = datasets.load_iris()\n",
        "#X = iris.data[:, :2]  # we only take the first two features. We could\n",
        "                       # avoid this ugly slicing by using a two-dim dataset\n",
        "#y = iris.target\n",
        "\n",
        "\n",
        "knn = neighbors.KNeighborsClassifier(n_neighbors=1)\n",
        "knn.fit(X, y)\n",
        "\n",
        "x_min, x_max = X.iloc[:, 0].min() - .1, X.iloc[:, 0].max() + .1\n",
        "y_min, y_max = X.iloc[:, 1].min() - .1, X.iloc[:, 1].max() + .1\n",
        "xx, yy = np.meshgrid(np.linspace(x_min, x_max, 100), np.linspace(y_min, y_max, 100))\n",
        "Z = knn.predict(np.c_[xx.ravel(), yy.ravel()])\n",
        "#Put the result into a color plot\n",
        "\n",
        "Z = Z.reshape(xx.shape)\n",
        "plt.figure()\n",
        "plt.pcolormesh(xx, yy, Z, cmap=cmap_light)\n",
        "\n",
        "# Plot also the training points\n",
        "plt.scatter(X.iloc[:, 0], X.iloc[:, 1], c=y, cmap=cmap_bold)\n",
        "plt.xlabel('sepal length (cm)')\n",
        "plt.ylabel('sepal width (cm)')\n",
        "plt.axis('tight')\n"
      ],
      "execution_count": 265,
      "outputs": [
        {
          "output_type": "execute_result",
          "data": {
            "text/plain": [
              "(4.800000000000001, 8.0, 2.9, 7.0)"
            ]
          },
          "metadata": {},
          "execution_count": 265
        },
        {
          "output_type": "display_data",
          "data": {
            "image/png": "[encoded data removed]",
            "text/plain": [
              "<Figure size 432x288 with 1 Axes>"
            ]
          },
          "metadata": {
            "needs_background": "light"
          }
        }
      ]
    },
    {
      "cell_type": "code",
      "metadata": {
        "id": "m-gK9R_cgNRG"
      },
      "source": [
        "# Logistic Regression \n",
        "from sklearn.linear_model import LogisticRegression\n",
        "model = LogisticRegression()"
      ],
      "execution_count": 266,
      "outputs": []
    },
    {
      "cell_type": "code",
      "metadata": {
        "colab": {
          "base_uri": "https://localhost:8080/"
        },
        "id": "b0fSvh3UCjFb",
        "outputId": "c86cc1f0-93de-4895-857e-a99b9a1276c6"
      },
      "source": [
        "from google.colab import drive\n",
        "drive.mount('/content/drive')"
      ],
      "execution_count": 267,
      "outputs": [
        {
          "output_type": "stream",
          "name": "stdout",
          "text": [
            "Drive already mounted at /content/drive; to attempt to forcibly remount, call drive.mount(\"/content/drive\", force_remount=True).\n"
          ]
        }
      ]
    },
    {
      "cell_type": "code",
      "metadata": {
        "id": "_CDpuNsDgj9m",
        "colab": {
          "base_uri": "https://localhost:8080/"
        },
        "outputId": "1f8bac86-88c7-49d5-cb47-0ba6b39e1bff"
      },
      "source": [
        "# Model training\n",
        "model.fit(x_train, y_train)"
      ],
      "execution_count": 268,
      "outputs": [
        {
          "output_type": "execute_result",
          "data": {
            "text/plain": [
              "LogisticRegression(C=1.0, class_weight=None, dual=False, fit_intercept=True,\n",
              "                   intercept_scaling=1, l1_ratio=None, max_iter=100,\n",
              "                   multi_class='auto', n_jobs=None, penalty='l2',\n",
              "                   random_state=None, solver='lbfgs', tol=0.0001, verbose=0,\n",
              "                   warm_start=False)"
            ]
          },
          "metadata": {},
          "execution_count": 268
        }
      ]
    },
    {
      "cell_type": "code",
      "metadata": {
        "id": "oQZlRxeginKj",
        "colab": {
          "base_uri": "https://localhost:8080/"
        },
        "outputId": "2300c27c-8fe2-4305-ac94-9b92e39b5853"
      },
      "source": [
        "# Print metric to get performance \n",
        "print(\"accuracy:\", round(model.score(x_train, y_train)*100))"
      ],
      "execution_count": 269,
      "outputs": [
        {
          "output_type": "stream",
          "name": "stdout",
          "text": [
            "accuracy: 97\n"
          ]
        }
      ]
    },
    {
      "cell_type": "code",
      "metadata": {
        "id": "DoOFP53iiw8h"
      },
      "source": [
        "# Decision Tree\n",
        "from sklearn.tree import DecisionTreeClassifier\n",
        "model = DecisionTreeClassifier()"
      ],
      "execution_count": 270,
      "outputs": []
    },
    {
      "cell_type": "code",
      "metadata": {
        "id": "Rk52dbKYiwmy",
        "colab": {
          "base_uri": "https://localhost:8080/"
        },
        "outputId": "c616b524-76e1-4d29-ddd2-c0526ebc9e3a"
      },
      "source": [
        "model.fit(x_train, y_train)"
      ],
      "execution_count": 271,
      "outputs": [
        {
          "output_type": "execute_result",
          "data": {
            "text/plain": [
              "DecisionTreeClassifier(ccp_alpha=0.0, class_weight=None, criterion='gini',\n",
              "                       max_depth=None, max_features=None, max_leaf_nodes=None,\n",
              "                       min_impurity_decrease=0.0, min_impurity_split=None,\n",
              "                       min_samples_leaf=1, min_samples_split=2,\n",
              "                       min_weight_fraction_leaf=0.0, presort='deprecated',\n",
              "                       random_state=None, splitter='best')"
            ]
          },
          "metadata": {},
          "execution_count": 271
        }
      ]
    },
    {
      "cell_type": "code",
      "metadata": {
        "id": "27QUXbSLiwTx",
        "colab": {
          "base_uri": "https://localhost:8080/"
        },
        "outputId": "3957da9e-dec7-431c-bef1-b191fd93b5ab"
      },
      "source": [
        "# Print metric to get performance \n",
        "print(\"accuracy:\", round(model.score(x_train, y_train)*100))"
      ],
      "execution_count": 272,
      "outputs": [
        {
          "output_type": "stream",
          "name": "stdout",
          "text": [
            "accuracy: 100\n"
          ]
        }
      ]
    },
    {
      "cell_type": "code",
      "metadata": {
        "id": "k6D1hLo-fXNN"
      },
      "source": [
        ""
      ],
      "execution_count": 272,
      "outputs": []
    },
    {
      "cell_type": "code",
      "metadata": {
        "id": "NRWd7b8Uup2m"
      },
      "source": [
        ""
      ],
      "execution_count": 272,
      "outputs": []
    }
  ]
}