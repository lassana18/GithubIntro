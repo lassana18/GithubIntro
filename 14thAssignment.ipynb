{
  "nbformat": 4,
  "nbformat_minor": 0,
  "metadata": {
    "colab": {
      "name": "14thAssignment.ipynb",
      "provenance": [],
      "collapsed_sections": [],
      "mount_file_id": "1hhlYKFofNiNfS5SHudQJtq5RkabNN4J_",
      "authorship_tag": "ABX9TyNnkMB2FNBCtnHdyohrsbYp",
      "include_colab_link": true
    },
    "kernelspec": {
      "name": "python3",
      "display_name": "Python 3"
    },
    "language_info": {
      "name": "python"
    }
  },
  "cells": [
    {
      "cell_type": "markdown",
      "metadata": {
        "id": "view-in-github",
        "colab_type": "text"
      },
      "source": [
        "<a href=\"https://colab.research.google.com/github/pafernannapi18/GithubIntro/blob/main/14thAssignment.ipynb\" target=\"_parent\"><img src=\"https://colab.research.google.com/assets/colab-badge.svg\" alt=\"Open In Colab\"/></a>"
      ]
    },
    {
      "cell_type": "code",
      "metadata": {
        "colab": {
          "base_uri": "https://localhost:8080/",
          "height": 419
        },
        "id": "RlHgQe_V8fF3",
        "outputId": "eded8bd5-33b8-4280-f0cc-b716031ecb1f"
      },
      "source": [
        "#Problem 1\n",
        "import pandas as pd\n",
        "import numpy as np\n",
        "from pandas import Series, DataFrame\n",
        "from sklearn.datasets import load_iris\n",
        "import matplotlib.pyplot as plt\n",
        "import matplotlib_inline \n",
        "iris= load_iris()\n",
        "\n",
        "X = pd.DataFrame(iris.data, columns= iris.feature_names)\n",
        "X.head()\n",
        "y  = pd.DataFrame(iris.target, columns= (['species']))\n",
        "y.head()\n",
        "df = pd.concat([X, y], axis=1)\n",
        "i = df.iloc[:,0] # Sepal length location\n",
        "k= df.iloc[:,2]  # petal length location\n",
        "j= df.iloc[:,4]  # Species location\n",
        "df1 = pd.concat([i, k,j], axis=1)\n",
        "h1 = df1.loc[df1['species']!= 0]\n",
        "h1\n"
      ],
      "execution_count": 261,
      "outputs": [
        {
          "output_type": "execute_result",
          "data": {
            "text/html": [
              "<div>\n",
              "<style scoped>\n",
              "    .dataframe tbody tr th:only-of-type {\n",
              "        vertical-align: middle;\n",
              "    }\n",
              "\n",
              "    .dataframe tbody tr th {\n",
              "        vertical-align: top;\n",
              "    }\n",
              "\n",
              "    .dataframe thead th {\n",
              "        text-align: right;\n",
              "    }\n",
              "</style>\n",
              "<table border=\"1\" class=\"dataframe\">\n",
              "  <thead>\n",
              "    <tr style=\"text-align: right;\">\n",
              "      <th></th>\n",
              "      <th>sepal length (cm)</th>\n",
              "      <th>petal length (cm)</th>\n",
              "      <th>species</th>\n",
              "    </tr>\n",
              "  </thead>\n",
              "  <tbody>\n",
              "    <tr>\n",
              "      <th>50</th>\n",
              "      <td>7.0</td>\n",
              "      <td>4.7</td>\n",
              "      <td>1</td>\n",
              "    </tr>\n",
              "    <tr>\n",
              "      <th>51</th>\n",
              "      <td>6.4</td>\n",
              "      <td>4.5</td>\n",
              "      <td>1</td>\n",
              "    </tr>\n",
              "    <tr>\n",
              "      <th>52</th>\n",
              "      <td>6.9</td>\n",
              "      <td>4.9</td>\n",
              "      <td>1</td>\n",
              "    </tr>\n",
              "    <tr>\n",
              "      <th>53</th>\n",
              "      <td>5.5</td>\n",
              "      <td>4.0</td>\n",
              "      <td>1</td>\n",
              "    </tr>\n",
              "    <tr>\n",
              "      <th>54</th>\n",
              "      <td>6.5</td>\n",
              "      <td>4.6</td>\n",
              "      <td>1</td>\n",
              "    </tr>\n",
              "    <tr>\n",
              "      <th>...</th>\n",
              "      <td>...</td>\n",
              "      <td>...</td>\n",
              "      <td>...</td>\n",
              "    </tr>\n",
              "    <tr>\n",
              "      <th>145</th>\n",
              "      <td>6.7</td>\n",
              "      <td>5.2</td>\n",
              "      <td>2</td>\n",
              "    </tr>\n",
              "    <tr>\n",
              "      <th>146</th>\n",
              "      <td>6.3</td>\n",
              "      <td>5.0</td>\n",
              "      <td>2</td>\n",
              "    </tr>\n",
              "    <tr>\n",
              "      <th>147</th>\n",
              "      <td>6.5</td>\n",
              "      <td>5.2</td>\n",
              "      <td>2</td>\n",
              "    </tr>\n",
              "    <tr>\n",
              "      <th>148</th>\n",
              "      <td>6.2</td>\n",
              "      <td>5.4</td>\n",
              "      <td>2</td>\n",
              "    </tr>\n",
              "    <tr>\n",
              "      <th>149</th>\n",
              "      <td>5.9</td>\n",
              "      <td>5.1</td>\n",
              "      <td>2</td>\n",
              "    </tr>\n",
              "  </tbody>\n",
              "</table>\n",
              "<p>100 rows × 3 columns</p>\n",
              "</div>"
            ],
            "text/plain": [
              "     sepal length (cm)  petal length (cm)  species\n",
              "50                 7.0                4.7        1\n",
              "51                 6.4                4.5        1\n",
              "52                 6.9                4.9        1\n",
              "53                 5.5                4.0        1\n",
              "54                 6.5                4.6        1\n",
              "..                 ...                ...      ...\n",
              "145                6.7                5.2        2\n",
              "146                6.3                5.0        2\n",
              "147                6.5                5.2        2\n",
              "148                6.2                5.4        2\n",
              "149                5.9                5.1        2\n",
              "\n",
              "[100 rows x 3 columns]"
            ]
          },
          "metadata": {},
          "execution_count": 261
        }
      ]
    },
    {
      "cell_type": "code",
      "metadata": {
        "colab": {
          "base_uri": "https://localhost:8080/",
          "height": 295
        },
        "id": "CaaG9mEK-IqF",
        "outputId": "5788a7b5-1195-4c0f-d27f-e4bc67d8d006"
      },
      "source": [
        "## Problem 2-a\n",
        "colors = ['green', 'magenta']\n",
        "species = [1, 2]\n",
        "for i in range(2):\n",
        "  x = h1[h1['species'] == species[i]]\n",
        "  plt.scatter(x['sepal length (cm)'], x['petal length (cm)'], c = colors[i], label = species[i])\n",
        "  plt.xlabel(\"sepal length (cm)\")\n",
        "  plt.ylabel(\"petal length (cm)\")\n",
        "  plt.title('Two variables')\n",
        "  plt.legend()"
      ],
      "execution_count": 262,
      "outputs": [
        {
          "output_type": "display_data",
          "data": {
            "image/png": "[encoded data removed]",
            "text/plain": [
              "<Figure size 432x288 with 1 Axes>"
            ]
          },
          "metadata": {
            "needs_background": "light"
          }
        }
      ]
    },
    {
      "cell_type": "code",
      "metadata": {
        "colab": {
          "base_uri": "https://localhost:8080/",
          "height": 764
        },
        "id": "soacEE_SM_v_",
        "outputId": "4fee0910-d84e-4139-f9c5-6d47c829805d"
      },
      "source": [
        "#Problem 2-b\n",
        "#import matplotlib.pyplot as plt\n",
        "plt.figure(figsize=(10,6))\n",
        "plt.title('Box plot in the 3 variables')\n",
        "plt.boxplot(h1.values, labels=['sepal length (cm)', 'petal length (cm)', 'species'])"
      ],
      "execution_count": 263,
      "outputs": [
        {
          "output_type": "execute_result",
          "data": {
            "text/plain": [
              "{'boxes': [<matplotlib.lines.Line2D at 0x7f6c1225eb50>,\n",
              "  <matplotlib.lines.Line2D at 0x7f6c12649f90>,\n",
              "  <matplotlib.lines.Line2D at 0x7f6c125f1ad0>],\n",
              " 'caps': [<matplotlib.lines.Line2D at 0x7f6c126379d0>,\n",
              "  <matplotlib.lines.Line2D at 0x7f6c12637050>,\n",
              "  <matplotlib.lines.Line2D at 0x7f6c125e7310>,\n",
              "  <matplotlib.lines.Line2D at 0x7f6c12697b10>,\n",
              "  <matplotlib.lines.Line2D at 0x7f6c125fc5d0>,\n",
              "  <matplotlib.lines.Line2D at 0x7f6c12f0a350>],\n",
              " 'fliers': [<matplotlib.lines.Line2D at 0x7f6c12649a10>,\n",
              "  <matplotlib.lines.Line2D at 0x7f6c12697550>,\n",
              "  <matplotlib.lines.Line2D at 0x7f6c126826d0>],\n",
              " 'means': [],\n",
              " 'medians': [<matplotlib.lines.Line2D at 0x7f6c12649190>,\n",
              "  <matplotlib.lines.Line2D at 0x7f6c12697110>,\n",
              "  <matplotlib.lines.Line2D at 0x7f6c12682810>],\n",
              " 'whiskers': [<matplotlib.lines.Line2D at 0x7f6c1225e450>,\n",
              "  <matplotlib.lines.Line2D at 0x7f6c122262d0>,\n",
              "  <matplotlib.lines.Line2D at 0x7f6c125e78d0>,\n",
              "  <matplotlib.lines.Line2D at 0x7f6c125e70d0>,\n",
              "  <matplotlib.lines.Line2D at 0x7f6c126b3e10>,\n",
              "  <matplotlib.lines.Line2D at 0x7f6c126b3610>]}"
            ]
          },
          "metadata": {},
          "execution_count": 263
        },
        {
          "output_type": "display_data",
          "data": {
            "image/png": "[encoded data removed]",
            "text/plain": [
              "<Figure size 720x432 with 1 Axes>"
            ]
          },
          "metadata": {
            "needs_background": "light"
          }
        }
      ]
    },
    {
      "cell_type": "code",
      "metadata": {
        "colab": {
          "base_uri": "https://localhost:8080/",
          "height": 509
        },
        "id": "P-idzAe9OW_f",
        "outputId": "12abf8b6-269b-4fe7-fb9b-a10fe60442f3"
      },
      "source": [
        "## Problem 2-c\n",
        "import matplotlib.pyplot as plt\n",
        "plt.figure(figsize=(6,6))\n",
        "plt.title('Violin plot')\n",
        "plt.violinplot(h1.values, showmedians= True)"
      ],
      "execution_count": 264,
      "outputs": [
        {
          "output_type": "execute_result",
          "data": {
            "text/plain": [
              "{'bodies': [<matplotlib.collections.PolyCollection at 0x7f6c12d5d250>,\n",
              "  <matplotlib.collections.PolyCollection at 0x7f6c122d1f50>,\n",
              "  <matplotlib.collections.PolyCollection at 0x7f6c12ab6610>],\n",
              " 'cbars': <matplotlib.collections.LineCollection at 0x7f6c12ab69d0>,\n",
              " 'cmaxes': <matplotlib.collections.LineCollection at 0x7f6c125f9cd0>,\n",
              " 'cmedians': <matplotlib.collections.LineCollection at 0x7f6c12ab67d0>,\n",
              " 'cmins': <matplotlib.collections.LineCollection at 0x7f6c12ab65d0>}"
            ]
          },
          "metadata": {},
          "execution_count": 264
        },
        {
          "output_type": "display_data",
          "data": {
            "image/png": "[encoded data removed]",
            "text/plain": [
              "<Figure size 432x432 with 1 Axes>"
            ]
          },
          "metadata": {
            "needs_background": "light"
          }
        }
      ]
    },
    {
      "cell_type": "code",
      "metadata": {
        "id": "n93F4UO1qjMv"
      },
      "source": [
        "## Probelm 3\n",
        "from sklearn.model_selection import train_test_split\n",
        "# train 75%\n",
        "# test 25%\n",
        "X = h1.drop(columns=['species'])\n",
        "Y = h1['species']\n",
        "x_train, x_test, y_train, y_test = train_test_split(X,Y, test_size = 0.25, random_state= 42)"
      ],
      "execution_count": 265,
      "outputs": []
    },
    {
      "cell_type": "code",
      "metadata": {
        "id": "A2M2p9QMbjV6"
      },
      "source": [
        "## Problem 4\n",
        "from sklearn.preprocessing import StandardScaler\n",
        "x_train_transf = scaler.fit_transform(x_train)\n",
        "x_test_transf = scaler.fit_transform(x_test)"
      ],
      "execution_count": 266,
      "outputs": []
    },
    {
      "cell_type": "code",
      "metadata": {
        "id": "b6G04BWDhVm3"
      },
      "source": [
        "## Problem 5\n",
        "# knn - k-nearest neighbours\n",
        "from sklearn.neighbors import KNeighborsClassifier\n",
        "model = KNeighborsClassifier(n_neighbors=3)"
      ],
      "execution_count": 267,
      "outputs": []
    },
    {
      "cell_type": "code",
      "metadata": {
        "colab": {
          "base_uri": "https://localhost:8080/"
        },
        "id": "cdwi2uI1iMdy",
        "outputId": "4ec4144c-4ba8-4e53-f57e-e7089b65342a"
      },
      "source": [
        "model.fit(x_train_transf, y_train)\n"
      ],
      "execution_count": 268,
      "outputs": [
        {
          "output_type": "execute_result",
          "data": {
            "text/plain": [
              "KNeighborsClassifier(algorithm='auto', leaf_size=30, metric='minkowski',\n",
              "                     metric_params=None, n_jobs=None, n_neighbors=3, p=2,\n",
              "                     weights='uniform')"
            ]
          },
          "metadata": {},
          "execution_count": 268
        }
      ]
    },
    {
      "cell_type": "code",
      "metadata": {
        "colab": {
          "base_uri": "https://localhost:8080/"
        },
        "id": "NvX4r8DniJ1h",
        "outputId": "bee782f6-d287-47cb-8053-2ab9d9a07750"
      },
      "source": [
        "print(model.predict(x_test_transf))\n",
        "preds = model.predict(x_test_transf)"
      ],
      "execution_count": 269,
      "outputs": [
        {
          "output_type": "stream",
          "name": "stdout",
          "text": [
            "[2 2 2 1 1 1 2 2 1 1 1 1 2 2 2 1 2 2 1 1 2 1 1 1 2]\n"
          ]
        }
      ]
    },
    {
      "cell_type": "code",
      "metadata": {
        "colab": {
          "base_uri": "https://localhost:8080/"
        },
        "id": "Ol-z9p1fiYyB",
        "outputId": "99232a3a-30c7-4e59-8050-b27eb869b81e"
      },
      "source": [
        "print(model.predict_proba(x_test_transf))"
      ],
      "execution_count": 270,
      "outputs": [
        {
          "output_type": "stream",
          "name": "stdout",
          "text": [
            "[[0.         1.        ]\n",
            " [0.         1.        ]\n",
            " [0.         1.        ]\n",
            " [1.         0.        ]\n",
            " [1.         0.        ]\n",
            " [1.         0.        ]\n",
            " [0.         1.        ]\n",
            " [0.         1.        ]\n",
            " [1.         0.        ]\n",
            " [0.66666667 0.33333333]\n",
            " [1.         0.        ]\n",
            " [1.         0.        ]\n",
            " [0.         1.        ]\n",
            " [0.         1.        ]\n",
            " [0.         1.        ]\n",
            " [1.         0.        ]\n",
            " [0.33333333 0.66666667]\n",
            " [0.         1.        ]\n",
            " [1.         0.        ]\n",
            " [1.         0.        ]\n",
            " [0.         1.        ]\n",
            " [0.66666667 0.33333333]\n",
            " [0.66666667 0.33333333]\n",
            " [1.         0.        ]\n",
            " [0.         1.        ]]\n"
          ]
        }
      ]
    },
    {
      "cell_type": "code",
      "metadata": {
        "colab": {
          "base_uri": "https://localhost:8080/"
        },
        "id": "HgwdEIyBg-e4",
        "outputId": "760013e4-ca48-4fe9-8c67-40151f0fedaf"
      },
      "source": [
        "## Problem 6\n",
        "# Print metric to get performance \n",
        "print(\"accuracy:\", round(model.score(x_test_transf, y_test)*100))"
      ],
      "execution_count": 271,
      "outputs": [
        {
          "output_type": "stream",
          "name": "stdout",
          "text": [
            "accuracy: 88\n"
          ]
        }
      ]
    },
    {
      "cell_type": "code",
      "metadata": {
        "colab": {
          "base_uri": "https://localhost:8080/",
          "height": 300
        },
        "id": "ehiYORXui-9O",
        "outputId": "42a2ed4d-c99d-467a-94d1-34311319b43c"
      },
      "source": [
        "# Print metric to get performance\n",
        "from sklearn.metrics import precision_score\n",
        "from sklearn import metrics\n",
        "preds = model.predict(x_test_transf)\n",
        "metrics.plot_confusion_matrix(model, x_test_transf, y_test, display_labels=['Negative', 'Positive'])"
      ],
      "execution_count": 272,
      "outputs": [
        {
          "output_type": "execute_result",
          "data": {
            "text/plain": [
              "<sklearn.metrics._plot.confusion_matrix.ConfusionMatrixDisplay at 0x7f6c14ead290>"
            ]
          },
          "metadata": {},
          "execution_count": 272
        },
        {
          "output_type": "display_data",
          "data": {
            "image/png": "[encoded data removed]",
            "text/plain": [
              "<Figure size 432x288 with 2 Axes>"
            ]
          },
          "metadata": {
            "needs_background": "light"
          }
        }
      ]
    },
    {
      "cell_type": "code",
      "metadata": {
        "colab": {
          "base_uri": "https://localhost:8080/"
        },
        "id": "958z2GxykArT",
        "outputId": "840e209d-5228-4099-e855-201b902ffbcf"
      },
      "source": [
        "## Confusion Matrix\n",
        "confusion = metrics.confusion_matrix(y_test, preds)\n",
        "confusion.ravel()"
      ],
      "execution_count": 273,
      "outputs": [
        {
          "output_type": "execute_result",
          "data": {
            "text/plain": [
              "array([12,  2,  1, 10])"
            ]
          },
          "metadata": {},
          "execution_count": 273
        }
      ]
    },
    {
      "cell_type": "code",
      "metadata": {
        "colab": {
          "base_uri": "https://localhost:8080/"
        },
        "id": "gXaIt3hdkeY5",
        "outputId": "b4e7d84d-cfc4-4ff1-a184-d8cccdaf9647"
      },
      "source": [
        "## Accuracy Measure\n",
        "accuracy = metrics.accuracy_score(y_test, preds)\n",
        "accuracy"
      ],
      "execution_count": 274,
      "outputs": [
        {
          "output_type": "execute_result",
          "data": {
            "text/plain": [
              "0.88"
            ]
          },
          "metadata": {},
          "execution_count": 274
        }
      ]
    },
    {
      "cell_type": "code",
      "metadata": {
        "colab": {
          "base_uri": "https://localhost:8080/"
        },
        "id": "wk1rAnbbk9nU",
        "outputId": "79869cfa-d37e-4051-91de-3e51bdd61495"
      },
      "source": [
        "## Precision Measure\n",
        "precision_positive = metrics.precision_score(y_test, preds, pos_label=1)\n",
        "precision_negative = metrics.precision_score(y_test, preds, pos_label=2)\n",
        "precision_positive, precision_negative\n"
      ],
      "execution_count": 275,
      "outputs": [
        {
          "output_type": "execute_result",
          "data": {
            "text/plain": [
              "(0.9230769230769231, 0.8333333333333334)"
            ]
          },
          "metadata": {},
          "execution_count": 275
        }
      ]
    },
    {
      "cell_type": "code",
      "metadata": {
        "colab": {
          "base_uri": "https://localhost:8080/"
        },
        "id": "rvgOnxZbltcv",
        "outputId": "0b5b2bdf-a2c2-4c74-d171-078aa21d5b08"
      },
      "source": [
        "## Recall \n",
        "recall_sensitivity = metrics.recall_score(y_test, preds, pos_label=1)\n",
        "recall_spesificity = metrics.recall_score(y_test, preds, pos_label=2)\n",
        "recall_sensitivity, recall_spesificity"
      ],
      "execution_count": 276,
      "outputs": [
        {
          "output_type": "execute_result",
          "data": {
            "text/plain": [
              "(0.8571428571428571, 0.9090909090909091)"
            ]
          },
          "metadata": {},
          "execution_count": 276
        }
      ]
    },
    {
      "cell_type": "code",
      "metadata": {
        "colab": {
          "base_uri": "https://localhost:8080/"
        },
        "id": "wE3LgfFUmkI0",
        "outputId": "2cdaefac-ed7b-46f1-eceb-3604de4b218b"
      },
      "source": [
        "## F1-score Measure\n",
        "f1_positive = metrics.f1_score(y_test, preds, pos_label=1)\n",
        "f1_negative = metrics.f1_score(y_test, preds, pos_label=2)\n",
        "f1_negative, f1_positive\n"
      ],
      "execution_count": 277,
      "outputs": [
        {
          "output_type": "execute_result",
          "data": {
            "text/plain": [
              "(0.8695652173913043, 0.888888888888889)"
            ]
          },
          "metadata": {},
          "execution_count": 277
        }
      ]
    },
    {
      "cell_type": "code",
      "metadata": {
        "id": "d5hNAQa11Z2A"
      },
      "source": [
        "## Problem 7\n",
        "from matplotlib.colors import ListedColormap\n",
        "from sklearn.tree import DecisionTreeClassifier, plot_tree\n",
        "import matplotlib.patches as mpatches\n",
        "import seaborn as sns\n",
        "\n"
      ],
      "execution_count": 278,
      "outputs": []
    },
    {
      "cell_type": "code",
      "metadata": {
        "colab": {
          "base_uri": "https://localhost:8080/",
          "height": 348
        },
        "id": "tRWoWySmrhAl",
        "outputId": "46efea5a-ce1d-4b80-abd5-7d1092966fc2"
      },
      "source": [
        "import numpy as np\n",
        "import pandas as pd\n",
        "from matplotlib import pyplot as plt\n",
        "from sklearn import neighbors, datasets\n",
        "from sklearn.datasets import load_iris\n",
        "from matplotlib.colors import ListedColormap\n",
        "iris= load_iris()\n",
        "\n",
        "# Create color maps for 3-class classification problem, as with iris\n",
        "cmap_light = ListedColormap(['#FFAAAA', '#AAFFAA', '#AAAAFF'])\n",
        "cmap_bold = ListedColormap(['#FF0000', '#00FF00', '#0000FF'])\n",
        "\n",
        "P = pd.DataFrame(iris.data, columns= iris.feature_names)\n",
        "P.head()\n",
        "V  = pd.DataFrame(iris.target, columns= (['species']))\n",
        "V.head()\n",
        "df = pd.concat([P, V], axis=1)\n",
        "i = df.iloc[:,0] # Sepal length location\n",
        "k= df.iloc[:,2]  # petal length location\n",
        "j= df.iloc[:,4]  # Species location\n",
        "df1 = pd.concat([i, k,j], axis=1)\n",
        "h1 = df1.loc[df1['species']!= 0]\n",
        "t = h1.iloc[:, 0]\n",
        "r = h1.iloc[:, 1]\n",
        "X =pd.concat([t, r], axis=1)\n",
        "\n",
        "\n",
        "knn = neighbors.KNeighborsClassifier(n_neighbors=3)\n",
        "knn.fit(x_test_transf, y_test)\n",
        "\n",
        "x_min, x_max = x_test_transf[:, 0].min() - .1, x_test_transf[:, 0].max() + .1\n",
        "y_min, y_max = x_test_transf[:, 1].min() - .1, x_test_transf[:, 1].max() + .1\n",
        "xx, yy = np.meshgrid(np.linspace(x_min, x_max, 100), np.linspace(y_min, y_max, 100))\n",
        "Z = knn.predict(np.c_[xx.ravel(), yy.ravel()])\n",
        "#Put the result into a color plot\n",
        "\n",
        "Z = Z.reshape(xx.shape)\n",
        "plt.figure()\n",
        "plt.pcolormesh(xx, yy, Z, cmap=cmap_light)\n",
        "\n",
        "# Plot also the training points\n",
        "plt.scatter(x_test_transf[:, 0], x_test_transf[:, 1], c=y_test, cmap=cmap_bold)\n",
        "plt.xlabel('sepal length (cm)')\n",
        "plt.ylabel('sepal width (cm)')\n",
        "plt.axis('tight')\n"
      ],
      "execution_count": 279,
      "outputs": [
        {
          "output_type": "execute_result",
          "data": {
            "text/plain": [
              "(-2.1002193246999092,\n",
              " 2.404888493362811,\n",
              " -1.7940838530506291,\n",
              " 2.5607104068045548)"
            ]
          },
          "metadata": {},
          "execution_count": 279
        },
        {
          "output_type": "display_data",
          "data": {
            "image/png": "[encoded data removed]",
            "text/plain": [
              "<Figure size 432x288 with 1 Axes>"
            ]
          },
          "metadata": {
            "needs_background": "light"
          }
        }
      ]
    },
    {
      "cell_type": "code",
      "metadata": {
        "id": "m-gK9R_cgNRG",
        "colab": {
          "base_uri": "https://localhost:8080/",
          "height": 348
        },
        "outputId": "a773aab0-8c80-40bc-8b96-fc41e38b54e4"
      },
      "source": [
        "## Problem 8-a\n",
        "# Logistic Regression \n",
        "from sklearn.linear_model import LogisticRegression\n",
        "model = LogisticRegression()\n",
        "\n",
        "model.fit(x_test_transf, y_test)\n",
        "\n",
        "x_min, x_max = x_test_transf[:, 0].min() - .1, x_test_transf[:, 0].max() + .1\n",
        "y_min, y_max = x_test_transf[:, 1].min() - .1, x_test_transf[:, 1].max() + .1\n",
        "xx, yy = np.meshgrid(np.linspace(x_min, x_max, 100), np.linspace(y_min, y_max, 100))\n",
        "Z = model.predict(np.c_[xx.ravel(), yy.ravel()])\n",
        "#Put the result into a color plot\n",
        "\n",
        "Z = Z.reshape(xx.shape)\n",
        "plt.figure()\n",
        "plt.pcolormesh(xx, yy, Z, cmap=cmap_light)\n",
        "\n",
        "# Plot also the training points\n",
        "plt.scatter(x_test_transf[:, 0], x_test_transf[:, 1], c=y_test, cmap=cmap_bold)\n",
        "plt.xlabel('sepal length (cm)')\n",
        "plt.ylabel('sepal width (cm)')\n",
        "plt.axis('tight')"
      ],
      "execution_count": 280,
      "outputs": [
        {
          "output_type": "execute_result",
          "data": {
            "text/plain": [
              "(-2.1002193246999092,\n",
              " 2.404888493362811,\n",
              " -1.7940838530506291,\n",
              " 2.5607104068045548)"
            ]
          },
          "metadata": {},
          "execution_count": 280
        },
        {
          "output_type": "display_data",
          "data": {
            "image/png": "[encoded data removed]",
            "text/plain": [
              "<Figure size 432x288 with 1 Axes>"
            ]
          },
          "metadata": {
            "needs_background": "light"
          }
        }
      ]
    },
    {
      "cell_type": "code",
      "metadata": {
        "id": "oQZlRxeginKj",
        "colab": {
          "base_uri": "https://localhost:8080/"
        },
        "outputId": "b55b7147-7997-4049-e060-b97c3baaf75d"
      },
      "source": [
        "# Print metric to get performance \n",
        "print(\"accuracy:\", round(model.score(x_test_transf, y_test)*100))"
      ],
      "execution_count": 281,
      "outputs": [
        {
          "output_type": "stream",
          "name": "stdout",
          "text": [
            "accuracy: 84\n"
          ]
        }
      ]
    },
    {
      "cell_type": "code",
      "metadata": {
        "id": "DoOFP53iiw8h",
        "colab": {
          "base_uri": "https://localhost:8080/",
          "height": 348
        },
        "outputId": "2f502758-8b38-4a15-8856-e72582c10dd8"
      },
      "source": [
        "# Decision Tree\n",
        "from sklearn.tree import DecisionTreeClassifier\n",
        "model2 = DecisionTreeClassifier()\n",
        "model2.fit(x_test_transf, y_test)\n",
        "\n",
        "x_min, x_max = x_test_transf[:, 0].min() - .1, x_test_transf[:, 0].max() + .1\n",
        "y_min, y_max = x_test_transf[:, 1].min() - .1, x_test_transf[:, 1].max() + .1\n",
        "xx, yy = np.meshgrid(np.linspace(x_min, x_max, 100), np.linspace(y_min, y_max, 100))\n",
        "Z = model2.predict(np.c_[xx.ravel(), yy.ravel()])\n",
        "#Put the result into a color plot\n",
        "\n",
        "Z = Z.reshape(xx.shape)\n",
        "plt.figure()\n",
        "plt.pcolormesh(xx, yy, Z, cmap=cmap_light)\n",
        "\n",
        "# Plot also the training points\n",
        "plt.scatter(x_test_transf[:, 0], x_test_transf[:, 1], c=y_test, cmap=cmap_bold)\n",
        "plt.xlabel('sepal length (cm)')\n",
        "plt.ylabel('sepal width (cm)')\n",
        "plt.axis('tight')"
      ],
      "execution_count": 282,
      "outputs": [
        {
          "output_type": "execute_result",
          "data": {
            "text/plain": [
              "(-2.1002193246999092,\n",
              " 2.404888493362811,\n",
              " -1.7940838530506291,\n",
              " 2.5607104068045548)"
            ]
          },
          "metadata": {},
          "execution_count": 282
        },
        {
          "output_type": "display_data",
          "data": {
            "image/png": "[encoded data removed]",
            "text/plain": [
              "<Figure size 432x288 with 1 Axes>"
            ]
          },
          "metadata": {
            "needs_background": "light"
          }
        }
      ]
    },
    {
      "cell_type": "code",
      "metadata": {
        "id": "_CDpuNsDgj9m",
        "colab": {
          "base_uri": "https://localhost:8080/"
        },
        "outputId": "d4e93c3b-c365-45ce-bd50-f096dc5556ff"
      },
      "source": [
        "# Model training\n",
        "model2.fit(x_train, y_train)"
      ],
      "execution_count": 286,
      "outputs": [
        {
          "output_type": "execute_result",
          "data": {
            "text/plain": [
              "DecisionTreeClassifier(ccp_alpha=0.0, class_weight=None, criterion='gini',\n",
              "                       max_depth=None, max_features=None, max_leaf_nodes=None,\n",
              "                       min_impurity_decrease=0.0, min_impurity_split=None,\n",
              "                       min_samples_leaf=1, min_samples_split=2,\n",
              "                       min_weight_fraction_leaf=0.0, presort='deprecated',\n",
              "                       random_state=None, splitter='best')"
            ]
          },
          "metadata": {},
          "execution_count": 286
        }
      ]
    },
    {
      "cell_type": "code",
      "metadata": {
        "id": "27QUXbSLiwTx",
        "colab": {
          "base_uri": "https://localhost:8080/"
        },
        "outputId": "bad934e2-60f9-41cc-a0ad-32ac2baf0efd"
      },
      "source": [
        "# Print metric to get performance \n",
        "print(\"accuracy:\", round(model2.score(x_train, y_train)*100))"
      ],
      "execution_count": 287,
      "outputs": [
        {
          "output_type": "stream",
          "name": "stdout",
          "text": [
            "accuracy: 100\n"
          ]
        }
      ]
    },
    {
      "cell_type": "code",
      "metadata": {
        "colab": {
          "base_uri": "https://localhost:8080/",
          "height": 348
        },
        "id": "gF4czVicqK9s",
        "outputId": "3d7dc00f-2f2d-4604-f4ac-c61c4d703856"
      },
      "source": [
        "from sklearn.svm import SVC\n",
        "from sklearn.pipeline import make_pipeline\n",
        "clf = make_pipeline(StandardScaler(), SVC(gamma='auto'))\n",
        "clf.fit(x_test_transf, y_test)\n",
        "x_min, x_max = x_test_transf[:, 0].min() - .1, x_test_transf[:, 0].max() + .1\n",
        "y_min, y_max = x_test_transf[:, 1].min() - .1, x_test_transf[:, 1].max() + .1\n",
        "xx, yy = np.meshgrid(np.linspace(x_min, x_max, 100), np.linspace(y_min, y_max, 100))\n",
        "Z = clf.predict(np.c_[xx.ravel(), yy.ravel()])\n",
        "#Put the result into a color plot\n",
        "\n",
        "Z = Z.reshape(xx.shape)\n",
        "plt.figure()\n",
        "plt.pcolormesh(xx, yy, Z, cmap=cmap_light)\n",
        "\n",
        "# Plot also the training points\n",
        "plt.scatter(x_test_transf[:, 0], x_test_transf[:, 1], c=y_test, cmap=cmap_bold)\n",
        "plt.xlabel('sepal length (cm)')\n",
        "plt.ylabel('sepal width (cm)')\n",
        "plt.axis('tight')"
      ],
      "execution_count": 288,
      "outputs": [
        {
          "output_type": "execute_result",
          "data": {
            "text/plain": [
              "(-2.1002193246999092,\n",
              " 2.404888493362811,\n",
              " -1.7940838530506291,\n",
              " 2.5607104068045548)"
            ]
          },
          "metadata": {},
          "execution_count": 288
        },
        {
          "output_type": "display_data",
          "data": {
            "image/png": "[encoded data removed]",
            "text/plain": [
              "<Figure size 432x288 with 1 Axes>"
            ]
          },
          "metadata": {
            "needs_background": "light"
          }
        }
      ]
    },
    {
      "cell_type": "code",
      "metadata": {
        "colab": {
          "base_uri": "https://localhost:8080/",
          "height": 348
        },
        "id": "z_xSw1ifqgye",
        "outputId": "f75e4bf2-59da-4064-bc23-96980a192398"
      },
      "source": [
        "from sklearn.ensemble import RandomForestClassifier\n",
        "from sklearn.datasets import make_classification\n",
        "P = pd.DataFrame(iris.data, columns= iris.feature_names)\n",
        "P.head()\n",
        "V  = pd.DataFrame(iris.target, columns= (['species']))\n",
        "V.head()\n",
        "df = pd.concat([P, V], axis=1)\n",
        "i = df.iloc[:,0] # Sepal length location\n",
        "k= df.iloc[:,2]  # petal length location\n",
        "j= df.iloc[:,4]  # Species location\n",
        "df1 = pd.concat([i, k,j], axis=1)\n",
        "h1 = df1.loc[df1['species']!= 0]\n",
        "t = h1.iloc[:, 0]\n",
        "r = h1.iloc[:, 1]\n",
        "X =pd.concat([t, r], axis=1)\n",
        "y = h1.iloc[:, 2]\n",
        "\n",
        "clf2 = RandomForestClassifier(max_depth=2, random_state=0)\n",
        "clf2.fit(x_test_transf, y_test)\n",
        "x_min, x_max = x_test_transf[:, 0].min() - .1, x_test_transf[:, 0].max() + .1\n",
        "y_min, y_max = x_test_transf[:, 1].min() - .1, x_test_transf[:, 1].max() + .1\n",
        "xx, yy = np.meshgrid(np.linspace(x_min, x_max, 100), np.linspace(y_min, y_max, 100))\n",
        "Z = clf2.predict(np.c_[xx.ravel(), yy.ravel()])\n",
        "#Put the result into a color plot\n",
        "\n",
        "Z = Z.reshape(xx.shape)\n",
        "plt.figure()\n",
        "plt.pcolormesh(xx, yy, Z, cmap=cmap_light)\n",
        "\n",
        "# Plot also the training points\n",
        "plt.scatter(x_test_transf[:, 0], x_test_transf[:, 1], c=y_test, cmap=cmap_bold)\n",
        "plt.xlabel('sepal length (cm)')\n",
        "plt.ylabel('sepal width (cm)')\n",
        "plt.axis('tight')"
      ],
      "execution_count": 289,
      "outputs": [
        {
          "output_type": "execute_result",
          "data": {
            "text/plain": [
              "(-2.1002193246999092,\n",
              " 2.404888493362811,\n",
              " -1.7940838530506291,\n",
              " 2.5607104068045548)"
            ]
          },
          "metadata": {},
          "execution_count": 289
        },
        {
          "output_type": "display_data",
          "data": {
            "image/png": "[encoded data removed]",
            "text/plain": [
              "<Figure size 432x288 with 1 Axes>"
            ]
          },
          "metadata": {
            "needs_background": "light"
          }
        }
      ]
    },
    {
      "cell_type": "markdown",
      "metadata": {
        "id": "3m10CIe-rJJ4"
      },
      "source": [
        "From the results of the models, it can be seen that the Training model as the highest accuracy. From the learning by other methods SVC gives the us the better results from the illustrated graphs. The standardised values offer better segmentation when compared to unstandardised data. "
      ]
    },
    {
      "cell_type": "code",
      "metadata": {
        "id": "OLyq6bTjqu2g"
      },
      "source": [
        "## Problem 9"
      ],
      "execution_count": null,
      "outputs": []
    },
    {
      "cell_type": "code",
      "metadata": {
        "colab": {
          "base_uri": "https://localhost:8080/",
          "height": 300
        },
        "id": "VPXVjdaoq1Bh",
        "outputId": "d6ea5744-7549-4462-afbf-ff759cbb0a94"
      },
      "source": [
        "## Problem 10\n",
        "\n",
        "from sklearn.ensemble import RandomForestClassifier\n",
        "from sklearn.datasets import make_classification\n",
        "P = pd.DataFrame(iris.data, columns= iris.feature_names)\n",
        "P.head()\n",
        "V  = pd.DataFrame(iris.target, columns= (['species']))\n",
        "V.head()\n",
        "df = pd.concat([P, V], axis=1)\n",
        "i = df.iloc[:,0] # Sepal length location\n",
        "k= df.iloc[:,2]  # petal length location\n",
        "j= df.iloc[:,4]  # Species location\n",
        "df1 = pd.concat([i, k,j], axis=1)\n",
        "X =pd.concat([i, k], axis=1)\n",
        "y = df1.iloc[:, 2]\n",
        "\n",
        "clf2 = RandomForestClassifier(max_depth=2, random_state=0)\n",
        "clf2.fit(X, y)\n",
        "x_min, x_max = X.iloc[:, 0].min() - .1, X.iloc[:, 0].max() + .1\n",
        "y_min, y_max = X.iloc[:, 1].min() - .1, X.iloc[:, 1].max() + .1\n",
        "xx, yy = np.meshgrid(np.linspace(x_min, x_max, 100), np.linspace(y_min, y_max, 100))\n",
        "Z = clf2.predict(np.c_[xx.ravel(), yy.ravel()])\n",
        "#Put the result into a color plot\n",
        "\n",
        "Z = Z.reshape(xx.shape)\n",
        "plt.figure()\n",
        "plt.pcolormesh(xx, yy, Z, cmap=cmap_light)\n",
        "\n",
        "# Plot also the training points\n",
        "plt.scatter(X.iloc[:, 0], X.iloc[:, 1], c=y, cmap=cmap_bold)\n",
        "plt.xlabel('sepal length (cm)')\n",
        "plt.ylabel('sepal width (cm)')\n",
        "plt.axis('tight')"
      ],
      "execution_count": 290,
      "outputs": [
        {
          "output_type": "execute_result",
          "data": {
            "text/plain": [
              "(4.2, 8.0, 0.9, 7.0)"
            ]
          },
          "metadata": {},
          "execution_count": 290
        },
        {
          "output_type": "display_data",
          "data": {
            "image/png": "[encoded data removed]",
            "text/plain": [
              "<Figure size 432x288 with 1 Axes>"
            ]
          },
          "metadata": {
            "needs_background": "light"
          }
        }
      ]
    }
  ]
}