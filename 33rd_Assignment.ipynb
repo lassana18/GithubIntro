{
  "nbformat": 4,
  "nbformat_minor": 0,
  "metadata": {
    "colab": {
      "name": "33rd Assignment.ipynb",
      "provenance": [],
      "collapsed_sections": [],
      "authorship_tag": "ABX9TyNSD8l7LhNICIbLu82t3iuB",
      "include_colab_link": true
    },
    "kernelspec": {
      "name": "python3",
      "display_name": "Python 3"
    },
    "language_info": {
      "name": "python"
    }
  },
  "cells": [
    {
      "cell_type": "markdown",
      "metadata": {
        "id": "view-in-github",
        "colab_type": "text"
      },
      "source": [
        "<a href=\"https://colab.research.google.com/github/pafernannapi18/GithubIntro/blob/main/33rd_Assignment.ipynb\" target=\"_parent\"><img src=\"https://colab.research.google.com/assets/colab-badge.svg\" alt=\"Open In Colab\"/></a>"
      ]
    },
    {
      "cell_type": "code",
      "execution_count": null,
      "metadata": {
        "id": "nc_2y9tEW69l"
      },
      "outputs": [],
      "source": [
        "#Mount the Google Drive to Google Colab\n",
        "from google.colab import drive\n",
        "drive.mount('/content/drive/', force_remount=True)"
      ]
    },
    {
      "cell_type": "markdown",
      "source": [
        "## [Problem 1] Learning classification with self-made dataset"
      ],
      "metadata": {
        "id": "w5RTEY_oXVb9"
      }
    },
    {
      "cell_type": "code",
      "source": [
        "#Batch size, epochs and image size with the height and width\n",
        "batch_size = 2\n",
        "epochs = 15\n",
        "IMG_HEIGHT = 150\n",
        "IMG_WIDTH = 150"
      ],
      "metadata": {
        "id": "OT6H47KUXbtX"
      },
      "execution_count": null,
      "outputs": []
    },
    {
      "cell_type": "markdown",
      "source": [
        "[Problem 2] Data expansion for classification dataset"
      ],
      "metadata": {
        "id": "6cBJiVpMXfDZ"
      }
    },
    {
      "cell_type": "code",
      "source": [
        "from tensorflow.keras.preprocessing.image import ImageDataGenerator"
      ],
      "metadata": {
        "id": "ubNXsJg1XiWX"
      },
      "execution_count": null,
      "outputs": []
    },
    {
      "cell_type": "code",
      "source": [
        "image_generator = ImageDataGenerator(rescale=1./255)"
      ],
      "metadata": {
        "id": "jpmbgsWaXk8R"
      },
      "execution_count": null,
      "outputs": []
    },
    {
      "cell_type": "code",
      "source": [
        "gen_train = image_generator.flow_from_directory(batch_size=batch_size,\n",
        "                                          directory=\"drive/MyDrive/dataset/\",\n",
        "                                          shuffle=True,\n",
        "                                          target_size=(IMG_HEIGHT, IMG_WIDTH),\n",
        "                                          class_mode='binary')"
      ],
      "metadata": {
        "id": "zhLqhHcOXnc3"
      },
      "execution_count": null,
      "outputs": []
    },
    {
      "cell_type": "code",
      "source": [
        "train_data, labels = next(gen_train)"
      ],
      "metadata": {
        "id": "dFK-7D2CXqbC"
      },
      "execution_count": null,
      "outputs": []
    },
    {
      "cell_type": "code",
      "source": [
        "import matplotlib.pyplot as plt"
      ],
      "metadata": {
        "id": "nmn6O-LzXsr7"
      },
      "execution_count": null,
      "outputs": []
    },
    {
      "cell_type": "code",
      "source": [
        "plt.figure(figsize=(15,5))\n",
        "for i in range(len(train_data)):\n",
        "    plt.subplot(1, 2, i+1)\n",
        "    plt.imshow(train_data[i])"
      ],
      "metadata": {
        "id": "8Zv4GPp1XvaU"
      },
      "execution_count": null,
      "outputs": []
    },
    {
      "cell_type": "code",
      "source": [
        "from keras.models import Sequential\n",
        "from keras.layers import Dense, Flatten, Conv2D, MaxPooling2D\n",
        "from keras import optimizers"
      ],
      "metadata": {
        "id": "f22-RKBHXyby"
      },
      "execution_count": null,
      "outputs": []
    },
    {
      "cell_type": "code",
      "source": [
        "#Model building\n",
        "model = Sequential([\n",
        "    Conv2D(16, 3, activation='relu', input_shape=(IMG_HEIGHT, IMG_WIDTH ,3)),\n",
        "    MaxPooling2D(),\n",
        "    Conv2D(32, 3, activation='relu'),\n",
        "    MaxPooling2D(),\n",
        "    Conv2D(64, 3, activation='relu'),\n",
        "    MaxPooling2D(),\n",
        "    Flatten(),\n",
        "    Dense(512, activation='relu'),\n",
        "    Dense(1, activation='sigmoid')\n",
        "])"
      ],
      "metadata": {
        "id": "j4NowySUX0rf"
      },
      "execution_count": null,
      "outputs": []
    },
    {
      "cell_type": "code",
      "source": [
        "#Compiling the model\n",
        "model.compile(loss=\"binary_crossentropy\", optimizer=optimizers.Adam(learning_rate=0.001), metrics=[\"accuracy\"])\n",
        "model.summary()"
      ],
      "metadata": {
        "id": "gUaHvWj_X5Ko"
      },
      "execution_count": null,
      "outputs": []
    },
    {
      "cell_type": "code",
      "source": [
        "model.fit_generator(generator=gen_train, epochs=epochs)"
      ],
      "metadata": {
        "id": "v6PhTUxYX8N6"
      },
      "execution_count": null,
      "outputs": []
    },
    {
      "cell_type": "markdown",
      "source": [
        "## [Problem 3] Preparation of object detection dataset"
      ],
      "metadata": {
        "id": "Zo-nAOYRYAZI"
      }
    },
    {
      "cell_type": "code",
      "source": [
        "from PIL import Image\n",
        "import numpy as np\n",
        "import numpy  as np\n",
        "import os\n",
        "import glob \n",
        "import re\n",
        "import matplotlib.pyplot as plt\n",
        "import cv2\n",
        "from PIL import Image\n",
        "%matplotlib inline\n",
        "\n",
        "BOX_COLOR = (255, 0, 0)\n",
        "TEXT_COLOR = (255, 255, 255)\n",
        "\n",
        "def visualize_bbox(img, bbox, class_id, class_idx_to_name, color=BOX_COLOR, thickness=2):\n",
        "    x_min, y_min, w, h = bbox\n",
        "    x_min, x_max, y_min, y_max = int(x_min), int(x_min + w), int(y_min), int(y_min + h)\n",
        "    cv2.rectangle(img, (x_min, y_min), (x_max, y_max), color=color, thickness=thickness)\n",
        "    class_name = class_idx_to_name[class_id]\n",
        "    ((text_width, text_height), _) = cv2.getTextSize(class_name, cv2.FONT_HERSHEY_SIMPLEX, 2, 1)    \n",
        "    cv2.rectangle(img, (x_min, y_min - int(1.3 * text_height)), (x_min + text_width, y_min), BOX_COLOR, -1)\n",
        "    cv2.putText(img, class_name, (x_min, y_min - int(0.3 * text_height)), cv2.FONT_HERSHEY_SIMPLEX, 2,TEXT_COLOR, lineType=cv2.LINE_AA)\n",
        "    return img\n",
        "\n",
        "def visualize(annotations, category_id_to_name):\n",
        "    img = annotations['image'].copy()\n",
        "    for idx, bbox in enumerate(annotations['bboxes']):\n",
        "        img = visualize_bbox(img, bbox, annotations['category_id'][idx], category_id_to_name)\n",
        "    plt.figure(figsize=(7, 7))\n",
        "    plt.imshow(img)"
      ],
      "metadata": {
        "id": "sVqZu4JeYB-c"
      },
      "execution_count": null,
      "outputs": []
    },
    {
      "cell_type": "code",
      "source": [
        "def download_image(url):\n",
        "    data = open(url,\"rb\").read()\n",
        "    data = np.frombuffer(data, np.uint8)\n",
        "    image = cv2.imdecode(data, cv2.IMREAD_COLOR)\n",
        "    image = cv2.cvtColor(image, cv2.COLOR_BGR2RGB)\n",
        "    return image"
      ],
      "metadata": {
        "id": "KdsWsUdIYI5v"
      },
      "execution_count": null,
      "outputs": []
    },
    {
      "cell_type": "code",
      "source": [
        "ls"
      ],
      "metadata": {
        "id": "VOkbC834YKZt"
      },
      "execution_count": null,
      "outputs": []
    },
    {
      "cell_type": "code",
      "source": [
        "image = download_image('cat/cat4.jpg')\n",
        "image = np.array(image)\n",
        "\n",
        "annotations = {'image': image, 'bboxes': [[20,50,1000,1000]], 'category_id': [0]}\n",
        "category_id_to_name = {0: 'cat', 1: 'dog'}\n",
        "img = visualize(annotations, category_id_to_name)"
      ],
      "metadata": {
        "id": "zQFvS6ICYNX5"
      },
      "execution_count": null,
      "outputs": []
    },
    {
      "cell_type": "code",
      "source": [
        "image = download_image('dog/dog4.jpg')\n",
        "image = np.array(image)\n",
        "\n",
        "annotations = {'image': image, 'bboxes': [[20,50,700,700]], 'category_id': [1]}\n",
        "category_id_to_name = {0: 'cat', 1: 'dog'}\n",
        "img = visualize(annotations, category_id_to_name)"
      ],
      "metadata": {
        "id": "Toexalo4YQ-R"
      },
      "execution_count": null,
      "outputs": []
    },
    {
      "cell_type": "markdown",
      "source": [
        "## [Problem 4] Data expansion for object detection dataset"
      ],
      "metadata": {
        "id": "4RydhfP8YUdS"
      }
    },
    {
      "cell_type": "code",
      "source": [
        "import albumentations as A"
      ],
      "metadata": {
        "id": "abfqd5YvYVyg"
      },
      "execution_count": null,
      "outputs": []
    },
    {
      "cell_type": "code",
      "source": [
        "aug = A.Compose([\n",
        "    A.RandomCrop(width=256, height=256),\n",
        "    A.HorizontalFlip(p=0.5),\n",
        "    A.RandomBrightnessContrast(p=0.2),\n",
        "])\n",
        "augmented = aug(**annotations)\n",
        "visualize(augmented, category_id_to_name)"
      ],
      "metadata": {
        "id": "68AOCpo1YbU1"
      },
      "execution_count": null,
      "outputs": []
    },
    {
      "cell_type": "code",
      "source": [
        "aug = A.Compose([\n",
        "    A.RandomBrightnessContrast(brightness_limit=1, contrast_limit=1, p=1.0),\n",
        "])\n",
        "augmented = aug(**annotations)\n",
        "visualize(augmented, category_id_to_name)"
      ],
      "metadata": {
        "id": "xYLyc3oGYeYa"
      },
      "execution_count": null,
      "outputs": []
    }
  ]
}