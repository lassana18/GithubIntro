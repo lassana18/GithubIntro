{
  "nbformat": 4,
  "nbformat_minor": 0,
  "metadata": {
    "colab": {
      "name": "FourthAssignment.ipynb",
      "provenance": [],
      "collapsed_sections": [],
      "authorship_tag": "ABX9TyPRRCVKco1eByIPQ6jZTQix",
      "include_colab_link": true
    },
    "kernelspec": {
      "name": "python3",
      "display_name": "Python 3"
    },
    "language_info": {
      "name": "python"
    }
  },
  "cells": [
    {
      "cell_type": "markdown",
      "metadata": {
        "id": "view-in-github",
        "colab_type": "text"
      },
      "source": [
        "<a href=\"https://colab.research.google.com/github/pafernannapi18/GithubIntro/blob/main/FourthAssignment.ipynb\" target=\"_parent\"><img src=\"https://colab.research.google.com/assets/colab-badge.svg\" alt=\"Open In Colab\"/></a>"
      ]
    },
    {
      "cell_type": "code",
      "metadata": {
        "colab": {
          "base_uri": "https://localhost:8080/",
          "height": 419
        },
        "id": "OY2A79aaH2fa",
        "outputId": "f8022a1b-14a7-492e-a8a5-241de8422c7f"
      },
      "source": [
        "import matplotlib.pyplot as plt\n",
        "%matplotlib inline\n",
        "def chestnut_bun_problem(f, g, S, c, t=5):\n",
        "  #*** t is the increasing time, T is the time needed for  the chestnut bun to cover the Sun, \n",
        "  #*** c is the chestnut volume at the begining, z is the final volume of the chestnut bun, S is the volume of Sun in km^3. \n",
        "  # H is the list of volume increment of the chestnut, M is the list of the time increment. \n",
        "  # This program can be applied  also in other situations, such as the time it takes for the Tokyo Dome to fill up when you sprinkle a ball with Byvine, \n",
        "  # you just need to change the volume of the chestnut for that of the ball and Tokyo Dome for that of the Sun. \n",
        " \n",
        " H = []\n",
        " M = []\n",
        " H.insert(0,1)\n",
        " M.insert(0,1)\n",
        " for b in range (f):\n",
        "    if b <= g:\n",
        "     c = (c*2)\n",
        "     H.append(c)\n",
        "     T = b * t\n",
        "     M.append(T)\n",
        "    if c >=S:\n",
        "     print(c)\n",
        "     print(T)\n",
        "     print(H)\n",
        "     print(M)\n",
        "     print(\"It will take\", T, \"minutes for the chestnut bun to cover the Sun.\")\n",
        "     plt.title(\"Chestnut Bun Problem\")\n",
        "     plt.xlabel(\"Time in minutes\")\n",
        "     plt.ylabel(\"Increment of bun\")\n",
        "     plt.plot(H)\n",
        "     plt.show\n",
        "     return c, T\n",
        "     breack\n",
        "chestnut_bun_problem(100, 100, 1.409*(10**18), 0.5*(10**-9))"
      ],
      "execution_count": 14,
      "outputs": [
        {
          "output_type": "stream",
          "name": "stdout",
          "text": [
            "2.4758800785707607e+18\n",
            "455\n",
            "[1, 1e-09, 2e-09, 4e-09, 8e-09, 1.6e-08, 3.2e-08, 6.4e-08, 1.28e-07, 2.56e-07, 5.12e-07, 1.024e-06, 2.048e-06, 4.096e-06, 8.192e-06, 1.6384e-05, 3.2768e-05, 6.5536e-05, 0.000131072, 0.000262144, 0.000524288, 0.001048576, 0.002097152, 0.004194304, 0.008388608, 0.016777216, 0.033554432, 0.067108864, 0.134217728, 0.268435456, 0.536870912, 1.073741824, 2.147483648, 4.294967296, 8.589934592, 17.179869184, 34.359738368, 68.719476736, 137.438953472, 274.877906944, 549.755813888, 1099.511627776, 2199.023255552, 4398.046511104, 8796.093022208, 17592.186044416, 35184.372088832, 70368.744177664, 140737.488355328, 281474.976710656, 562949.953421312, 1125899.906842624, 2251799.813685248, 4503599.627370496, 9007199.254740993, 18014398.509481985, 36028797.01896397, 72057594.03792794, 144115188.07585588, 288230376.15171176, 576460752.3034235, 1152921504.606847, 2305843009.213694, 4611686018.427388, 9223372036.854776, 18446744073.709553, 36893488147.419106, 73786976294.83821, 147573952589.67642, 295147905179.35284, 590295810358.7057, 1180591620717.4114, 2361183241434.8228, 4722366482869.6455, 9444732965739.291, 18889465931478.582, 37778931862957.164, 75557863725914.33, 151115727451828.66, 302231454903657.3, 604462909807314.6, 1208925819614629.2, 2417851639229258.5, 4835703278458517.0, 9671406556917034.0, 1.9342813113834068e+16, 3.8685626227668136e+16, 7.737125245533627e+16, 1.5474250491067254e+17, 3.094850098213451e+17, 6.189700196426902e+17, 1.2379400392853804e+18, 2.4758800785707607e+18]\n",
            "[1, 0, 5, 10, 15, 20, 25, 30, 35, 40, 45, 50, 55, 60, 65, 70, 75, 80, 85, 90, 95, 100, 105, 110, 115, 120, 125, 130, 135, 140, 145, 150, 155, 160, 165, 170, 175, 180, 185, 190, 195, 200, 205, 210, 215, 220, 225, 230, 235, 240, 245, 250, 255, 260, 265, 270, 275, 280, 285, 290, 295, 300, 305, 310, 315, 320, 325, 330, 335, 340, 345, 350, 355, 360, 365, 370, 375, 380, 385, 390, 395, 400, 405, 410, 415, 420, 425, 430, 435, 440, 445, 450, 455]\n",
            "It will take 455 minutes for the chestnut bun to cover the Sun.\n"
          ]
        },
        {
          "output_type": "execute_result",
          "data": {
            "text/plain": [
              "(2.4758800785707607e+18, 455)"
            ]
          },
          "metadata": {},
          "execution_count": 14
        },
        {
          "output_type": "display_data",
          "data": {
            "image/png": "[encoded data removed]",
            "text/plain": [
              "<Figure size 432x288 with 1 Axes>"
            ]
          },
          "metadata": {
            "needs_background": "light"
          }
        }
      ]
    },
    {
      "cell_type": "code",
      "metadata": {
        "id": "JH3RrhwyIVAs"
      },
      "source": [
        ""
      ],
      "execution_count": 13,
      "outputs": []
    }
  ]
}