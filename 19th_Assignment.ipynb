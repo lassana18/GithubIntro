{
  "nbformat": 4,
  "nbformat_minor": 0,
  "metadata": {
    "colab": {
      "name": "19th Assignment.ipynb",
      "provenance": [],
      "collapsed_sections": [],
      "mount_file_id": "1ruKHcfGs81DhJekRNnA4GFHzupsKRqqX",
      "authorship_tag": "ABX9TyMy4SRfQu3iMs0ooVTCNqQI",
      "include_colab_link": true
    },
    "kernelspec": {
      "name": "python3",
      "display_name": "Python 3"
    },
    "language_info": {
      "name": "python"
    }
  },
  "cells": [
    {
      "cell_type": "markdown",
      "metadata": {
        "id": "view-in-github",
        "colab_type": "text"
      },
      "source": [
        "<a href=\"https://colab.research.google.com/github/pafernannapi18/GithubIntro/blob/main/19th_Assignment.ipynb\" target=\"_parent\"><img src=\"https://colab.research.google.com/assets/colab-badge.svg\" alt=\"Open In Colab\"/></a>"
      ]
    },
    {
      "cell_type": "markdown",
      "metadata": {
        "id": "0VuzhwWjabnS"
      },
      "source": [
        "## [Problem 1] Scratch of train_test_split​"
      ]
    },
    {
      "cell_type": "code",
      "metadata": {
        "id": "i0vZ8FhoaFdI"
      },
      "source": [
        "import numpy as np \n",
        "from sklearn.model_selection import train_test_split\n",
        "def scratch_train_test_split(X, y, train_size=0.8, seed=0):\n",
        "  \n",
        " \n",
        "  np.random.seed(seed)\n",
        "  np.random.shuffle(X)\n",
        "\n",
        "  np.random.seed(seed)\n",
        "  np.random.shuffle(y)\n",
        "\n",
        "  X_elements = len(X)\n",
        "  y_elements = len(y)\n",
        "\n",
        "  X_split = int(X_elements*train_size)\n",
        "  y_split = int(y_elements*train_size)\n",
        "\n",
        "  X_train, X_test = X[:X_split], X[X_split:]\n",
        "  y_train, y_test = y[:y_split], y[y_split:]\n",
        "\n",
        "  return X_train, X_test, y_train, y_test\n"
      ],
      "execution_count": 8,
      "outputs": []
    },
    {
      "cell_type": "code",
      "metadata": {
        "colab": {
          "base_uri": "https://localhost:8080/"
        },
        "id": "kDiuaCy0bmIt",
        "outputId": "b946e68f-a749-4f70-d1e1-1d98441cf00d"
      },
      "source": [
        "X_train, X_test, y_train, y_test = scratch_train_test_split(X, y, train_size= 0.8)\n",
        "\n",
        "print(X_train)\n",
        "print(y_train)"
      ],
      "execution_count": 9,
      "outputs": [
        {
          "output_type": "stream",
          "name": "stdout",
          "text": [
            "[[2 2 2]\n",
            " [0 0 0]\n",
            " [1 1 1]\n",
            " [3 3 3]]\n",
            "[2 0 1 3]\n"
          ]
        }
      ]
    },
    {
      "cell_type": "code",
      "metadata": {
        "colab": {
          "base_uri": "https://localhost:8080/"
        },
        "id": "5B_Ic91LdKJS",
        "outputId": "152026eb-c47a-4c67-ac93-57bf9113fd65"
      },
      "source": [
        "print(X_test)\n",
        "print(y_test)"
      ],
      "execution_count": 10,
      "outputs": [
        {
          "output_type": "stream",
          "name": "stdout",
          "text": [
            "[[4 4 4]]\n",
            "[4]\n"
          ]
        }
      ]
    },
    {
      "cell_type": "code",
      "metadata": {
        "colab": {
          "base_uri": "https://localhost:8080/"
        },
        "id": "WPLINj4mdNSA",
        "outputId": "6b8044cd-98bd-4ee2-d08a-674be6d2a183"
      },
      "source": [
        "X = np.array([[0, 0, 0], [1, 1, 1], [2, 2, 2], [3, 3, 3], [4, 4, 4]])\n",
        "y = np.array([0, 1, 2, 3, 4])\n",
        "X.shape, y.shape"
      ],
      "execution_count": 11,
      "outputs": [
        {
          "output_type": "execute_result",
          "data": {
            "text/plain": [
              "((5, 3), (5,))"
            ]
          },
          "metadata": {},
          "execution_count": 11
        }
      ]
    },
    {
      "cell_type": "code",
      "metadata": {
        "colab": {
          "base_uri": "https://localhost:8080/"
        },
        "id": "feUEJj4Bb-V8",
        "outputId": "b57ab27b-eeab-4a91-e032-a89a1303f324"
      },
      "source": [
        "X_train, X_test, y_train, y_test = train_test_split(X, y, train_size=0.8)\n",
        "print(X_train)\n",
        "print(y_train)"
      ],
      "execution_count": 12,
      "outputs": [
        {
          "output_type": "stream",
          "name": "stdout",
          "text": [
            "[[2 2 2]\n",
            " [1 1 1]\n",
            " [4 4 4]\n",
            " [3 3 3]]\n",
            "[2 1 4 3]\n"
          ]
        }
      ]
    },
    {
      "cell_type": "code",
      "metadata": {
        "colab": {
          "base_uri": "https://localhost:8080/"
        },
        "id": "qK4Im-Agf_CN",
        "outputId": "ed9ef69e-a971-406d-ce9c-5a5909e7cb49"
      },
      "source": [
        "print(X_test)\n",
        "print(y_test)"
      ],
      "execution_count": 13,
      "outputs": [
        {
          "output_type": "stream",
          "name": "stdout",
          "text": [
            "[[0 0 0]]\n",
            "[0]\n"
          ]
        }
      ]
    },
    {
      "cell_type": "markdown",
      "metadata": {
        "id": "6ZzwbKu7hFhI"
      },
      "source": [
        "## [Problem 2] Creating a code to solve the classification problem\n"
      ]
    },
    {
      "cell_type": "code",
      "metadata": {
        "id": "eSYOSXgdgG55"
      },
      "source": [
        "import pandas as pd\n",
        "from sklearn.datasets import load_iris\n",
        "from sklearn.preprocessing import  StandardScaler\n",
        "from sklearn.linear_model import SGDClassifier\n",
        "from sklearn.linear_model import SGDRegressor\n",
        "from sklearn.svm import SVC\n",
        "from sklearn.tree import DecisionTreeClassifier"
      ],
      "execution_count": 14,
      "outputs": []
    },
    {
      "cell_type": "code",
      "metadata": {
        "colab": {
          "base_uri": "https://localhost:8080/",
          "height": 419
        },
        "id": "917rYvk-hcfQ",
        "outputId": "dc395467-d470-4c5c-baa6-0d872781b967"
      },
      "source": [
        "iris_dataset = load_iris()\n",
        "columns_list = ['sepal_length', 'sepal_width', 'petal_length', 'petal_width']\n",
        "df = pd.DataFrame(iris_dataset['data'], columns= columns_list)\n",
        "df['target'] = iris_dataset['target']\n",
        "df = df[df['target'] != 0]\n",
        "df"
      ],
      "execution_count": 15,
      "outputs": [
        {
          "output_type": "execute_result",
          "data": {
            "text/html": [
              "<div>\n",
              "<style scoped>\n",
              "    .dataframe tbody tr th:only-of-type {\n",
              "        vertical-align: middle;\n",
              "    }\n",
              "\n",
              "    .dataframe tbody tr th {\n",
              "        vertical-align: top;\n",
              "    }\n",
              "\n",
              "    .dataframe thead th {\n",
              "        text-align: right;\n",
              "    }\n",
              "</style>\n",
              "<table border=\"1\" class=\"dataframe\">\n",
              "  <thead>\n",
              "    <tr style=\"text-align: right;\">\n",
              "      <th></th>\n",
              "      <th>sepal_length</th>\n",
              "      <th>sepal_width</th>\n",
              "      <th>petal_length</th>\n",
              "      <th>petal_width</th>\n",
              "      <th>target</th>\n",
              "    </tr>\n",
              "  </thead>\n",
              "  <tbody>\n",
              "    <tr>\n",
              "      <th>50</th>\n",
              "      <td>7.0</td>\n",
              "      <td>3.2</td>\n",
              "      <td>4.7</td>\n",
              "      <td>1.4</td>\n",
              "      <td>1</td>\n",
              "    </tr>\n",
              "    <tr>\n",
              "      <th>51</th>\n",
              "      <td>6.4</td>\n",
              "      <td>3.2</td>\n",
              "      <td>4.5</td>\n",
              "      <td>1.5</td>\n",
              "      <td>1</td>\n",
              "    </tr>\n",
              "    <tr>\n",
              "      <th>52</th>\n",
              "      <td>6.9</td>\n",
              "      <td>3.1</td>\n",
              "      <td>4.9</td>\n",
              "      <td>1.5</td>\n",
              "      <td>1</td>\n",
              "    </tr>\n",
              "    <tr>\n",
              "      <th>53</th>\n",
              "      <td>5.5</td>\n",
              "      <td>2.3</td>\n",
              "      <td>4.0</td>\n",
              "      <td>1.3</td>\n",
              "      <td>1</td>\n",
              "    </tr>\n",
              "    <tr>\n",
              "      <th>54</th>\n",
              "      <td>6.5</td>\n",
              "      <td>2.8</td>\n",
              "      <td>4.6</td>\n",
              "      <td>1.5</td>\n",
              "      <td>1</td>\n",
              "    </tr>\n",
              "    <tr>\n",
              "      <th>...</th>\n",
              "      <td>...</td>\n",
              "      <td>...</td>\n",
              "      <td>...</td>\n",
              "      <td>...</td>\n",
              "      <td>...</td>\n",
              "    </tr>\n",
              "    <tr>\n",
              "      <th>145</th>\n",
              "      <td>6.7</td>\n",
              "      <td>3.0</td>\n",
              "      <td>5.2</td>\n",
              "      <td>2.3</td>\n",
              "      <td>2</td>\n",
              "    </tr>\n",
              "    <tr>\n",
              "      <th>146</th>\n",
              "      <td>6.3</td>\n",
              "      <td>2.5</td>\n",
              "      <td>5.0</td>\n",
              "      <td>1.9</td>\n",
              "      <td>2</td>\n",
              "    </tr>\n",
              "    <tr>\n",
              "      <th>147</th>\n",
              "      <td>6.5</td>\n",
              "      <td>3.0</td>\n",
              "      <td>5.2</td>\n",
              "      <td>2.0</td>\n",
              "      <td>2</td>\n",
              "    </tr>\n",
              "    <tr>\n",
              "      <th>148</th>\n",
              "      <td>6.2</td>\n",
              "      <td>3.4</td>\n",
              "      <td>5.4</td>\n",
              "      <td>2.3</td>\n",
              "      <td>2</td>\n",
              "    </tr>\n",
              "    <tr>\n",
              "      <th>149</th>\n",
              "      <td>5.9</td>\n",
              "      <td>3.0</td>\n",
              "      <td>5.1</td>\n",
              "      <td>1.8</td>\n",
              "      <td>2</td>\n",
              "    </tr>\n",
              "  </tbody>\n",
              "</table>\n",
              "<p>100 rows × 5 columns</p>\n",
              "</div>"
            ],
            "text/plain": [
              "     sepal_length  sepal_width  petal_length  petal_width  target\n",
              "50            7.0          3.2           4.7          1.4       1\n",
              "51            6.4          3.2           4.5          1.5       1\n",
              "52            6.9          3.1           4.9          1.5       1\n",
              "53            5.5          2.3           4.0          1.3       1\n",
              "54            6.5          2.8           4.6          1.5       1\n",
              "..            ...          ...           ...          ...     ...\n",
              "145           6.7          3.0           5.2          2.3       2\n",
              "146           6.3          2.5           5.0          1.9       2\n",
              "147           6.5          3.0           5.2          2.0       2\n",
              "148           6.2          3.4           5.4          2.3       2\n",
              "149           5.9          3.0           5.1          1.8       2\n",
              "\n",
              "[100 rows x 5 columns]"
            ]
          },
          "metadata": {},
          "execution_count": 15
        }
      ]
    },
    {
      "cell_type": "code",
      "metadata": {
        "colab": {
          "base_uri": "https://localhost:8080/"
        },
        "id": "QRaWBgLAh-gh",
        "outputId": "3daf7a86-0bac-47ed-c068-c0cc54e4518f"
      },
      "source": [
        "X1 = df.drop(['target'], axis=1)\n",
        "y1 = df.target\n",
        "X1.shape, y1.shape"
      ],
      "execution_count": 16,
      "outputs": [
        {
          "output_type": "execute_result",
          "data": {
            "text/plain": [
              "((100, 4), (100,))"
            ]
          },
          "metadata": {},
          "execution_count": 16
        }
      ]
    },
    {
      "cell_type": "code",
      "metadata": {
        "id": "7Rq7hIOSiAoQ"
      },
      "source": [
        "X1 = X1.to_numpy()\n",
        "y1 = y1.to_numpy()"
      ],
      "execution_count": 17,
      "outputs": []
    },
    {
      "cell_type": "markdown",
      "metadata": {
        "id": "8_xArCYwi_rR"
      },
      "source": [
        "Sample DataSet 1"
      ]
    },
    {
      "cell_type": "code",
      "metadata": {
        "colab": {
          "base_uri": "https://localhost:8080/"
        },
        "id": "MVOoauYpiXQm",
        "outputId": "7e9327be-ffa3-4066-8337-f859a663d80b"
      },
      "source": [
        "np.random.seed(seed=0)\n",
        "n_samples = 500\n",
        "f0 = [-1, 2]\n",
        "f1 = [2, -1]\n",
        "cov = [[1.0, 0.8], [0.8, 1.0]]\n",
        "f0 = np.random.multivariate_normal(f0, cov, int(n_samples/2))\n",
        "f1 = np.random.multivariate_normal(f1, cov, int(n_samples/2))\n",
        "X = np.concatenate((f0, f1))\n",
        "y = np.concatenate((np.ones((int(n_samples/2))), np.ones((int(n_samples/2)))*(-1))).astype(np.int)\n",
        "random_index = np.random.permutation(np.arange(n_samples))\n",
        "X2 = X[random_index]\n",
        "y2 = y[random_index]\n",
        "X2.shape, y2.shape"
      ],
      "execution_count": 18,
      "outputs": [
        {
          "output_type": "execute_result",
          "data": {
            "text/plain": [
              "((500, 2), (500,))"
            ]
          },
          "metadata": {},
          "execution_count": 18
        }
      ]
    },
    {
      "cell_type": "markdown",
      "metadata": {
        "id": "0-WF2U0hjom-"
      },
      "source": [
        "Sample DataSet 2"
      ]
    },
    {
      "cell_type": "code",
      "metadata": {
        "colab": {
          "base_uri": "https://localhost:8080/"
        },
        "id": "lw8Y5Tv1jsaW",
        "outputId": "d97c1fc1-f548-4747-d9b5-1553ea03c631"
      },
      "source": [
        "X3 = np.array([\n",
        "    [-0.44699 , -2.8073  ],[-1.4621  , -2.4586  ],\n",
        "    [ 0.10645 ,  1.9242  ],[-3.5944  , -4.0112  ],\n",
        "    [-0.9888  ,  4.5718  ],[-3.1625  , -3.9606  ],\n",
        "    [ 0.56421 ,  0.72888 ],[-0.60216 ,  8.4636  ],\n",
        "    [-0.61251 , -0.75345 ],[-0.73535 , -2.2718  ],\n",
        "    [-0.80647 , -2.2135  ],[ 0.86291 ,  2.3946  ],\n",
        "    [-3.1108  ,  0.15394 ],[-2.9362  ,  2.5462  ],\n",
        "    [-0.57242 , -2.9915  ],[ 1.4771  ,  3.4896  ],\n",
        "    [ 0.58619 ,  0.37158 ],[ 0.6017  ,  4.3439  ],\n",
        "    [-2.1086  ,  8.3428  ],[-4.1013  , -4.353   ],\n",
        "    [-1.9948  , -1.3927  ],[ 0.35084 , -0.031994],\n",
        "    [ 0.96765 ,  7.8929  ],[-1.281   , 15.6824  ],\n",
        "    [ 0.96765 , 10.083   ],[ 1.3763  ,  1.3347  ],\n",
        "    [-2.234   , -2.5323  ],[-2.9452  , -1.8219  ],\n",
        "    [ 0.14654 , -0.28733 ],[ 0.5461  ,  5.8245  ],\n",
        "    [-0.65259 ,  9.3444  ],[ 0.59912 ,  5.3524  ],\n",
        "    [ 0.50214 , -0.31818 ],[-3.0603  , -3.6461  ],\n",
        "    [-6.6797  ,  0.67661 ],[-2.353   , -0.72261 ],\n",
        "    [ 1.1319  ,  2.4023  ],[-0.12243 ,  9.0162  ],\n",
        "    [-2.5677  , 13.1779  ],[ 0.057313,  5.4681  ],\n",
        "])\n",
        "y3 = np.array([0, 0, 0, 0, 0, 0, 0, 0, 0, 0, 0, 0, 0, 0, 0, 0, 0, 0, 0, 0, 1, 1,\n",
        "       1, 1, 1, 1, 1, 1, 1, 1, 1, 1, 1, 1, 1, 1, 1, 1, 1, 1])\n",
        "X3.shape, y3.shape"
      ],
      "execution_count": 19,
      "outputs": [
        {
          "output_type": "execute_result",
          "data": {
            "text/plain": [
              "((40, 2), (40,))"
            ]
          },
          "metadata": {},
          "execution_count": 19
        }
      ]
    },
    {
      "cell_type": "markdown",
      "metadata": {
        "id": "EWibVHX4j2N9"
      },
      "source": [
        "Division of Training Data and Verification Data"
      ]
    },
    {
      "cell_type": "code",
      "metadata": {
        "id": "NBe9RXVSj_WC"
      },
      "source": [
        "X1_train, X1_test, y1_train, y1_test = scratch_train_test_split(X1, y1, train_size=0.8)\n",
        "\n",
        "X2_train, X2_test, y2_train, y2_test = scratch_train_test_split(X2, y2, train_size=0.8)\n",
        "\n",
        "X3_train, X3_test, y3_train, y3_test = scratch_train_test_split(X3, y3, train_size=0.8)"
      ],
      "execution_count": 20,
      "outputs": []
    },
    {
      "cell_type": "markdown",
      "metadata": {
        "id": "EuRWmsXzmxrn"
      },
      "source": [
        "Preprocessing/Standardization"
      ]
    },
    {
      "cell_type": "code",
      "metadata": {
        "id": "sRPOCHZYkbgP"
      },
      "source": [
        "scaler = StandardScaler()\n",
        "\n",
        "scaler.fit(X1_train)\n",
        "X1_train = scaler.transform(X1_train)\n",
        "X1_test = scaler.transform(X1_test)\n",
        "\n",
        "scaler.fit(X2_train)\n",
        "X2_train = scaler.transform(X2_train)\n",
        "X2_test = scaler.transform(X2_test)\n",
        "\n",
        "scaler.fit(X3_train)\n",
        "X3_train = scaler.transform(X3_train)\n",
        "X3_test = scaler.transform(X3_test)"
      ],
      "execution_count": 21,
      "outputs": []
    },
    {
      "cell_type": "markdown",
      "metadata": {
        "id": "H01dQSSDnRo-"
      },
      "source": [
        "Learning and Estimation\n",
        "\n",
        "SGD\n",
        "\n",
        "\n",
        "Iris Data Set"
      ]
    },
    {
      "cell_type": "code",
      "metadata": {
        "id": "Lm9X3Umqnq2E"
      },
      "source": [
        "sdg1 = SGDClassifier(loss='log')\n",
        "sdg1.fit(X1_train, y1_train)\n",
        "y_preds1 =sdg1.predict(X1_test)"
      ],
      "execution_count": 22,
      "outputs": []
    },
    {
      "cell_type": "code",
      "metadata": {
        "colab": {
          "base_uri": "https://localhost:8080/"
        },
        "id": "LBRuVTXHoCJe",
        "outputId": "9401161c-fcef-4773-8c0d-030d1b8ea10f"
      },
      "source": [
        "y_preds1 "
      ],
      "execution_count": 23,
      "outputs": [
        {
          "output_type": "execute_result",
          "data": {
            "text/plain": [
              "array([1, 1, 2, 1, 1, 2, 2, 1, 2, 2, 2, 1, 1, 1, 1, 2, 2, 2, 1, 1])"
            ]
          },
          "metadata": {},
          "execution_count": 23
        }
      ]
    },
    {
      "cell_type": "code",
      "metadata": {
        "colab": {
          "base_uri": "https://localhost:8080/"
        },
        "id": "TxUcjVxzoGpT",
        "outputId": "7e9f6061-b4a1-4d17-9948-a63f2c88d393"
      },
      "source": [
        "sdg1.score(X1_test, y1_test) "
      ],
      "execution_count": 24,
      "outputs": [
        {
          "output_type": "execute_result",
          "data": {
            "text/plain": [
              "0.95"
            ]
          },
          "metadata": {},
          "execution_count": 24
        }
      ]
    },
    {
      "cell_type": "markdown",
      "metadata": {
        "id": "71KbiqgAoNmb"
      },
      "source": [
        "DataSet 1"
      ]
    },
    {
      "cell_type": "code",
      "metadata": {
        "id": "dH_UBnqYoQG4"
      },
      "source": [
        "sgd2 = SGDClassifier(loss='log')\n",
        "sgd2.fit(X2_train, y2_train)\n",
        "y_preds2 = sgd2.predict(X2_test)"
      ],
      "execution_count": 25,
      "outputs": []
    },
    {
      "cell_type": "code",
      "metadata": {
        "colab": {
          "base_uri": "https://localhost:8080/"
        },
        "id": "L-NY8kkPoVS5",
        "outputId": "4a467765-0bc6-413b-88fa-1ad23c7ed947"
      },
      "source": [
        "y_preds2"
      ],
      "execution_count": 26,
      "outputs": [
        {
          "output_type": "execute_result",
          "data": {
            "text/plain": [
              "array([-1, -1,  1,  1,  1, -1, -1, -1,  1,  1,  1, -1, -1, -1,  1,  1,  1,\n",
              "        1,  1, -1,  1,  1,  1,  1,  1, -1, -1,  1,  1, -1,  1,  1, -1, -1,\n",
              "        1, -1, -1, -1, -1,  1, -1,  1,  1, -1, -1,  1,  1,  1, -1, -1,  1,\n",
              "       -1, -1, -1,  1, -1,  1, -1, -1, -1, -1, -1,  1, -1,  1, -1, -1, -1,\n",
              "       -1,  1,  1, -1, -1, -1, -1, -1, -1,  1, -1, -1, -1, -1, -1,  1, -1,\n",
              "       -1,  1,  1,  1, -1,  1, -1, -1, -1,  1,  1, -1,  1,  1, -1])"
            ]
          },
          "metadata": {},
          "execution_count": 26
        }
      ]
    },
    {
      "cell_type": "code",
      "metadata": {
        "colab": {
          "base_uri": "https://localhost:8080/"
        },
        "id": "X14FVu5qoYL7",
        "outputId": "7d598dc0-bd1f-408a-d3dd-a42151ba96d6"
      },
      "source": [
        "sgd2.score(X2_test, y2_test)"
      ],
      "execution_count": 27,
      "outputs": [
        {
          "output_type": "execute_result",
          "data": {
            "text/plain": [
              "1.0"
            ]
          },
          "metadata": {},
          "execution_count": 27
        }
      ]
    },
    {
      "cell_type": "markdown",
      "metadata": {
        "id": "_z0iN1F3odCf"
      },
      "source": [
        "DataSet 2"
      ]
    },
    {
      "cell_type": "code",
      "metadata": {
        "id": "BfZi_Wblohl3"
      },
      "source": [
        "sgd3 = SGDClassifier(loss='log')\n",
        "sgd3.fit(X3_train, y3_train)\n",
        "y_preds3 = sgd3.predict(X3_test)"
      ],
      "execution_count": 28,
      "outputs": []
    },
    {
      "cell_type": "code",
      "metadata": {
        "colab": {
          "base_uri": "https://localhost:8080/"
        },
        "id": "JR2n5iSrokwN",
        "outputId": "d73279a4-ca08-45dd-bc51-6b5507b8fa71"
      },
      "source": [
        "y_preds3"
      ],
      "execution_count": 29,
      "outputs": [
        {
          "output_type": "execute_result",
          "data": {
            "text/plain": [
              "array([0, 1, 0, 0, 0, 1, 0, 0])"
            ]
          },
          "metadata": {},
          "execution_count": 29
        }
      ]
    },
    {
      "cell_type": "code",
      "metadata": {
        "colab": {
          "base_uri": "https://localhost:8080/"
        },
        "id": "GRWL2FzBopmf",
        "outputId": "2e1d7392-c866-4aad-f970-4e505f9d2a60"
      },
      "source": [
        "sgd3.score(X3_test, y3_test)"
      ],
      "execution_count": 30,
      "outputs": [
        {
          "output_type": "execute_result",
          "data": {
            "text/plain": [
              "0.875"
            ]
          },
          "metadata": {},
          "execution_count": 30
        }
      ]
    },
    {
      "cell_type": "markdown",
      "metadata": {
        "id": "4zabBXFEovE0"
      },
      "source": [
        "SVM\n",
        "\n",
        "\n",
        "Iris DataSet\n",
        "\n",
        "\n"
      ]
    },
    {
      "cell_type": "code",
      "metadata": {
        "id": "T0dRv5S5o8Q0"
      },
      "source": [
        "svc1 = SVC()\n",
        "svc1.fit(X1_train, y1_train)\n",
        "y_preds4 = svc1.predict(X1_test)"
      ],
      "execution_count": 31,
      "outputs": []
    },
    {
      "cell_type": "code",
      "metadata": {
        "colab": {
          "base_uri": "https://localhost:8080/"
        },
        "id": "yyandzHPp-b_",
        "outputId": "2473fb02-7481-4fa6-ae9f-7f328d0f35cd"
      },
      "source": [
        "svc1.score(X1_test, y1_test)"
      ],
      "execution_count": 32,
      "outputs": [
        {
          "output_type": "execute_result",
          "data": {
            "text/plain": [
              "0.95"
            ]
          },
          "metadata": {},
          "execution_count": 32
        }
      ]
    },
    {
      "cell_type": "markdown",
      "metadata": {
        "id": "sjfIgT0oqCZk"
      },
      "source": [
        "DataSet 1"
      ]
    },
    {
      "cell_type": "code",
      "metadata": {
        "id": "f8Ro3f7vqEm8"
      },
      "source": [
        "svc2 = SVC()\n",
        "svc2.fit(X2_train, y2_train)\n",
        "y_preds5 = svc2.predict(X2_test)"
      ],
      "execution_count": 33,
      "outputs": []
    },
    {
      "cell_type": "code",
      "metadata": {
        "colab": {
          "base_uri": "https://localhost:8080/"
        },
        "id": "wep563puqIDL",
        "outputId": "194d01a8-f1ea-43f8-adb6-f9a5ce4d2dc4"
      },
      "source": [
        "svc2.score(X2_test, y2_test)"
      ],
      "execution_count": 34,
      "outputs": [
        {
          "output_type": "execute_result",
          "data": {
            "text/plain": [
              "1.0"
            ]
          },
          "metadata": {},
          "execution_count": 34
        }
      ]
    },
    {
      "cell_type": "markdown",
      "metadata": {
        "id": "PMBJIsTlqJrF"
      },
      "source": [
        "Decision Tree\n",
        "\n",
        "\n",
        "Iris DataSet\n",
        "\n"
      ]
    },
    {
      "cell_type": "code",
      "metadata": {
        "id": "wwlmjMNoqQar"
      },
      "source": [
        "dt1 = DecisionTreeClassifier()\n",
        "dt1.fit(X1_train, y1_train)\n",
        "y_preds7 = dt1.predict(X1_test)"
      ],
      "execution_count": 35,
      "outputs": []
    },
    {
      "cell_type": "code",
      "metadata": {
        "colab": {
          "base_uri": "https://localhost:8080/"
        },
        "id": "KMNKBneFrFmD",
        "outputId": "227a6eb0-77b6-4191-9905-ebad80108a52"
      },
      "source": [
        "dt1.score(X1_test, y1_test)"
      ],
      "execution_count": 36,
      "outputs": [
        {
          "output_type": "execute_result",
          "data": {
            "text/plain": [
              "0.9"
            ]
          },
          "metadata": {},
          "execution_count": 36
        }
      ]
    },
    {
      "cell_type": "markdown",
      "metadata": {
        "id": "rxWEE48prIFC"
      },
      "source": [
        "DataSet 1"
      ]
    },
    {
      "cell_type": "code",
      "metadata": {
        "id": "7uqmrq9rrLvp"
      },
      "source": [
        "dt2 = DecisionTreeClassifier()\n",
        "dt2.fit(X2_train, y2_train)\n",
        "y_preds8 = dt2.predict(X2_test)"
      ],
      "execution_count": 37,
      "outputs": []
    },
    {
      "cell_type": "code",
      "metadata": {
        "colab": {
          "base_uri": "https://localhost:8080/"
        },
        "id": "enWnTLh1rPiI",
        "outputId": "88f2b435-5176-4f2f-8c68-af68103489a4"
      },
      "source": [
        "dt2.score(X2_test, y2_test)"
      ],
      "execution_count": 38,
      "outputs": [
        {
          "output_type": "execute_result",
          "data": {
            "text/plain": [
              "1.0"
            ]
          },
          "metadata": {},
          "execution_count": 38
        }
      ]
    },
    {
      "cell_type": "markdown",
      "metadata": {
        "id": "P2fXqRCBsKxu"
      },
      "source": [
        "DataSet 2"
      ]
    },
    {
      "cell_type": "code",
      "metadata": {
        "id": "QUekU0QzsNAf"
      },
      "source": [
        "dt3 = DecisionTreeClassifier()\n",
        "dt3.fit(X3_train, y3_train)\n",
        "y_preds9 = dt3.predict(X3_test)"
      ],
      "execution_count": 39,
      "outputs": []
    },
    {
      "cell_type": "code",
      "metadata": {
        "colab": {
          "base_uri": "https://localhost:8080/"
        },
        "id": "OnosBbvbsnOF",
        "outputId": "e3d5a4a5-a438-4120-ff12-468a86b6e892"
      },
      "source": [
        "dt3.score(X3_test, y3_test)"
      ],
      "execution_count": 40,
      "outputs": [
        {
          "output_type": "execute_result",
          "data": {
            "text/plain": [
              "1.0"
            ]
          },
          "metadata": {},
          "execution_count": 40
        }
      ]
    },
    {
      "cell_type": "markdown",
      "metadata": {
        "id": "UCcUmQS1so6S"
      },
      "source": [
        "## [Problem 3] Creating a code to solve the regression problem"
      ]
    },
    {
      "cell_type": "code",
      "metadata": {
        "colab": {
          "base_uri": "https://localhost:8080/"
        },
        "id": "nxlq8MIcsuK9",
        "outputId": "46cffba4-cdf7-4ad0-b250-2f7966d0cee1"
      },
      "source": [
        "trains = pd.read_csv('/content/drive/MyDrive/Train dataset/train.csv')\n",
        "X4 = trains.loc[:,['GrLivArea', 'YearBuilt']]\n",
        "y4 = trains.loc[:, 'SalePrice']\n",
        "\n",
        "X4 = X4.to_numpy()\n",
        "y4 = y4.to_numpy()\n",
        "\n",
        "X4.shape, y4.shape"
      ],
      "execution_count": 41,
      "outputs": [
        {
          "output_type": "execute_result",
          "data": {
            "text/plain": [
              "((1460, 2), (1460,))"
            ]
          },
          "metadata": {},
          "execution_count": 41
        }
      ]
    },
    {
      "cell_type": "code",
      "metadata": {
        "id": "lFW-O_o2s7yL"
      },
      "source": [
        "X4_train, X4_test, y4_train, y4_test = scratch_train_test_split(X4, y4, train_size=0.8)\n",
        "from sklearn.preprocessing import StandardScaler\n",
        "scaler = StandardScaler()\n",
        "\n",
        "scaler.fit(X4_train)\n",
        "X4_train = scaler.transform(X4_train)\n",
        "X4_test = scaler.transform(X4_test)"
      ],
      "execution_count": 42,
      "outputs": []
    },
    {
      "cell_type": "markdown",
      "metadata": {
        "id": "WOX6iR8As9Su"
      },
      "source": [
        "SGD"
      ]
    },
    {
      "cell_type": "code",
      "metadata": {
        "id": "KNGZ0C2ZtHW0"
      },
      "source": [
        "reg1 = SGDRegressor()\n",
        "reg1.fit(X4_train, y4_train)\n",
        "y_preds10 = reg1.predict(X4_test)"
      ],
      "execution_count": 43,
      "outputs": []
    },
    {
      "cell_type": "code",
      "metadata": {
        "colab": {
          "base_uri": "https://localhost:8080/"
        },
        "id": "iKSXxoOitWKT",
        "outputId": "0e99ef87-3ea5-44a2-ad96-273b5bebd982"
      },
      "source": [
        "reg1.score(X4_test, y4_test)"
      ],
      "execution_count": 44,
      "outputs": [
        {
          "output_type": "execute_result",
          "data": {
            "text/plain": [
              "0.6499209662086336"
            ]
          },
          "metadata": {},
          "execution_count": 44
        }
      ]
    },
    {
      "cell_type": "code",
      "metadata": {
        "colab": {
          "base_uri": "https://localhost:8080/"
        },
        "id": "nes7wpeHtZ7Y",
        "outputId": "d49ca364-94a5-4671-9936-6c0220a7a344"
      },
      "source": [
        "from sklearn.metrics import mean_squared_error\n",
        "\n",
        "mse1 = mean_squared_error(y4_test, y_preds10)\n",
        "print('MSE SGD: {:,.3f}'.format(mse1))"
      ],
      "execution_count": 45,
      "outputs": [
        {
          "output_type": "stream",
          "name": "stdout",
          "text": [
            "MSE SGD: 1,724,280,326.017\n"
          ]
        }
      ]
    },
    {
      "cell_type": "markdown",
      "metadata": {
        "id": "Qp5As49utwqv"
      },
      "source": [
        "SVM"
      ]
    },
    {
      "cell_type": "code",
      "metadata": {
        "id": "0Y09OdmStya6"
      },
      "source": [
        "from sklearn.svm import SVR\n",
        "\n",
        "reg2 = SVR()\n",
        "reg2.fit(X4_train, y4_train)\n",
        "y_preds11 = reg2.predict(X4_test)"
      ],
      "execution_count": 46,
      "outputs": []
    },
    {
      "cell_type": "code",
      "metadata": {
        "colab": {
          "base_uri": "https://localhost:8080/"
        },
        "id": "QW03L8Chui33",
        "outputId": "54537824-162b-497d-a253-cade40ffbed3"
      },
      "source": [
        "reg2.score(X4_test, y4_test)"
      ],
      "execution_count": 47,
      "outputs": [
        {
          "output_type": "execute_result",
          "data": {
            "text/plain": [
              "-0.003402281129969209"
            ]
          },
          "metadata": {},
          "execution_count": 47
        }
      ]
    },
    {
      "cell_type": "code",
      "metadata": {
        "colab": {
          "base_uri": "https://localhost:8080/"
        },
        "id": "OCgm1V2WulpX",
        "outputId": "9689ccb3-97d3-414d-947c-29685380b986"
      },
      "source": [
        "mse2 = mean_squared_error(y4_test, y_preds11)\n",
        "print('MSE SGD: {:,.3f}'.format(mse2))"
      ],
      "execution_count": 48,
      "outputs": [
        {
          "output_type": "stream",
          "name": "stdout",
          "text": [
            "MSE SGD: 4,942,160,613.549\n"
          ]
        }
      ]
    },
    {
      "cell_type": "markdown",
      "metadata": {
        "id": "R-7rh5Mzuoj0"
      },
      "source": [
        "DecisionTree"
      ]
    },
    {
      "cell_type": "code",
      "metadata": {
        "id": "VcgIC7IburSK"
      },
      "source": [
        "reg3 = DecisionTreeClassifier()\n",
        "reg3.fit(X4_train, y4_train)\n",
        "y_preds12 = reg3.predict(X4_test)"
      ],
      "execution_count": 49,
      "outputs": []
    },
    {
      "cell_type": "code",
      "metadata": {
        "colab": {
          "base_uri": "https://localhost:8080/"
        },
        "id": "F_KyIcp2uwzr",
        "outputId": "f9c2c5fc-17b6-49e4-9367-a9d4e7d63d09"
      },
      "source": [
        "reg3.score(X4_test, y4_test)"
      ],
      "execution_count": 50,
      "outputs": [
        {
          "output_type": "execute_result",
          "data": {
            "text/plain": [
              "0.00684931506849315"
            ]
          },
          "metadata": {},
          "execution_count": 50
        }
      ]
    },
    {
      "cell_type": "code",
      "metadata": {
        "colab": {
          "base_uri": "https://localhost:8080/"
        },
        "id": "_WVY6qIau1ZN",
        "outputId": "49ec7b60-2171-4c0e-8479-21ad09972f09"
      },
      "source": [
        "mse3 = mean_squared_error(y4_test, y_preds12)\n",
        "print('MSE SGD: {:,.3f}'.format(mse3))"
      ],
      "execution_count": 51,
      "outputs": [
        {
          "output_type": "stream",
          "name": "stdout",
          "text": [
            "MSE SGD: 2,728,788,757.257\n"
          ]
        }
      ]
    }
  ]
}