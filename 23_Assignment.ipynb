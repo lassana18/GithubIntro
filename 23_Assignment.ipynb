{
  "nbformat": 4,
  "nbformat_minor": 0,
  "metadata": {
    "colab": {
      "name": "23 Assignment.ipynb",
      "provenance": [],
      "collapsed_sections": [],
      "mount_file_id": "1GAe0rQRwzGOcR4jm8E4dFAJTqHXvZQBn",
      "authorship_tag": "ABX9TyNUADp/4ZLwWkBTiMaleZhi",
      "include_colab_link": true
    },
    "kernelspec": {
      "name": "python3",
      "display_name": "Python 3"
    },
    "language_info": {
      "name": "python"
    }
  },
  "cells": [
    {
      "cell_type": "markdown",
      "metadata": {
        "id": "view-in-github",
        "colab_type": "text"
      },
      "source": [
        "<a href=\"https://colab.research.google.com/github/pafernannapi18/GithubIntro/blob/main/23_Assignment.ipynb\" target=\"_parent\"><img src=\"https://colab.research.google.com/assets/colab-badge.svg\" alt=\"Open In Colab\"/></a>"
      ]
    },
    {
      "cell_type": "code",
      "metadata": {
        "id": "Uqodmn5qEiDE"
      },
      "source": [
        "# import the dependencies\n",
        "import numpy as np\n",
        "import scipy.stats as stats\n",
        "from sklearn.datasets import load_iris\n",
        "from sklearn.model_selection import train_test_split\n",
        "from sklearn.neighbors import KNeighborsClassifier\n",
        "from sklearn.metrics import confusion_matrix\n",
        "from sklearn.metrics import precision_score\n",
        "from sklearn.metrics import recall_score\n",
        "from sklearn.metrics import f1_score\n",
        "import matplotlib.pyplot as plt\n",
        "from matplotlib.colors import ListedColormap\n",
        "import matplotlib.patches as mpatches"
      ],
      "execution_count": 1,
      "outputs": []
    },
    {
      "cell_type": "code",
      "metadata": {
        "id": "vDgIPkT5FcsI"
      },
      "source": [
        "def gini_impurity(n_t, c_n):\n",
        "  a = 0\n",
        "  for i in c_n:\n",
        "    a += (i/n_t)**2\n",
        "  gini = 1-a\n",
        "  return gini"
      ],
      "execution_count": 2,
      "outputs": []
    },
    {
      "cell_type": "code",
      "metadata": {
        "colab": {
          "base_uri": "https://localhost:8080/"
        },
        "id": "1n4kFL09FgEP",
        "outputId": "7816fc45-8d17-40c6-a18a-466952321eb5"
      },
      "source": [
        "gini_impurity(30, [15.0, 15.0])"
      ],
      "execution_count": 3,
      "outputs": [
        {
          "output_type": "execute_result",
          "data": {
            "text/plain": [
              "0.5"
            ]
          },
          "metadata": {},
          "execution_count": 3
        }
      ]
    },
    {
      "cell_type": "code",
      "metadata": {
        "colab": {
          "base_uri": "https://localhost:8080/"
        },
        "id": "CAWFN_aRFj3B",
        "outputId": "774377d4-2970-4c18-89f4-b4d9204b0caa"
      },
      "source": [
        "gini_impurity(45, [15, 15, 15])"
      ],
      "execution_count": 4,
      "outputs": [
        {
          "output_type": "execute_result",
          "data": {
            "text/plain": [
              "0.6666666666666667"
            ]
          },
          "metadata": {},
          "execution_count": 4
        }
      ]
    },
    {
      "cell_type": "code",
      "metadata": {
        "colab": {
          "base_uri": "https://localhost:8080/"
        },
        "id": "zZQ2kisTFlIj",
        "outputId": "2c15e65e-af6d-49db-8130-aefeb4621703"
      },
      "source": [
        "gini_impurity(30, [18, 12])"
      ],
      "execution_count": 5,
      "outputs": [
        {
          "output_type": "execute_result",
          "data": {
            "text/plain": [
              "0.48"
            ]
          },
          "metadata": {},
          "execution_count": 5
        }
      ]
    },
    {
      "cell_type": "code",
      "metadata": {
        "colab": {
          "base_uri": "https://localhost:8080/"
        },
        "id": "k33p8gecFqDE",
        "outputId": "49535552-74f4-4d2c-af77-1389bd08ae43"
      },
      "source": [
        "gini_impurity(30, [30, 0])"
      ],
      "execution_count": 6,
      "outputs": [
        {
          "output_type": "execute_result",
          "data": {
            "text/plain": [
              "0.0"
            ]
          },
          "metadata": {},
          "execution_count": 6
        }
      ]
    },
    {
      "cell_type": "code",
      "metadata": {
        "id": "vl6Ku3UQFu1z"
      },
      "source": [
        "def information_gain(ln_class, rn_class):\n",
        "  n1 = sum(ln_class)\n",
        "  n2 = sum(rn_class)\n",
        "  p_sample = n1 + n2\n",
        "  p_class = ln_class + rn_class\n",
        "  p_gini = gini_impurity(p_sample, p_class)\n",
        "  gini_n1 = gini_impurity(n1, ln_class)\n",
        "  gini_n2 = gini_impurity(n2, rn_class)\n",
        "  IG = p_gini- ((n1/p_sample)*gini_n1) - ((n2/p_sample)*gini_n2) \n",
        "  return IG"
      ],
      "execution_count": 7,
      "outputs": []
    },
    {
      "cell_type": "code",
      "metadata": {
        "colab": {
          "base_uri": "https://localhost:8080/"
        },
        "id": "c8GLmEqpFyug",
        "outputId": "b7a3ce12-267e-4a95-838d-104b3c8eb9a5"
      },
      "source": [
        "information_gain(np.array([10,30]), np.array([20,5]))"
      ],
      "execution_count": 8,
      "outputs": [
        {
          "output_type": "execute_result",
          "data": {
            "text/plain": [
              "0.14319526627218937"
            ]
          },
          "metadata": {},
          "execution_count": 8
        }
      ]
    },
    {
      "cell_type": "markdown",
      "metadata": {
        "id": "_8towOgeF275"
      },
      "source": [
        "## Decission Tree From Scratch"
      ]
    },
    {
      "cell_type": "code",
      "metadata": {
        "id": "M1sWURbUF5B_"
      },
      "source": [
        "class ScratchDecesionTreeClassifier():\n",
        "  def _gini_impurity(self, X, y):\n",
        "    a = 0 \n",
        "    for i in np.unique(y):\n",
        "      a += (len(y[y[:, 0]==i]) / len(X)) ** 2 \n",
        "    self.gini = 1 - a\n",
        "    return self.gini\n",
        "\n",
        "  def _info_gain(self, X, y):\n",
        "    n = len(X)\n",
        "    IG = self._gini_impurity(X, y) - len(self.X_left) / n * self._gini_impurity(\n",
        "        self.X_left, self.y_left) - len(self.X_right) / n * self._gini_impurity(\n",
        "            self.X_right, self.y_right)\n",
        "    return IG \n",
        "  def fit(self, X, y):\n",
        "    self.list_info_gain_max = []\n",
        "    self.threshold_max = []\n",
        "\n",
        "    for i in range(X.shape[1]):\n",
        "      self.list_info_gain = []\n",
        "      self.Threshold = []\n",
        "\n",
        "      for j in np.unique(X[:,i]):\n",
        "        self.Threshold.append(j)\n",
        "        self.X_right = X[X[:,i] >= j]\n",
        "        self.y_right = y[X[:,i] >= j] \n",
        "        self.X_left = X[X[:,i] < j]\n",
        "        self.y_left = y[X[:,i] < j]\n",
        "        self.list_info_gain.append(self._info_gain(X, y))\n",
        "\n",
        "      self.list_info_gain_max.append(max(self.list_info_gain))\n",
        "      self.ind = self.list_info_gain.index(max(self.list_info_gain))\n",
        "      self.threshold_max.append(self.Threshold[self.ind])\n",
        "\n",
        "    self.ind2 = self.list_info_gain_max.index(max(self.list_info_gain_max))\n",
        "    self.decision_threshold = self.threshold_max[self.ind2]\n",
        "    self.Greater_label = stats.mode(y[X[: , self.ind2] >= self.decision_threshold]).mode\n",
        "    self.Less_label = stats.mode(y[X[: , self.ind2] < self.decision_threshold]).mode\n",
        "\n",
        "  def predict(self,X):\n",
        "    self.y_pred = np.zeros(X.shape[0]).reshape(X.shape[0], 1)\n",
        "    self.y_pred[X[:, self.ind2] >= self.decision_threshold] = self.Greater_label\n",
        "    self.y_pred[X[:, self.ind2] < self.decision_threshold] = self.Less_label\n",
        "    return self.y_pred  "
      ],
      "execution_count": 9,
      "outputs": []
    },
    {
      "cell_type": "markdown",
      "metadata": {
        "id": "ZGpqymB8G8HB"
      },
      "source": [
        "## Predict Function"
      ]
    },
    {
      "cell_type": "code",
      "metadata": {
        "id": "iEgFUoVtG_Fc"
      },
      "source": [
        "def information_gain(ln_class, rn_class):\n",
        "  n1 = sum(ln_class)\n",
        "  n2 = sum(rn_class)\n",
        "  p_sample = n1 + n2 \n",
        "  p_class = ln_class + rn_class"
      ],
      "execution_count": 10,
      "outputs": []
    },
    {
      "cell_type": "code",
      "metadata": {
        "colab": {
          "base_uri": "https://localhost:8080/"
        },
        "id": "oJNoGD6tHFjj",
        "outputId": "ed103732-cd58-4a91-bdfb-99e518b56471"
      },
      "source": [
        "iris = load_iris()\n",
        "X = iris.data[50:,:]\n",
        "y = iris.target[50:]\n",
        "X = X[:, [2,3]]\n",
        "y = np.where(y == 1, 1, 0)\n",
        "y = y.reshape(100, 1)\n",
        "iris = np.hstack((y, X))\n",
        "np.unique(iris[:,0])"
      ],
      "execution_count": 11,
      "outputs": [
        {
          "output_type": "execute_result",
          "data": {
            "text/plain": [
              "array([0., 1.])"
            ]
          },
          "metadata": {},
          "execution_count": 11
        }
      ]
    },
    {
      "cell_type": "code",
      "metadata": {
        "id": "cOnm-B-RHJFN"
      },
      "source": [
        "ScDT = ScratchDecesionTreeClassifier()\n",
        "ScDT.fit(X, y)"
      ],
      "execution_count": 12,
      "outputs": []
    },
    {
      "cell_type": "code",
      "metadata": {
        "colab": {
          "base_uri": "https://localhost:8080/"
        },
        "id": "VxjKKaNIL8Vv",
        "outputId": "cc1fdc42-d383-4de1-b26e-66ff42c1a9a9"
      },
      "source": [
        "ScDT.predict(X)"
      ],
      "execution_count": 13,
      "outputs": [
        {
          "output_type": "execute_result",
          "data": {
            "text/plain": [
              "array([[1.],\n",
              "       [1.],\n",
              "       [1.],\n",
              "       [1.],\n",
              "       [1.],\n",
              "       [1.],\n",
              "       [1.],\n",
              "       [1.],\n",
              "       [1.],\n",
              "       [1.],\n",
              "       [1.],\n",
              "       [1.],\n",
              "       [1.],\n",
              "       [1.],\n",
              "       [1.],\n",
              "       [1.],\n",
              "       [1.],\n",
              "       [1.],\n",
              "       [1.],\n",
              "       [1.],\n",
              "       [0.],\n",
              "       [1.],\n",
              "       [1.],\n",
              "       [1.],\n",
              "       [1.],\n",
              "       [1.],\n",
              "       [1.],\n",
              "       [1.],\n",
              "       [1.],\n",
              "       [1.],\n",
              "       [1.],\n",
              "       [1.],\n",
              "       [1.],\n",
              "       [1.],\n",
              "       [1.],\n",
              "       [1.],\n",
              "       [1.],\n",
              "       [1.],\n",
              "       [1.],\n",
              "       [1.],\n",
              "       [1.],\n",
              "       [1.],\n",
              "       [1.],\n",
              "       [1.],\n",
              "       [1.],\n",
              "       [1.],\n",
              "       [1.],\n",
              "       [1.],\n",
              "       [1.],\n",
              "       [1.],\n",
              "       [0.],\n",
              "       [0.],\n",
              "       [0.],\n",
              "       [0.],\n",
              "       [0.],\n",
              "       [0.],\n",
              "       [1.],\n",
              "       [0.],\n",
              "       [0.],\n",
              "       [0.],\n",
              "       [0.],\n",
              "       [0.],\n",
              "       [0.],\n",
              "       [0.],\n",
              "       [0.],\n",
              "       [0.],\n",
              "       [0.],\n",
              "       [0.],\n",
              "       [0.],\n",
              "       [1.],\n",
              "       [0.],\n",
              "       [0.],\n",
              "       [0.],\n",
              "       [0.],\n",
              "       [0.],\n",
              "       [0.],\n",
              "       [0.],\n",
              "       [0.],\n",
              "       [0.],\n",
              "       [1.],\n",
              "       [0.],\n",
              "       [0.],\n",
              "       [0.],\n",
              "       [1.],\n",
              "       [1.],\n",
              "       [0.],\n",
              "       [0.],\n",
              "       [0.],\n",
              "       [0.],\n",
              "       [0.],\n",
              "       [0.],\n",
              "       [0.],\n",
              "       [0.],\n",
              "       [0.],\n",
              "       [0.],\n",
              "       [0.],\n",
              "       [0.],\n",
              "       [0.],\n",
              "       [0.],\n",
              "       [0.]])"
            ]
          },
          "metadata": {},
          "execution_count": 13
        }
      ]
    },
    {
      "cell_type": "code",
      "metadata": {
        "id": "G1ev6oJKMBv9"
      },
      "source": [
        "(X_train, X_test, y_train, y_test) = train_test_split(X, y, test_size=0.3, random_state=0)\n",
        "ScDT = ScratchDecesionTreeClassifier()\n",
        "ScDT.fit(X_train, y_train)\n",
        "y_pred = ScDT.predict(X_test)"
      ],
      "execution_count": 14,
      "outputs": []
    },
    {
      "cell_type": "code",
      "metadata": {
        "colab": {
          "base_uri": "https://localhost:8080/"
        },
        "id": "SmA0bjBPMEZP",
        "outputId": "b3237489-2330-413e-a246-199b7633bcb4"
      },
      "source": [
        "print(\"{}\".format(precision_score(y_test, y_pred)))\n",
        "print(\"{}\".format(recall_score(y_test, y_pred)))\n",
        "print(\"{}\".format(f1_score(y_test, y_pred)))\n",
        "print(confusion_matrix(y_test, y_pred))"
      ],
      "execution_count": 15,
      "outputs": [
        {
          "output_type": "stream",
          "name": "stdout",
          "text": [
            "1.0\n",
            "0.7333333333333333\n",
            "0.846153846153846\n",
            "[[15  0]\n",
            " [ 4 11]]\n"
          ]
        }
      ]
    },
    {
      "cell_type": "markdown",
      "metadata": {
        "id": "KMSMS2lvMG4j"
      },
      "source": [
        "## Decision region"
      ]
    },
    {
      "cell_type": "code",
      "metadata": {
        "id": "IQSGosXOMI6z"
      },
      "source": [
        "def decision_region(X, y, model, step=0.01, title='decision tree', xlabel='xlabel', ylabel='ylabel', target_names=['versicolor','virginica']):\n",
        "  #setting\n",
        "  scatter_color = ['red', 'blue']\n",
        "  contourf_color = ['pink', 'skyblue']\n",
        "  n_class = 2\n",
        "  # pred\n",
        "  mesh_f0, mesh_f1 = np.meshgrid(np.arange(np.min(X[:,0])-0.5, np.max(X[:,0])+0.5, step), np.arange(np.min(X[:,1])-0.5, np.max(X[:,1])+0.5, step))\n",
        "  mesh = np.c_[np.ravel(mesh_f0), np.ravel(mesh_f1)]\n",
        "  y_pred = model.predict(mesh).reshape(mesh_f0.shape)\n",
        "\n",
        "  #plot\n",
        "  plt.title(title)\n",
        "  plt.xlabel(xlabel)\n",
        "  plt.ylabel(ylabel)\n",
        "  plt.contourf(mesh_f0, mesh_f1, y_pred, n_class-1, cmap=ListedColormap(contourf_color))\n",
        "  plt.contour(mesh_f0, mesh_f1, y_pred, n_class-1, colors ='y', linewidth =3, alpa =0.5)\n",
        "  for i, target in enumerate(set(y)):\n",
        "    plt.scatter(X[y==target][:, 0], X[y==target][:,1], s=80, color = scatter_color[i], label=target_names[i], marker='o')\n",
        "  patches = [mpatches.Patch(color=scatter_color[i], label = target_names[i]) for i in range(n_class)]\n",
        "  plt.legend(handles=patches)\n",
        "  plt.legend()\n",
        "  plt.show()"
      ],
      "execution_count": 16,
      "outputs": []
    },
    {
      "cell_type": "code",
      "metadata": {
        "colab": {
          "base_uri": "https://localhost:8080/",
          "height": 329
        },
        "id": "DGtGEN9lMYCj",
        "outputId": "2457c213-8cd2-43e8-f302-00913d4bf4f7"
      },
      "source": [
        "decision_region(X = X, y= y[:,0], model = ScDT, step = 0.01, title='Decision_tree', xlabel='xlabel', ylabel = 'ylabel')"
      ],
      "execution_count": 17,
      "outputs": [
        {
          "output_type": "stream",
          "name": "stderr",
          "text": [
            "/usr/local/lib/python3.7/dist-packages/ipykernel_launcher.py:16: UserWarning: The following kwargs were not used by contour: 'linewidth', 'alpa'\n",
            "  app.launch_new_instance()\n"
          ]
        },
        {
          "output_type": "display_data",
          "data": {
            "image/png": "[encoded data removed]",
            "text/plain": [
              "<Figure size 432x288 with 1 Axes>"
            ]
          },
          "metadata": {
            "needs_background": "light"
          }
        }
      ]
    },
    {
      "cell_type": "code",
      "metadata": {
        "colab": {
          "base_uri": "https://localhost:8080/",
          "height": 329
        },
        "id": "mbuc8cUBMcnj",
        "outputId": "249275dd-1843-48ea-e7e7-b4293f4f1808"
      },
      "source": [
        "decision_region(X = X, y= y[:,0], model = ScDT, step = 0.01, title='Decision_tree', xlabel='xlabel', ylabel = 'ylabel')"
      ],
      "execution_count": 18,
      "outputs": [
        {
          "output_type": "stream",
          "name": "stderr",
          "text": [
            "/usr/local/lib/python3.7/dist-packages/ipykernel_launcher.py:16: UserWarning: The following kwargs were not used by contour: 'linewidth', 'alpa'\n",
            "  app.launch_new_instance()\n"
          ]
        },
        {
          "output_type": "display_data",
          "data": {
            "image/png": "[encoded data removed]",
            "text/plain": [
              "<Figure size 432x288 with 1 Axes>"
            ]
          },
          "metadata": {
            "needs_background": "light"
          }
        }
      ]
    }
  ]
}