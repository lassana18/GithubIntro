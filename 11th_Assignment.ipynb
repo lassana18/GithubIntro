{
  "nbformat": 4,
  "nbformat_minor": 0,
  "metadata": {
    "colab": {
      "name": "11th Assignment.ipynb",
      "provenance": [],
      "collapsed_sections": [],
      "authorship_tag": "ABX9TyN7c54wn3XgQa5G5z0+36Ky",
      "include_colab_link": true
    },
    "kernelspec": {
      "name": "python3",
      "display_name": "Python 3"
    },
    "language_info": {
      "name": "python"
    }
  },
  "cells": [
    {
      "cell_type": "markdown",
      "metadata": {
        "id": "view-in-github",
        "colab_type": "text"
      },
      "source": [
        "<a href=\"https://colab.research.google.com/github/pafernannapi18/GithubIntro/blob/main/11th_Assignment.ipynb\" target=\"_parent\"><img src=\"https://colab.research.google.com/assets/colab-badge.svg\" alt=\"Open In Colab\"/></a>"
      ]
    },
    {
      "cell_type": "code",
      "metadata": {
        "colab": {
          "base_uri": "https://localhost:8080/",
          "height": 204
        },
        "id": "BSRUAaHlp4ZC",
        "outputId": "6a7643b1-043a-443c-dd95-2eee401ef0c4"
      },
      "source": [
        "#Problem 1\n",
        "import pandas as pd\n",
        "import numpy as np\n",
        "from pandas import Series, DataFrame\n",
        "from sklearn.datasets import load_iris\n",
        "\n",
        "iris= load_iris()\n",
        "\n",
        "X = pd.DataFrame(iris.data, columns= iris.feature_names)\n",
        "X.head()\n",
        "y  = pd.DataFrame(iris.target, columns= (['species']))\n",
        "y.head()\n",
        "\n",
        "#df\n"
      ],
      "execution_count": 14,
      "outputs": [
        {
          "output_type": "execute_result",
          "data": {
            "text/html": [
              "<div>\n",
              "<style scoped>\n",
              "    .dataframe tbody tr th:only-of-type {\n",
              "        vertical-align: middle;\n",
              "    }\n",
              "\n",
              "    .dataframe tbody tr th {\n",
              "        vertical-align: top;\n",
              "    }\n",
              "\n",
              "    .dataframe thead th {\n",
              "        text-align: right;\n",
              "    }\n",
              "</style>\n",
              "<table border=\"1\" class=\"dataframe\">\n",
              "  <thead>\n",
              "    <tr style=\"text-align: right;\">\n",
              "      <th></th>\n",
              "      <th>species</th>\n",
              "    </tr>\n",
              "  </thead>\n",
              "  <tbody>\n",
              "    <tr>\n",
              "      <th>0</th>\n",
              "      <td>0</td>\n",
              "    </tr>\n",
              "    <tr>\n",
              "      <th>1</th>\n",
              "      <td>0</td>\n",
              "    </tr>\n",
              "    <tr>\n",
              "      <th>2</th>\n",
              "      <td>0</td>\n",
              "    </tr>\n",
              "    <tr>\n",
              "      <th>3</th>\n",
              "      <td>0</td>\n",
              "    </tr>\n",
              "    <tr>\n",
              "      <th>4</th>\n",
              "      <td>0</td>\n",
              "    </tr>\n",
              "  </tbody>\n",
              "</table>\n",
              "</div>"
            ],
            "text/plain": [
              "   species\n",
              "0        0\n",
              "1        0\n",
              "2        0\n",
              "3        0\n",
              "4        0"
            ]
          },
          "metadata": {},
          "execution_count": 14
        }
      ]
    },
    {
      "cell_type": "code",
      "metadata": {
        "colab": {
          "base_uri": "https://localhost:8080/",
          "height": 419
        },
        "id": "3djCzexIxiYC",
        "outputId": "a383f092-39cd-4934-b1c2-6f6ac5cf22b0"
      },
      "source": [
        "#Problem 2\n",
        "df = pd.concat([X, y], axis=1)\n",
        "df"
      ],
      "execution_count": 15,
      "outputs": [
        {
          "output_type": "execute_result",
          "data": {
            "text/html": [
              "<div>\n",
              "<style scoped>\n",
              "    .dataframe tbody tr th:only-of-type {\n",
              "        vertical-align: middle;\n",
              "    }\n",
              "\n",
              "    .dataframe tbody tr th {\n",
              "        vertical-align: top;\n",
              "    }\n",
              "\n",
              "    .dataframe thead th {\n",
              "        text-align: right;\n",
              "    }\n",
              "</style>\n",
              "<table border=\"1\" class=\"dataframe\">\n",
              "  <thead>\n",
              "    <tr style=\"text-align: right;\">\n",
              "      <th></th>\n",
              "      <th>sepal length (cm)</th>\n",
              "      <th>sepal width (cm)</th>\n",
              "      <th>petal length (cm)</th>\n",
              "      <th>petal width (cm)</th>\n",
              "      <th>species</th>\n",
              "    </tr>\n",
              "  </thead>\n",
              "  <tbody>\n",
              "    <tr>\n",
              "      <th>0</th>\n",
              "      <td>5.1</td>\n",
              "      <td>3.5</td>\n",
              "      <td>1.4</td>\n",
              "      <td>0.2</td>\n",
              "      <td>0</td>\n",
              "    </tr>\n",
              "    <tr>\n",
              "      <th>1</th>\n",
              "      <td>4.9</td>\n",
              "      <td>3.0</td>\n",
              "      <td>1.4</td>\n",
              "      <td>0.2</td>\n",
              "      <td>0</td>\n",
              "    </tr>\n",
              "    <tr>\n",
              "      <th>2</th>\n",
              "      <td>4.7</td>\n",
              "      <td>3.2</td>\n",
              "      <td>1.3</td>\n",
              "      <td>0.2</td>\n",
              "      <td>0</td>\n",
              "    </tr>\n",
              "    <tr>\n",
              "      <th>3</th>\n",
              "      <td>4.6</td>\n",
              "      <td>3.1</td>\n",
              "      <td>1.5</td>\n",
              "      <td>0.2</td>\n",
              "      <td>0</td>\n",
              "    </tr>\n",
              "    <tr>\n",
              "      <th>4</th>\n",
              "      <td>5.0</td>\n",
              "      <td>3.6</td>\n",
              "      <td>1.4</td>\n",
              "      <td>0.2</td>\n",
              "      <td>0</td>\n",
              "    </tr>\n",
              "    <tr>\n",
              "      <th>...</th>\n",
              "      <td>...</td>\n",
              "      <td>...</td>\n",
              "      <td>...</td>\n",
              "      <td>...</td>\n",
              "      <td>...</td>\n",
              "    </tr>\n",
              "    <tr>\n",
              "      <th>145</th>\n",
              "      <td>6.7</td>\n",
              "      <td>3.0</td>\n",
              "      <td>5.2</td>\n",
              "      <td>2.3</td>\n",
              "      <td>2</td>\n",
              "    </tr>\n",
              "    <tr>\n",
              "      <th>146</th>\n",
              "      <td>6.3</td>\n",
              "      <td>2.5</td>\n",
              "      <td>5.0</td>\n",
              "      <td>1.9</td>\n",
              "      <td>2</td>\n",
              "    </tr>\n",
              "    <tr>\n",
              "      <th>147</th>\n",
              "      <td>6.5</td>\n",
              "      <td>3.0</td>\n",
              "      <td>5.2</td>\n",
              "      <td>2.0</td>\n",
              "      <td>2</td>\n",
              "    </tr>\n",
              "    <tr>\n",
              "      <th>148</th>\n",
              "      <td>6.2</td>\n",
              "      <td>3.4</td>\n",
              "      <td>5.4</td>\n",
              "      <td>2.3</td>\n",
              "      <td>2</td>\n",
              "    </tr>\n",
              "    <tr>\n",
              "      <th>149</th>\n",
              "      <td>5.9</td>\n",
              "      <td>3.0</td>\n",
              "      <td>5.1</td>\n",
              "      <td>1.8</td>\n",
              "      <td>2</td>\n",
              "    </tr>\n",
              "  </tbody>\n",
              "</table>\n",
              "<p>150 rows × 5 columns</p>\n",
              "</div>"
            ],
            "text/plain": [
              "     sepal length (cm)  sepal width (cm)  ...  petal width (cm)  species\n",
              "0                  5.1               3.5  ...               0.2        0\n",
              "1                  4.9               3.0  ...               0.2        0\n",
              "2                  4.7               3.2  ...               0.2        0\n",
              "3                  4.6               3.1  ...               0.2        0\n",
              "4                  5.0               3.6  ...               0.2        0\n",
              "..                 ...               ...  ...               ...      ...\n",
              "145                6.7               3.0  ...               2.3        2\n",
              "146                6.3               2.5  ...               1.9        2\n",
              "147                6.5               3.0  ...               2.0        2\n",
              "148                6.2               3.4  ...               2.3        2\n",
              "149                5.9               3.0  ...               1.8        2\n",
              "\n",
              "[150 rows x 5 columns]"
            ]
          },
          "metadata": {},
          "execution_count": 15
        }
      ]
    },
    {
      "cell_type": "code",
      "metadata": {
        "colab": {
          "base_uri": "https://localhost:8080/",
          "height": 501
        },
        "id": "35LPjL7_1nEB",
        "outputId": "1b55b3de-493b-4a55-fa67-e8d8089ef054"
      },
      "source": [
        "#Problem 3 \n",
        "\n",
        "#Row location\n",
        "s = df.iloc[3]\n",
        "#print(s)\n",
        "\n",
        "#Columns informations\n",
        "t = df.info(verbose= True) # \n",
        "#print(t)\n",
        "\n",
        "#Missing values\n",
        "w = df.isna()\n",
        "#print(w)\n",
        "\n",
        "# Mean, Standard deviation, and quartiles  \n",
        "r = df.describe()\n",
        "r"
      ],
      "execution_count": 16,
      "outputs": [
        {
          "output_type": "stream",
          "name": "stdout",
          "text": [
            "<class 'pandas.core.frame.DataFrame'>\n",
            "RangeIndex: 150 entries, 0 to 149\n",
            "Data columns (total 5 columns):\n",
            " #   Column             Non-Null Count  Dtype  \n",
            "---  ------             --------------  -----  \n",
            " 0   sepal length (cm)  150 non-null    float64\n",
            " 1   sepal width (cm)   150 non-null    float64\n",
            " 2   petal length (cm)  150 non-null    float64\n",
            " 3   petal width (cm)   150 non-null    float64\n",
            " 4   species            150 non-null    int64  \n",
            "dtypes: float64(4), int64(1)\n",
            "memory usage: 6.0 KB\n"
          ]
        },
        {
          "output_type": "execute_result",
          "data": {
            "text/html": [
              "<div>\n",
              "<style scoped>\n",
              "    .dataframe tbody tr th:only-of-type {\n",
              "        vertical-align: middle;\n",
              "    }\n",
              "\n",
              "    .dataframe tbody tr th {\n",
              "        vertical-align: top;\n",
              "    }\n",
              "\n",
              "    .dataframe thead th {\n",
              "        text-align: right;\n",
              "    }\n",
              "</style>\n",
              "<table border=\"1\" class=\"dataframe\">\n",
              "  <thead>\n",
              "    <tr style=\"text-align: right;\">\n",
              "      <th></th>\n",
              "      <th>sepal length (cm)</th>\n",
              "      <th>sepal width (cm)</th>\n",
              "      <th>petal length (cm)</th>\n",
              "      <th>petal width (cm)</th>\n",
              "      <th>species</th>\n",
              "    </tr>\n",
              "  </thead>\n",
              "  <tbody>\n",
              "    <tr>\n",
              "      <th>count</th>\n",
              "      <td>150.000000</td>\n",
              "      <td>150.000000</td>\n",
              "      <td>150.000000</td>\n",
              "      <td>150.000000</td>\n",
              "      <td>150.000000</td>\n",
              "    </tr>\n",
              "    <tr>\n",
              "      <th>mean</th>\n",
              "      <td>5.843333</td>\n",
              "      <td>3.057333</td>\n",
              "      <td>3.758000</td>\n",
              "      <td>1.199333</td>\n",
              "      <td>1.000000</td>\n",
              "    </tr>\n",
              "    <tr>\n",
              "      <th>std</th>\n",
              "      <td>0.828066</td>\n",
              "      <td>0.435866</td>\n",
              "      <td>1.765298</td>\n",
              "      <td>0.762238</td>\n",
              "      <td>0.819232</td>\n",
              "    </tr>\n",
              "    <tr>\n",
              "      <th>min</th>\n",
              "      <td>4.300000</td>\n",
              "      <td>2.000000</td>\n",
              "      <td>1.000000</td>\n",
              "      <td>0.100000</td>\n",
              "      <td>0.000000</td>\n",
              "    </tr>\n",
              "    <tr>\n",
              "      <th>25%</th>\n",
              "      <td>5.100000</td>\n",
              "      <td>2.800000</td>\n",
              "      <td>1.600000</td>\n",
              "      <td>0.300000</td>\n",
              "      <td>0.000000</td>\n",
              "    </tr>\n",
              "    <tr>\n",
              "      <th>50%</th>\n",
              "      <td>5.800000</td>\n",
              "      <td>3.000000</td>\n",
              "      <td>4.350000</td>\n",
              "      <td>1.300000</td>\n",
              "      <td>1.000000</td>\n",
              "    </tr>\n",
              "    <tr>\n",
              "      <th>75%</th>\n",
              "      <td>6.400000</td>\n",
              "      <td>3.300000</td>\n",
              "      <td>5.100000</td>\n",
              "      <td>1.800000</td>\n",
              "      <td>2.000000</td>\n",
              "    </tr>\n",
              "    <tr>\n",
              "      <th>max</th>\n",
              "      <td>7.900000</td>\n",
              "      <td>4.400000</td>\n",
              "      <td>6.900000</td>\n",
              "      <td>2.500000</td>\n",
              "      <td>2.000000</td>\n",
              "    </tr>\n",
              "  </tbody>\n",
              "</table>\n",
              "</div>"
            ],
            "text/plain": [
              "       sepal length (cm)  sepal width (cm)  ...  petal width (cm)     species\n",
              "count         150.000000        150.000000  ...        150.000000  150.000000\n",
              "mean            5.843333          3.057333  ...          1.199333    1.000000\n",
              "std             0.828066          0.435866  ...          0.762238    0.819232\n",
              "min             4.300000          2.000000  ...          0.100000    0.000000\n",
              "25%             5.100000          2.800000  ...          0.300000    0.000000\n",
              "50%             5.800000          3.000000  ...          1.300000    1.000000\n",
              "75%             6.400000          3.300000  ...          1.800000    2.000000\n",
              "max             7.900000          4.400000  ...          2.500000    2.000000\n",
              "\n",
              "[8 rows x 5 columns]"
            ]
          },
          "metadata": {},
          "execution_count": 16
        }
      ]
    },
    {
      "cell_type": "code",
      "metadata": {
        "id": "TMvsz8jN-pCH"
      },
      "source": [
        "#Problem 4\n",
        "# The examination of the iris dataset itself\n"
      ],
      "execution_count": 17,
      "outputs": []
    },
    {
      "cell_type": "code",
      "metadata": {
        "id": "eBgkZejmAkLQ"
      },
      "source": [
        "#Problem 5\n",
        "\n",
        "l1= df.iloc[:,1]\n",
        "#print(l1)\n",
        "l2 = df.loc[:,'sepal width (cm)']\n",
        "#print(l2)\n",
        "l3 = df.iloc[:,-4]\n",
        "#print(l3)\n",
        "\n",
        "h1= df.iloc[50:100]\n",
        "#print(h1)\n",
        "h2 = df.iloc[50:100, 2]\n",
        "#print(h2)\n",
        "h3 = df.loc[df['petal width (cm)']== 0.2]\n",
        "#h3\n",
        "#print(h3.iloc[:,3])\n"
      ],
      "execution_count": 18,
      "outputs": []
    },
    {
      "cell_type": "code",
      "metadata": {
        "colab": {
          "base_uri": "https://localhost:8080/",
          "height": 482
        },
        "id": "aRh9YPBBNzf4",
        "outputId": "8f2feb48-89c7-4a15-9d8b-0f8d35658048"
      },
      "source": [
        "#Problem 6-a\n",
        "import matplotlib.pyplot as plt\n",
        "ax = plt.subplots(1,1, figsize = (10,8))\n",
        "df['species'].value_counts().plot.pie(explode=[0.1,0.1,0.1], autopct= '%1.1f%%', shadow=True, figsize=(10,8))\n",
        "plt.title(\"Iris species (%)\")\n",
        "plt.show()"
      ],
      "execution_count": 19,
      "outputs": [
        {
          "output_type": "display_data",
          "data": {
            "image/png": "[encoded data removed]",
            "text/plain": [
              "<Figure size 720x576 with 1 Axes>"
            ]
          },
          "metadata": {}
        }
      ]
    },
    {
      "cell_type": "code",
      "metadata": {
        "colab": {
          "base_uri": "https://localhost:8080/",
          "height": 1000
        },
        "id": "SQ75wRGcPXJQ",
        "outputId": "7fb8e65f-e9b7-4033-9c5a-c2209bfd33eb"
      },
      "source": [
        "#Problem 6-b\n",
        "import matplotlib.pyplot as plt\n",
        "plt.figure(figsize=(10,6))\n",
        "plt.title('Box plot in the 5 variables')\n",
        "plt.boxplot(df.values, labels=['sepal length (cm)', 'sepal width (cm)', 'petal length (cm)', 'petal width (cm)', 'species'])"
      ],
      "execution_count": 20,
      "outputs": [
        {
          "output_type": "execute_result",
          "data": {
            "text/plain": [
              "{'boxes': [<matplotlib.lines.Line2D at 0x7fa69bb92850>,\n",
              "  <matplotlib.lines.Line2D at 0x7fa69bba0dd0>,\n",
              "  <matplotlib.lines.Line2D at 0x7fa69bb38390>,\n",
              "  <matplotlib.lines.Line2D at 0x7fa69bb498d0>,\n",
              "  <matplotlib.lines.Line2D at 0x7fa69bb58e50>],\n",
              " 'caps': [<matplotlib.lines.Line2D at 0x7fa69bb97890>,\n",
              "  <matplotlib.lines.Line2D at 0x7fa69bb97dd0>,\n",
              "  <matplotlib.lines.Line2D at 0x7fa69bb27e10>,\n",
              "  <matplotlib.lines.Line2D at 0x7fa69bb2e390>,\n",
              "  <matplotlib.lines.Line2D at 0x7fa69bb3f3d0>,\n",
              "  <matplotlib.lines.Line2D at 0x7fa69bb3f950>,\n",
              "  <matplotlib.lines.Line2D at 0x7fa69bb51950>,\n",
              "  <matplotlib.lines.Line2D at 0x7fa69bb51e90>,\n",
              "  <matplotlib.lines.Line2D at 0x7fa69bae1ed0>,\n",
              "  <matplotlib.lines.Line2D at 0x7fa69bae8410>],\n",
              " 'fliers': [<matplotlib.lines.Line2D at 0x7fa69bba08d0>,\n",
              "  <matplotlib.lines.Line2D at 0x7fa69bb2ee10>,\n",
              "  <matplotlib.lines.Line2D at 0x7fa69bb49410>,\n",
              "  <matplotlib.lines.Line2D at 0x7fa69bb58950>,\n",
              "  <matplotlib.lines.Line2D at 0x7fa69bae8ed0>],\n",
              " 'means': [],\n",
              " 'medians': [<matplotlib.lines.Line2D at 0x7fa69bba0390>,\n",
              "  <matplotlib.lines.Line2D at 0x7fa69bb2e8d0>,\n",
              "  <matplotlib.lines.Line2D at 0x7fa69bb3fe90>,\n",
              "  <matplotlib.lines.Line2D at 0x7fa69bb58410>,\n",
              "  <matplotlib.lines.Line2D at 0x7fa69bae8950>],\n",
              " 'whiskers': [<matplotlib.lines.Line2D at 0x7fa69bb92dd0>,\n",
              "  <matplotlib.lines.Line2D at 0x7fa69bb97350>,\n",
              "  <matplotlib.lines.Line2D at 0x7fa69bb273d0>,\n",
              "  <matplotlib.lines.Line2D at 0x7fa69bb278d0>,\n",
              "  <matplotlib.lines.Line2D at 0x7fa69bb388d0>,\n",
              "  <matplotlib.lines.Line2D at 0x7fa69bb38e50>,\n",
              "  <matplotlib.lines.Line2D at 0x7fa69bb49e90>,\n",
              "  <matplotlib.lines.Line2D at 0x7fa69bb51410>,\n",
              "  <matplotlib.lines.Line2D at 0x7fa69bae1490>,\n",
              "  <matplotlib.lines.Line2D at 0x7fa69bae1990>]}"
            ]
          },
          "metadata": {},
          "execution_count": 20
        },
        {
          "output_type": "display_data",
          "data": {
            "image/png": "[encoded data removed]",
            "text/plain": [
              "<Figure size 720x432 with 1 Axes>"
            ]
          },
          "metadata": {
            "needs_background": "light"
          }
        }
      ]
    },
    {
      "cell_type": "code",
      "metadata": {
        "colab": {
          "base_uri": "https://localhost:8080/",
          "height": 543
        },
        "id": "Xca-0d5LQqPd",
        "outputId": "f9e27fc1-e47c-45db-f957-720d8efa666b"
      },
      "source": [
        "#Problem 6-c\n",
        "import matplotlib.pyplot as plt\n",
        "plt.figure(figsize=(6,6))\n",
        "plt.title('Violin plot')\n",
        "plt.violinplot(df.values, showmedians= True)"
      ],
      "execution_count": 21,
      "outputs": [
        {
          "output_type": "execute_result",
          "data": {
            "text/plain": [
              "{'bodies': [<matplotlib.collections.PolyCollection at 0x7fa69bcb7250>,\n",
              "  <matplotlib.collections.PolyCollection at 0x7fa69bcb7b10>,\n",
              "  <matplotlib.collections.PolyCollection at 0x7fa69bcb7fd0>,\n",
              "  <matplotlib.collections.PolyCollection at 0x7fa69be8c690>,\n",
              "  <matplotlib.collections.PolyCollection at 0x7fa69bccded0>],\n",
              " 'cbars': <matplotlib.collections.LineCollection at 0x7fa69bcc8bd0>,\n",
              " 'cmaxes': <matplotlib.collections.LineCollection at 0x7fa69bccdd90>,\n",
              " 'cmedians': <matplotlib.collections.LineCollection at 0x7fa69bd6d610>,\n",
              " 'cmins': <matplotlib.collections.LineCollection at 0x7fa69bccdf50>}"
            ]
          },
          "metadata": {},
          "execution_count": 21
        },
        {
          "output_type": "display_data",
          "data": {
            "image/png": "[encoded data removed]",
            "text/plain": [
              "<Figure size 432x432 with 1 Axes>"
            ]
          },
          "metadata": {
            "needs_background": "light"
          }
        }
      ]
    },
    {
      "cell_type": "code",
      "metadata": {
        "id": "E7-NsshqrfCp"
      },
      "source": [
        "# Problem 6-d\n",
        "#a A box plot is a method for graphically depicting groups of numerical data through their quartiles, \n",
        "#where as the Violin Violin plots are similar to box plots, except that they also show the probability density of the data at different values, \n",
        "#The advantage of the violin plot over the box plot is that aside from showing the abovementioned statistics it also shows the entire distribution of the data. \n",
        "#This is of interest, especially when dealing with multimodal data, i.e., a distribution with more than one peak.\n",
        "\n"
      ],
      "execution_count": null,
      "outputs": []
    },
    {
      "cell_type": "code",
      "metadata": {
        "colab": {
          "base_uri": "https://localhost:8080/",
          "height": 295
        },
        "id": "uiuq841iRr_T",
        "outputId": "94c5ea51-dfc6-4470-ccc2-2316ba80b9f2"
      },
      "source": [
        "#Problem 7-a\n",
        "import matplotlib.pyplot as plt\n",
        "import matplotlib_inline \n",
        "import seaborn as sns\n",
        "colors = ['green', 'magenta', 'black']\n",
        "species = [0, 1, 2]\n",
        "for i in range(3):\n",
        "  x = df[df['species'] == species[i]]\n",
        "  plt.scatter(x['sepal length (cm)'], x['sepal width (cm)'], c = colors[i], label = species[i])\n",
        "  plt.xlabel(\"sepal length (cm)\")\n",
        "  plt.ylabel(\"sepal width (cm)\")\n",
        "  plt.title('Two variables')\n",
        "  plt.legend()"
      ],
      "execution_count": 24,
      "outputs": [
        {
          "output_type": "display_data",
          "data": {
            "image/png": "[encoded data removed]",
            "text/plain": [
              "<Figure size 432x288 with 1 Axes>"
            ]
          },
          "metadata": {
            "needs_background": "light"
          }
        }
      ]
    },
    {
      "cell_type": "code",
      "metadata": {
        "colab": {
          "base_uri": "https://localhost:8080/",
          "height": 295
        },
        "id": "gCsuS2O5kYnA",
        "outputId": "38dcb5cd-2ca3-4c95-daf1-5d97f3a32070"
      },
      "source": [
        "#Problem 7-b\n",
        "import matplotlib.pyplot as plt\n",
        "import matplotlib_inline \n",
        "import seaborn as sns\n",
        "colors = ['green', 'magenta', 'black']\n",
        "species = [0, 1, 2]\n",
        "for i in range(3):\n",
        "  x = df[df['species'] == species[i]]\n",
        "  plt.scatter(x['petal length (cm)'], x['petal width (cm)'], c = colors[i], label = species[i])\n",
        "  plt.xlabel(\"petal length (cm)\")\n",
        "  plt.ylabel(\"petal width (cm)\")\n",
        "  plt.title('Two variables')\n",
        "  plt.legend()"
      ],
      "execution_count": 25,
      "outputs": [
        {
          "output_type": "display_data",
          "data": {
            "image/png": "[encoded data removed]",
            "text/plain": [
              "<Figure size 432x288 with 1 Axes>"
            ]
          },
          "metadata": {
            "needs_background": "light"
          }
        }
      ]
    },
    {
      "cell_type": "code",
      "metadata": {
        "colab": {
          "base_uri": "https://localhost:8080/",
          "height": 295
        },
        "id": "TpOk0FBZmPyn",
        "outputId": "b4bd3c13-de83-4ef2-a53f-9bbea5780d87"
      },
      "source": [
        "#Problem 7-c\n",
        "import matplotlib.pyplot as plt\n",
        "import matplotlib_inline \n",
        "import seaborn as sns\n",
        "colors = ['green', 'magenta', 'black']\n",
        "species = [0, 1, 2]\n",
        "for i in range(3):\n",
        "  x = df[df['species'] == species[i]]\n",
        "  plt.scatter(x['sepal width (cm)'], x['petal width (cm)'], c = colors[i], label = species[i])\n",
        "  plt.xlabel(\"sepal width (cm)\")\n",
        "  plt.ylabel(\"petal width (cm)\")\n",
        "  plt.title('Two variables')\n",
        "  plt.legend()"
      ],
      "execution_count": 26,
      "outputs": [
        {
          "output_type": "display_data",
          "data": {
            "image/png": "[encoded data removed]",
            "text/plain": [
              "<Figure size 432x288 with 1 Axes>"
            ]
          },
          "metadata": {
            "needs_background": "light"
          }
        }
      ]
    },
    {
      "cell_type": "code",
      "metadata": {
        "colab": {
          "base_uri": "https://localhost:8080/",
          "height": 513
        },
        "id": "gc16Y0_YmnbN",
        "outputId": "5eed8bbd-e537-4072-a68c-1a95b2585cf5"
      },
      "source": [
        "#Problem 7-d\n",
        "import matplotlib.pyplot as plt\n",
        "import matplotlib_inline \n",
        "import seaborn as sns\n",
        "colors = ['green', 'magenta', 'black']\n",
        "species = [0, 1, 2]\n",
        "ax = plt.subplots(1,1, figsize = (10,8))\n",
        "for i in range(3):\n",
        "  x = df[df['species'] == species[i]]\n",
        "  plt.scatter(x['sepal length (cm)'], x['sepal width (cm)'], c = colors[i], label = species[i])\n",
        "  plt.scatter(x['petal length (cm)'], x['petal width (cm)'], c = colors[i], label = species[i])\n",
        "  plt.xlabel(\"sepal length (cm)\")\n",
        "  plt.ylabel(\"sepal width (cm)\")\n",
        "  plt.title('Four variables')\n",
        "  plt.legend()"
      ],
      "execution_count": 28,
      "outputs": [
        {
          "output_type": "display_data",
          "data": {
            "image/png": "[encoded data removed]",
            "text/plain": [
              "<Figure size 720x576 with 1 Axes>"
            ]
          },
          "metadata": {
            "needs_background": "light"
          }
        }
      ]
    },
    {
      "cell_type": "code",
      "metadata": {
        "colab": {
          "base_uri": "https://localhost:8080/",
          "height": 204
        },
        "id": "5jYQdaDhnhha",
        "outputId": "cae8a569-cbae-4dde-8752-c49bb02c1109"
      },
      "source": [
        "#Problem 7-e\n",
        "corr = df.corr()\n",
        "corr"
      ],
      "execution_count": 29,
      "outputs": [
        {
          "output_type": "execute_result",
          "data": {
            "text/html": [
              "<div>\n",
              "<style scoped>\n",
              "    .dataframe tbody tr th:only-of-type {\n",
              "        vertical-align: middle;\n",
              "    }\n",
              "\n",
              "    .dataframe tbody tr th {\n",
              "        vertical-align: top;\n",
              "    }\n",
              "\n",
              "    .dataframe thead th {\n",
              "        text-align: right;\n",
              "    }\n",
              "</style>\n",
              "<table border=\"1\" class=\"dataframe\">\n",
              "  <thead>\n",
              "    <tr style=\"text-align: right;\">\n",
              "      <th></th>\n",
              "      <th>sepal length (cm)</th>\n",
              "      <th>sepal width (cm)</th>\n",
              "      <th>petal length (cm)</th>\n",
              "      <th>petal width (cm)</th>\n",
              "      <th>species</th>\n",
              "    </tr>\n",
              "  </thead>\n",
              "  <tbody>\n",
              "    <tr>\n",
              "      <th>sepal length (cm)</th>\n",
              "      <td>1.000000</td>\n",
              "      <td>-0.117570</td>\n",
              "      <td>0.871754</td>\n",
              "      <td>0.817941</td>\n",
              "      <td>0.782561</td>\n",
              "    </tr>\n",
              "    <tr>\n",
              "      <th>sepal width (cm)</th>\n",
              "      <td>-0.117570</td>\n",
              "      <td>1.000000</td>\n",
              "      <td>-0.428440</td>\n",
              "      <td>-0.366126</td>\n",
              "      <td>-0.426658</td>\n",
              "    </tr>\n",
              "    <tr>\n",
              "      <th>petal length (cm)</th>\n",
              "      <td>0.871754</td>\n",
              "      <td>-0.428440</td>\n",
              "      <td>1.000000</td>\n",
              "      <td>0.962865</td>\n",
              "      <td>0.949035</td>\n",
              "    </tr>\n",
              "    <tr>\n",
              "      <th>petal width (cm)</th>\n",
              "      <td>0.817941</td>\n",
              "      <td>-0.366126</td>\n",
              "      <td>0.962865</td>\n",
              "      <td>1.000000</td>\n",
              "      <td>0.956547</td>\n",
              "    </tr>\n",
              "    <tr>\n",
              "      <th>species</th>\n",
              "      <td>0.782561</td>\n",
              "      <td>-0.426658</td>\n",
              "      <td>0.949035</td>\n",
              "      <td>0.956547</td>\n",
              "      <td>1.000000</td>\n",
              "    </tr>\n",
              "  </tbody>\n",
              "</table>\n",
              "</div>"
            ],
            "text/plain": [
              "                   sepal length (cm)  ...   species\n",
              "sepal length (cm)           1.000000  ...  0.782561\n",
              "sepal width (cm)           -0.117570  ... -0.426658\n",
              "petal length (cm)           0.871754  ...  0.949035\n",
              "petal width (cm)            0.817941  ...  0.956547\n",
              "species                     0.782561  ...  1.000000\n",
              "\n",
              "[5 rows x 5 columns]"
            ]
          },
          "metadata": {},
          "execution_count": 29
        }
      ]
    },
    {
      "cell_type": "code",
      "metadata": {
        "colab": {
          "base_uri": "https://localhost:8080/",
          "height": 485
        },
        "id": "oDRxsPDfoqH4",
        "outputId": "50898a44-0280-4392-83ae-03b9e1c372bd"
      },
      "source": [
        "#Problem 7-f\n",
        "fig, ax = plt.subplots(figsize = (6,6))\n",
        "sns.heatmap(corr, annot = True, ax = ax, cmap = 'coolwarm')\n",
        "plt.title('Heat Map')"
      ],
      "execution_count": 35,
      "outputs": [
        {
          "output_type": "execute_result",
          "data": {
            "text/plain": [
              "Text(0.5, 1.0, 'Heat Map')"
            ]
          },
          "metadata": {},
          "execution_count": 35
        },
        {
          "output_type": "display_data",
          "data": {
            "image/png": "[encoded data removed]",
            "text/plain": [
              "<Figure size 432x432 with 2 Axes>"
            ]
          },
          "metadata": {
            "needs_background": "light"
          }
        }
      ]
    },
    {
      "cell_type": "markdown",
      "metadata": {
        "id": "J5-zBwvEMddZ"
      },
      "source": [
        "Problem 8: Observations of (Visualizations of graphs and tables).\n",
        "The data analized here are from three types of irises, totaling 150.\n",
        "\n",
        "\n",
        "From the pie chart we can see that both three species has the same numbers that was represented in \n",
        "percentage. \n",
        "\n",
        "The box plot gives us the informations about outlines and the spread of the data, on the top of that the Violin plot shows the density of the length and width in the species. \n",
        "The denser regions of the data are fatter, and sparcer ones thinner in a Violin plot. \n",
        "\n",
        "From the scatter plot chart we can see that for the first two variables Iris setosa can be easely separated from other two species by drawing a line,\n",
        "where as in the second one they can almost be separated from each other, on the other hand in the third one only setosa can be separeted from the two other species\n",
        "\n",
        "Using the sepal length and sepal width features we can destinguish setosa flower from others.\n",
        "Separating Versicolor from Verginica is much harder as they are considerable overlap.\n",
        "\n",
        "From the bipmap we can see that the petal length and petal width have the highest correlation. All the diagonal values are 1 because the atribute are the same. \n"
      ]
    }
  ]
}