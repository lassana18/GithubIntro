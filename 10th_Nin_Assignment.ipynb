{
  "nbformat": 4,
  "nbformat_minor": 0,
  "metadata": {
    "colab": {
      "name": "10th-Nin Assignment.ipynb",
      "provenance": [],
      "collapsed_sections": [],
      "mount_file_id": "1jb2m1L6bh0tlkz2qQ6MPt8hclpiQVv8J",
      "authorship_tag": "ABX9TyORiacb0nK7Vxjs7DZZlQYR",
      "include_colab_link": true
    },
    "kernelspec": {
      "name": "python3",
      "display_name": "Python 3"
    },
    "language_info": {
      "name": "python"
    }
  },
  "cells": [
    {
      "cell_type": "markdown",
      "metadata": {
        "id": "view-in-github",
        "colab_type": "text"
      },
      "source": [
        "<a href=\"https://colab.research.google.com/github/pafernannapi18/GithubIntro/blob/main/10th_Nin_Assignment.ipynb\" target=\"_parent\"><img src=\"https://colab.research.google.com/assets/colab-badge.svg\" alt=\"Open In Colab\"/></a>"
      ]
    },
    {
      "cell_type": "code",
      "metadata": {
        "id": "7w2LA_6rsS3M"
      },
      "source": [
        "import matplotlib.pyplot as plt\n",
        "%matplotlib inline\n",
        "import numpy as np\n",
        "csv_path = \"/content/drive/MyDrive/mtfuji_data (1).csv\" # Specify the file name (path)\n",
        "\n",
        "np.set_printoptions(suppress=True) # Set the prohibition of exponential notation\n",
        "fuji = np.loadtxt(csv_path, delimiter=\",\", skiprows=1)\n"
      ],
      "execution_count": 9,
      "outputs": []
    },
    {
      "cell_type": "code",
      "metadata": {
        "colab": {
          "base_uri": "https://localhost:8080/"
        },
        "id": "fLZgq4E1uB-f",
        "outputId": "c931030c-b2ac-4c51-9d86-6ad1d3fbc74c"
      },
      "source": [
        "print(fuji[130:140])"
      ],
      "execution_count": 10,
      "outputs": [
        {
          "output_type": "stream",
          "name": "stdout",
          "text": [
            "[[  130.          35.352505   138.756638  2563.4      41888.      ]\n",
            " [  131.          35.35418    138.753742  2703.1      42210.      ]\n",
            " [  132.          35.355855   138.750846  2825.55     42532.      ]\n",
            " [  133.          35.35753    138.74795   2967.9      42854.      ]\n",
            " [  134.          35.359205   138.745054  3087.81     43177.      ]\n",
            " [  135.          35.36088    138.742157  3266.24     43499.      ]\n",
            " [  136.          35.362555   138.739261  3434.59     43821.      ]\n",
            " [  137.          35.36423    138.736364  3600.08     44143.      ]\n",
            " [  138.          35.365904   138.733468  3679.96     44466.      ]\n",
            " [  139.          35.367579   138.730571  3664.9      44788.      ]]\n"
          ]
        }
      ]
    },
    {
      "cell_type": "code",
      "metadata": {
        "colab": {
          "base_uri": "https://localhost:8080/",
          "height": 295
        },
        "id": "meBRk9nuvBtn",
        "outputId": "8bf48fe0-8f73-42c4-8a14-472d9f8cb977"
      },
      "source": [
        "#Problem 1\n",
        "import matplotlib.pyplot as plt\n",
        "%matplotlib inline\n",
        "csv_path = \"/content/drive/MyDrive/mtfuji_data (1).csv\" \n",
        "\n",
        "np.set_printoptions(suppress=True) \n",
        "fuji = np.loadtxt(csv_path, delimiter=\",\", skiprows=1)\n",
        "  \n",
        "x = []\n",
        "y = []\n",
        "  \n",
        "\n",
        "         \n",
        "for row in fuji:\n",
        "  x.append(int(row[0]))\n",
        "  y.append(int(row[3]))\n",
        "  \n",
        "\n",
        "plt.xlabel('Number of point')\n",
        "plt.ylabel('Elevation')\n",
        "plt.title('Mt.Fuji')\n",
        "plt.plot(x, y)\n",
        "plt.show()"
      ],
      "execution_count": 11,
      "outputs": [
        {
          "output_type": "display_data",
          "data": {
            "image/png": "[encoded data removed]",
            "text/plain": [
              "<Figure size 432x288 with 1 Axes>"
            ]
          },
          "metadata": {
            "needs_background": "light"
          }
        }
      ]
    },
    {
      "cell_type": "code",
      "metadata": {
        "id": "-bUDamT50ghj"
      },
      "source": [
        "#Problem 2\n",
        "def calc_slope(point):\n",
        "  change_in_x = fuji[:,0][point] - fuji[:,0][point-1]\n",
        "  change_in_y = fuji[:,3][point] - fuji[:,3][point-1]\n",
        "  slope = change_in_y//change_in_x\n",
        "  #print(slope)\n",
        "  return slope\n",
        "  \n",
        "\n",
        "slope = calc_slope(136)\n"
      ],
      "execution_count": 248,
      "outputs": []
    },
    {
      "cell_type": "code",
      "metadata": {
        "colab": {
          "base_uri": "https://localhost:8080/"
        },
        "id": "00gKCSST8KNG",
        "outputId": "caad9f4c-1935-4335-eac5-f0dd969cae07"
      },
      "source": [
        "#Problem 3\n",
        "def calc_dest(point, alpha):\n",
        "  gradient = calc_slope(point)\n",
        "  dest = point - alpha*gradient\n",
        "  if (dest <0):\n",
        "    return 0 \n",
        "  else:\n",
        "    return dest\n",
        "calc_dest(99, 0.2)"
      ],
      "execution_count": 20,
      "outputs": [
        {
          "output_type": "execute_result",
          "data": {
            "text/plain": [
              "96.6"
            ]
          },
          "metadata": {},
          "execution_count": 20
        }
      ]
    },
    {
      "cell_type": "code",
      "metadata": {
        "colab": {
          "base_uri": "https://localhost:8080/",
          "height": 316
        },
        "id": "2SxhQibpuKxE",
        "outputId": "74dbae0d-b75a-4e95-ab19-f7c223468df1"
      },
      "source": [
        "def going_down(current_point, alpha):\n",
        " # looping until the returned destination = 0\n",
        " destinations = []\n",
        " for counter in range(fuji.size):\n",
        "   dest = calc_dest(current_point, alpha)\n",
        "   if(dest <= 0):\n",
        "     break\n",
        "   else:\n",
        "     destinations.append(dest)\n",
        "   while dest >0:\n",
        "     dest1 = (destinations - *alpha)\n",
        "       return dest1\n",
        "       #elif:\n",
        "     #dest1 = calc_dest(destinations, alpha) \n",
        "   #return dest1 #destinations\n",
        "\n",
        "going_down(136,0.2)"
      ],
      "execution_count": 246,
      "outputs": [
        {
          "output_type": "error",
          "ename": "TypeError",
          "evalue": "ignored",
          "traceback": [
            "\u001b[0;31m---------------------------------------------------------------------------\u001b[0m",
            "\u001b[0;31mTypeError\u001b[0m                                 Traceback (most recent call last)",
            "\u001b[0;32m<ipython-input-246-cb75d8bc73b0>\u001b[0m in \u001b[0;36m<module>\u001b[0;34m()\u001b[0m\n\u001b[1;32m     15\u001b[0m    \u001b[0;31m#return dest1 #destinations\u001b[0m\u001b[0;34m\u001b[0m\u001b[0;34m\u001b[0m\u001b[0;34m\u001b[0m\u001b[0m\n\u001b[1;32m     16\u001b[0m \u001b[0;34m\u001b[0m\u001b[0m\n\u001b[0;32m---> 17\u001b[0;31m \u001b[0mgoing_down\u001b[0m\u001b[0;34m(\u001b[0m\u001b[0;36m136\u001b[0m\u001b[0;34m,\u001b[0m\u001b[0;36m0.2\u001b[0m\u001b[0;34m)\u001b[0m\u001b[0;34m\u001b[0m\u001b[0;34m\u001b[0m\u001b[0m\n\u001b[0m",
            "\u001b[0;32m<ipython-input-246-cb75d8bc73b0>\u001b[0m in \u001b[0;36mgoing_down\u001b[0;34m(current_point, alpha)\u001b[0m\n\u001b[1;32m      9\u001b[0m      \u001b[0mdestinations\u001b[0m\u001b[0;34m.\u001b[0m\u001b[0mappend\u001b[0m\u001b[0;34m(\u001b[0m\u001b[0mdest\u001b[0m\u001b[0;34m)\u001b[0m\u001b[0;34m\u001b[0m\u001b[0;34m\u001b[0m\u001b[0m\n\u001b[1;32m     10\u001b[0m    \u001b[0;32mwhile\u001b[0m \u001b[0mdest\u001b[0m \u001b[0;34m>\u001b[0m\u001b[0;36m0\u001b[0m\u001b[0;34m:\u001b[0m\u001b[0;34m\u001b[0m\u001b[0;34m\u001b[0m\u001b[0m\n\u001b[0;32m---> 11\u001b[0;31m        \u001b[0mdest1\u001b[0m \u001b[0;34m=\u001b[0m \u001b[0;34m(\u001b[0m\u001b[0mdestinations\u001b[0m \u001b[0;34m-\u001b[0m \u001b[0mdestinations\u001b[0m\u001b[0;34m*\u001b[0m\u001b[0malpha\u001b[0m\u001b[0;34m)\u001b[0m\u001b[0;34m\u001b[0m\u001b[0;34m\u001b[0m\u001b[0m\n\u001b[0m\u001b[1;32m     12\u001b[0m        \u001b[0;32mreturn\u001b[0m \u001b[0mdest1\u001b[0m\u001b[0;34m\u001b[0m\u001b[0;34m\u001b[0m\u001b[0m\n\u001b[1;32m     13\u001b[0m        \u001b[0;31m#elif:\u001b[0m\u001b[0;34m\u001b[0m\u001b[0;34m\u001b[0m\u001b[0;34m\u001b[0m\u001b[0m\n",
            "\u001b[0;31mTypeError\u001b[0m: can't multiply sequence by non-int of type 'float'"
          ]
        }
      ]
    },
    {
      "cell_type": "code",
      "metadata": {
        "colab": {
          "base_uri": "https://localhost:8080/",
          "height": 129
        },
        "id": "sDzOmZC7u3mz",
        "outputId": "b17b5d6b-0b9b-46e9-bb93-b98f686b4e60"
      },
      "source": [
        "def going_down(current_point, alpha):\n",
        "\n",
        "  #looping until the returned destination = 0\n",
        "  destinations = []\n",
        "  z = np.array(fuji)\n",
        "  \n",
        " \n",
        "  for counter in range(fuji.size):\n",
        "    z = calc_dest(current_point, alpha)\n",
        "    if (z <= 0): \n",
        "      break\n",
        "\n",
        "    #else:\n",
        "      #current_point = z\n",
        "      #destinations.append(z)\n",
        "      return destinations\n",
        "      while destinations >0:\n",
        "        return destinations \n",
        "    else:\n",
        "      next_dest = destinations - alpha*slope\n",
        "      \n",
        "  return destinations\n",
        "          #current_point = z\n",
        "     \n",
        "    #while z >0:\n",
        "      #current_point = z\n",
        "      \n",
        "    #else:  \n",
        "\n",
        "      #return current_point\n",
        "      #new_currentPoint = destination\n",
        "    #else:\n",
        "      #return new_currentPoint\n",
        "\n",
        "going_down(0.2)"
      ],
      "execution_count": 188,
      "outputs": [
        {
          "output_type": "error",
          "ename": "SyntaxError",
          "evalue": "ignored",
          "traceback": [
            "\u001b[0;36m  File \u001b[0;32m\"<ipython-input-188-bd6e29fee4c6>\"\u001b[0;36m, line \u001b[0;32m6\u001b[0m\n\u001b[0;31m    current_point = [136:0]\u001b[0m\n\u001b[0m                        ^\u001b[0m\n\u001b[0;31mSyntaxError\u001b[0m\u001b[0;31m:\u001b[0m invalid syntax\n"
          ]
        }
      ]
    },
    {
      "cell_type": "code",
      "metadata": {
        "colab": {
          "base_uri": "https://localhost:8080/"
        },
        "id": "1eyOZpLiAsHE",
        "outputId": "a3ee9e54-96b6-4b4c-c9d0-c5a382734e64"
      },
      "source": [
        "def going_down(current_point, alpha):\n",
        "\n",
        "  #looping until the returned destination = 0\n",
        "  destinations = []\n",
        "  z = np.array(fuji)\n",
        " \n",
        "  for counter in range(fuji.size):\n",
        "    z = calc_dest(current_point, alpha)\n",
        "    if (z <= 0): \n",
        "      break\n",
        "\n",
        "    else:\n",
        "      destinations.append(z)\n",
        "      current_point = destinations\n",
        "      #current_point = current_point-1\n",
        "      #current_point = destinations\n",
        "    return current_point #destinations\n",
        "    while current_point>0: #destinations >=0:\n",
        "      destinations = current_point\n",
        "    else:\n",
        "      \n",
        "    #return destinations\n",
        "      next_point = destinations - dest #current_point - \n",
        "      \n",
        "  #print(next_point)\n",
        "  return next_point\n",
        " \n",
        "     \n",
        "going_down(136,0.2)\n"
      ],
      "execution_count": 179,
      "outputs": [
        {
          "output_type": "execute_result",
          "data": {
            "text/plain": [
              "[102.4]"
            ]
          },
          "metadata": {},
          "execution_count": 179
        }
      ]
    },
    {
      "cell_type": "code",
      "metadata": {
        "colab": {
          "base_uri": "https://localhost:8080/",
          "height": 316
        },
        "id": "fHA0Hc240klP",
        "outputId": "310ae6d3-6095-4653-80d2-4b566520f481"
      },
      "source": [
        "def going_down(current_point, alpha):\n",
        "\n",
        " # looping until the returned destination = 0\n",
        "  destinations = []\n",
        "  z = np.array(fuji)\n",
        " \n",
        "  for counter in range(fuji.size):\n",
        "    z = calc_dest(current_point, alpha)\n",
        "  while z >= 0: \n",
        "    current_point == destinations\n",
        "    destinations.append(z)\n",
        "    if z < 0:\n",
        "      break\n",
        "   \n",
        "  return destinations\n",
        "     \n",
        "going_down(136,0.2)"
      ],
      "execution_count": 35,
      "outputs": [
        {
          "output_type": "error",
          "ename": "KeyboardInterrupt",
          "evalue": "ignored",
          "traceback": [
            "\u001b[0;31m---------------------------------------------------------------------------\u001b[0m",
            "\u001b[0;31mKeyboardInterrupt\u001b[0m                         Traceback (most recent call last)",
            "\u001b[0;32m<ipython-input-35-0912dcad0dff>\u001b[0m in \u001b[0;36m<module>\u001b[0;34m()\u001b[0m\n\u001b[1;32m     15\u001b[0m   \u001b[0;32mreturn\u001b[0m \u001b[0mdestinations\u001b[0m\u001b[0;34m\u001b[0m\u001b[0;34m\u001b[0m\u001b[0m\n\u001b[1;32m     16\u001b[0m \u001b[0;34m\u001b[0m\u001b[0m\n\u001b[0;32m---> 17\u001b[0;31m \u001b[0mgoing_down\u001b[0m\u001b[0;34m(\u001b[0m\u001b[0;36m136\u001b[0m\u001b[0;34m,\u001b[0m\u001b[0;36m0.2\u001b[0m\u001b[0;34m)\u001b[0m\u001b[0;34m\u001b[0m\u001b[0;34m\u001b[0m\u001b[0m\n\u001b[0m",
            "\u001b[0;32m<ipython-input-35-0912dcad0dff>\u001b[0m in \u001b[0;36mgoing_down\u001b[0;34m(current_point, alpha)\u001b[0m\n\u001b[1;32m     10\u001b[0m     \u001b[0mcurrent_point\u001b[0m \u001b[0;34m==\u001b[0m \u001b[0mdestinations\u001b[0m\u001b[0;34m\u001b[0m\u001b[0;34m\u001b[0m\u001b[0m\n\u001b[1;32m     11\u001b[0m     \u001b[0mdestinations\u001b[0m\u001b[0;34m.\u001b[0m\u001b[0mappend\u001b[0m\u001b[0;34m(\u001b[0m\u001b[0mz\u001b[0m\u001b[0;34m)\u001b[0m\u001b[0;34m\u001b[0m\u001b[0;34m\u001b[0m\u001b[0m\n\u001b[0;32m---> 12\u001b[0;31m     \u001b[0;32mif\u001b[0m \u001b[0mz\u001b[0m \u001b[0;34m<\u001b[0m \u001b[0;36m0\u001b[0m\u001b[0;34m:\u001b[0m\u001b[0;34m\u001b[0m\u001b[0;34m\u001b[0m\u001b[0m\n\u001b[0m\u001b[1;32m     13\u001b[0m       \u001b[0;32mbreak\u001b[0m\u001b[0;34m\u001b[0m\u001b[0;34m\u001b[0m\u001b[0m\n\u001b[1;32m     14\u001b[0m \u001b[0;34m\u001b[0m\u001b[0m\n",
            "\u001b[0;31mKeyboardInterrupt\u001b[0m: "
          ]
        }
      ]
    },
    {
      "cell_type": "code",
      "metadata": {
        "colab": {
          "base_uri": "https://localhost:8080/"
        },
        "id": "aA8dF--5CK1m",
        "outputId": "cf599a2b-d8a9-4e72-9523-667e1f3cbe7a"
      },
      "source": [
        "\n",
        "#Problem 3-A\n",
        "h =[]\n",
        "#y =[]\n",
        "def predict_destination(c_lc, h_p, g_r):\n",
        "  #*** c_lc is current location, g_r is gradient, h_p is hyper parameter***\n",
        "  Destination_point = c_lc - (h_p*g_r)\n",
        "  return Destination_point\n",
        "predict_destination(322, 0.2, 0)"
      ],
      "execution_count": 15,
      "outputs": [
        {
          "output_type": "execute_result",
          "data": {
            "text/plain": [
              "322.0"
            ]
          },
          "metadata": {},
          "execution_count": 15
        }
      ]
    },
    {
      "cell_type": "code",
      "metadata": {
        "colab": {
          "base_uri": "https://localhost:8080/",
          "height": 316
        },
        "id": "xvrGYMuqEOW9",
        "outputId": "22931991-816a-4242-8eb2-1a61a06db6ec"
      },
      "source": [
        "#Problem 3-B\n",
        "import matplotlib.pyplot as plt\n",
        "%matplotlib inline\n",
        "\n",
        "D = []\n",
        "def descent_destination(r, h_p):\n",
        "  for row in fuji:\n",
        "    D.append(int(row[r]))\n",
        "    np.array(D)\n",
        "  Distance = D - (h_p*Gradient1)\n",
        "  Distance1 = Distance[0:136]\n",
        "  print(Distance[0:136])\n",
        "  #print(Distance1)\n",
        "  plt.title(\"Descent\")\n",
        "  plt.xlabel(\"The Number of the point\")\n",
        "  plt.ylabel(\"Distance\")\n",
        "  plt.plot(Distance1)\n",
        "descent_destination(4, 0.2)"
      ],
      "execution_count": 16,
      "outputs": [
        {
          "output_type": "error",
          "ename": "NameError",
          "evalue": "ignored",
          "traceback": [
            "\u001b[0;31m---------------------------------------------------------------------------\u001b[0m",
            "\u001b[0;31mNameError\u001b[0m                                 Traceback (most recent call last)",
            "\u001b[0;32m<ipython-input-16-2e3479a9396c>\u001b[0m in \u001b[0;36m<module>\u001b[0;34m()\u001b[0m\n\u001b[1;32m     16\u001b[0m   \u001b[0mplt\u001b[0m\u001b[0;34m.\u001b[0m\u001b[0mylabel\u001b[0m\u001b[0;34m(\u001b[0m\u001b[0;34m\"Distance\"\u001b[0m\u001b[0;34m)\u001b[0m\u001b[0;34m\u001b[0m\u001b[0;34m\u001b[0m\u001b[0m\n\u001b[1;32m     17\u001b[0m   \u001b[0mplt\u001b[0m\u001b[0;34m.\u001b[0m\u001b[0mplot\u001b[0m\u001b[0;34m(\u001b[0m\u001b[0mDistance1\u001b[0m\u001b[0;34m)\u001b[0m\u001b[0;34m\u001b[0m\u001b[0;34m\u001b[0m\u001b[0m\n\u001b[0;32m---> 18\u001b[0;31m \u001b[0mdescent_destination\u001b[0m\u001b[0;34m(\u001b[0m\u001b[0;36m4\u001b[0m\u001b[0;34m,\u001b[0m \u001b[0;36m0.2\u001b[0m\u001b[0;34m)\u001b[0m\u001b[0;34m\u001b[0m\u001b[0;34m\u001b[0m\u001b[0m\n\u001b[0m",
            "\u001b[0;32m<ipython-input-16-2e3479a9396c>\u001b[0m in \u001b[0;36mdescent_destination\u001b[0;34m(r, h_p)\u001b[0m\n\u001b[1;32m      8\u001b[0m     \u001b[0mD\u001b[0m\u001b[0;34m.\u001b[0m\u001b[0mappend\u001b[0m\u001b[0;34m(\u001b[0m\u001b[0mint\u001b[0m\u001b[0;34m(\u001b[0m\u001b[0mrow\u001b[0m\u001b[0;34m[\u001b[0m\u001b[0mr\u001b[0m\u001b[0;34m]\u001b[0m\u001b[0;34m)\u001b[0m\u001b[0;34m)\u001b[0m\u001b[0;34m\u001b[0m\u001b[0;34m\u001b[0m\u001b[0m\n\u001b[1;32m      9\u001b[0m     \u001b[0mnp\u001b[0m\u001b[0;34m.\u001b[0m\u001b[0marray\u001b[0m\u001b[0;34m(\u001b[0m\u001b[0mD\u001b[0m\u001b[0;34m)\u001b[0m\u001b[0;34m\u001b[0m\u001b[0;34m\u001b[0m\u001b[0m\n\u001b[0;32m---> 10\u001b[0;31m   \u001b[0mDistance\u001b[0m \u001b[0;34m=\u001b[0m \u001b[0mD\u001b[0m \u001b[0;34m-\u001b[0m \u001b[0;34m(\u001b[0m\u001b[0mh_p\u001b[0m\u001b[0;34m*\u001b[0m\u001b[0mGradient1\u001b[0m\u001b[0;34m)\u001b[0m\u001b[0;34m\u001b[0m\u001b[0;34m\u001b[0m\u001b[0m\n\u001b[0m\u001b[1;32m     11\u001b[0m   \u001b[0mDistance1\u001b[0m \u001b[0;34m=\u001b[0m \u001b[0mDistance\u001b[0m\u001b[0;34m[\u001b[0m\u001b[0;36m0\u001b[0m\u001b[0;34m:\u001b[0m\u001b[0;36m136\u001b[0m\u001b[0;34m]\u001b[0m\u001b[0;34m\u001b[0m\u001b[0;34m\u001b[0m\u001b[0m\n\u001b[1;32m     12\u001b[0m   \u001b[0mprint\u001b[0m\u001b[0;34m(\u001b[0m\u001b[0mDistance\u001b[0m\u001b[0;34m[\u001b[0m\u001b[0;36m0\u001b[0m\u001b[0;34m:\u001b[0m\u001b[0;36m136\u001b[0m\u001b[0;34m]\u001b[0m\u001b[0;34m)\u001b[0m\u001b[0;34m\u001b[0m\u001b[0;34m\u001b[0m\u001b[0m\n",
            "\u001b[0;31mNameError\u001b[0m: name 'Gradient1' is not defined"
          ]
        }
      ]
    },
    {
      "cell_type": "code",
      "metadata": {
        "id": "WN6jtGcgMzs3"
      },
      "source": [
        "#Problem 4 and 5\n",
        "import matplotlib.pyplot as plt\n",
        "%matplotlib inline\n",
        "current_value = 3434.59 # the algorithm starts at 3434.59\n",
        "rate = 0.2 # Learning rate\n",
        "precission = 0.000001 # This tells us when to stop the algorithm \n",
        "previous_step_size = 1\n",
        "max_iters = 101 #maximum number of iterations \n",
        "iters = 0 # Iterration counter\n",
        "d_f = 168 # Gradient of our fuction\n",
        "j = []\n",
        "k = []\n",
        "l = gradient[0:101]\n",
        "res = l[::-1]\n",
        "#print(res)\n",
        "while previous_step_size > precission and iters < max_iters:\n",
        "  prev_x = current_value # store current x value in prev_x\n",
        "  current_value = round(current_value - rate*d_f) # Vhange in x\n",
        "  j.append(current_value)\n",
        "  iters = iters + 1 #Iteration count\n",
        "  k.append(iters)\n",
        "  #print(\"Iteration\", iters, \"\\nX value is\", current_value) # Print iterations\n",
        "#print(\"The local minimum occurs at\", current_value)\n",
        "#For row in fuji: \n",
        "# j.append((row[0]))\n",
        "# k.append((row[3]))\n",
        "plt.title(\"Dots cross section\")\n",
        "plt.xlabel(\"Iterations\")\n",
        "plt.ylabel(\"Change in altitude\")\n",
        "#plt.plot(x, y)\n",
        "plt.scatter(y[::-1], j)\n",
        "plt.plot(x, y)\n"
      ],
      "execution_count": null,
      "outputs": []
    },
    {
      "cell_type": "code",
      "metadata": {
        "id": "vB3gm6GnQabQ"
      },
      "source": [
        "#Problem 5(a)\n",
        "import matplotlib.pyplot as plt\n",
        "%matplotlib inline\n",
        "current_value = 3434.59 # the algorithm starts at 3434.59\n",
        "rate = 0.2 # Learning rate\n",
        "precission = 0.000001 # This tells us when to stop the algorithm \n",
        "previous_step_size = 1\n",
        "max_iters = 101 #maximum number of iterations \n",
        "iters = 0 # Iterration counter\n",
        "d_f = 168 # Gradient of our fuction\n",
        "j = []\n",
        "k = []\n",
        "l = gradient[0:101]\n",
        "res = l[::-1]\n",
        "print(res)\n",
        "while previous_step_size > precission and iters < max_iters:\n",
        "  prev_x = current_value # store current x value in prev_x\n",
        "  current_value = round(current_value - rate*d_f) # Change in x\n",
        "  j.append(current_value)\n",
        "  iters = iters + 1 #Iteration count\n",
        "  k.append(iters)\n",
        "  #print(\"Iteration\", iters, \"\\nX value is\", current_value) # Print iterations\n",
        "#print(\"The local minimum occurs at\", current_value)\n",
        "#For row in fuji: \n",
        "# j.append((row[0]))\n",
        "# k.append((row[3]))\n",
        "plt.title(\"Altitude line graph\")\n",
        "plt.xlabel(\"Gradient\")\n",
        "plt.ylabel(\"Elevation\")\n",
        "plt.plot(j, res)\n"
      ],
      "execution_count": null,
      "outputs": []
    },
    {
      "cell_type": "code",
      "metadata": {
        "id": "XrJ87rSvl7Ur"
      },
      "source": [
        "#Problem 6\n",
        "import matplotlib.pyplot as plt\n",
        "%matplotlib inline\n",
        "current_value = 1725.8 # the algorithm starts at 1725.8\n",
        "rate = 0.2 # Learning rate\n",
        "precission = 0.000001 # This tells us when to stop the algorithm \n",
        "previous_step_size = 1\n",
        "max_iters = 75 #maximum number of iterations \n",
        "iters = 0 # Iterration counter\n",
        "d_f = 116 # Gradient of our fuction\n",
        "j = []\n",
        "k = []\n",
        "l = gradient[0:75]\n",
        "res_a = l[::-1]\n",
        "#print(res_a)\n",
        "while previous_step_size > precission and iters < max_iters:\n",
        "  prev_x = current_value # store current x value in prev_x\n",
        "  current_value = round(current_value - rate*d_f) # Change in x\n",
        "  j.append(current_value)\n",
        "  iters = iters + 1 #Iteration count\n",
        "  k.append(iters)\n",
        "  print(\"Iteration\", iters, \"\\nX value is\", current_value) # Print iterations\n",
        "#print(\"The local minimum occurs at\", current_value)\n",
        "#For row in fuji: \n",
        "# j.append((row[0]))\n",
        "# k.append((row[3]))\n",
        "plt.title(\"Dots cross section\")\n",
        "plt.xlabel(\"Iterations\")\n",
        "plt.ylabel(\"Change in altitude\")\n",
        "plt.plot(j, res_a)"
      ],
      "execution_count": null,
      "outputs": []
    },
    {
      "cell_type": "code",
      "metadata": {
        "id": "Fq6YBpXbpOdM"
      },
      "source": [
        "#Problem 7\n",
        "import matplotlib.pyplot as plt\n",
        "%matplotlib inline\n",
        "current_value = 1725.8 # the algorithm starts at 1725.8\n",
        "rate = 0.2 # Learning rate\n",
        "precission = 0.000001 # This tells us when to stop the algorithm \n",
        "previous_step_size = 1\n",
        "max_iters = 75 #maximum number of iterations \n",
        "iters = 0 # Iterration counter\n",
        "d_f = 116 # Gradient of our fuction\n",
        "j = []\n",
        "k = []\n",
        "l = gradient[0:75]\n",
        "res_a = l[::-1]\n",
        "#print(res_a)\n",
        "while previous_step_size > precission and iters < max_iters:\n",
        "  prev_x = current_value # store current x value in prev_x\n",
        "  current_value = round(current_value - rate*d_f) # Change in x\n",
        "  j.append(current_value)\n",
        "  iters = iters + 1 #Iteration count\n",
        "  k.append(iters)\n",
        "  #print(\"Iteration\", iters, \"\\nX value is\", current_value) # Print iterations\n",
        "#print(\"The local minimum occurs at\", current_value)\n",
        "#For row in fuji: \n",
        "# j.append((row[0]))\n",
        "# k.append((row[3]))\n",
        "plt.title(\"Dots cross section\")\n",
        "plt.xlabel(\"Iterations\")\n",
        "plt.ylabel(\"Change in altitude\")\n",
        "plt.plot(j, res_a)"
      ],
      "execution_count": null,
      "outputs": []
    },
    {
      "cell_type": "code",
      "metadata": {
        "id": "Ly7TZco1qEr3"
      },
      "source": [
        "#Problem 8\n",
        "import matplotlib.pyplot as plt\n",
        "%matplotlib inline\n",
        "current_value = 3434.59 # the algorithm starts at 3434.59\n",
        "rate = 0.5 # Learning rate\n",
        "precission = 0.000001 # This tells us when to stop the algorithm \n",
        "previous_step_size = 1\n",
        "max_iters = 40 #maximum number of iterations \n",
        "iters = 0 # Iterration counter\n",
        "d_f = 168 # Gradient of our fuction\n",
        "j = []\n",
        "k = []\n",
        "l = gradient[0:40]\n",
        "res_c = l[::-1]\n",
        "#print(res_c)\n",
        "while previous_step_size > precission and iters < max_iters:\n",
        "  prev_x = current_value # store current x value in prev_x\n",
        "  current_value = round(current_value - rate*d_f) # Vhange in x\n",
        "  j.append(current_value)\n",
        "  iters = iters + 1 #Iteration count\n",
        "  k.append(iters)\n",
        "  print(\"Iteration\", iters, \"\\nX value is\", current_value) # Print iterations\n",
        "#print(\"The local minimum occurs at\", current_value)\n",
        "print(\"By increasing the value of hyper parameter, we decrease the number of points.\")\n",
        "\n",
        "plt.title(\"Dots cross section\")\n",
        "plt.xlabel(\"Iterations\")\n",
        "plt.ylabel(\"Change in altitude\")\n",
        "plt.plot(j, res_c)"
      ],
      "execution_count": null,
      "outputs": []
    },
    {
      "cell_type": "code",
      "metadata": {
        "id": "E8sMw5SgXgrP"
      },
      "source": [
        ""
      ],
      "execution_count": null,
      "outputs": []
    }
  ]
}