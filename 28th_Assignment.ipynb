{
  "nbformat": 4,
  "nbformat_minor": 0,
  "metadata": {
    "colab": {
      "name": "28th Assignment.ipynb",
      "provenance": [],
      "collapsed_sections": [],
      "authorship_tag": "ABX9TyMJh+/Wm8m8ysf2V2Irv/eW",
      "include_colab_link": true
    },
    "kernelspec": {
      "name": "python3",
      "display_name": "Python 3"
    },
    "language_info": {
      "name": "python"
    }
  },
  "cells": [
    {
      "cell_type": "markdown",
      "metadata": {
        "id": "view-in-github",
        "colab_type": "text"
      },
      "source": [
        "<a href=\"https://colab.research.google.com/github/pafernannapi18/GithubIntro/blob/main/28th_Assignment.ipynb\" target=\"_parent\"><img src=\"https://colab.research.google.com/assets/colab-badge.svg\" alt=\"Open In Colab\"/></a>"
      ]
    },
    {
      "cell_type": "markdown",
      "source": [
        "## [Problem 1] Creating a one-dimensional convolutional layer class that limits the number of channels to one"
      ],
      "metadata": {
        "id": "SesMkQ6LQHKM"
      }
    },
    {
      "cell_type": "code",
      "execution_count": 2,
      "metadata": {
        "id": "o6EBrCj8PzP6"
      },
      "outputs": [],
      "source": [
        "class SimpleConv1d():\n",
        "  def forward (self, x, w, b):\n",
        "    a = []\n",
        "    for i in range(len(w)-1):\n",
        "      a.append((x[i:i+len(w)] @ w) + b[0])\n",
        "    return np.array(a)\n",
        "\n",
        "  def backward(self, x, w, da):\n",
        "    db = np.sum(da)\n",
        "    dw = []\n",
        "    for i in range(len(w)):\n",
        "      dw.append(da @ x[i:i +len(da)])\n",
        "    dw = np.array(dw)\n",
        "    dx = []\n",
        "    new_w = np.insert(w[::-1], 0, 0)\n",
        "    new_w = np.append(new_w, 0)\n",
        "    for i in range(len(new_w)-1):\n",
        "      dx.append(new_w[i:i+len(da)]@da)\n",
        "    dx = np.array(dx[::-1])\n",
        "    return db, dw, dx"
      ]
    },
    {
      "cell_type": "markdown",
      "source": [
        "## [Problem 2] Output size calculation after one-dimensional convolution"
      ],
      "metadata": {
        "id": "13M2ePbAQm5M"
      }
    },
    {
      "cell_type": "code",
      "source": [
        "def output_size_calculation(n_in, P, F, S):\n",
        "  n_out = int(((n_in + 2*P -F)/S)+1)\n",
        "  return n_out"
      ],
      "metadata": {
        "id": "8718JFG2QpQV"
      },
      "execution_count": 3,
      "outputs": []
    },
    {
      "cell_type": "markdown",
      "source": [
        "## [Problem 3] Experiment of one-dimensional convolutional layer with small array"
      ],
      "metadata": {
        "id": "l9BYDaYOQuyV"
      }
    },
    {
      "cell_type": "code",
      "source": [
        "import numpy as np\n",
        "x = np.array([1, 2, 3, 4])\n",
        "w = np.array([3, 5, 7])\n",
        "b= np.array([1])\n",
        "da = np.array([10, 20])"
      ],
      "metadata": {
        "id": "uH_J18OWQv4I"
      },
      "execution_count": 4,
      "outputs": []
    },
    {
      "cell_type": "code",
      "source": [
        "SC1D = SimpleConv1d()\n",
        "db, dw, dx = SC1D.backward(x, w, da)\n",
        "print(SC1D.forward(x, w, b)) \n",
        "print(db)\n",
        "print(dw)\n",
        "print(dx)"
      ],
      "metadata": {
        "colab": {
          "base_uri": "https://localhost:8080/"
        },
        "id": "jZ963z1LQy6F",
        "outputId": "d2f1a306-4390-4495-895a-0771b4f8314a"
      },
      "execution_count": 5,
      "outputs": [
        {
          "output_type": "stream",
          "name": "stdout",
          "text": [
            "[35 50]\n",
            "30\n",
            "[ 50  80 110]\n",
            "[ 30 110 170 140]\n"
          ]
        }
      ]
    },
    {
      "cell_type": "code",
      "source": [
        "class GetMiniBatch:\n",
        "  def __init__(self, X, y, batch_size=20, seed=0):\n",
        "    self.batch_size = batch_size\n",
        "    np.random.seed(seed)\n",
        "    shuffle_index = np.random.permutation(np.arange(X.shape[0]))\n",
        "    self._X = X[shuffle_index]\n",
        "    self._y = y[shuffle_index]\n",
        "    self._stop = np.ceil(X.shape[0]/self.batch_size).astype(np.int)\n",
        "\n",
        "  def __len__(self):\n",
        "    return self._stop\n",
        "\n",
        "  def __getitem__(self, item):\n",
        "    p0 = item*self.batch_size\n",
        "    p1 = item*self.batch_size + self.batch_size\n",
        "    return self._X[p0:p1], self._y[p0:p1]\n",
        "\n",
        "  def __iter__(self):\n",
        "    self._counter = 0\n",
        "    return self\n",
        "\n",
        "  def __next__(self):\n",
        "    if self._counter >= self._stop:\n",
        "      p0 = self._counter * self.batch_size\n",
        "      p1 = self._counter * self.batch_size + self.batch_size\n",
        "      self._counter += 1\n",
        "      return self._X[p0:p1], self._y[p0:p1]"
      ],
      "metadata": {
        "id": "MTeMYMKvQ8zQ"
      },
      "execution_count": 6,
      "outputs": []
    },
    {
      "cell_type": "code",
      "source": [
        "class SimpleInitializer:\n",
        "\n",
        "  def __init__(self, sigma):\n",
        "    self.sigma = sigma\n",
        "\n",
        "  def W(self, *shape):\n",
        "    W = self.sigma * np.random.randn(*shape)\n",
        "    return W\n",
        "\n",
        "  def B(self, *shape):\n",
        "    B = self.sigma * np.random.randn(*shape)\n",
        "    return B"
      ],
      "metadata": {
        "id": "JijautKkRLEB"
      },
      "execution_count": 7,
      "outputs": []
    },
    {
      "cell_type": "code",
      "source": [
        "class SGD:\n",
        "\n",
        "  def __init__(self, lr):\n",
        "    self.lr = lr \n",
        "\n",
        "  def update(self, layer):\n",
        "    layer.W -= self.lr * layer *dW/len(layer.Z)  \n",
        "    layer.B -= self.lr * layer *dB/len(layer.Z)\n",
        "    return layer"
      ],
      "metadata": {
        "id": "exP4sy10R5T1"
      },
      "execution_count": 8,
      "outputs": []
    },
    {
      "cell_type": "code",
      "source": [
        "class AdaGrad:\n",
        "\n",
        "  def __init__(self, lr):\n",
        "    self.lr = lr \n",
        "    self.HW = 1\n",
        "    self.HB = 1\n",
        "\n",
        "  def update(self, layer):\n",
        "    self.HW += layer.dW **2  \n",
        "    self.HB += layer.dB **2\n",
        "    layer.W -= self.lr * np.sqrt(1/self.HW)*layer.dW\n",
        "    layer.B -= self.lr * np.sqrt(1/self.HB)*layer.dB"
      ],
      "metadata": {
        "id": "DlYBApNqSEtZ"
      },
      "execution_count": 9,
      "outputs": []
    },
    {
      "cell_type": "code",
      "source": [
        "def output_size_calculation(n_in, F, P=0, S=1):\n",
        "  n_out = int(((n_in + 2*P - F)/ S) +1)\n",
        "  return n_out"
      ],
      "metadata": {
        "id": "4TONPaWSSJ9Q"
      },
      "execution_count": 10,
      "outputs": []
    },
    {
      "cell_type": "markdown",
      "source": [
        "Adding the number of channels"
      ],
      "metadata": {
        "id": "9_x1X54aSTfL"
      }
    },
    {
      "cell_type": "code",
      "source": [
        "class conv1d:\n",
        "\n",
        "  def __init__(self, b_size, initializer, optimizer, n_in_channels=1, n_out_channels=1, pa=0):\n",
        "    self.b_size = b_size\n",
        "    self.optimizer = optimizer\n",
        "    self.pa = pa\n",
        "    self.W = initializer.W(n_out_channels, n_in_channels, b_size)\n",
        "    self.B = initializer.B(n_out_channels)\n",
        "    self.n_in_channels = n_in_channels\n",
        "    self.n_out_channels = n_out_channels\n",
        "    self.n_out = None\n",
        "\n",
        "  def forward(self, X):\n",
        "    self.n_in = X.shape[-1]\n",
        "    self.n_out = output_size_calculation(self.n_in, self.b_size, self.pa)\n",
        "    X = X.reshape(self.n_in_channels, self.n_in)\n",
        "    self.X = np.pad(X, ((0,0),((self.b_size-1), 0)))\n",
        "    self.X1 = np.zeros((self.n_in_channels, self.b_size,self.n_in + (self.b_size-1)))\n",
        "    for i in range(self.b_size):\n",
        "      self.X1[:,i] = np.roll(self.X, -i, axis=-1)\n",
        "      A = np.sum(self.X1[:,:, self.b_size-1-self.pa:self.n_in + self.pa] * self.W[:,:,:, np.newaxis], axis=(1,2)) + self.B.reshape(-1,1)\n",
        "      return A\n",
        "\n",
        "  def backward(self, dA):\n",
        "    self.dW = np.sum(np.dot(dA, self.X1[:,:, self.b_size-1-self.pa:self.n_in+self.pa, np.newaxis]), axis=-1)\n",
        "    self.dB = np.sum(dA, axis=1)\n",
        "    self.dA = np.pad(dA, ((0,0), (0, (self.b_size-1))))\n",
        "    self.dA1 = np.zeros((self.n_out_channels, self.b_size, self.dA.shape[-1]))\n",
        "    for i in range(self.b_size):\n",
        "      self.dA1[:,i] = np.roll(self.dA, i, axis=1)\n",
        "    dx = np.sum(self.W@self.dA1, axis=0)\n",
        "    self.optimizer.update(self)\n",
        "    return dX"
      ],
      "metadata": {
        "id": "XhMRw5lQSf8d"
      },
      "execution_count": 11,
      "outputs": []
    },
    {
      "cell_type": "code",
      "source": [
        "test = conv1d(b_size=3, initializer=SimpleInitializer(0.01), optimizer=SGD(0.01), n_in_channels=2, n_out_channels=3, pa=0)"
      ],
      "metadata": {
        "id": "DluFXemtSqFz"
      },
      "execution_count": 12,
      "outputs": []
    },
    {
      "cell_type": "code",
      "source": [
        "x= np.array([[1, 2, 3, 4], [2, 3, 4, 5]])\n",
        "test.W = np.ones((3, 2, 3), dtype=float)\n",
        "test.B = np.array((1, 2, 3), dtype=float)"
      ],
      "metadata": {
        "id": "s_dQ9pI0SuwF"
      },
      "execution_count": 13,
      "outputs": []
    },
    {
      "cell_type": "code",
      "source": [
        "testing = test.forward(x)\n",
        "testing"
      ],
      "metadata": {
        "colab": {
          "base_uri": "https://localhost:8080/"
        },
        "id": "MyzkSHEiSzGa",
        "outputId": "852195e2-9de3-4dca-9cd4-2930e16d5cf6"
      },
      "execution_count": 14,
      "outputs": [
        {
          "output_type": "execute_result",
          "data": {
            "text/plain": [
              "array([[4., 6.],\n",
              "       [5., 7.],\n",
              "       [6., 8.]])"
            ]
          },
          "metadata": {},
          "execution_count": 14
        }
      ]
    },
    {
      "cell_type": "markdown",
      "source": [
        "## [Problem 7] (Advance assignment) Arbitrary number of strides"
      ],
      "metadata": {
        "id": "fhcERpBBTHMK"
      }
    },
    {
      "cell_type": "code",
      "source": [
        "class Conv1d_Arbitrary_Strides:\n",
        "\n",
        "  def __init__(self, b_size, initializer, optimizer, n_in_channels=1, n_out_channels=1, pa=0, stride=1):\n",
        "    self.b_size = b_size\n",
        "    self.optimizer = optimizer\n",
        "    self.pa = pa\n",
        "    self.stride = stride\n",
        "    self.W = initializer.W(n_out_channels, n_in_channels, b_size)\n",
        "    self.B = initializer.B(n_out_channels)\n",
        "    self.n_in_channels = n_in_channels\n",
        "    self.n_out_channels = n_out_channels\n",
        "    self.n_out = None\n",
        "\n",
        "  def forward(self, X):\n",
        "    self.n_samples = X.shape[0]\n",
        "    self.n_in = X.shape[-1]\n",
        "    self.n_out = output_size_calculation(self.n_in, self.b_size, self.pa, self.stride)\n",
        "    X = X.reshape(self.n_samples, self.n_in_channels, self.n_in)\n",
        "    self.X = np.pad(X, ((0,0), (0,0), ((self.b_size-1), 0)))\n",
        "    self.X1 = np.zeros((self.n_samples, self.n_in_channels, self.b_size, self.n_in + (self.b_size-1)))\n",
        "    for i in range(self.b_size):\n",
        "      self.X1[:,:,i] = np.roll(self.X, -i, axis=-1)\n",
        "      A = np.sum(self.X1[:, np.newaxis, :,:, self.b_size-1-self.pa:self.n_in + self.pa:self.stride] * self.W[:,:,:, np.newaxis], axis=(2,3)) + self.B.reshape(-1,1)\n",
        "      return A\n",
        "\n",
        "  def backward(self, dA):\n",
        "    self.dW = np.sum(dA[:,:, np.newaxis, np.newaxis]*self.X1[:,np.newaxis,:,:, self.b_size-1-self.pa:self.n_in + self.pa:self.stride], axis=(0, -1))\n",
        "    self.dB = np.sum(dA, axis=(0,-1))\n",
        "    self.dA = np.pad(dA, ((0,0), (0,0), (0, (self.b_size-1))))\n",
        "    self.dA1 = np.zeros((self.n_samples, self.n_out_channels, self.b_size, self.dA.shape[-1]))\n",
        "    for i in range(self.b_size):\n",
        "      self.dA1[:,:,i] = np.roll(self.dA, i, axis=-1)\n",
        "    dx = np.sum(self.W[:,:,:, np.newaxis]*self.dA1[:,:, np.newaxis], axis=(1,3))\n",
        "    self.optimizer.update(self)\n",
        "    return dX"
      ],
      "metadata": {
        "id": "4IR2me7-TIUt"
      },
      "execution_count": 15,
      "outputs": []
    },
    {
      "cell_type": "markdown",
      "source": [
        "Dataset preparation"
      ],
      "metadata": {
        "id": "kG7zCsRATVK_"
      }
    },
    {
      "cell_type": "code",
      "source": [
        "from keras.datasets import mnist\n",
        "from sklearn.preprocessing import OneHotEncoder\n",
        "from sklearn.metrics import accuracy_score\n",
        "from sklearn.metrics import precision_score\n",
        "from sklearn.metrics import recall_score\n",
        "from sklearn.metrics import f1_score\n",
        "from sklearn.metrics import confusion_matrix\n",
        "import matplotlib.pyplot as plt\n",
        "%matplotlib inline\n",
        "from sklearn.model_selection import train_test_split\n",
        "\n",
        "(X_train, y_train), (X_test, y_test) = mnist.load_data()\n",
        "\n",
        "X_train = X_train.reshape(-1,784)\n",
        "X_test = X_test.reshape(-1,784)\n",
        "\n",
        "X_train = X_train.astype(np.float)\n",
        "X_test = X_test.astype(np.float)\n",
        "X_train /=255\n",
        "X_test /=255\n",
        "\n",
        "enc = OneHotEncoder(handle_unknown='ignore', sparse=False)\n",
        "y_train_one_hot = enc.fit_transform(y_train[:, np.newaxis])\n",
        "y_test_one_hot = enc.transform(y_test[:, np.newaxis])\n",
        "print(X_train.shape) #(60,000)\n",
        "print(y_train_one_hot.shape) #(60000, 10)\n",
        "print(y_train_one_hot.dtype) #float64"
      ],
      "metadata": {
        "colab": {
          "base_uri": "https://localhost:8080/"
        },
        "id": "virDxIm0TQGs",
        "outputId": "cddf9952-5a81-4036-94e6-2b00717184a5"
      },
      "execution_count": 16,
      "outputs": [
        {
          "output_type": "stream",
          "name": "stdout",
          "text": [
            "Downloading data from https://storage.googleapis.com/tensorflow/tf-keras-datasets/mnist.npz\n",
            "11493376/11490434 [==============================] - 0s 0us/step\n",
            "11501568/11490434 [==============================] - 0s 0us/step\n",
            "(60000, 784)\n",
            "(60000, 10)\n",
            "float64\n"
          ]
        }
      ]
    },
    {
      "cell_type": "code",
      "source": [
        "X_train_, X_val, y_train_, y_val = train_test_split(X_train, y_train_one_hot, test_size=0.2)\n",
        "print(\"X_train.shape =\", X_train_.shape)\n",
        "print(\"X_val.shape =\", X_val.shape)\n",
        "print(\"y_train.shape =\", y_train_.shape)\n",
        "print(\"y_val.shape =\", y_val.shape)"
      ],
      "metadata": {
        "colab": {
          "base_uri": "https://localhost:8080/"
        },
        "id": "f47gdvkQTjZt",
        "outputId": "56163baf-be1b-4f1e-d930-e3ee992d6c20"
      },
      "execution_count": 17,
      "outputs": [
        {
          "output_type": "stream",
          "name": "stdout",
          "text": [
            "X_train.shape = (48000, 784)\n",
            "X_val.shape = (12000, 784)\n",
            "y_train.shape = (48000, 10)\n",
            "y_val.shape = (12000, 10)\n"
          ]
        }
      ]
    },
    {
      "cell_type": "code",
      "source": [
        "get_mini_batch = GetMiniBatch(X_train, y_train, batch_size=20)\n",
        "#for mini_X_train, mini_y_train in get_mini_batch:\n",
        "#  pass"
      ],
      "metadata": {
        "id": "7KfX3XnKTpUX"
      },
      "execution_count": 18,
      "outputs": []
    },
    {
      "cell_type": "code",
      "source": [
        "test2 = Conv1d_Arbitrary_Strides(b_size=3, initializer=SimpleInitializer(0.01), optimizer=SGD(0.01), n_in_channels=1, n_out_channels=1, pa=1)\n",
        "#testing2 = test2.forward(mini_X_train)\n",
        "#print(testing2.shape)"
      ],
      "metadata": {
        "id": "XjU1RQPDTtcc"
      },
      "execution_count": 19,
      "outputs": []
    },
    {
      "cell_type": "markdown",
      "source": [
        "## [Problem 8] Learning and estimation"
      ],
      "metadata": {
        "id": "tJrgoMLATxwk"
      }
    },
    {
      "cell_type": "code",
      "source": [
        "class Sigmoid:\n",
        "  def forward(self, A):\n",
        "    self.A = A \n",
        "    return self.sigmoid(A)\n",
        "\n",
        "  def backward(self, dZ):\n",
        "    _sig = self.sigmoid(self.A)\n",
        "    return dZ * (1 - _sig)*_sig \n",
        "\n",
        "  def sigmoid(self, X):\n",
        "    return 1/(1+ np.exp(-X))\n",
        "\n",
        "class Tanh:\n",
        "  def forward(self, A):\n",
        "    self.A = A\n",
        "    return np.tanh(A)\n",
        "\n",
        "  def backward(self, dZ):\n",
        "    return dZ * (1-(np.tanh(self.A))**2)\n",
        "\n",
        "class Softmax:\n",
        "  def forward(self, X):\n",
        "    self.Z = np.exp(X)/np.sum(np.exp(X), axis=1).reshape(-1,1)\n",
        "    return self.Z\n",
        "\n",
        "  def backward(self, Y):\n",
        "    self.loss = self.loss_func(Y)\n",
        "    return self.Z - Y \n",
        "\n",
        "  def loss_func(self, Y, Z=None):\n",
        "    if Z is None:\n",
        "      Z = self.Z\n",
        "    return (-1)* np.average(np.sum(Y*np.log(Z), axis= 1))\n",
        "\n",
        "class ReLU:\n",
        "  def forward(self, A):\n",
        "    self.A = A \n",
        "    return np.clip(A, 0, None)\n",
        "\n",
        "  def backward(self, dZ):\n",
        "    return dZ * np.clip(np.sign(self.A), 0, None)\n",
        "\n",
        "class FC:\n",
        "  def __init__(self, n_nodes1, n_nodes2, initializer, optimizer):\n",
        "    self.optimizer = optimizer\n",
        "    self.W = initializer.W(n_nodes1, n_nodes2)\n",
        "    self.B = initializer.B(n_nodes2)\n",
        "\n",
        "  def forward(self, X):\n",
        "    self.X = X\n",
        "    A = X @ self.W + self.B \n",
        "    return A \n",
        "\n",
        "  def backward(self, dA):\n",
        "    dZ = dA @ self.W.T\n",
        "    self.dB = np.sum(dA, axis=0)\n",
        "    self.dW = self.X.T @ dA\n",
        "    self.optimizer.update(self)\n",
        "    return dZ\n",
        "\n",
        "class XavierInitializer:\n",
        "  def W(self, n_nodes1, n_nodes2):\n",
        "    self.sigma = math.sqrt(1 / n_nodes1)\n",
        "    W = self.sigma*np.random.randn(n_nodes1, n_nodes2)\n",
        "    return W \n",
        "\n",
        "  def B(self, n_nodes2):\n",
        "    B = self.sigma*np.random.randn(n_nodes2)\n",
        "    return B \n",
        "\n",
        "class HeInitializer():\n",
        "  def W(self, n_nodes1, n_nodes2):\n",
        "    self.sigma = mat.sqrt(2 / n_nodes1)\n",
        "    W = self.sigma*np.random.randn(n_nodes1, n_nodes2)\n",
        "    return W \n",
        "\n",
        "  def B(self, n_nodes2):\n",
        "    B = self.sigma*np.random.randn(n_nodes2)\n",
        "    return B   \n",
        "\n",
        "class SGD:\n",
        "\n",
        "  def __init__(self, lr):\n",
        "    self.lr = lr\n",
        "\n",
        "  def update(self, layer):\n",
        "    layer.W -= self.lr* layer.dW\n",
        "    layer.B -= self.lr* layer.dB\n",
        "    return\n",
        "\n",
        "class AdaGrad:\n",
        "\n",
        "  def __init__(self, lr):\n",
        "    self.lr = lr\n",
        "    self.HW = 1\n",
        "    self.HB = 1 \n",
        "\n",
        "  def update(self, layer):\n",
        "    self.HW += layer.dW **2\n",
        "    self.HB += layer.dB **2\n",
        "    layer.W -=self.lr * np.sqrt(1/self.HW)*layer.dW\n",
        "    layer.B -=self.lr * np.sqrt(1/self.HB)*layer.dB \n",
        "    return layer"
      ],
      "metadata": {
        "id": "0rIMlvbdT1JV"
      },
      "execution_count": 20,
      "outputs": []
    },
    {
      "cell_type": "markdown",
      "source": [
        "Scratch CNN Classifier"
      ],
      "metadata": {
        "id": "9k_nY1IjUEK5"
      }
    },
    {
      "cell_type": "code",
      "source": [
        "import math\n",
        "class ScratchCNNClassifier:\n",
        "\n",
        "  def __init__(self, num_epoch=10, lr=0.01, batch_size=20, n_features=784, n_nodes1=400, n_nodes2=200, n_output=10, verbose=True, Activater= Tanh, Optimizer=AdaGrad):\n",
        "    self.num_epoch = num_epoch\n",
        "    self.lr = lr\n",
        "    self.verbose = verbose\n",
        "    self.batch_size = n_features\n",
        "    self.n_nodes2 = n_nodes2\n",
        "    self.n_output = n_output\n",
        "    self.Activater = Activater\n",
        "    if Activater==Sigmoid or Activater==Tanh:\n",
        "      self.Initializer = XavierInitializer\n",
        "    elif Activater==ReLU:\n",
        "      self.Initializer=HeInitializer\n",
        "    self.Optimizer = Optimizer\n",
        "\n",
        "  def fit(self, X, y, X_val=None, y_val=None):\n",
        "    self.val_enable = False\n",
        "    if X_val is not None:\n",
        "      self.val_enable = True\n",
        "    self.Conv1d_Arbitrary_Strides = Conv1d_Arbitrary_Strides(b_size=7, initializer=SimpleInitializer(0.01), optimizer=self.Optimizer(self.lr), n_in_channels=1, n_out_channels=1, pa=3,stride=2)\n",
        "    self.Conv1d_Arbitrary_Strides.n_out = output_size_calculation(X.shape[-1], self.Conv1d_Arbitrary_Strides.b_size, self.Conv1d_Arbitrary_Strides.pa, self.Conv1d_Arbitrary_Strides.stride)\n",
        "    self.activation1 = self.Activater()\n",
        "    self.FC2 = FC(1*self.Conv1d_Arbitrary_Strides.n_out, self.n_nodes2, self.Initializer(), self.Optimizer(self.lr))\n",
        "    self.activation2 = self.Activater()\n",
        "    self.FC3 = FC(self.n_nodes2, self.n_output, self.Initializer(), self.Optimizer(self.lr))  \n",
        "    self.activation3 = Softmax()\n",
        "\n",
        "    self.loss = []\n",
        "    self.loss_epoch = [self.activation3.loss_func(y, self.forward_propagation(X))]    \n",
        "\n",
        "    for _ in range(self.num_epoch):\n",
        "      get_mini_batch =GetMiniBatch(X, y, batch_size=self.batch_size)\n",
        "      self.iter = len(get_mini_batch)\n",
        "      for mini_X, mini_y in get_mini_batch:\n",
        "        self.forward_propagation(mini_X)\n",
        "        self.back_propagation(mini_X, mini_y)\n",
        "        self.loss.append(self.activation3.loss)\n",
        "      self.loss_epoch.append(self.activation3.loss_func(y, self.forward_propagation(X)))  \n",
        "\n",
        "  def predict(self, X):\n",
        "    return np.argmax(self.forward_propagation(X), axis=1)\n",
        "\n",
        "  def forward_propagation(self, X):\n",
        "    A1 = self.Conv1d_Arbitrary_Strides.forward(X)\n",
        "    A1 = A1.reshape(A1.shape[0], A1.shape[-1])\n",
        "    Z1 = self.activation1.forward(A1)\n",
        "    A2 = self.FC2.forward(Z1)\n",
        "    Z2 = self.activation2.forward(A2)\n",
        "    A3 = self.FC3.forward(Z2)\n",
        "    Z3 = self.activation3.forward(A3)\n",
        "    return Z3\n",
        "\n",
        "  def back_propagation(self, X, y_true):\n",
        "    dA3 = self.activation3.backward(y_true)\n",
        "    dZ2 = self.FC3.backward(dA3)\n",
        "    dA2 = self.activation2.backward(dZ2)\n",
        "    dZ1 = self.FC2.backward(dA2)\n",
        "    dA1 = self.activation1.backward(dZ1)\n",
        "    dA1 = dA1[:, np.newaxis]\n",
        "    dZ0 = self.Conv1d_Arbitrary_Strides.backward(dA1)  "
      ],
      "metadata": {
        "id": "LZXM4VXMUItF"
      },
      "execution_count": 21,
      "outputs": []
    },
    {
      "cell_type": "code",
      "source": [
        "test3 = ScratchCNNClassifier(num_epoch=20, lr=0.01, batch_size=20, n_features=784, n_nodes1=400, n_output=10, verbose=True, Activater=Tanh, Optimizer=SGD)\n",
        "test3.fit(X_train_, y_train_)"
      ],
      "metadata": {
        "colab": {
          "base_uri": "https://localhost:8080/",
          "height": 304
        },
        "id": "KSeZuHOtUdvU",
        "outputId": "4777fbef-db8d-4758-d193-0c74f1d10b02"
      },
      "execution_count": 24,
      "outputs": [
        {
          "output_type": "error",
          "ename": "TypeError",
          "evalue": "ignored",
          "traceback": [
            "\u001b[0;31m---------------------------------------------------------------------------\u001b[0m",
            "\u001b[0;31mTypeError\u001b[0m                                 Traceback (most recent call last)",
            "\u001b[0;32m<ipython-input-24-4db105f0445b>\u001b[0m in \u001b[0;36m<module>\u001b[0;34m()\u001b[0m\n\u001b[1;32m      1\u001b[0m \u001b[0mtest3\u001b[0m \u001b[0;34m=\u001b[0m \u001b[0mScratchCNNClassifier\u001b[0m\u001b[0;34m(\u001b[0m\u001b[0mnum_epoch\u001b[0m\u001b[0;34m=\u001b[0m\u001b[0;36m20\u001b[0m\u001b[0;34m,\u001b[0m \u001b[0mlr\u001b[0m\u001b[0;34m=\u001b[0m\u001b[0;36m0.01\u001b[0m\u001b[0;34m,\u001b[0m \u001b[0mbatch_size\u001b[0m\u001b[0;34m=\u001b[0m\u001b[0;36m20\u001b[0m\u001b[0;34m,\u001b[0m \u001b[0mn_features\u001b[0m\u001b[0;34m=\u001b[0m\u001b[0;36m784\u001b[0m\u001b[0;34m,\u001b[0m \u001b[0mn_nodes1\u001b[0m\u001b[0;34m=\u001b[0m\u001b[0;36m400\u001b[0m\u001b[0;34m,\u001b[0m \u001b[0mn_output\u001b[0m\u001b[0;34m=\u001b[0m\u001b[0;36m10\u001b[0m\u001b[0;34m,\u001b[0m \u001b[0mverbose\u001b[0m\u001b[0;34m=\u001b[0m\u001b[0;32mTrue\u001b[0m\u001b[0;34m,\u001b[0m \u001b[0mActivater\u001b[0m\u001b[0;34m=\u001b[0m\u001b[0mTanh\u001b[0m\u001b[0;34m,\u001b[0m \u001b[0mOptimizer\u001b[0m\u001b[0;34m=\u001b[0m\u001b[0mSGD\u001b[0m\u001b[0;34m)\u001b[0m\u001b[0;34m\u001b[0m\u001b[0;34m\u001b[0m\u001b[0m\n\u001b[0;32m----> 2\u001b[0;31m \u001b[0mtest3\u001b[0m\u001b[0;34m.\u001b[0m\u001b[0mfit\u001b[0m\u001b[0;34m(\u001b[0m\u001b[0mX_train_\u001b[0m\u001b[0;34m,\u001b[0m \u001b[0my_train_\u001b[0m\u001b[0;34m)\u001b[0m\u001b[0;34m\u001b[0m\u001b[0;34m\u001b[0m\u001b[0m\n\u001b[0m",
            "\u001b[0;32m<ipython-input-21-3313333a1e4e>\u001b[0m in \u001b[0;36mfit\u001b[0;34m(self, X, y, X_val, y_val)\u001b[0m\n\u001b[1;32m     34\u001b[0m       \u001b[0mget_mini_batch\u001b[0m \u001b[0;34m=\u001b[0m\u001b[0mGetMiniBatch\u001b[0m\u001b[0;34m(\u001b[0m\u001b[0mX\u001b[0m\u001b[0;34m,\u001b[0m \u001b[0my\u001b[0m\u001b[0;34m,\u001b[0m \u001b[0mbatch_size\u001b[0m\u001b[0;34m=\u001b[0m\u001b[0mself\u001b[0m\u001b[0;34m.\u001b[0m\u001b[0mbatch_size\u001b[0m\u001b[0;34m)\u001b[0m\u001b[0;34m\u001b[0m\u001b[0;34m\u001b[0m\u001b[0m\n\u001b[1;32m     35\u001b[0m       \u001b[0mself\u001b[0m\u001b[0;34m.\u001b[0m\u001b[0miter\u001b[0m \u001b[0;34m=\u001b[0m \u001b[0mlen\u001b[0m\u001b[0;34m(\u001b[0m\u001b[0mget_mini_batch\u001b[0m\u001b[0;34m)\u001b[0m\u001b[0;34m\u001b[0m\u001b[0;34m\u001b[0m\u001b[0m\n\u001b[0;32m---> 36\u001b[0;31m       \u001b[0;32mfor\u001b[0m \u001b[0mmini_X\u001b[0m\u001b[0;34m,\u001b[0m \u001b[0mmini_y\u001b[0m \u001b[0;32min\u001b[0m \u001b[0mget_mini_batch\u001b[0m\u001b[0;34m:\u001b[0m\u001b[0;34m\u001b[0m\u001b[0;34m\u001b[0m\u001b[0m\n\u001b[0m\u001b[1;32m     37\u001b[0m         \u001b[0mself\u001b[0m\u001b[0;34m.\u001b[0m\u001b[0mforward_propagation\u001b[0m\u001b[0;34m(\u001b[0m\u001b[0mmini_X\u001b[0m\u001b[0;34m)\u001b[0m\u001b[0;34m\u001b[0m\u001b[0;34m\u001b[0m\u001b[0m\n\u001b[1;32m     38\u001b[0m         \u001b[0mself\u001b[0m\u001b[0;34m.\u001b[0m\u001b[0mback_propagation\u001b[0m\u001b[0;34m(\u001b[0m\u001b[0mmini_X\u001b[0m\u001b[0;34m,\u001b[0m \u001b[0mmini_y\u001b[0m\u001b[0;34m)\u001b[0m\u001b[0;34m\u001b[0m\u001b[0;34m\u001b[0m\u001b[0m\n",
            "\u001b[0;31mTypeError\u001b[0m: cannot unpack non-iterable NoneType object"
          ]
        }
      ]
    },
    {
      "cell_type": "code",
      "source": [
        "y_pred = test3.predict(X_test)\n",
        "accuracy_score(y_test, y_pred)"
      ],
      "metadata": {
        "colab": {
          "base_uri": "https://localhost:8080/"
        },
        "id": "sW1By6B1Ur99",
        "outputId": "c38dd8fd-9ff2-4cdb-fcda-2bf6ceab61b9"
      },
      "execution_count": 23,
      "outputs": [
        {
          "output_type": "execute_result",
          "data": {
            "text/plain": [
              "0.1028"
            ]
          },
          "metadata": {},
          "execution_count": 23
        }
      ]
    }
  ]
}