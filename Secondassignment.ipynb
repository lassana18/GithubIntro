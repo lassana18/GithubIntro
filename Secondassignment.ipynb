{
  "nbformat": 4,
  "nbformat_minor": 0,
  "metadata": {
    "colab": {
      "name": "Secondassignment.ipynb",
      "provenance": [],
      "collapsed_sections": [],
      "authorship_tag": "ABX9TyOS7vm/zuBH1MfTJ4VSY6IO",
      "include_colab_link": true
    },
    "kernelspec": {
      "name": "python3",
      "display_name": "Python 3"
    },
    "language_info": {
      "name": "python"
    }
  },
  "cells": [
    {
      "cell_type": "markdown",
      "metadata": {
        "id": "view-in-github",
        "colab_type": "text"
      },
      "source": [
        "<a href=\"https://colab.research.google.com/github/pafernannapi18/GithubIntro/blob/main/Secondassignment.ipynb\" target=\"_parent\"><img src=\"https://colab.research.google.com/assets/colab-badge.svg\" alt=\"Open In Colab\"/></a>"
      ]
    },
    {
      "cell_type": "code",
      "metadata": {
        "colab": {
          "base_uri": "https://localhost:8080/",
          "height": 350
        },
        "id": "w9LYa37chPAQ",
        "outputId": "3597d6ee-88f4-4195-e091-11e79bc3ec15"
      },
      "source": [
        "import matplotlib.pyplot as plt\n",
        "%matplotlib inline\n",
        "#*** M is the number of rice received from the day 1 to 100th,  \n",
        "#*** C is the number of rice received in total on the 100th. \n",
        "# G= grain unit, \n",
        "#import time\n",
        "#start = time.time()\n",
        "G = 1 \n",
        "Grain = 1 \n",
        "M = []\n",
        "M.insert(0, 1)\n",
        "for b in range (100):\n",
        "   if b <= 100: \n",
        "    G = G * 2\n",
        "    C = (G*Grain)-1\n",
        "    M.append(C)\n",
        "else:\n",
        "        print(M)\n",
        "        print(C)\n",
        "        plt.title(\"Ricechallenge\")\n",
        "        plt.xlabel(\"number of days\")\n",
        "        plt.ylabel(\"number of grains\")\n",
        "        plt.plot(M)\n",
        "   "
      ],
      "execution_count": null,
      "outputs": [
        {
          "output_type": "stream",
          "name": "stdout",
          "text": [
            "[1, 1, 3, 7, 15, 31, 63, 127, 255, 511, 1023, 2047, 4095, 8191, 16383, 32767, 65535, 131071, 262143, 524287, 1048575, 2097151, 4194303, 8388607, 16777215, 33554431, 67108863, 134217727, 268435455, 536870911, 1073741823, 2147483647, 4294967295, 8589934591, 17179869183, 34359738367, 68719476735, 137438953471, 274877906943, 549755813887, 1099511627775, 2199023255551, 4398046511103, 8796093022207, 17592186044415, 35184372088831, 70368744177663, 140737488355327, 281474976710655, 562949953421311, 1125899906842623, 2251799813685247, 4503599627370495, 9007199254740991, 18014398509481983, 36028797018963967, 72057594037927935, 144115188075855871, 288230376151711743, 576460752303423487, 1152921504606846975, 2305843009213693951, 4611686018427387903, 9223372036854775807, 18446744073709551615, 36893488147419103231, 73786976294838206463, 147573952589676412927, 295147905179352825855, 590295810358705651711, 1180591620717411303423, 2361183241434822606847, 4722366482869645213695, 9444732965739290427391, 18889465931478580854783, 37778931862957161709567, 75557863725914323419135, 151115727451828646838271, 302231454903657293676543, 604462909807314587353087, 1208925819614629174706175, 2417851639229258349412351, 4835703278458516698824703, 9671406556917033397649407, 19342813113834066795298815, 38685626227668133590597631, 77371252455336267181195263, 154742504910672534362390527, 309485009821345068724781055, 618970019642690137449562111, 1237940039285380274899124223, 2475880078570760549798248447, 4951760157141521099596496895, 9903520314283042199192993791, 19807040628566084398385987583, 39614081257132168796771975167, 79228162514264337593543950335, 158456325028528675187087900671, 316912650057057350374175801343, 633825300114114700748351602687, 1267650600228229401496703205375]\n",
            "1267650600228229401496703205375\n"
          ]
        },
        {
          "output_type": "display_data",
          "data": {
            "image/png": "[encoded data removed]",
            "text/plain": [
              "<Figure size 432x288 with 1 Axes>"
            ]
          },
          "metadata": {
            "needs_background": "light"
          }
        }
      ]
    },
    {
      "cell_type": "code",
      "metadata": {
        "id": "TvuNDpa5EIAQ",
        "colab": {
          "base_uri": "https://localhost:8080/",
          "height": 1000
        },
        "outputId": "7ebc508f-8094-4f85-d937-5e664c06cef8"
      },
      "source": [
        "import matplotlib.pyplot as plt\n",
        "%matplotlib inline\n",
        "def compute_Sorori_anecdote(G, j, k, n):\n",
        "#*** M is the number of rice received from the day 1 to 100th,\n",
        "#*** C is the number of rice received in the number of days I take the course.\n",
        "# G is a grain_unit,\n",
        "   #***counting grains,  ***\n",
        "   M = []\n",
        "   M.insert(0,1)\n",
        "   for b in range (j):\n",
        "\n",
        "    if b <= k:\n",
        "\n",
        "      G = G * 2\n",
        "      C = (G*n)\n",
        "      M.append(C)\n",
        "   else:\n",
        "     C = C - 1\n",
        "     P = C//19200  \n",
        "     print(\"I wil receive\", C, \"in the number of days I take the course\" )\n",
        "     #print(M)\n",
        "     #print(C)\n",
        "     plt.title(\"Ricechallenge\")\n",
        "     plt.xlabel(\"number of days\")\n",
        "     plt.ylabel(\"number of grains\")\n",
        "     plt.plot(M)\n",
        "     plt.show\n",
        "  \n",
        "   return M, C\n",
        "compute_Sorori_anecdote(1, 169, 169, 1)\n",
        "     #print(\"Thickness: {: .2f}x{}, kilometers\".format((C / 10000000), Pkm))\n",
        "    #elapsed_time = time.time() - start\n",
        "#print(\"time : {}[s]\".format(elapsed_time))"
      ],
      "execution_count": 2,
      "outputs": [
        {
          "output_type": "stream",
          "name": "stdout",
          "text": [
            "I wil receive 748288838313422294120286634350736906063837462003711 in the number of days I take the course\n"
          ]
        },
        {
          "output_type": "execute_result",
          "data": {
            "text/plain": [
              "([1,\n",
              "  2,\n",
              "  4,\n",
              "  8,\n",
              "  16,\n",
              "  32,\n",
              "  64,\n",
              "  128,\n",
              "  256,\n",
              "  512,\n",
              "  1024,\n",
              "  2048,\n",
              "  4096,\n",
              "  8192,\n",
              "  16384,\n",
              "  32768,\n",
              "  65536,\n",
              "  131072,\n",
              "  262144,\n",
              "  524288,\n",
              "  1048576,\n",
              "  2097152,\n",
              "  4194304,\n",
              "  8388608,\n",
              "  16777216,\n",
              "  33554432,\n",
              "  67108864,\n",
              "  134217728,\n",
              "  268435456,\n",
              "  536870912,\n",
              "  1073741824,\n",
              "  2147483648,\n",
              "  4294967296,\n",
              "  8589934592,\n",
              "  17179869184,\n",
              "  34359738368,\n",
              "  68719476736,\n",
              "  137438953472,\n",
              "  274877906944,\n",
              "  549755813888,\n",
              "  1099511627776,\n",
              "  2199023255552,\n",
              "  4398046511104,\n",
              "  8796093022208,\n",
              "  17592186044416,\n",
              "  35184372088832,\n",
              "  70368744177664,\n",
              "  140737488355328,\n",
              "  281474976710656,\n",
              "  562949953421312,\n",
              "  1125899906842624,\n",
              "  2251799813685248,\n",
              "  4503599627370496,\n",
              "  9007199254740992,\n",
              "  18014398509481984,\n",
              "  36028797018963968,\n",
              "  72057594037927936,\n",
              "  144115188075855872,\n",
              "  288230376151711744,\n",
              "  576460752303423488,\n",
              "  1152921504606846976,\n",
              "  2305843009213693952,\n",
              "  4611686018427387904,\n",
              "  9223372036854775808,\n",
              "  18446744073709551616,\n",
              "  36893488147419103232,\n",
              "  73786976294838206464,\n",
              "  147573952589676412928,\n",
              "  295147905179352825856,\n",
              "  590295810358705651712,\n",
              "  1180591620717411303424,\n",
              "  2361183241434822606848,\n",
              "  4722366482869645213696,\n",
              "  9444732965739290427392,\n",
              "  18889465931478580854784,\n",
              "  37778931862957161709568,\n",
              "  75557863725914323419136,\n",
              "  151115727451828646838272,\n",
              "  302231454903657293676544,\n",
              "  604462909807314587353088,\n",
              "  1208925819614629174706176,\n",
              "  2417851639229258349412352,\n",
              "  4835703278458516698824704,\n",
              "  9671406556917033397649408,\n",
              "  19342813113834066795298816,\n",
              "  38685626227668133590597632,\n",
              "  77371252455336267181195264,\n",
              "  154742504910672534362390528,\n",
              "  309485009821345068724781056,\n",
              "  618970019642690137449562112,\n",
              "  1237940039285380274899124224,\n",
              "  2475880078570760549798248448,\n",
              "  4951760157141521099596496896,\n",
              "  9903520314283042199192993792,\n",
              "  19807040628566084398385987584,\n",
              "  39614081257132168796771975168,\n",
              "  79228162514264337593543950336,\n",
              "  158456325028528675187087900672,\n",
              "  316912650057057350374175801344,\n",
              "  633825300114114700748351602688,\n",
              "  1267650600228229401496703205376,\n",
              "  2535301200456458802993406410752,\n",
              "  5070602400912917605986812821504,\n",
              "  10141204801825835211973625643008,\n",
              "  20282409603651670423947251286016,\n",
              "  40564819207303340847894502572032,\n",
              "  81129638414606681695789005144064,\n",
              "  162259276829213363391578010288128,\n",
              "  324518553658426726783156020576256,\n",
              "  649037107316853453566312041152512,\n",
              "  1298074214633706907132624082305024,\n",
              "  2596148429267413814265248164610048,\n",
              "  5192296858534827628530496329220096,\n",
              "  10384593717069655257060992658440192,\n",
              "  20769187434139310514121985316880384,\n",
              "  41538374868278621028243970633760768,\n",
              "  83076749736557242056487941267521536,\n",
              "  166153499473114484112975882535043072,\n",
              "  332306998946228968225951765070086144,\n",
              "  664613997892457936451903530140172288,\n",
              "  1329227995784915872903807060280344576,\n",
              "  2658455991569831745807614120560689152,\n",
              "  5316911983139663491615228241121378304,\n",
              "  10633823966279326983230456482242756608,\n",
              "  21267647932558653966460912964485513216,\n",
              "  42535295865117307932921825928971026432,\n",
              "  85070591730234615865843651857942052864,\n",
              "  170141183460469231731687303715884105728,\n",
              "  340282366920938463463374607431768211456,\n",
              "  680564733841876926926749214863536422912,\n",
              "  1361129467683753853853498429727072845824,\n",
              "  2722258935367507707706996859454145691648,\n",
              "  5444517870735015415413993718908291383296,\n",
              "  10889035741470030830827987437816582766592,\n",
              "  21778071482940061661655974875633165533184,\n",
              "  43556142965880123323311949751266331066368,\n",
              "  87112285931760246646623899502532662132736,\n",
              "  174224571863520493293247799005065324265472,\n",
              "  348449143727040986586495598010130648530944,\n",
              "  696898287454081973172991196020261297061888,\n",
              "  1393796574908163946345982392040522594123776,\n",
              "  2787593149816327892691964784081045188247552,\n",
              "  5575186299632655785383929568162090376495104,\n",
              "  11150372599265311570767859136324180752990208,\n",
              "  22300745198530623141535718272648361505980416,\n",
              "  44601490397061246283071436545296723011960832,\n",
              "  89202980794122492566142873090593446023921664,\n",
              "  178405961588244985132285746181186892047843328,\n",
              "  356811923176489970264571492362373784095686656,\n",
              "  713623846352979940529142984724747568191373312,\n",
              "  1427247692705959881058285969449495136382746624,\n",
              "  2854495385411919762116571938898990272765493248,\n",
              "  5708990770823839524233143877797980545530986496,\n",
              "  11417981541647679048466287755595961091061972992,\n",
              "  22835963083295358096932575511191922182123945984,\n",
              "  45671926166590716193865151022383844364247891968,\n",
              "  91343852333181432387730302044767688728495783936,\n",
              "  182687704666362864775460604089535377456991567872,\n",
              "  365375409332725729550921208179070754913983135744,\n",
              "  730750818665451459101842416358141509827966271488,\n",
              "  1461501637330902918203684832716283019655932542976,\n",
              "  2923003274661805836407369665432566039311865085952,\n",
              "  5846006549323611672814739330865132078623730171904,\n",
              "  11692013098647223345629478661730264157247460343808,\n",
              "  23384026197294446691258957323460528314494920687616,\n",
              "  46768052394588893382517914646921056628989841375232,\n",
              "  93536104789177786765035829293842113257979682750464,\n",
              "  187072209578355573530071658587684226515959365500928,\n",
              "  374144419156711147060143317175368453031918731001856,\n",
              "  748288838313422294120286634350736906063837462003712],\n",
              " 748288838313422294120286634350736906063837462003711)"
            ]
          },
          "metadata": {},
          "execution_count": 2
        },
        {
          "output_type": "display_data",
          "data": {
            "image/png": "[encoded data removed]",
            "text/plain": [
              "<Figure size 432x288 with 1 Axes>"
            ]
          },
          "metadata": {
            "needs_background": "light"
          }
        }
      ]
    },
    {
      "cell_type": "code",
      "metadata": {
        "colab": {
          "base_uri": "https://localhost:8080/"
        },
        "id": "dUDI4p3nWoYd",
        "outputId": "9bafaf70-a632-4361-8e74-98fe1e532c07"
      },
      "source": [
        "import matplotlib.pyplot as plt\n",
        "%matplotlib inline\n",
        "def compute_Sorori_anecdote(G, j, k, n):\n",
        "\n",
        "   #***counting grains, M = ,  G= , P =   ***\n",
        "   #M = []\n",
        "   #M.insert(0,1)\n",
        "   for b in range (j):\n",
        "\n",
        "    if b <= k:\n",
        "\n",
        "      G = G * 2\n",
        "      C = (G*n)\n",
        "      #M.append(C)\n",
        "   else:\n",
        "     C = C - 1\n",
        "     P = C//(19200 * 2)\n",
        "     print(\"I wil receive\", C, \"in the number of days I take the course\" )\n",
        "     print(\"In this class there are two pleople, then the number of days  each one will live with the amount of rice received at the end of the course is\", P)  \n",
        "   #return M, C\n",
        "compute_Sorori_anecdote(1, 169, 169, 1)\n",
        "    \n"
      ],
      "execution_count": null,
      "outputs": [
        {
          "output_type": "stream",
          "name": "stdout",
          "text": [
            "I wil receive 748288838313422294120286634350736906063837462003711 in the number of days I take the course\n",
            "In this class there are two pleople, then the number of days  each one will live with the amount of rice received at the end of the course is 19486688497745372242715797769550440262079100573\n"
          ]
        }
      ]
    }
  ]
}