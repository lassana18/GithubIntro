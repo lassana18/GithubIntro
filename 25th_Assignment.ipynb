{
  "nbformat": 4,
  "nbformat_minor": 0,
  "metadata": {
    "colab": {
      "name": "25th Assignment.ipynb",
      "provenance": [],
      "collapsed_sections": [],
      "mount_file_id": "1IIDs3MvWShkGGptNaWFcroxbN9ij6owX",
      "authorship_tag": "ABX9TyPCKCih9oWVdArzCJ/71c/G",
      "include_colab_link": true
    },
    "kernelspec": {
      "name": "python3",
      "display_name": "Python 3"
    },
    "language_info": {
      "name": "python"
    }
  },
  "cells": [
    {
      "cell_type": "markdown",
      "metadata": {
        "id": "view-in-github",
        "colab_type": "text"
      },
      "source": [
        "<a href=\"https://colab.research.google.com/github/pafernannapi18/GithubIntro/blob/main/25th_Assignment.ipynb\" target=\"_parent\"><img src=\"https://colab.research.google.com/assets/colab-badge.svg\" alt=\"Open In Colab\"/></a>"
      ]
    },
    {
      "cell_type": "markdown",
      "metadata": {
        "id": "TQbnRdj8loKz"
      },
      "source": [
        "# Ensamble Learning from Scratch"
      ]
    },
    {
      "cell_type": "code",
      "metadata": {
        "id": "9gDdgZFjlVqy"
      },
      "source": [
        "#Import dependencies\n",
        "import numpy as np\n",
        "import pandas as pd\n",
        "from sklearn.model_selection import train_test_split\n",
        "from sklearn.model_selection import cross_val_predict\n",
        "from sklearn.metrics import mean_squared_error\n",
        "from sklearn.preprocessing import StandardScaler\n",
        "from sklearn.ensemble import RandomForestRegressor\n",
        "from sklearn import linear_model\n",
        "from sklearn.svm import SVR\n",
        "from sklearn.tree import DecisionTreeRegressor\n",
        "from sklearn.linear_model import LinearRegression\n",
        "from sklearn.ensemble import GradientBoostingRegressor\n",
        "import lightgbm as lgb\n",
        "import xgboost as xgb\n",
        "from sklearn.linear_model import Lasso\n",
        "from sklearn.linear_model import Ridge\n",
        "from sklearn.model_selection import KFold"
      ],
      "execution_count": 102,
      "outputs": []
    },
    {
      "cell_type": "code",
      "metadata": {
        "id": "v6aBDMzylwh3",
        "colab": {
          "base_uri": "https://localhost:8080/",
          "height": 253
        },
        "outputId": "9f1dfbaf-1367-452c-d1ab-4d7fb7854f8c"
      },
      "source": [
        "df = pd.read_csv(\"/content/drive/MyDrive/Train dataset/train.csv\")\n",
        "df.head()"
      ],
      "execution_count": 103,
      "outputs": [
        {
          "output_type": "execute_result",
          "data": {
            "text/html": [
              "<div>\n",
              "<style scoped>\n",
              "    .dataframe tbody tr th:only-of-type {\n",
              "        vertical-align: middle;\n",
              "    }\n",
              "\n",
              "    .dataframe tbody tr th {\n",
              "        vertical-align: top;\n",
              "    }\n",
              "\n",
              "    .dataframe thead th {\n",
              "        text-align: right;\n",
              "    }\n",
              "</style>\n",
              "<table border=\"1\" class=\"dataframe\">\n",
              "  <thead>\n",
              "    <tr style=\"text-align: right;\">\n",
              "      <th></th>\n",
              "      <th>Id</th>\n",
              "      <th>MSSubClass</th>\n",
              "      <th>MSZoning</th>\n",
              "      <th>LotFrontage</th>\n",
              "      <th>LotArea</th>\n",
              "      <th>Street</th>\n",
              "      <th>Alley</th>\n",
              "      <th>LotShape</th>\n",
              "      <th>LandContour</th>\n",
              "      <th>Utilities</th>\n",
              "      <th>LotConfig</th>\n",
              "      <th>LandSlope</th>\n",
              "      <th>Neighborhood</th>\n",
              "      <th>Condition1</th>\n",
              "      <th>Condition2</th>\n",
              "      <th>BldgType</th>\n",
              "      <th>HouseStyle</th>\n",
              "      <th>OverallQual</th>\n",
              "      <th>OverallCond</th>\n",
              "      <th>YearBuilt</th>\n",
              "      <th>YearRemodAdd</th>\n",
              "      <th>RoofStyle</th>\n",
              "      <th>RoofMatl</th>\n",
              "      <th>Exterior1st</th>\n",
              "      <th>Exterior2nd</th>\n",
              "      <th>MasVnrType</th>\n",
              "      <th>MasVnrArea</th>\n",
              "      <th>ExterQual</th>\n",
              "      <th>ExterCond</th>\n",
              "      <th>Foundation</th>\n",
              "      <th>BsmtQual</th>\n",
              "      <th>BsmtCond</th>\n",
              "      <th>BsmtExposure</th>\n",
              "      <th>BsmtFinType1</th>\n",
              "      <th>BsmtFinSF1</th>\n",
              "      <th>BsmtFinType2</th>\n",
              "      <th>BsmtFinSF2</th>\n",
              "      <th>BsmtUnfSF</th>\n",
              "      <th>TotalBsmtSF</th>\n",
              "      <th>Heating</th>\n",
              "      <th>...</th>\n",
              "      <th>CentralAir</th>\n",
              "      <th>Electrical</th>\n",
              "      <th>1stFlrSF</th>\n",
              "      <th>2ndFlrSF</th>\n",
              "      <th>LowQualFinSF</th>\n",
              "      <th>GrLivArea</th>\n",
              "      <th>BsmtFullBath</th>\n",
              "      <th>BsmtHalfBath</th>\n",
              "      <th>FullBath</th>\n",
              "      <th>HalfBath</th>\n",
              "      <th>BedroomAbvGr</th>\n",
              "      <th>KitchenAbvGr</th>\n",
              "      <th>KitchenQual</th>\n",
              "      <th>TotRmsAbvGrd</th>\n",
              "      <th>Functional</th>\n",
              "      <th>Fireplaces</th>\n",
              "      <th>FireplaceQu</th>\n",
              "      <th>GarageType</th>\n",
              "      <th>GarageYrBlt</th>\n",
              "      <th>GarageFinish</th>\n",
              "      <th>GarageCars</th>\n",
              "      <th>GarageArea</th>\n",
              "      <th>GarageQual</th>\n",
              "      <th>GarageCond</th>\n",
              "      <th>PavedDrive</th>\n",
              "      <th>WoodDeckSF</th>\n",
              "      <th>OpenPorchSF</th>\n",
              "      <th>EnclosedPorch</th>\n",
              "      <th>3SsnPorch</th>\n",
              "      <th>ScreenPorch</th>\n",
              "      <th>PoolArea</th>\n",
              "      <th>PoolQC</th>\n",
              "      <th>Fence</th>\n",
              "      <th>MiscFeature</th>\n",
              "      <th>MiscVal</th>\n",
              "      <th>MoSold</th>\n",
              "      <th>YrSold</th>\n",
              "      <th>SaleType</th>\n",
              "      <th>SaleCondition</th>\n",
              "      <th>SalePrice</th>\n",
              "    </tr>\n",
              "  </thead>\n",
              "  <tbody>\n",
              "    <tr>\n",
              "      <th>0</th>\n",
              "      <td>1</td>\n",
              "      <td>60</td>\n",
              "      <td>RL</td>\n",
              "      <td>65.0</td>\n",
              "      <td>8450</td>\n",
              "      <td>Pave</td>\n",
              "      <td>NaN</td>\n",
              "      <td>Reg</td>\n",
              "      <td>Lvl</td>\n",
              "      <td>AllPub</td>\n",
              "      <td>Inside</td>\n",
              "      <td>Gtl</td>\n",
              "      <td>CollgCr</td>\n",
              "      <td>Norm</td>\n",
              "      <td>Norm</td>\n",
              "      <td>1Fam</td>\n",
              "      <td>2Story</td>\n",
              "      <td>7</td>\n",
              "      <td>5</td>\n",
              "      <td>2003</td>\n",
              "      <td>2003</td>\n",
              "      <td>Gable</td>\n",
              "      <td>CompShg</td>\n",
              "      <td>VinylSd</td>\n",
              "      <td>VinylSd</td>\n",
              "      <td>BrkFace</td>\n",
              "      <td>196.0</td>\n",
              "      <td>Gd</td>\n",
              "      <td>TA</td>\n",
              "      <td>PConc</td>\n",
              "      <td>Gd</td>\n",
              "      <td>TA</td>\n",
              "      <td>No</td>\n",
              "      <td>GLQ</td>\n",
              "      <td>706</td>\n",
              "      <td>Unf</td>\n",
              "      <td>0</td>\n",
              "      <td>150</td>\n",
              "      <td>856</td>\n",
              "      <td>GasA</td>\n",
              "      <td>...</td>\n",
              "      <td>Y</td>\n",
              "      <td>SBrkr</td>\n",
              "      <td>856</td>\n",
              "      <td>854</td>\n",
              "      <td>0</td>\n",
              "      <td>1710</td>\n",
              "      <td>1</td>\n",
              "      <td>0</td>\n",
              "      <td>2</td>\n",
              "      <td>1</td>\n",
              "      <td>3</td>\n",
              "      <td>1</td>\n",
              "      <td>Gd</td>\n",
              "      <td>8</td>\n",
              "      <td>Typ</td>\n",
              "      <td>0</td>\n",
              "      <td>NaN</td>\n",
              "      <td>Attchd</td>\n",
              "      <td>2003.0</td>\n",
              "      <td>RFn</td>\n",
              "      <td>2</td>\n",
              "      <td>548</td>\n",
              "      <td>TA</td>\n",
              "      <td>TA</td>\n",
              "      <td>Y</td>\n",
              "      <td>0</td>\n",
              "      <td>61</td>\n",
              "      <td>0</td>\n",
              "      <td>0</td>\n",
              "      <td>0</td>\n",
              "      <td>0</td>\n",
              "      <td>NaN</td>\n",
              "      <td>NaN</td>\n",
              "      <td>NaN</td>\n",
              "      <td>0</td>\n",
              "      <td>2</td>\n",
              "      <td>2008</td>\n",
              "      <td>WD</td>\n",
              "      <td>Normal</td>\n",
              "      <td>208500</td>\n",
              "    </tr>\n",
              "    <tr>\n",
              "      <th>1</th>\n",
              "      <td>2</td>\n",
              "      <td>20</td>\n",
              "      <td>RL</td>\n",
              "      <td>80.0</td>\n",
              "      <td>9600</td>\n",
              "      <td>Pave</td>\n",
              "      <td>NaN</td>\n",
              "      <td>Reg</td>\n",
              "      <td>Lvl</td>\n",
              "      <td>AllPub</td>\n",
              "      <td>FR2</td>\n",
              "      <td>Gtl</td>\n",
              "      <td>Veenker</td>\n",
              "      <td>Feedr</td>\n",
              "      <td>Norm</td>\n",
              "      <td>1Fam</td>\n",
              "      <td>1Story</td>\n",
              "      <td>6</td>\n",
              "      <td>8</td>\n",
              "      <td>1976</td>\n",
              "      <td>1976</td>\n",
              "      <td>Gable</td>\n",
              "      <td>CompShg</td>\n",
              "      <td>MetalSd</td>\n",
              "      <td>MetalSd</td>\n",
              "      <td>None</td>\n",
              "      <td>0.0</td>\n",
              "      <td>TA</td>\n",
              "      <td>TA</td>\n",
              "      <td>CBlock</td>\n",
              "      <td>Gd</td>\n",
              "      <td>TA</td>\n",
              "      <td>Gd</td>\n",
              "      <td>ALQ</td>\n",
              "      <td>978</td>\n",
              "      <td>Unf</td>\n",
              "      <td>0</td>\n",
              "      <td>284</td>\n",
              "      <td>1262</td>\n",
              "      <td>GasA</td>\n",
              "      <td>...</td>\n",
              "      <td>Y</td>\n",
              "      <td>SBrkr</td>\n",
              "      <td>1262</td>\n",
              "      <td>0</td>\n",
              "      <td>0</td>\n",
              "      <td>1262</td>\n",
              "      <td>0</td>\n",
              "      <td>1</td>\n",
              "      <td>2</td>\n",
              "      <td>0</td>\n",
              "      <td>3</td>\n",
              "      <td>1</td>\n",
              "      <td>TA</td>\n",
              "      <td>6</td>\n",
              "      <td>Typ</td>\n",
              "      <td>1</td>\n",
              "      <td>TA</td>\n",
              "      <td>Attchd</td>\n",
              "      <td>1976.0</td>\n",
              "      <td>RFn</td>\n",
              "      <td>2</td>\n",
              "      <td>460</td>\n",
              "      <td>TA</td>\n",
              "      <td>TA</td>\n",
              "      <td>Y</td>\n",
              "      <td>298</td>\n",
              "      <td>0</td>\n",
              "      <td>0</td>\n",
              "      <td>0</td>\n",
              "      <td>0</td>\n",
              "      <td>0</td>\n",
              "      <td>NaN</td>\n",
              "      <td>NaN</td>\n",
              "      <td>NaN</td>\n",
              "      <td>0</td>\n",
              "      <td>5</td>\n",
              "      <td>2007</td>\n",
              "      <td>WD</td>\n",
              "      <td>Normal</td>\n",
              "      <td>181500</td>\n",
              "    </tr>\n",
              "    <tr>\n",
              "      <th>2</th>\n",
              "      <td>3</td>\n",
              "      <td>60</td>\n",
              "      <td>RL</td>\n",
              "      <td>68.0</td>\n",
              "      <td>11250</td>\n",
              "      <td>Pave</td>\n",
              "      <td>NaN</td>\n",
              "      <td>IR1</td>\n",
              "      <td>Lvl</td>\n",
              "      <td>AllPub</td>\n",
              "      <td>Inside</td>\n",
              "      <td>Gtl</td>\n",
              "      <td>CollgCr</td>\n",
              "      <td>Norm</td>\n",
              "      <td>Norm</td>\n",
              "      <td>1Fam</td>\n",
              "      <td>2Story</td>\n",
              "      <td>7</td>\n",
              "      <td>5</td>\n",
              "      <td>2001</td>\n",
              "      <td>2002</td>\n",
              "      <td>Gable</td>\n",
              "      <td>CompShg</td>\n",
              "      <td>VinylSd</td>\n",
              "      <td>VinylSd</td>\n",
              "      <td>BrkFace</td>\n",
              "      <td>162.0</td>\n",
              "      <td>Gd</td>\n",
              "      <td>TA</td>\n",
              "      <td>PConc</td>\n",
              "      <td>Gd</td>\n",
              "      <td>TA</td>\n",
              "      <td>Mn</td>\n",
              "      <td>GLQ</td>\n",
              "      <td>486</td>\n",
              "      <td>Unf</td>\n",
              "      <td>0</td>\n",
              "      <td>434</td>\n",
              "      <td>920</td>\n",
              "      <td>GasA</td>\n",
              "      <td>...</td>\n",
              "      <td>Y</td>\n",
              "      <td>SBrkr</td>\n",
              "      <td>920</td>\n",
              "      <td>866</td>\n",
              "      <td>0</td>\n",
              "      <td>1786</td>\n",
              "      <td>1</td>\n",
              "      <td>0</td>\n",
              "      <td>2</td>\n",
              "      <td>1</td>\n",
              "      <td>3</td>\n",
              "      <td>1</td>\n",
              "      <td>Gd</td>\n",
              "      <td>6</td>\n",
              "      <td>Typ</td>\n",
              "      <td>1</td>\n",
              "      <td>TA</td>\n",
              "      <td>Attchd</td>\n",
              "      <td>2001.0</td>\n",
              "      <td>RFn</td>\n",
              "      <td>2</td>\n",
              "      <td>608</td>\n",
              "      <td>TA</td>\n",
              "      <td>TA</td>\n",
              "      <td>Y</td>\n",
              "      <td>0</td>\n",
              "      <td>42</td>\n",
              "      <td>0</td>\n",
              "      <td>0</td>\n",
              "      <td>0</td>\n",
              "      <td>0</td>\n",
              "      <td>NaN</td>\n",
              "      <td>NaN</td>\n",
              "      <td>NaN</td>\n",
              "      <td>0</td>\n",
              "      <td>9</td>\n",
              "      <td>2008</td>\n",
              "      <td>WD</td>\n",
              "      <td>Normal</td>\n",
              "      <td>223500</td>\n",
              "    </tr>\n",
              "    <tr>\n",
              "      <th>3</th>\n",
              "      <td>4</td>\n",
              "      <td>70</td>\n",
              "      <td>RL</td>\n",
              "      <td>60.0</td>\n",
              "      <td>9550</td>\n",
              "      <td>Pave</td>\n",
              "      <td>NaN</td>\n",
              "      <td>IR1</td>\n",
              "      <td>Lvl</td>\n",
              "      <td>AllPub</td>\n",
              "      <td>Corner</td>\n",
              "      <td>Gtl</td>\n",
              "      <td>Crawfor</td>\n",
              "      <td>Norm</td>\n",
              "      <td>Norm</td>\n",
              "      <td>1Fam</td>\n",
              "      <td>2Story</td>\n",
              "      <td>7</td>\n",
              "      <td>5</td>\n",
              "      <td>1915</td>\n",
              "      <td>1970</td>\n",
              "      <td>Gable</td>\n",
              "      <td>CompShg</td>\n",
              "      <td>Wd Sdng</td>\n",
              "      <td>Wd Shng</td>\n",
              "      <td>None</td>\n",
              "      <td>0.0</td>\n",
              "      <td>TA</td>\n",
              "      <td>TA</td>\n",
              "      <td>BrkTil</td>\n",
              "      <td>TA</td>\n",
              "      <td>Gd</td>\n",
              "      <td>No</td>\n",
              "      <td>ALQ</td>\n",
              "      <td>216</td>\n",
              "      <td>Unf</td>\n",
              "      <td>0</td>\n",
              "      <td>540</td>\n",
              "      <td>756</td>\n",
              "      <td>GasA</td>\n",
              "      <td>...</td>\n",
              "      <td>Y</td>\n",
              "      <td>SBrkr</td>\n",
              "      <td>961</td>\n",
              "      <td>756</td>\n",
              "      <td>0</td>\n",
              "      <td>1717</td>\n",
              "      <td>1</td>\n",
              "      <td>0</td>\n",
              "      <td>1</td>\n",
              "      <td>0</td>\n",
              "      <td>3</td>\n",
              "      <td>1</td>\n",
              "      <td>Gd</td>\n",
              "      <td>7</td>\n",
              "      <td>Typ</td>\n",
              "      <td>1</td>\n",
              "      <td>Gd</td>\n",
              "      <td>Detchd</td>\n",
              "      <td>1998.0</td>\n",
              "      <td>Unf</td>\n",
              "      <td>3</td>\n",
              "      <td>642</td>\n",
              "      <td>TA</td>\n",
              "      <td>TA</td>\n",
              "      <td>Y</td>\n",
              "      <td>0</td>\n",
              "      <td>35</td>\n",
              "      <td>272</td>\n",
              "      <td>0</td>\n",
              "      <td>0</td>\n",
              "      <td>0</td>\n",
              "      <td>NaN</td>\n",
              "      <td>NaN</td>\n",
              "      <td>NaN</td>\n",
              "      <td>0</td>\n",
              "      <td>2</td>\n",
              "      <td>2006</td>\n",
              "      <td>WD</td>\n",
              "      <td>Abnorml</td>\n",
              "      <td>140000</td>\n",
              "    </tr>\n",
              "    <tr>\n",
              "      <th>4</th>\n",
              "      <td>5</td>\n",
              "      <td>60</td>\n",
              "      <td>RL</td>\n",
              "      <td>84.0</td>\n",
              "      <td>14260</td>\n",
              "      <td>Pave</td>\n",
              "      <td>NaN</td>\n",
              "      <td>IR1</td>\n",
              "      <td>Lvl</td>\n",
              "      <td>AllPub</td>\n",
              "      <td>FR2</td>\n",
              "      <td>Gtl</td>\n",
              "      <td>NoRidge</td>\n",
              "      <td>Norm</td>\n",
              "      <td>Norm</td>\n",
              "      <td>1Fam</td>\n",
              "      <td>2Story</td>\n",
              "      <td>8</td>\n",
              "      <td>5</td>\n",
              "      <td>2000</td>\n",
              "      <td>2000</td>\n",
              "      <td>Gable</td>\n",
              "      <td>CompShg</td>\n",
              "      <td>VinylSd</td>\n",
              "      <td>VinylSd</td>\n",
              "      <td>BrkFace</td>\n",
              "      <td>350.0</td>\n",
              "      <td>Gd</td>\n",
              "      <td>TA</td>\n",
              "      <td>PConc</td>\n",
              "      <td>Gd</td>\n",
              "      <td>TA</td>\n",
              "      <td>Av</td>\n",
              "      <td>GLQ</td>\n",
              "      <td>655</td>\n",
              "      <td>Unf</td>\n",
              "      <td>0</td>\n",
              "      <td>490</td>\n",
              "      <td>1145</td>\n",
              "      <td>GasA</td>\n",
              "      <td>...</td>\n",
              "      <td>Y</td>\n",
              "      <td>SBrkr</td>\n",
              "      <td>1145</td>\n",
              "      <td>1053</td>\n",
              "      <td>0</td>\n",
              "      <td>2198</td>\n",
              "      <td>1</td>\n",
              "      <td>0</td>\n",
              "      <td>2</td>\n",
              "      <td>1</td>\n",
              "      <td>4</td>\n",
              "      <td>1</td>\n",
              "      <td>Gd</td>\n",
              "      <td>9</td>\n",
              "      <td>Typ</td>\n",
              "      <td>1</td>\n",
              "      <td>TA</td>\n",
              "      <td>Attchd</td>\n",
              "      <td>2000.0</td>\n",
              "      <td>RFn</td>\n",
              "      <td>3</td>\n",
              "      <td>836</td>\n",
              "      <td>TA</td>\n",
              "      <td>TA</td>\n",
              "      <td>Y</td>\n",
              "      <td>192</td>\n",
              "      <td>84</td>\n",
              "      <td>0</td>\n",
              "      <td>0</td>\n",
              "      <td>0</td>\n",
              "      <td>0</td>\n",
              "      <td>NaN</td>\n",
              "      <td>NaN</td>\n",
              "      <td>NaN</td>\n",
              "      <td>0</td>\n",
              "      <td>12</td>\n",
              "      <td>2008</td>\n",
              "      <td>WD</td>\n",
              "      <td>Normal</td>\n",
              "      <td>250000</td>\n",
              "    </tr>\n",
              "  </tbody>\n",
              "</table>\n",
              "<p>5 rows × 81 columns</p>\n",
              "</div>"
            ],
            "text/plain": [
              "   Id  MSSubClass MSZoning  ...  SaleType  SaleCondition SalePrice\n",
              "0   1          60       RL  ...        WD         Normal    208500\n",
              "1   2          20       RL  ...        WD         Normal    181500\n",
              "2   3          60       RL  ...        WD         Normal    223500\n",
              "3   4          70       RL  ...        WD        Abnorml    140000\n",
              "4   5          60       RL  ...        WD         Normal    250000\n",
              "\n",
              "[5 rows x 81 columns]"
            ]
          },
          "metadata": {},
          "execution_count": 103
        }
      ]
    },
    {
      "cell_type": "code",
      "metadata": {
        "colab": {
          "base_uri": "https://localhost:8080/",
          "height": 204
        },
        "id": "lSqGOZZ5mWzC",
        "outputId": "13706c0d-b568-4456-9407-810a2a56dd2c"
      },
      "source": [
        "X = df[['GrLivArea', 'YearBuilt']]\n",
        "X.head()"
      ],
      "execution_count": 104,
      "outputs": [
        {
          "output_type": "execute_result",
          "data": {
            "text/html": [
              "<div>\n",
              "<style scoped>\n",
              "    .dataframe tbody tr th:only-of-type {\n",
              "        vertical-align: middle;\n",
              "    }\n",
              "\n",
              "    .dataframe tbody tr th {\n",
              "        vertical-align: top;\n",
              "    }\n",
              "\n",
              "    .dataframe thead th {\n",
              "        text-align: right;\n",
              "    }\n",
              "</style>\n",
              "<table border=\"1\" class=\"dataframe\">\n",
              "  <thead>\n",
              "    <tr style=\"text-align: right;\">\n",
              "      <th></th>\n",
              "      <th>GrLivArea</th>\n",
              "      <th>YearBuilt</th>\n",
              "    </tr>\n",
              "  </thead>\n",
              "  <tbody>\n",
              "    <tr>\n",
              "      <th>0</th>\n",
              "      <td>1710</td>\n",
              "      <td>2003</td>\n",
              "    </tr>\n",
              "    <tr>\n",
              "      <th>1</th>\n",
              "      <td>1262</td>\n",
              "      <td>1976</td>\n",
              "    </tr>\n",
              "    <tr>\n",
              "      <th>2</th>\n",
              "      <td>1786</td>\n",
              "      <td>2001</td>\n",
              "    </tr>\n",
              "    <tr>\n",
              "      <th>3</th>\n",
              "      <td>1717</td>\n",
              "      <td>1915</td>\n",
              "    </tr>\n",
              "    <tr>\n",
              "      <th>4</th>\n",
              "      <td>2198</td>\n",
              "      <td>2000</td>\n",
              "    </tr>\n",
              "  </tbody>\n",
              "</table>\n",
              "</div>"
            ],
            "text/plain": [
              "   GrLivArea  YearBuilt\n",
              "0       1710       2003\n",
              "1       1262       1976\n",
              "2       1786       2001\n",
              "3       1717       1915\n",
              "4       2198       2000"
            ]
          },
          "metadata": {},
          "execution_count": 104
        }
      ]
    },
    {
      "cell_type": "code",
      "metadata": {
        "colab": {
          "base_uri": "https://localhost:8080/"
        },
        "id": "I-dNh4zzmaHa",
        "outputId": "20ba14f2-b7be-4e90-e61e-c641cb1f172f"
      },
      "source": [
        "y = df['SalePrice']\n",
        "y.head()"
      ],
      "execution_count": 105,
      "outputs": [
        {
          "output_type": "execute_result",
          "data": {
            "text/plain": [
              "0    208500\n",
              "1    181500\n",
              "2    223500\n",
              "3    140000\n",
              "4    250000\n",
              "Name: SalePrice, dtype: int64"
            ]
          },
          "metadata": {},
          "execution_count": 105
        }
      ]
    },
    {
      "cell_type": "markdown",
      "metadata": {
        "id": "PQDarlhpmdoF"
      },
      "source": [
        "# Blending"
      ]
    },
    {
      "cell_type": "code",
      "metadata": {
        "colab": {
          "base_uri": "https://localhost:8080/",
          "height": 204
        },
        "id": "979YCcTemf-I",
        "outputId": "6efe6a2f-dbca-455b-bc7e-02efa66c0712"
      },
      "source": [
        "(X_train, X_test, y_train, y_test) = train_test_split(X, y, test_size=0.3, random_state=0, shuffle=True)\n",
        "X_train.head()"
      ],
      "execution_count": 106,
      "outputs": [
        {
          "output_type": "execute_result",
          "data": {
            "text/html": [
              "<div>\n",
              "<style scoped>\n",
              "    .dataframe tbody tr th:only-of-type {\n",
              "        vertical-align: middle;\n",
              "    }\n",
              "\n",
              "    .dataframe tbody tr th {\n",
              "        vertical-align: top;\n",
              "    }\n",
              "\n",
              "    .dataframe thead th {\n",
              "        text-align: right;\n",
              "    }\n",
              "</style>\n",
              "<table border=\"1\" class=\"dataframe\">\n",
              "  <thead>\n",
              "    <tr style=\"text-align: right;\">\n",
              "      <th></th>\n",
              "      <th>GrLivArea</th>\n",
              "      <th>YearBuilt</th>\n",
              "    </tr>\n",
              "  </thead>\n",
              "  <tbody>\n",
              "    <tr>\n",
              "      <th>64</th>\n",
              "      <td>2034</td>\n",
              "      <td>1997</td>\n",
              "    </tr>\n",
              "    <tr>\n",
              "      <th>682</th>\n",
              "      <td>1291</td>\n",
              "      <td>1996</td>\n",
              "    </tr>\n",
              "    <tr>\n",
              "      <th>960</th>\n",
              "      <td>858</td>\n",
              "      <td>1958</td>\n",
              "    </tr>\n",
              "    <tr>\n",
              "      <th>1384</th>\n",
              "      <td>1258</td>\n",
              "      <td>1939</td>\n",
              "    </tr>\n",
              "    <tr>\n",
              "      <th>1100</th>\n",
              "      <td>438</td>\n",
              "      <td>1920</td>\n",
              "    </tr>\n",
              "  </tbody>\n",
              "</table>\n",
              "</div>"
            ],
            "text/plain": [
              "      GrLivArea  YearBuilt\n",
              "64         2034       1997\n",
              "682        1291       1996\n",
              "960         858       1958\n",
              "1384       1258       1939\n",
              "1100        438       1920"
            ]
          },
          "metadata": {},
          "execution_count": 106
        }
      ]
    },
    {
      "cell_type": "code",
      "metadata": {
        "colab": {
          "base_uri": "https://localhost:8080/"
        },
        "id": "CzuLwC9umlwP",
        "outputId": "9ad388d1-e405-4804-814a-2e9f73d69fe3"
      },
      "source": [
        "LM = linear_model.LinearRegression(normalize=True)\n",
        "LM.fit(X_train, y_train)\n",
        "LM_pred = LM.predict(X_test)\n",
        "print(\"MSE(Linear Model):\", mean_squared_error(y_test, LM_pred))\n",
        "\n",
        "sc = StandardScaler()\n",
        "X_test_std = sc.fit_transform(X_test)\n",
        "X_train_std = sc.fit_transform(X_train)\n",
        "SV = SVR(kernel='rbf')\n",
        "SV.fit(X_train_std, y_train)\n",
        "SV_pred = SV.predict(X_test_std)\n",
        "print(\"MSE(SVR):\", mean_squared_error(y_test, SV_pred))\n",
        "\n",
        "DR = DecisionTreeRegressor(max_depth=3)\n",
        "DR.fit(X_train, y_train)\n",
        "DR_pred = DR.predict(X_test)\n",
        "print(\"MSE(Decision Tree Regressor):\", mean_squared_error(y_test, DR_pred))\n",
        "\n",
        "mix_pred = np.vstack((LM_pred, SV_pred, DR_pred))\n",
        "mix_pred.shape\n",
        "\n",
        "mean_pred = LM_pred*0.5+ SV_pred*0.1 +DR_pred*0.4\n",
        "print(\"MSE(Mean):\", mean_squared_error(y_test, mean_pred))"
      ],
      "execution_count": 107,
      "outputs": [
        {
          "output_type": "stream",
          "name": "stdout",
          "text": [
            "MSE(Linear Model): 2690647926.3776035\n",
            "MSE(SVR): 7119069689.683064\n",
            "MSE(Decision Tree Regressor): 2553443455.30812\n",
            "MSE(Mean): 2470929971.5410113\n"
          ]
        },
        {
          "output_type": "stream",
          "name": "stderr",
          "text": [
            "/usr/local/lib/python3.7/dist-packages/sklearn/linear_model/_base.py:145: FutureWarning: 'normalize' was deprecated in version 1.0 and will be removed in 1.2.\n",
            "If you wish to scale the data, use Pipeline with a StandardScaler in a preprocessing stage. To reproduce the previous behavior:\n",
            "\n",
            "from sklearn.pipeline import make_pipeline\n",
            "\n",
            "model = make_pipeline(StandardScaler(with_mean=False), LinearRegression())\n",
            "\n",
            "If you wish to pass a sample_weight parameter, you need to pass it as a fit parameter to each step of the pipeline as follows:\n",
            "\n",
            "kwargs = {s[0] + '__sample_weight': sample_weight for s in model.steps}\n",
            "model.fit(X, y, **kwargs)\n",
            "\n",
            "\n",
            "  FutureWarning,\n"
          ]
        }
      ]
    },
    {
      "cell_type": "code",
      "metadata": {
        "colab": {
          "base_uri": "https://localhost:8080/"
        },
        "id": "yEphuTdamt9H",
        "outputId": "b806e2c1-74fe-477d-9565-5727e093d01c"
      },
      "source": [
        "Las = Lasso(alpha=0.1)\n",
        "Las.fit(X_train, y_train)\n",
        "Las_pred = Las.predict (X_test)\n",
        "print(\"MSE(Lasso):\", mean_squared_error(y_test, Las_pred))\n",
        "\n",
        "sc = StandardScaler()\n",
        "X_test_std = sc.fit_transform(X_test)\n",
        "X_train_std = sc.fit_transform(X_train)\n",
        "SV = SVR(kernel='rbf', C=0.5)\n",
        "SV.fit(X_train_std, y_train)\n",
        "SV_pred = SV.predict(X_test_std)\n",
        "print(\"MSE(SVR):\", mean_squared_error(y_test, SV_pred))\n",
        "\n",
        "DR = DecisionTreeRegressor(max_depth=3)\n",
        "DR.fit(X_train, y_train)\n",
        "DR_pred = DR.predict(X_test)\n",
        "print(\"MSE(Decision Tree Regressor):\", mean_squared_error(y_test, DR_pred))\n",
        "\n",
        "mix_pred = np.vstack((LM_pred, SV_pred, DR_pred))\n",
        "mix_pred.shape\n",
        "\n",
        "mean_pred = LM_pred*0.5+ SV_pred*0.05 +DR_pred*0.45\n",
        "print(\"MSE(Mean):\", mean_squared_error(y_test, mean_pred))"
      ],
      "execution_count": 108,
      "outputs": [
        {
          "output_type": "stream",
          "name": "stdout",
          "text": [
            "MSE(Lasso): 2690647942.4335785\n",
            "MSE(SVR): 7128920068.0851145\n",
            "MSE(Decision Tree Regressor): 2553443455.30812\n",
            "MSE(Mean): 2413207932.1617346\n"
          ]
        }
      ]
    },
    {
      "cell_type": "code",
      "metadata": {
        "id": "n3GKAsqZmyjI"
      },
      "source": [
        "class Bagging():\n",
        "\n",
        "  def fit(self, models, X, y):\n",
        "    self.model_list =[]\n",
        "    for j, model in enumerate(models):\n",
        "      np.random.seed(j)\n",
        "      self.rand_index = np.random.choice(X.index, X.shape[0], replace=True)\n",
        "      self.X_rand = X.loc[self.rand_index]\n",
        "    self.y_rand = y.loc[self.rand_index]\n",
        "    self.model_list.append(model.fit(self.X_rand, self.y_rand))\n",
        "\n",
        "  def predict(self, X, y):\n",
        "    print(X.shape[0])\n",
        "    print(len(self.model_list))\n",
        "    self.pred_data = np.zeros((X.shape[0], len(self.model_list)))\n",
        "    for i, model in enumerate(self.model_list):\n",
        "      self.pred = model.predict(X)    \n",
        "      self.pred_data[:, i] = self.pred\n",
        "    self.final_pred = np.mean(self.pred_data, axis=1)\n",
        "    print('MSE(mean): ', mean_squared_error(y, self.final_pred))\n",
        "    return self.final_pred"
      ],
      "execution_count": 109,
      "outputs": []
    },
    {
      "cell_type": "markdown",
      "metadata": {
        "id": "TUB7XuF8m2H5"
      },
      "source": [
        "We now compare the models alone verses using bagging and check which one is better."
      ]
    },
    {
      "cell_type": "code",
      "metadata": {
        "id": "Ll2TdFn1m3mG"
      },
      "source": [
        "np.random.seed(1)\n",
        "rand_index = np.random.choice(X_train.index, 1022, replace=True)\n",
        "np.random.seed(1)\n",
        "rand_index = np.random.choice(X_train.index, X_train.shape[0], replace=True)\n",
        "X_train1 = X_train.loc[rand_index]\n",
        "y_train1 = y_train.loc[rand_index]\n",
        "\n",
        "np.random.seed(2)\n",
        "rand_index = np.random.choice(X_train.index, X_train.shape[0], replace=True)\n",
        "X_train2 = X_train.loc[rand_index]\n",
        "y_train2 = y_train.loc[rand_index]\n",
        "\n",
        "np.random.seed(3)\n",
        "rand_index = np.random.choice(X_train.index, X_train.shape[0], replace=True).tolist()\n",
        "X_train3 = X_train.loc[rand_index]\n",
        "y_train3 = y_train.loc[rand_index]"
      ],
      "execution_count": 110,
      "outputs": []
    },
    {
      "cell_type": "code",
      "metadata": {
        "colab": {
          "base_uri": "https://localhost:8080/"
        },
        "id": "eWkFpSDAm-fE",
        "outputId": "4d2c79ee-97e8-44f1-c5cc-ae832288584d"
      },
      "source": [
        "reg1 = GradientBoostingRegressor(n_estimators=100, max_depth=5).fit(X_train1, y_train1)\n",
        "y_pred1 = reg1.predict(X_test)\n",
        "print('MSE: ', mean_squared_error(y_test, y_pred1))\n",
        "reg2 = GradientBoostingRegressor(n_estimators=500, max_depth=3).fit(X_train2, y_train2)\n",
        "y_pred2 = reg2.predict(X_test)\n",
        "print('MSE: ', mean_squared_error(y_test, y_pred2))\n",
        "reg3 = GradientBoostingRegressor(n_estimators=250, max_depth=5).fit(X_train3, y_train3)\n",
        "y_pred3 = reg3.predict(X_test)\n",
        "print('MSE: ', mean_squared_error(y_test, y_pred3))\n",
        "y_pred_mean = (y_pred1 + y_pred2 + y_pred3)/3\n",
        "print('MSE(mean): ', mean_squared_error(y_test, y_pred_mean))"
      ],
      "execution_count": 111,
      "outputs": [
        {
          "output_type": "stream",
          "name": "stdout",
          "text": [
            "MSE:  1954295273.3180141\n",
            "MSE:  2246120995.481195\n",
            "MSE:  1724088181.3387496\n",
            "MSE(mean):  1658779275.8808985\n"
          ]
        }
      ]
    },
    {
      "cell_type": "code",
      "metadata": {
        "colab": {
          "base_uri": "https://localhost:8080/"
        },
        "id": "FEFyWaJhnDCK",
        "outputId": "08a797e8-7651-49a5-a158-18ba527e6a5b"
      },
      "source": [
        "reg1= xgb.XGBRegressor(n_estimators=100, max_depth=5).fit(X_train1, y_train1)\n",
        "y_pred1 = reg1.predict(X_test)\n",
        "print('MSE: ', mean_squared_error(y_test, y_pred1))\n",
        "reg2 = xgb.XGBRegressor(n_estimators=500, max_depth=3).fit(X_train2, y_train2)\n",
        "y_pred2 = reg2.predict(X_test)\n",
        "print('MSE: ', mean_squared_error(y_test, y_pred2))\n",
        "reg3 = xgb.XGBRegressor(n_estimators=250, max_depth=5).fit(X_train3, y_train3)\n",
        "y_pred3 = reg3.predict(X_test)\n",
        "print('MSE: ', mean_squared_error(y_test, y_pred3))\n",
        "y_pred_mean = (y_pred1 + y_pred2 + y_pred3)/3\n",
        "print('MSE(mean): ', mean_squared_error(y_test, y_pred_mean))"
      ],
      "execution_count": 112,
      "outputs": [
        {
          "output_type": "stream",
          "name": "stdout",
          "text": [
            "[07:55:18] WARNING: /workspace/src/objective/regression_obj.cu:152: reg:linear is now deprecated in favor of reg:squarederror.\n",
            "MSE:  2213829666.0405197\n",
            "[07:55:18] WARNING: /workspace/src/objective/regression_obj.cu:152: reg:linear is now deprecated in favor of reg:squarederror.\n",
            "MSE:  2247233980.532478\n",
            "[07:55:18] WARNING: /workspace/src/objective/regression_obj.cu:152: reg:linear is now deprecated in favor of reg:squarederror.\n",
            "MSE:  1705477084.5991666\n",
            "MSE(mean):  1687972552.6029377\n"
          ]
        }
      ]
    },
    {
      "cell_type": "code",
      "metadata": {
        "colab": {
          "base_uri": "https://localhost:8080/"
        },
        "id": "bh0Ps6F3nIn-",
        "outputId": "9b5565a6-a89a-4ce7-c704-38a45619dff9"
      },
      "source": [
        "reg1= lgb.LGBMRegressor(n_estimators=100, max_depth=5).fit(X_train1, y_train1)\n",
        "y_pred1 = reg1.predict(X_test)\n",
        "print('MSE: ', mean_squared_error(y_test, y_pred1))\n",
        "reg2 = lgb.LGBMRegressor(n_estimators=500, max_depth=3).fit(X_train2, y_train2)\n",
        "y_pred2 = reg2.predict(X_test)\n",
        "print('MSE: ', mean_squared_error(y_test, y_pred2))\n",
        "reg3 = lgb.LGBMRegressor(n_estimators=250, max_depth=5).fit(X_train3, y_train3)\n",
        "y_pred3 = reg3.predict(X_test)\n",
        "print('MSE: ', mean_squared_error(y_test, y_pred3))\n",
        "y_pred_mean = (y_pred1 + y_pred2 + y_pred3)/3\n",
        "print('MSE(mean): ', mean_squared_error(y_test, y_pred_mean))\n",
        "y_pred3[1]"
      ],
      "execution_count": 113,
      "outputs": [
        {
          "output_type": "stream",
          "name": "stdout",
          "text": [
            "MSE:  1996989149.286145\n",
            "MSE:  2217785612.142733\n",
            "MSE:  2337926346.668943\n",
            "MSE(mean):  2010251814.6958816\n"
          ]
        },
        {
          "output_type": "execute_result",
          "data": {
            "text/plain": [
              "149261.18481853406"
            ]
          },
          "metadata": {},
          "execution_count": 113
        }
      ]
    },
    {
      "cell_type": "markdown",
      "metadata": {
        "id": "aEtFhgFfnMQa"
      },
      "source": [
        "# Using Bagging"
      ]
    },
    {
      "cell_type": "code",
      "metadata": {
        "colab": {
          "base_uri": "https://localhost:8080/"
        },
        "id": "F8i-WMwCnOdA",
        "outputId": "a6160124-0770-444a-884b-3ad4f3613dfa"
      },
      "source": [
        "models = [xgb.XGBRegressor(n_estimators=100, max_depth=5), GradientBoostingRegressor(n_estimators=100, max_depth=5), lgb.LGBMRegressor(n_estimators=100, max_depth=5)]\n",
        "bg = Bagging()\n",
        "bg.fit(models=models, X = X_train, y = y_train)\n",
        "bg.predict(X_test, y_test)[:10]"
      ],
      "execution_count": 114,
      "outputs": [
        {
          "output_type": "stream",
          "name": "stdout",
          "text": [
            "438\n",
            "1\n",
            "MSE(mean):  2074730307.085176\n"
          ]
        },
        {
          "output_type": "execute_result",
          "data": {
            "text/plain": [
              "array([210257.87167613, 153809.26923892, 134665.09888615, 181467.21554413,\n",
              "       130747.58722092,  88393.30294886, 199687.20209242, 128542.00157598,\n",
              "       364138.4238314 , 148482.29049672])"
            ]
          },
          "metadata": {},
          "execution_count": 114
        }
      ]
    },
    {
      "cell_type": "markdown",
      "metadata": {
        "id": "jWyHXCsinVZw"
      },
      "source": [
        "# Stacking"
      ]
    },
    {
      "cell_type": "code",
      "metadata": {
        "id": "Pmjl2SD_nW7A"
      },
      "source": [
        "class Stacking():\n",
        "\n",
        "  def __init__(self, models, end_model):\n",
        "    self.models = models\n",
        "    self.end_model = end_model\n",
        "\n",
        "  def fit(self, X,y,K,seed):\n",
        "    self.K = K\n",
        "    KF = KFold(n_splits=K, random_state=seed, shuffle=True)\n",
        "    self.pred_data = np.array([])\n",
        "    X = np.array(X)   \n",
        "    y = np.array(y)\n",
        "    self.preds = np.array([])\n",
        "    self.model_list = []\n",
        "    for i, model in enumerate(self.models):\n",
        "      for train_index, test_index, in KF.split(X):\n",
        "        self.model_list.append(model.fit(X[train_index], y[train_index]))\n",
        "        y_pred = model.predict(X[test_index])\n",
        "        self.preds = np.append(self.preds, y_pred)\n",
        "    self.preds = self.preds.reshape(len(self.models), X.shape[0]).T\n",
        "    self.end_model.fit(self.preds, y)\n",
        "\n",
        "  def predict(self, X, y):\n",
        "    X = np.array(X)   \n",
        "    y = np.array(y)\n",
        "    self.test_array = np.array([])\n",
        "    self.final_test = np.zeros((X.shape[0], self.K))\n",
        "    for model in self.model_list:\n",
        "      y_pred_test = model.predict(X)\n",
        "      self.test_array = np.append(self.test_array, y_pred_test)\n",
        "    self.test_array = self.test_array.reshape(len(self.models)*self.K, X.shape[0]).T\n",
        "    print(\"Test-->\", self.test_array.shape)\n",
        "    for j, i in enumerate(range(0, len(self.models)*self.K - self.K, self.K)):\n",
        "      self.mean_pred = np.mean(self.test_array[:,i:i+self.K], axis=1)\n",
        "      self.final_test[:,j] = self.mean_pred\n",
        "    self.final_pred = self.end_model.predict(self.final_test)\n",
        "    print(\"Last stage -->\", self.final_test.shape)\n",
        "    return self.final_pred"
      ],
      "execution_count": 115,
      "outputs": []
    },
    {
      "cell_type": "code",
      "metadata": {
        "colab": {
          "base_uri": "https://localhost:8080/"
        },
        "id": "AC4VNfBWn2dc",
        "outputId": "9edd7c3d-4e35-4c6b-cabf-c33c5716ce70"
      },
      "source": [
        "models = [xgb.XGBRegressor(n_estimators=100, max_depth=5), GradientBoostingRegressor(n_estimators=100, max_depth=5), lgb.LGBMRegressor(n_estimators=100, max_depth=5)]\n",
        "St = Stacking(models, end_model=GradientBoostingRegressor(n_estimators=100, max_depth=5))\n",
        "St.fit(X=X_train, y=y_train, K=3, seed=0)\n",
        "y_pred_end = St.predict(X_test, y_test)\n",
        "print(\"MSE(Stacking): \", mean_squared_error(y_test, y_pred_end)) "
      ],
      "execution_count": 116,
      "outputs": [
        {
          "output_type": "stream",
          "name": "stdout",
          "text": [
            "[07:55:19] WARNING: /workspace/src/objective/regression_obj.cu:152: reg:linear is now deprecated in favor of reg:squarederror.\n",
            "[07:55:19] WARNING: /workspace/src/objective/regression_obj.cu:152: reg:linear is now deprecated in favor of reg:squarederror.\n",
            "[07:55:19] WARNING: /workspace/src/objective/regression_obj.cu:152: reg:linear is now deprecated in favor of reg:squarederror.\n",
            "Test--> (438, 9)\n",
            "Last stage --> (438, 3)\n",
            "MSE(Stacking):  15423360364.920626\n"
          ]
        }
      ]
    },
    {
      "cell_type": "markdown",
      "metadata": {
        "id": "daMNMaDKn80-"
      },
      "source": [
        "Lets compare it to single models"
      ]
    },
    {
      "cell_type": "code",
      "metadata": {
        "colab": {
          "base_uri": "https://localhost:8080/"
        },
        "id": "s2nF0VvIn8NF",
        "outputId": "e7c83878-a883-4dcb-e822-4f06c084abc0"
      },
      "source": [
        "X1_train, X2_train, X3_train = np.split(X_train,[340, 681])\n",
        "y1_train, y2_train, y3_train = np.split(y_train,[340, 681])\n",
        "X_train1 = np.vstack((X2_train, X3_train))\n",
        "y_train1 = np.hstack((y2_train, y3_train))\n",
        "reg1_Gr = GradientBoostingRegressor(n_estimators=100, max_depth=5).fit(X_train1, y_train1)\n",
        "y_pred1_reg1_Gr = reg1_Gr.predict(X1_train)\n",
        "print(\"MSE_1:\", mean_squared_error(y1_train, y_pred1_reg1_Gr))\n",
        "\n",
        "X_train2 = np.vstack((X1_train, X3_train))\n",
        "y_train2 = np.hstack((y1_train, y3_train))\n",
        "reg2_Gr = GradientBoostingRegressor(n_estimators=500, max_depth=3).fit(X_train2, y_train2)\n",
        "y_pred2_reg2_Gr = reg2_Gr.predict(X2_train)\n",
        "print(\"MSE_2:\", mean_squared_error(y2_train, y_pred2_reg2_Gr))\n",
        "\n",
        "X_train3 = np.vstack((X1_train, X2_train))\n",
        "y_train3 = np.hstack((y1_train, y2_train))\n",
        "reg3_Gr = GradientBoostingRegressor(n_estimators=250, max_depth=5).fit(X_train3, y_train3)\n",
        "y_pred3_reg3_Gr = reg3_Gr.predict(X3_train)\n",
        "print(\"MSE_2:\", mean_squared_error(y3_train, y_pred3_reg3_Gr))\n",
        "y_train_Gr = np.hstack((y_pred1_reg1_Gr, y_pred2_reg2_Gr, y_pred2_reg2_Gr))"
      ],
      "execution_count": 117,
      "outputs": [
        {
          "output_type": "stream",
          "name": "stdout",
          "text": [
            "MSE_1: 2073421958.2150207\n"
          ]
        },
        {
          "output_type": "stream",
          "name": "stderr",
          "text": [
            "/usr/local/lib/python3.7/dist-packages/sklearn/base.py:439: UserWarning: X has feature names, but GradientBoostingRegressor was fitted without feature names\n",
            "  f\"X has feature names, but {self.__class__.__name__} was fitted without\"\n",
            "/usr/local/lib/python3.7/dist-packages/sklearn/base.py:439: UserWarning: X has feature names, but GradientBoostingRegressor was fitted without feature names\n",
            "  f\"X has feature names, but {self.__class__.__name__} was fitted without\"\n"
          ]
        },
        {
          "output_type": "stream",
          "name": "stdout",
          "text": [
            "MSE_2: 2342366773.4597898\n",
            "MSE_2: 1444383801.9272323\n"
          ]
        },
        {
          "output_type": "stream",
          "name": "stderr",
          "text": [
            "/usr/local/lib/python3.7/dist-packages/sklearn/base.py:439: UserWarning: X has feature names, but GradientBoostingRegressor was fitted without feature names\n",
            "  f\"X has feature names, but {self.__class__.__name__} was fitted without\"\n"
          ]
        }
      ]
    },
    {
      "cell_type": "code",
      "metadata": {
        "colab": {
          "base_uri": "https://localhost:8080/"
        },
        "id": "LzgVypuuoHwh",
        "outputId": "ecc6209a-8861-44e3-8c89-82c53510d91d"
      },
      "source": [
        "X_train1 = np.vstack((X2_train, X3_train))\n",
        "y_train1 = np.hstack((y2_train, y3_train))\n",
        "reg1_LG = lgb.LGBMRegressor(n_estimators=100, max_depth=5).fit(X_train1, y_train1)\n",
        "y_pred1_reg1_LG = reg1_LG.predict(X1_train)\n",
        "print(\"MSE_1:\", mean_squared_error(y1_train, y_pred1_reg1_LG))\n",
        "\n",
        "X_train2 = np.vstack((X1_train, X3_train))\n",
        "y_train2 = np.hstack((y1_train, y3_train))\n",
        "reg2_LG = lgb.LGBMRegressor(n_estimators=500, max_depth=3).fit(X_train2, y_train2)\n",
        "y_pred2_reg2_LG = reg2_LG.predict(X2_train)\n",
        "print(\"MSE_2:\", mean_squared_error(y2_train, y_pred2_reg2_LG))\n",
        "\n",
        "X_train3 = np.vstack((X1_train, X2_train))\n",
        "y_train3 = np.hstack((y1_train, y2_train))\n",
        "reg3_LG = lgb.LGBMRegressor(n_estimators=250, max_depth=5).fit(X_train3, y_train3)\n",
        "y_pred3_reg3_LG = reg3_LG.predict(X3_train)\n",
        "print(\"MSE_3:\", mean_squared_error(y3_train, y_pred3_reg3_LG))\n",
        "y_train_LG = np.hstack((y_pred1_reg1_LG, y_pred2_reg2_LG, y_pred2_reg2_LG))\n"
      ],
      "execution_count": 118,
      "outputs": [
        {
          "output_type": "stream",
          "name": "stdout",
          "text": [
            "MSE_1: 1789291655.0779407\n",
            "MSE_2: 2088962682.1700788\n",
            "MSE_3: 1383718320.4924493\n"
          ]
        }
      ]
    },
    {
      "cell_type": "code",
      "metadata": {
        "colab": {
          "base_uri": "https://localhost:8080/"
        },
        "id": "c-DYc616oLNT",
        "outputId": "b5ec9852-e094-4fd9-fd4f-1d59fe961eea"
      },
      "source": [
        "X_train1 = np.vstack((X2_train, X3_train))\n",
        "y_train1 = np.hstack((y2_train, y3_train))\n",
        "reg1_RF = RandomForestRegressor(n_estimators=100, max_depth=5).fit(X_train1, y_train1)\n",
        "y_pred1_reg1_RF = reg1_RF.predict(X1_train)\n",
        "print(\"MSE_1:\", mean_squared_error(y1_train, y_pred1_reg1_RF))\n",
        "\n",
        "X_train2 = np.vstack((X1_train, X3_train))\n",
        "y_train2 = np.hstack((y1_train, y3_train))\n",
        "reg2_RF = RandomForestRegressor(n_estimators=500, max_depth=3).fit(X_train2, y_train2)\n",
        "y_pred2_reg2_RF = reg2_RF.predict(X2_train)\n",
        "print(\"MSE_2:\", mean_squared_error(y2_train, y_pred2_reg2_RF))\n",
        "\n",
        "X_train3 = np.vstack((X1_train, X2_train))\n",
        "y_train3 = np.hstack((y1_train, y2_train))\n",
        "reg3_RF = RandomForestRegressor(n_estimators=250, max_depth=5).fit(X_train3, y_train3)\n",
        "y_pred3_reg3_RF = reg3_RF.predict(X3_train)\n",
        "print(\"MSE_3:\", mean_squared_error(y3_train, y_pred3_reg3_RF))\n",
        "y_train_RF = np.hstack((y_pred1_reg1_RF, y_pred2_reg2_RF, y_pred2_reg2_RF))"
      ],
      "execution_count": 119,
      "outputs": [
        {
          "output_type": "stream",
          "name": "stderr",
          "text": [
            "/usr/local/lib/python3.7/dist-packages/sklearn/base.py:439: UserWarning: X has feature names, but RandomForestRegressor was fitted without feature names\n",
            "  f\"X has feature names, but {self.__class__.__name__} was fitted without\"\n"
          ]
        },
        {
          "output_type": "stream",
          "name": "stdout",
          "text": [
            "MSE_1: 1984794913.4124353\n"
          ]
        },
        {
          "output_type": "stream",
          "name": "stderr",
          "text": [
            "/usr/local/lib/python3.7/dist-packages/sklearn/base.py:439: UserWarning: X has feature names, but RandomForestRegressor was fitted without feature names\n",
            "  f\"X has feature names, but {self.__class__.__name__} was fitted without\"\n"
          ]
        },
        {
          "output_type": "stream",
          "name": "stdout",
          "text": [
            "MSE_2: 2429725881.518442\n",
            "MSE_3: 1179386321.594928\n"
          ]
        },
        {
          "output_type": "stream",
          "name": "stderr",
          "text": [
            "/usr/local/lib/python3.7/dist-packages/sklearn/base.py:439: UserWarning: X has feature names, but RandomForestRegressor was fitted without feature names\n",
            "  f\"X has feature names, but {self.__class__.__name__} was fitted without\"\n"
          ]
        }
      ]
    },
    {
      "cell_type": "code",
      "metadata": {
        "colab": {
          "base_uri": "https://localhost:8080/"
        },
        "id": "JM19Zz39oPR9",
        "outputId": "a1914409-bdf9-492f-c5c1-061a7acb8f7c"
      },
      "source": [
        "train_mix = np.vstack((y_train_Gr, y_train_LG, y_train_RF)).T\n",
        "\n",
        "xgb.XGBRegressor\n",
        "reg_end = xgb.XGBRegressor(n_estimators=250, max_depth=5).fit(train_mix, y_train)\n",
        "\n",
        "X_test1_Gr = reg1_Gr.predict(X_test)\n",
        "X_test2_Gr = reg2_Gr.predict(X_test)\n",
        "X_test3_Gr = reg3_Gr.predict(X_test)\n",
        "y_test_Gr = (X_test1_Gr + X_test2_Gr + X_test3_Gr)/3 \n",
        "\n",
        "X_test1_LG = reg1_LG.predict(X_test)\n",
        "X_test2_LG = reg2_LG.predict(X_test)\n",
        "X_test3_LG = reg3_LG.predict(X_test)\n",
        "y_test_LG = (X_test1_LG + X_test2_LG + X_test3_LG)/3\n",
        "\n",
        "X_test1_RF = reg1_RF.predict(X_test)\n",
        "X_test2_RF = reg2_RF.predict(X_test)\n",
        "X_test3_RF = reg3_RF.predict(X_test)\n",
        "y_test_RF = (X_test1_RF + X_test2_RF + X_test3_RF)/3"
      ],
      "execution_count": 120,
      "outputs": [
        {
          "output_type": "stream",
          "name": "stdout",
          "text": [
            "[07:55:22] WARNING: /workspace/src/objective/regression_obj.cu:152: reg:linear is now deprecated in favor of reg:squarederror.\n"
          ]
        },
        {
          "output_type": "stream",
          "name": "stderr",
          "text": [
            "/usr/local/lib/python3.7/dist-packages/sklearn/base.py:439: UserWarning: X has feature names, but GradientBoostingRegressor was fitted without feature names\n",
            "  f\"X has feature names, but {self.__class__.__name__} was fitted without\"\n",
            "/usr/local/lib/python3.7/dist-packages/sklearn/base.py:439: UserWarning: X has feature names, but GradientBoostingRegressor was fitted without feature names\n",
            "  f\"X has feature names, but {self.__class__.__name__} was fitted without\"\n",
            "/usr/local/lib/python3.7/dist-packages/sklearn/base.py:439: UserWarning: X has feature names, but GradientBoostingRegressor was fitted without feature names\n",
            "  f\"X has feature names, but {self.__class__.__name__} was fitted without\"\n",
            "/usr/local/lib/python3.7/dist-packages/sklearn/base.py:439: UserWarning: X has feature names, but RandomForestRegressor was fitted without feature names\n",
            "  f\"X has feature names, but {self.__class__.__name__} was fitted without\"\n",
            "/usr/local/lib/python3.7/dist-packages/sklearn/base.py:439: UserWarning: X has feature names, but RandomForestRegressor was fitted without feature names\n",
            "  f\"X has feature names, but {self.__class__.__name__} was fitted without\"\n",
            "/usr/local/lib/python3.7/dist-packages/sklearn/base.py:439: UserWarning: X has feature names, but RandomForestRegressor was fitted without feature names\n",
            "  f\"X has feature names, but {self.__class__.__name__} was fitted without\"\n"
          ]
        }
      ]
    },
    {
      "cell_type": "code",
      "metadata": {
        "id": "l8dsm_tLoTq8"
      },
      "source": [
        "X_test_end = np.vstack((y_test_Gr, y_test_LG, y_test_RF)).T\n",
        "y_pred_end = reg_end.predict(X_test_end)"
      ],
      "execution_count": 121,
      "outputs": []
    },
    {
      "cell_type": "code",
      "metadata": {
        "colab": {
          "base_uri": "https://localhost:8080/"
        },
        "id": "7CGQFDEFoWPI",
        "outputId": "53569a02-688e-48e6-8275-b65930803fc7"
      },
      "source": [
        "print(\"MSE(Stacking):\", mean_squared_error(y_test, y_pred_end))"
      ],
      "execution_count": 122,
      "outputs": [
        {
          "output_type": "stream",
          "name": "stdout",
          "text": [
            "MSE(Stacking): 3042228510.1905713\n"
          ]
        }
      ]
    }
  ]
}