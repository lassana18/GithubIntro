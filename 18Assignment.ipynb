{
  "nbformat": 4,
  "nbformat_minor": 0,
  "metadata": {
    "colab": {
      "name": "18Assignment.ipynb",
      "provenance": [],
      "collapsed_sections": [],
      "mount_file_id": "1t22Yrov1ynT_fvUAx-qx2xK4lIEMC2lv",
      "authorship_tag": "ABX9TyMu5NpKsjT9/Pkci5+cJkM+",
      "include_colab_link": true
    },
    "kernelspec": {
      "name": "python3",
      "display_name": "Python 3"
    },
    "language_info": {
      "name": "python"
    }
  },
  "cells": [
    {
      "cell_type": "markdown",
      "metadata": {
        "id": "view-in-github",
        "colab_type": "text"
      },
      "source": [
        "<a href=\"https://colab.research.google.com/github/pafernannapi18/GithubIntro/blob/main/18Assignment.ipynb\" target=\"_parent\"><img src=\"https://colab.research.google.com/assets/colab-badge.svg\" alt=\"Open In Colab\"/></a>"
      ]
    },
    {
      "cell_type": "code",
      "metadata": {
        "id": "4LWHmCCMSxhS"
      },
      "source": [
        ""
      ],
      "execution_count": null,
      "outputs": []
    },
    {
      "cell_type": "markdown",
      "metadata": {
        "id": "rdBNgwJnTmbo"
      },
      "source": [
        "# [Problem 1] Cross Validation\n"
      ]
    },
    {
      "cell_type": "code",
      "metadata": {
        "id": "WUy3cRIfTqns"
      },
      "source": [
        "# numpy and pandas for manipulation \n",
        "import numpy as np\n",
        "import pandas as pd\n",
        "import matplotlib.pyplot as plt\n",
        "import matplotlib_inline\n",
        "import seaborn as sns\n",
        "\n",
        "# sklearn reprocessing for dealing with categorical variables \n",
        "from sklearn.preprocessing import LabelEncoder\n",
        "from sklearn.preprocessing import StandardScaler\n",
        "from sklearn.linear_model import LinearRegression\n",
        "from sklearn.impute import SimpleImputer\n",
        "from sklearn.preprocessing import  OneHotEncoder\n",
        "from sklearn.metrics import  accuracy_score\n",
        "from sklearn.model_selection import  KFold\n",
        "from sklearn.model_selection import GridSearchCV\n",
        "from sklearn.ensemble import RandomForestClassifier\n",
        "from sklearn.svm import SVC\n",
        "from sklearn.linear_model import LogisticRegression  "
      ],
      "execution_count": null,
      "outputs": []
    },
    {
      "cell_type": "code",
      "metadata": {
        "id": "h-8oATg_VCS5"
      },
      "source": [
        "df = pd.read_csv(\"/content/drive/MyDrive/application_train.csv\")\n",
        "df = df.select_dtypes('number')"
      ],
      "execution_count": null,
      "outputs": []
    },
    {
      "cell_type": "code",
      "metadata": {
        "id": "gyzXtvD0VlA3"
      },
      "source": [
        "# cleaning the dataset by filling the empty data(null)\n",
        "cleaned_df = df.fillna(0)"
      ],
      "execution_count": null,
      "outputs": []
    },
    {
      "cell_type": "code",
      "metadata": {
        "id": "o_9BlsMxXgPz"
      },
      "source": [
        "#get only existing data with no missing values \n",
        "cleaned_df = cleaned_df[cleaned_df.columns[~cleaned_df.isnull().all()]]"
      ],
      "execution_count": null,
      "outputs": []
    },
    {
      "cell_type": "code",
      "metadata": {
        "id": "33WHf3n3YcWh"
      },
      "source": [
        "# Separated them into variables\n",
        "X = cleaned_df.drop(['TARGET'], axis=1)\n",
        "y = cleaned_df['TARGET']\n",
        "\n",
        "X = X.to_numpy()\n",
        "kf = KFold(n_splits = 2)"
      ],
      "execution_count": null,
      "outputs": []
    },
    {
      "cell_type": "code",
      "metadata": {
        "colab": {
          "base_uri": "https://localhost:8080/"
        },
        "id": "NWTzVJdBZOPf",
        "outputId": "7d036795-3430-4982-da22-b099fec9b3ba"
      },
      "source": [
        "for train_index, test_index in kf.split(X):\n",
        "  print(\"TRAIN:\", train_index, \"TEST:\", test_index)\n",
        "  X_train, X_test = X[train_index], X[test_index]\n",
        "  y_train, y_test = y[train_index], y[test_index]"
      ],
      "execution_count": null,
      "outputs": [
        {
          "output_type": "stream",
          "name": "stdout",
          "text": [
            "TRAIN: [153756 153757 153758 ... 307508 307509 307510] TEST: [     0      1      2 ... 153753 153754 153755]\n",
            "TRAIN: [     0      1      2 ... 153753 153754 153755] TEST: [153756 153757 153758 ... 307508 307509 307510]\n"
          ]
        }
      ]
    },
    {
      "cell_type": "code",
      "metadata": {
        "id": "oqDqWCXHi01Y"
      },
      "source": [
        "# Standardizing the data\n",
        "scaler = StandardScaler()\n",
        "scaler.fit(X_train)\n",
        "X_train_trans = scaler.transform(X_train)\n",
        "X_test_trans = scaler.transform(X_test)"
      ],
      "execution_count": null,
      "outputs": []
    },
    {
      "cell_type": "markdown",
      "metadata": {
        "id": "wi7DiTl9pDYN"
      },
      "source": [
        "## [Problem 2] Grid search"
      ]
    },
    {
      "cell_type": "code",
      "metadata": {
        "colab": {
          "base_uri": "https://localhost:8080/",
          "height": 111
        },
        "id": "b2d754utpFmf",
        "outputId": "4590615b-3164-460d-b66a-8d0333e81278"
      },
      "source": [
        "# checking which model and params are best \n",
        "model_params = {'random_forest':{'model': RandomForestClassifier(),'params': {'n_estimators': [1, 5,10]}},\n",
        "        'logic_regression':{'model': LogisticRegression(solver=\"liblinear\", multi_class = \"auto\"),'params': {'C': [1,5,10]}}}\n",
        "# defining an arraay to store the scores\n",
        "scores = []\n",
        "for model_name, mp in model_params.items():\n",
        "  clf = GridSearchCV(mp['model'], mp['params'], return_train_score= False)\n",
        "  clf.fit(X_train_trans, y_train)\n",
        "  scores.append({\n",
        "      'model': model_name, \n",
        "      'best_score': clf.best_score_,\n",
        "      'best_params': clf.best_params_})\n",
        "best_model_params = pd.DataFrame(scores, columns= ['model', 'best_score', 'best_params'])\n",
        "best_model_params"
      ],
      "execution_count": null,
      "outputs": [
        {
          "output_type": "execute_result",
          "data": {
            "text/html": [
              "<div>\n",
              "<style scoped>\n",
              "    .dataframe tbody tr th:only-of-type {\n",
              "        vertical-align: middle;\n",
              "    }\n",
              "\n",
              "    .dataframe tbody tr th {\n",
              "        vertical-align: top;\n",
              "    }\n",
              "\n",
              "    .dataframe thead th {\n",
              "        text-align: right;\n",
              "    }\n",
              "</style>\n",
              "<table border=\"1\" class=\"dataframe\">\n",
              "  <thead>\n",
              "    <tr style=\"text-align: right;\">\n",
              "      <th></th>\n",
              "      <th>model</th>\n",
              "      <th>best_score</th>\n",
              "      <th>best_params</th>\n",
              "    </tr>\n",
              "  </thead>\n",
              "  <tbody>\n",
              "    <tr>\n",
              "      <th>0</th>\n",
              "      <td>random_forest</td>\n",
              "      <td>0.915782</td>\n",
              "      <td>{'n_estimators': 10}</td>\n",
              "    </tr>\n",
              "    <tr>\n",
              "      <th>1</th>\n",
              "      <td>logic_regression</td>\n",
              "      <td>0.918364</td>\n",
              "      <td>{'C': 1}</td>\n",
              "    </tr>\n",
              "  </tbody>\n",
              "</table>\n",
              "</div>"
            ],
            "text/plain": [
              "              model  best_score           best_params\n",
              "0     random_forest    0.915782  {'n_estimators': 10}\n",
              "1  logic_regression    0.918364              {'C': 1}"
            ]
          },
          "metadata": {},
          "execution_count": 18
        }
      ]
    }
  ]
}