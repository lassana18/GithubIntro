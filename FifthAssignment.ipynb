{
  "nbformat": 4,
  "nbformat_minor": 0,
  "metadata": {
    "colab": {
      "name": "FifthAssignment.ipynb",
      "provenance": [],
      "collapsed_sections": [],
      "authorship_tag": "ABX9TyMTki6hbrY1MVYB3xBx2jUC",
      "include_colab_link": true
    },
    "kernelspec": {
      "name": "python3",
      "display_name": "Python 3"
    },
    "language_info": {
      "name": "python"
    }
  },
  "cells": [
    {
      "cell_type": "markdown",
      "metadata": {
        "id": "view-in-github",
        "colab_type": "text"
      },
      "source": [
        "<a href=\"https://colab.research.google.com/github/pafernannapi18/GithubIntro/blob/main/FifthAssignment.ipynb\" target=\"_parent\"><img src=\"https://colab.research.google.com/assets/colab-badge.svg\" alt=\"Open In Colab\"/></a>"
      ]
    },
    {
      "cell_type": "code",
      "metadata": {
        "colab": {
          "base_uri": "https://localhost:8080/"
        },
        "id": "4UQOYLAkSP7a",
        "outputId": "6518199f-6f73-40d2-ff97-34b25c391ab7"
      },
      "source": [
        "import numpy as np\n",
        "n_squares = 4\n",
        "small_board_list = [1]\n",
        "for _ in range(n_squares - 1):\n",
        "    small_board_list.append(2*small_board_list[-1])\n",
        "print(\"Arrange wheat on a plate of 4 squares (list)：{}\".format(small_board_list))"
      ],
      "execution_count": 1,
      "outputs": [
        {
          "output_type": "stream",
          "name": "stdout",
          "text": [
            "Arrange wheat on a plate of 4 squares (list)：[1, 2, 4, 8]\n"
          ]
        }
      ]
    },
    {
      "cell_type": "code",
      "metadata": {
        "colab": {
          "base_uri": "https://localhost:8080/"
        },
        "id": "IUUuoCSKTV2O",
        "outputId": "1ea3e957-7d38-47e9-93de-39f2749e929d"
      },
      "source": [
        "import numpy as np\n",
        "small_board_ndarray = np.array(small_board_list)\n",
        "print(\"Arrange wheat on a plate of 4 squares (ndarray)：{}\".format(small_board_ndarray))"
      ],
      "execution_count": 2,
      "outputs": [
        {
          "output_type": "stream",
          "name": "stdout",
          "text": [
            "Arrange wheat on a plate of 4 squares (ndarray)：[1 2 4 8]\n"
          ]
        }
      ]
    },
    {
      "cell_type": "code",
      "metadata": {
        "id": "m0pMVnftcHXM",
        "colab": {
          "base_uri": "https://localhost:8080/"
        },
        "outputId": "84fd0f64-3ecb-4470-ec6e-54ead9d9dff9"
      },
      "source": [
        "#**Problem number 1\n",
        "small_board_ndarray = np.array(small_board_list).reshape(2, 2)\n",
        "print(small_board_ndarray)\n",
        "print(\"Arrange wheat on a plate of 4 squares (ndarray)：{}\".format(small_board_ndarray))"
      ],
      "execution_count": 3,
      "outputs": [
        {
          "output_type": "stream",
          "name": "stdout",
          "text": [
            "[[1 2]\n",
            " [4 8]]\n",
            "Arrange wheat on a plate of 4 squares (ndarray)：[[1 2]\n",
            " [4 8]]\n"
          ]
        }
      ]
    },
    {
      "cell_type": "code",
      "metadata": {
        "colab": {
          "base_uri": "https://localhost:8080/"
        },
        "id": "_cNspng2beox",
        "outputId": "a771c4f1-17c7-4707-f727-325c434ebc05"
      },
      "source": [
        "## Problem number 2\n",
        "%%timeit\n",
        "def expansion_nxm_mass(d, b):\n",
        " #*** a is the number of squares, c is first values in the smal_board_list\n",
        "  n_squares = d\n",
        "  small_board_list = [1]\n",
        "  for _ in range(n_squares-1):\n",
        "    small_board_list.append(2*small_board_list[-1])\n",
        "    small_board_ndarray = np.array(small_board_list)\n",
        "  small_board_ndarray = np.array(small_board_list).reshape(8, 8)\n",
        "  return small_board_ndarray\n",
        "expansion_nxm_mass(64, 1)\n",
        "\n",
        "\n",
        "\n"
      ],
      "execution_count": 44,
      "outputs": [
        {
          "output_type": "stream",
          "name": "stdout",
          "text": [
            "1000 loops, best of 5: 257 µs per loop\n"
          ]
        }
      ]
    },
    {
      "cell_type": "code",
      "metadata": {
        "colab": {
          "base_uri": "https://localhost:8080/",
          "height": 573
        },
        "id": "PUtNhMkVxSGv",
        "outputId": "400fa8f5-4e76-401b-c5a5-d1c41d08a7e4"
      },
      "source": [
        "#** Problem number 3\n",
        "import matplotlib.pyplot as plt\n",
        "%matplotlib inline\n",
        "def expansion_nxm_mass(d, b):\n",
        "  #*** a is the number of squares, c is first values in the smal_board_list\n",
        "  n_squares = d\n",
        "  small_board_list = [1]\n",
        "  for _ in range(n_squares-1):\n",
        "    small_board_list.append(2*small_board_list[-1])\n",
        "    small_board_ndarray = np.array(small_board_list)\n",
        "  small_board_ndarray = np.array(small_board_list).reshape(8, 8)\n",
        "  plt.xlabel(\"colum\")\n",
        "  plt.title(\"number in each colum\")\n",
        "  plt.bar(np.arange(1,4), np.array([1, 2,3]))\n",
        "  plt.show()\n",
        "  return small_board_ndarray\n",
        "expansion_nxm_mass(64, 1)\n"
      ],
      "execution_count": 39,
      "outputs": [
        {
          "output_type": "display_data",
          "data": {
            "image/png": "[encoded data removed]",
            "text/plain": [
              "<Figure size 432x288 with 1 Axes>"
            ]
          },
          "metadata": {
            "needs_background": "light"
          }
        },
        {
          "output_type": "execute_result",
          "data": {
            "text/plain": [
              "array([[1.00000000e+00, 2.00000000e+00, 4.00000000e+00, 8.00000000e+00,\n",
              "        1.60000000e+01, 3.20000000e+01, 6.40000000e+01, 1.28000000e+02],\n",
              "       [2.56000000e+02, 5.12000000e+02, 1.02400000e+03, 2.04800000e+03,\n",
              "        4.09600000e+03, 8.19200000e+03, 1.63840000e+04, 3.27680000e+04],\n",
              "       [6.55360000e+04, 1.31072000e+05, 2.62144000e+05, 5.24288000e+05,\n",
              "        1.04857600e+06, 2.09715200e+06, 4.19430400e+06, 8.38860800e+06],\n",
              "       [1.67772160e+07, 3.35544320e+07, 6.71088640e+07, 1.34217728e+08,\n",
              "        2.68435456e+08, 5.36870912e+08, 1.07374182e+09, 2.14748365e+09],\n",
              "       [4.29496730e+09, 8.58993459e+09, 1.71798692e+10, 3.43597384e+10,\n",
              "        6.87194767e+10, 1.37438953e+11, 2.74877907e+11, 5.49755814e+11],\n",
              "       [1.09951163e+12, 2.19902326e+12, 4.39804651e+12, 8.79609302e+12,\n",
              "        1.75921860e+13, 3.51843721e+13, 7.03687442e+13, 1.40737488e+14],\n",
              "       [2.81474977e+14, 5.62949953e+14, 1.12589991e+15, 2.25179981e+15,\n",
              "        4.50359963e+15, 9.00719925e+15, 1.80143985e+16, 3.60287970e+16],\n",
              "       [7.20575940e+16, 1.44115188e+17, 2.88230376e+17, 5.76460752e+17,\n",
              "        1.15292150e+18, 2.30584301e+18, 4.61168602e+18, 9.22337204e+18]])"
            ]
          },
          "metadata": {},
          "execution_count": 39
        }
      ]
    },
    {
      "cell_type": "code",
      "metadata": {
        "colab": {
          "base_uri": "https://localhost:8080/",
          "height": 573
        },
        "id": "-c3WyoHC2e5G",
        "outputId": "3ea18646-ea1a-4bb0-8f32-b86a83bf17b6"
      },
      "source": [
        "#Problem number 4\n",
        "import matplotlib.pyplot as plt\n",
        "%matplotlib inline\n",
        "def expansion_nxm_mass(d, b):\n",
        "  #*** a is the number of squares, c is first values in the smal_board_list\n",
        "  n_squares = d\n",
        "  small_board_list = [1]\n",
        "  for _ in range(n_squares-1):\n",
        "    small_board_list.append(2*small_board_list[-1])\n",
        "    small_board_ndarray = np.array(small_board_list)\n",
        "  small_board_ndarray = np.array(small_board_list).reshape(8, 8)\n",
        "  plt.xlabel(\"column\")\n",
        "  plt.ylabel(\"row\")\n",
        "  plt.title(\"heatmap\")\n",
        "  plt.pcolor(np.array([0, 1, 3, 5, 7, 9, 11, 13]).reshape(4, 2))\n",
        "  plt.show()\n",
        "  return small_board_ndarray\n",
        "expansion_nxm_mass(64, 1)"
      ],
      "execution_count": 40,
      "outputs": [
        {
          "output_type": "display_data",
          "data": {
            "image/png": "[encoded data removed]",
            "text/plain": [
              "<Figure size 432x288 with 1 Axes>"
            ]
          },
          "metadata": {
            "needs_background": "light"
          }
        },
        {
          "output_type": "execute_result",
          "data": {
            "text/plain": [
              "array([[1.00000000e+00, 2.00000000e+00, 4.00000000e+00, 8.00000000e+00,\n",
              "        1.60000000e+01, 3.20000000e+01, 6.40000000e+01, 1.28000000e+02],\n",
              "       [2.56000000e+02, 5.12000000e+02, 1.02400000e+03, 2.04800000e+03,\n",
              "        4.09600000e+03, 8.19200000e+03, 1.63840000e+04, 3.27680000e+04],\n",
              "       [6.55360000e+04, 1.31072000e+05, 2.62144000e+05, 5.24288000e+05,\n",
              "        1.04857600e+06, 2.09715200e+06, 4.19430400e+06, 8.38860800e+06],\n",
              "       [1.67772160e+07, 3.35544320e+07, 6.71088640e+07, 1.34217728e+08,\n",
              "        2.68435456e+08, 5.36870912e+08, 1.07374182e+09, 2.14748365e+09],\n",
              "       [4.29496730e+09, 8.58993459e+09, 1.71798692e+10, 3.43597384e+10,\n",
              "        6.87194767e+10, 1.37438953e+11, 2.74877907e+11, 5.49755814e+11],\n",
              "       [1.09951163e+12, 2.19902326e+12, 4.39804651e+12, 8.79609302e+12,\n",
              "        1.75921860e+13, 3.51843721e+13, 7.03687442e+13, 1.40737488e+14],\n",
              "       [2.81474977e+14, 5.62949953e+14, 1.12589991e+15, 2.25179981e+15,\n",
              "        4.50359963e+15, 9.00719925e+15, 1.80143985e+16, 3.60287970e+16],\n",
              "       [7.20575940e+16, 1.44115188e+17, 2.88230376e+17, 5.76460752e+17,\n",
              "        1.15292150e+18, 2.30584301e+18, 4.61168602e+18, 9.22337204e+18]])"
            ]
          },
          "metadata": {},
          "execution_count": 40
        }
      ]
    },
    {
      "cell_type": "code",
      "metadata": {
        "colab": {
          "base_uri": "https://localhost:8080/"
        },
        "id": "s5xCdmrK3rgL",
        "outputId": "6e116377-ee91-4562-f730-1f68263570f9"
      },
      "source": [
        "#Problem number 5\n",
        "import matplotlib.pyplot as plt\n",
        "%matplotlib inline\n",
        "#*** M is the number of rice received from the day 1 to 100th,  \n",
        "#*** C is the number of rice received in total on the 100th. \n",
        "# G= grain unit, \n",
        "#import time\n",
        "#start = time.time()\n",
        "G = 1 \n",
        "Grain = 1 \n",
        "M = []\n",
        "P = []\n",
        "#M.insert(0, 1)\n",
        "for b in range (64):\n",
        "   if b <= 32:\n",
        "     G = G * 2\n",
        "     C = (G*Grain)-1\n",
        "     M.append(C)\n",
        "\n",
        "   elif b > 32: \n",
        "    G = G * 2\n",
        "    d = (G*Grain)-1\n",
        "    P.append(d)\n",
        "else:\n",
        "     #print(M[-1])\n",
        "     #print(P[-1])\n",
        "     print((P[-1])/(M[-1]))\n",
        "     #print(C)\n",
        "     #plt.title(\"Ricechallenge\")\n",
        "     #plt.xlabel(\"number of days\")\n",
        "     #plt.ylabel(\"number of grains\")\n",
        "     #plt.plot(M)\n",
        "     #plt.plot(P)\n",
        "###*** print((P[-1])/(M[-1])) is the number of wheat in the second half of the chessboard is greater than the number of wheat in the first half."
      ],
      "execution_count": 41,
      "outputs": [
        {
          "output_type": "stream",
          "name": "stdout",
          "text": [
            "2147483648.25\n"
          ]
        }
      ]
    },
    {
      "cell_type": "code",
      "metadata": {
        "colab": {
          "base_uri": "https://localhost:8080/"
        },
        "id": "cu29ggMINUgz",
        "outputId": "e98f097e-de1d-4583-c626-e15542bcb8de"
      },
      "source": [
        "#*** Problem number 6\n",
        "%%timeit\n",
        "def expansion_nxm_mass(e, f, c):\n",
        "  #*** e is the number of squares, c is first values in the smal_board_list\n",
        "  wheat = np.arange(e).astype(np.uint64)\n",
        "  chess_board_arranged = wheat.reshape(f, c)\n",
        "  wheat_perspective = 2** chess_board_arranged\n",
        "  return chess_board_arranged, wheat_perspective\n",
        "expansion_nxm_mass(64, 8, 8)\n",
        " "
      ],
      "execution_count": 45,
      "outputs": [
        {
          "output_type": "stream",
          "name": "stdout",
          "text": [
            "The slowest run took 87.19 times longer than the fastest. This could mean that an intermediate result is being cached.\n",
            "100000 loops, best of 5: 3.99 µs per loop\n"
          ]
        }
      ]
    },
    {
      "cell_type": "code",
      "metadata": {
        "id": "b6HfbBi9Q86K"
      },
      "source": [
        ""
      ],
      "execution_count": 37,
      "outputs": []
    }
  ]
}