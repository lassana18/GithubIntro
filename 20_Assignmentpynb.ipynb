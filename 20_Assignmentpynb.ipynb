{
  "nbformat": 4,
  "nbformat_minor": 0,
  "metadata": {
    "colab": {
      "name": "20 Assignmentpynb",
      "provenance": [],
      "collapsed_sections": [],
      "mount_file_id": "1oL8rYFfTkM83z-XuKvXcHon6dnqtJes6",
      "authorship_tag": "ABX9TyMkuROEAV7Tvv/558emn7sZ",
      "include_colab_link": true
    },
    "kernelspec": {
      "name": "python3",
      "display_name": "Python 3"
    },
    "language_info": {
      "name": "python"
    }
  },
  "cells": [
    {
      "cell_type": "markdown",
      "metadata": {
        "id": "view-in-github",
        "colab_type": "text"
      },
      "source": [
        "<a href=\"https://colab.research.google.com/github/pafernannapi18/GithubIntro/blob/main/20_Assignmentpynb.ipynb\" target=\"_parent\"><img src=\"https://colab.research.google.com/assets/colab-badge.svg\" alt=\"Open In Colab\"/></a>"
      ]
    },
    {
      "cell_type": "markdown",
      "metadata": {
        "id": "yk-9PDodfVdb"
      },
      "source": [
        "## 【problem1】Hypothetical function"
      ]
    },
    {
      "cell_type": "code",
      "metadata": {
        "id": "AGAnXL2EeyE-"
      },
      "source": [
        "def _linear_hypothesis(self, X):\n",
        "    \"\"\"\n",
        "    Compute a linear hypothetical function\n",
        "    Parameters\n",
        "    ----------\n",
        "    X : The following forms of ndarray, shape (n_samples, n_features)\n",
        "      Training data\n",
        "    Returns\n",
        "    -------\n",
        "      The following form of ndarray, shape (n_samples, 1)\n",
        "      Estimated result by linear hypothetical function\n",
        "    \"\"\"\n",
        "    return np.dot(X, self.coef_.T)"
      ],
      "execution_count": 16,
      "outputs": []
    },
    {
      "cell_type": "markdown",
      "metadata": {
        "id": "wlLMuKGug4ww"
      },
      "source": [
        "## 【problem2】Steepest descent"
      ]
    },
    {
      "cell_type": "code",
      "metadata": {
        "id": "EOEpgZhQhCjA"
      },
      "source": [
        "def _gradient_descent(self, X, error):\n",
        "    \"\"\"\n",
        "    Write a description\n",
        "    \"\"\"\n",
        "    pass\n",
        "    error = self._linear_hypothesis(X) - y\n",
        "    self.coef_ -= (self.lr/len(X)) * np.matmul(error, X)\n",
        "\n",
        "    return self.coef_"
      ],
      "execution_count": 17,
      "outputs": []
    },
    {
      "cell_type": "markdown",
      "metadata": {
        "id": "67mWLRaPhGuh"
      },
      "source": [
        "## 【problem 3】Estimated"
      ]
    },
    {
      "cell_type": "code",
      "metadata": {
        "id": "OnCwiG7HhLkL"
      },
      "source": [
        "def predict(self, X):\n",
        "  \"\"\"\n",
        "  Estimate using linear regression\n",
        "  Parameters\n",
        "\n",
        "  X : ndarray of the following form, shape (n_samples, n_features)\n",
        "  Returns\n",
        "       ndarray of the following form, shape (n_samples,1)\n",
        "       Estimate result from linear regression\n",
        "  \"\"\"\n",
        "  prediction = self._linear_hypothesis(X)\n",
        "  return prediction"
      ],
      "execution_count": 18,
      "outputs": []
    },
    {
      "cell_type": "markdown",
      "metadata": {
        "id": "I0vkQic_hjX3"
      },
      "source": [
        "## 【problem 4】Mean squared error"
      ]
    },
    {
      "cell_type": "code",
      "metadata": {
        "id": "sX7WFEQFhl2V"
      },
      "source": [
        "def MSE(y_pred, y):\n",
        "  \"\"\"\n",
        "  Calculation of mean square error\n",
        "    Parameters\n",
        "    ----------\n",
        "    y_pred : ndarray of the following form, shape (n_samples,)\n",
        "      Estimated value\n",
        "    y : ndarray of the following form, shape (n_samples,)\n",
        "      Correct answer value\n",
        "    Returns\n",
        "    ----------\n",
        "    mse : numpy.float\n",
        "      Mean squared error\n",
        "    \"\"\"\n",
        "  mse = np.square(y_pred - y).mean()\n",
        "  return mse"
      ],
      "execution_count": 19,
      "outputs": []
    },
    {
      "cell_type": "markdown",
      "metadata": {
        "id": "VdRVeir9iAAy"
      },
      "source": [
        "## 【problem 5】Objective function"
      ]
    },
    {
      "cell_type": "code",
      "metadata": {
        "id": "otC7Eq86iCU9"
      },
      "source": [
        "def _objective_function(y_pred, y):\n",
        "\n",
        "  \"\"\"\n",
        "  Calculation of loss\n",
        "    Parameters\n",
        "    ----------\n",
        "    y_pred : ndarray of the following form, shape (n_samples,)\n",
        "      Estimated value\n",
        "    y : ndarray of the following form, shape (n_samples,)\n",
        "      Correct answer value\n",
        "    Returns\n",
        "    ----------\n",
        "    mse : numpy.float\n",
        "      Mean squared error\n",
        "    \"\"\"\n",
        "  loss = np.sum((y_pred - y)**2)/(2* len(y))\n",
        "  return loss"
      ],
      "execution_count": 20,
      "outputs": []
    },
    {
      "cell_type": "markdown",
      "metadata": {
        "id": "SZkvT-OpiPGT"
      },
      "source": [
        "## 【Problem 6】Learning and estimation\n",
        "\n",
        "Learn and estimate scratch implementations from the House Prices competition data provided in Sprint 02, an introduction to machine learning scratch.\n",
        "\n",
        "Compare this with the scikit-learn implementattion and see if it works correctly."
      ]
    },
    {
      "cell_type": "code",
      "metadata": {
        "id": "1Tz84Txqi-gK"
      },
      "source": [
        "import pandas as pd\n",
        "\n",
        "trains = pd.read_csv(\"/content/drive/MyDrive/Train dataset/train.csv\")\n",
        "X1 = trains.loc[:,['GrLivArea', 'YearBuilt']]\n",
        "y1 = trains.loc[:, 'SalePrice'] \n",
        "\n",
        "X = X1.to_numpy()\n",
        "y = y1.to_numpy()"
      ],
      "execution_count": 21,
      "outputs": []
    },
    {
      "cell_type": "code",
      "metadata": {
        "id": "hwmFey3BjEcF"
      },
      "source": [
        "import numpy as np\n",
        "np.random.seed(42)\n",
        "from sklearn.model_selection import train_test_split\n",
        "\n",
        "X_train, X_val, y_train, y_val = train_test_split(X, y, test_size = 0.2, random_state = 42)"
      ],
      "execution_count": 22,
      "outputs": []
    },
    {
      "cell_type": "code",
      "metadata": {
        "colab": {
          "base_uri": "https://localhost:8080/"
        },
        "id": "QKozAPTyjI6x",
        "outputId": "b66c6218-f8e6-4bd8-8f0a-9ca4cf86ff29"
      },
      "source": [
        "X_train.shape, X_val.shape"
      ],
      "execution_count": 23,
      "outputs": [
        {
          "output_type": "execute_result",
          "data": {
            "text/plain": [
              "((1168, 2), (292, 2))"
            ]
          },
          "metadata": {},
          "execution_count": 23
        }
      ]
    },
    {
      "cell_type": "markdown",
      "metadata": {
        "id": "gfn-Mtekj5nb"
      },
      "source": [
        "## ScratchLinearRegression class"
      ]
    },
    {
      "cell_type": "code",
      "metadata": {
        "id": "ZbZHIduMj-r-"
      },
      "source": [
        "import numpy as np"
      ],
      "execution_count": 24,
      "outputs": []
    },
    {
      "cell_type": "code",
      "metadata": {
        "colab": {
          "base_uri": "https://localhost:8080/"
        },
        "id": "x5NOe2Z9kZyM",
        "outputId": "7cf9f281-6e4e-408e-cdce-ab15d1db5e76"
      },
      "source": [
        "np.random.rand(len(X[0]))"
      ],
      "execution_count": 25,
      "outputs": [
        {
          "output_type": "execute_result",
          "data": {
            "text/plain": [
              "array([0.37454012, 0.95071431])"
            ]
          },
          "metadata": {},
          "execution_count": 25
        }
      ]
    },
    {
      "cell_type": "code",
      "metadata": {
        "colab": {
          "base_uri": "https://localhost:8080/"
        },
        "id": "OnY5QTjAkdOl",
        "outputId": "bf73d5c0-d78f-485c-d5ad-d9a385459b9c"
      },
      "source": [
        "bias = np.ones(len(X)).reshape(-1, 1)\n",
        "bias.shape"
      ],
      "execution_count": 26,
      "outputs": [
        {
          "output_type": "execute_result",
          "data": {
            "text/plain": [
              "(1460, 1)"
            ]
          },
          "metadata": {},
          "execution_count": 26
        }
      ]
    },
    {
      "cell_type": "code",
      "metadata": {
        "id": "Cz89oqdrkwU9"
      },
      "source": [
        "class ScratchLinearRegression():\n",
        "    \"\"\"\n",
        "    Scratch implementation of linear regression\n",
        "    \n",
        "    Parameters\n",
        "    ----------\n",
        "    num_iter : int\n",
        "      Number of iterations\n",
        "    lr : float\n",
        "      Learning rate\n",
        "    no_bias : bool\n",
        "      True if no bias term is included\n",
        "    verbose : bool\n",
        "      True to output the learning process\n",
        "    \n",
        "    Attributes\n",
        "    ----------\n",
        "    self.coef_ : The following form of ndarray, shape (n_features,)\n",
        "      Parameters\n",
        "    self.loss : The following form of ndarray, shape (self.iter,)\n",
        "      Record losses on training data\n",
        "    self.val_loss : The following form of ndarray, shape (self.iter,)\n",
        "      Record loss on validation data\n",
        "    \"\"\"\n",
        "    \n",
        "    def __init__(self, num_iter, lr, no_bias, verbose):\n",
        "        # Record hyperparameters as attributes\n",
        "        self.iter = num_iter\n",
        "        self.lr = lr\n",
        "        self.no_bias = no_bias\n",
        "        self.verbose = verbose\n",
        "        self.coef_ = None\n",
        "\n",
        "        # Prepare an array to record the loss\n",
        "        self.loss = np.zeros(self.iter)\n",
        "        self.val_loss = np.zeros(self.iter)\n",
        "        \n",
        "    def fit(self, X, y, X_val=None, y_val=None):\n",
        "\n",
        "      \"\"\"\n",
        "        Learn linear regression. If validation data is entered, the loss and accuracy for it are also calculated for each iteration.\n",
        "        Parameters\n",
        "        ----------\n",
        "        X : The following forms of ndarray, shape (n_samples, n_features)\n",
        "            Features of training data\n",
        "        y : The following form of ndarray, shape (n_samples,)\n",
        "            Correct answer value of training data\n",
        "        X_val : The following forms of ndarray, shape (n_samples, n_features)\n",
        "            Features of verification data\n",
        "        y_val : The following form of ndarray, shape (n_samples,)\n",
        "            Correct value of verification data\n",
        "        \"\"\"\n",
        "        # Set the presence or absence of the bias term. When False(with bias), \n",
        "        # X_0=1 is concat to X.\n",
        "      if self.no_bias:\n",
        "        self.coef_ = np.random.rand(len(X[0]))\n",
        "          # Since there are two types of features (two columns: 'GrlivArea', \n",
        "          #'YearBuilt'), prepare two random coefficient as init\n",
        "      else:\n",
        "          bias = np.ones(len(X)).reshape(-1, 1)\n",
        "          X = np.concatenate((bias, X), axis=1)\n",
        "          self.coef_ = np.random.rand(len(X[0]))\n",
        "\n",
        "          if self.verbose:\n",
        "            print(f'bias.shape: {bias.shape}') \n",
        "            print(f'X.shape:{X.shape}')\n",
        "            print(f'X_val.shape:{X_val.shape}') \n",
        "      for i in range(self.iter):\n",
        "          y_pred = self._linear_hypothesis(X) #Predict y_pred from the i-th training data X_train using the coefficient self....\n",
        "          y_pred_val = self.predict(X_val) # Predict y_pred_vol using the coefficient self.coef_ from the i-th data for X_vol\n",
        "\n",
        "          self.coef_ = self._gradient_descent(X, y) #Calculate the new coefficient by gradient descent\n",
        "\n",
        "          self.loss[i] = self._objective_function(y_pred, y) #Calculate the loss function using y_pred calulated from the new...\n",
        "          self.val_loss[i] = self._objective_function(y_pred_val, y_val)\n",
        "    \n",
        "    def _gradient_descent(self, X, y):\n",
        "      \"\"\"\n",
        "      Train a linear regression model using steepest descent when called by the fit method.\n",
        "\n",
        "      Parameters\n",
        "\n",
        "      X : ndarray of the following form, shape (n_samples, n_features)\n",
        "      \"\"\"\n",
        "      error = self._linear_hypothesis(X) - y\n",
        "      self.coef_ -=(self.lr/len(X)) * np.matmul(error, X)\n",
        "\n",
        "      return self.coef_       \n",
        "          \n",
        "    def _linear_hypothesis(self, X):\n",
        "\n",
        "      \"\"\"\n",
        "      Compute a linear hypothetical function\n",
        "      Parameters\n",
        "      ----------\n",
        "      X : The following forms of ndarray, shape (n_samples, n_features)\n",
        "      Training data\n",
        "      Returns\n",
        "      -------\n",
        "      The following form of ndarray, shape (n_samples, 1)\n",
        "      Estimated result by linear hypothetical function\n",
        "      \"\"\"\n",
        "      return np.dot(X, self.coef_.T)\n",
        "\n",
        "    def _objective_function(self, y_pred, y):\n",
        "      \"\"\"\n",
        "      Calculation of loss\n",
        "      Parameters\n",
        "      ----------\n",
        "      y_pred : ndarray of the following form, shape (n_samples,)\n",
        "      Estimated value\n",
        "      y : ndarray of the following form, shape (n_samples,)\n",
        "      Correct answer value\n",
        "      Returns\n",
        "      ----------\n",
        "      mse : numpy.float\n",
        "      Mean squared error\n",
        "      \"\"\"\n",
        "      loss = np.sum((y_pred - y)**2)/(2* len(y))\n",
        "      return loss\n",
        "\n",
        "    def predict(self, X):\n",
        "        \"\"\"\n",
        "        Estimate using linear regression.\n",
        "        Parameters\n",
        "        ----------\n",
        "        X : The following forms of ndarray, shape (n_samples, n_features)\n",
        "            sample\n",
        "        Returns\n",
        "        -------\n",
        "            The following form of ndarray, shape (n_samples, 1)\n",
        "            Estimated result by linear regression\n",
        "        \"\"\"\n",
        "        if self.no_bias:\n",
        "          pass\n",
        "        else:\n",
        "          bias = np.ones(len(X)).reshape(-1, 1)\n",
        "          X = np.concatenate((bias, X), axis=1)\n",
        "        prediction = np.dot(X, self.coef_.T)\n",
        "        return prediction"
      ],
      "execution_count": 27,
      "outputs": []
    },
    {
      "cell_type": "code",
      "metadata": {
        "id": "xWhO-rm3k5Su"
      },
      "source": [
        "from sklearn.preprocessing import StandardScaler \n",
        "\n",
        "scaler = StandardScaler()\n",
        "scaler.fit(X_train)\n",
        "\n",
        "X_train = scaler.transform(X_train)\n",
        "X_val = scaler.transform(X_val)"
      ],
      "execution_count": 28,
      "outputs": []
    },
    {
      "cell_type": "code",
      "metadata": {
        "colab": {
          "base_uri": "https://localhost:8080/"
        },
        "id": "beHqrZe2k-Gw",
        "outputId": "f4b60d79-a51e-4db4-a9e8-679c72a6dd75"
      },
      "source": [
        "model = ScratchLinearRegression(num_iter= 5000, lr = 0.001, no_bias = False, verbose=True)\n",
        "model.fit(X_train, y_train, X_val, y_val)\n",
        "y_pred = model.predict(X_val)"
      ],
      "execution_count": 29,
      "outputs": [
        {
          "output_type": "stream",
          "name": "stdout",
          "text": [
            "bias.shape: (1168, 1)\n",
            "X.shape:(1168, 3)\n",
            "X_val.shape:(292, 2)\n"
          ]
        }
      ]
    },
    {
      "cell_type": "code",
      "metadata": {
        "colab": {
          "base_uri": "https://localhost:8080/"
        },
        "id": "z9Bk5a2QlGfb",
        "outputId": "eed3cee3-d73f-4ede-8284-c44c6e281991"
      },
      "source": [
        "print('MSE Scratch Linear Regression: {:.3g}'.format(MSE(y_val, y_pred)))"
      ],
      "execution_count": 30,
      "outputs": [
        {
          "output_type": "stream",
          "name": "stdout",
          "text": [
            "MSE Scratch Linear Regression: 2.5e+09\n"
          ]
        }
      ]
    },
    {
      "cell_type": "markdown",
      "metadata": {
        "id": "wg2S6W-TlLUz"
      },
      "source": [
        "Checking the result of a linear regression model from sklearn"
      ]
    },
    {
      "cell_type": "code",
      "metadata": {
        "id": "URMRzWeOlOKd"
      },
      "source": [
        "from sklearn.linear_model import LinearRegression\n",
        "\n",
        "reg = LinearRegression()\n",
        "reg.fit(X_train, y_train)\n",
        "y_pred_reg = reg.predict(X_val)"
      ],
      "execution_count": 31,
      "outputs": []
    },
    {
      "cell_type": "markdown",
      "metadata": {
        "id": "PZRUs1X2nFnh"
      },
      "source": [
        "## 【Problem 7】Learning curve plot\n",
        "Create and execuute a function that displays the learning curve. Look at the graph to see if the loss is down properly.\n",
        "\n",
        "In the template of the linear regression class, the lloss is recorded in self.loss and self.val_loss, so please use this for input."
      ]
    },
    {
      "cell_type": "code",
      "metadata": {
        "colab": {
          "base_uri": "https://localhost:8080/",
          "height": 312
        },
        "id": "N8XjoHWQm3-L",
        "outputId": "4fdfa672-9cc7-4dc1-fdff-dd4523b809f5"
      },
      "source": [
        "import matplotlib.pyplot as plt\n",
        "%matplotlib inline \n",
        "\n",
        "plt.figure\n",
        "\n",
        "plt.plot(np.arange(len(model.loss)), model.loss, lw=4, label='train loss')\n",
        "plt.plot(np.arange(len(model.val_loss)), model.loss, lw=4, label='val loss')\n",
        "\n",
        "plt.title(\"Scratch Model Loss with bias\")\n",
        "plt.xlabel(\"Iteration\")\n",
        "plt.ylabel(\"Loss\")\n",
        "plt.legend()\n",
        "\n",
        "plt.show"
      ],
      "execution_count": 32,
      "outputs": [
        {
          "output_type": "execute_result",
          "data": {
            "text/plain": [
              "<function matplotlib.pyplot.show>"
            ]
          },
          "metadata": {},
          "execution_count": 32
        },
        {
          "output_type": "display_data",
          "data": {
            "image/png": "[encoded data removed]",
            "text/plain": [
              "<Figure size 432x288 with 1 Axes>"
            ]
          },
          "metadata": {
            "needs_background": "light"
          }
        }
      ]
    },
    {
      "cell_type": "markdown",
      "metadata": {
        "id": "tt4ttpkFnvJb"
      },
      "source": [
        "【problem 8】(Advance task) Removal of bias term\n",
        "\n",
        "Examine how learning changes when the bias term ᶿ0 is removed. Also, discuss and investigate the role off the bias term in linear regression models."
      ]
    },
    {
      "cell_type": "code",
      "metadata": {
        "id": "MRrlEnNnoPcu"
      },
      "source": [
        "model_wb = ScratchLinearRegression(num_iter= 5000, lr = 0.001, no_bias = True, verbose=False)\n",
        "model_wb.fit(X_train, y_train, X_val, y_val)\n",
        "y_pred = model_wb.predict(X_val)"
      ],
      "execution_count": 33,
      "outputs": []
    },
    {
      "cell_type": "code",
      "metadata": {
        "colab": {
          "base_uri": "https://localhost:8080/"
        },
        "id": "aElhJqsMoW06",
        "outputId": "fcc4f4b8-03b3-484e-9b20-c7580c753fc0"
      },
      "source": [
        "print('MSE Scratch Linear Regression without bias: {:.3g}'.format(MSE(y_val, y_pred)))"
      ],
      "execution_count": 34,
      "outputs": [
        {
          "output_type": "stream",
          "name": "stdout",
          "text": [
            "MSE Scratch Linear Regression without bias: 3.59e+10\n"
          ]
        }
      ]
    },
    {
      "cell_type": "code",
      "metadata": {
        "colab": {
          "base_uri": "https://localhost:8080/",
          "height": 312
        },
        "id": "8PCIEYVCoby3",
        "outputId": "4558a3d0-6360-423f-9fdf-5cb069d33e01"
      },
      "source": [
        "import matplotlib.pyplot as plt\n",
        "%matplotlib inline \n",
        "\n",
        "plt.figure\n",
        "\n",
        "plt.plot(np.arange(len(model_wb.loss)), model_wb.loss, lw=4, label='train loss')\n",
        "plt.plot(np.arange(len(model_wb.val_loss)), model_wb.loss, lw=4, label='val loss')\n",
        "\n",
        "plt.title(\"Scratch Model Loss without bias\")\n",
        "plt.xlabel(\"Iteration\")\n",
        "plt.ylabel(\"Loss\")\n",
        "plt.legend()\n",
        "\n",
        "plt.show"
      ],
      "execution_count": 35,
      "outputs": [
        {
          "output_type": "execute_result",
          "data": {
            "text/plain": [
              "<function matplotlib.pyplot.show>"
            ]
          },
          "metadata": {},
          "execution_count": 35
        },
        {
          "output_type": "display_data",
          "data": {
            "image/png": "[encoded data removed]",
            "text/plain": [
              "<Figure size 432x288 with 1 Axes>"
            ]
          },
          "metadata": {
            "needs_background": "light"
          }
        }
      ]
    },
    {
      "cell_type": "markdown",
      "metadata": {
        "id": "9r_FKycvooww"
      },
      "source": [
        "The presence of the bias term significantly reduced the mean squared error compared to the case with the bis term.\n",
        "\n",
        "The bias decreases discepancy between the mean of the target balue and target value and that of the hypothetical function."
      ]
    },
    {
      "cell_type": "markdown",
      "metadata": {
        "id": "WPw_uIo5pjSe"
      },
      "source": [
        "【problem 9】(Advance task) Multidimensional feature quantity\n",
        "\n",
        "Please verify how the learning result changes when the square or cube of the featuree is used for input.\n"
      ]
    },
    {
      "cell_type": "code",
      "metadata": {
        "id": "3N_0fkTRoj-a"
      },
      "source": [
        "np.random.seed(0)\n",
        "X_2 = X**2\n",
        "X_3 = X**3\n",
        "X_2_train, X_2_val, y_train, y_val = train_test_split(X_2, y, test_size=0.2)\n",
        "X_3_train, X_3_val, y_train, y_val = train_test_split(X_3, y, test_size=0.2)\n",
        "\n",
        "scaler.fit(X_2_train)\n",
        "scaler.fit(X_3_train)\n",
        "\n",
        "X_2_train = scaler.transform(X_2_train)\n",
        "X_2_val = scaler.transform(X_2_val)\n",
        "\n",
        "X_3_train = scaler.transform(X_3_train)\n",
        "X_3_val = scaler.transform(X_3_val)"
      ],
      "execution_count": 36,
      "outputs": []
    },
    {
      "cell_type": "code",
      "metadata": {
        "id": "k61EtIT2qAd9"
      },
      "source": [
        "model_2 = ScratchLinearRegression(num_iter= 5000, lr = 0.001, no_bias = False, verbose=False)\n",
        "model_2.fit(X_2_train, y_train, X_2_val, y_val)\n",
        "y_pred_2 = model_2.predict(X_2_val)"
      ],
      "execution_count": 37,
      "outputs": []
    },
    {
      "cell_type": "code",
      "metadata": {
        "colab": {
          "base_uri": "https://localhost:8080/"
        },
        "id": "BFNH4LvGqVzF",
        "outputId": "9cd83acc-a9e2-40b3-d4e5-281389a27b1b"
      },
      "source": [
        "print('MSE Scratch Linear Regression with the square of X: {:.3g}'.format(MSE(y_val, y_pred_2)))"
      ],
      "execution_count": 38,
      "outputs": [
        {
          "output_type": "stream",
          "name": "stdout",
          "text": [
            "MSE Scratch Linear Regression with the square of X: 6.85e+09\n"
          ]
        }
      ]
    },
    {
      "cell_type": "code",
      "metadata": {
        "id": "ESKYHDznqpSR"
      },
      "source": [
        "model_3 = ScratchLinearRegression(num_iter= 5000, lr = 0.001, no_bias = False, verbose=False)\n",
        "model_3.fit(X_3_train, y_train, X_3_val, y_val)\n",
        "y_pred_3 = model_3.predict(X_3_val)"
      ],
      "execution_count": 39,
      "outputs": []
    },
    {
      "cell_type": "code",
      "metadata": {
        "colab": {
          "base_uri": "https://localhost:8080/"
        },
        "id": "PwrDrME9qzvB",
        "outputId": "2fda1a01-fb97-4d99-f68b-6c38f71e9b8a"
      },
      "source": [
        "print('MSE Scratch Linear Regression with the cube of X: {:.3g}'.format(MSE(y_val, y_pred_3)))"
      ],
      "execution_count": 40,
      "outputs": [
        {
          "output_type": "stream",
          "name": "stdout",
          "text": [
            "MSE Scratch Linear Regression with the cube of X: 3.09e+09\n"
          ]
        }
      ]
    },
    {
      "cell_type": "code",
      "metadata": {
        "colab": {
          "base_uri": "https://localhost:8080/",
          "height": 312
        },
        "id": "jwKtrV7Rq2Zd",
        "outputId": "a0df8d67-71c9-4e93-e2e4-07abca23c9bd"
      },
      "source": [
        "plt.plot(np.arange(len(model.loss)), model.loss, lw=4, label='Train loss original model')\n",
        "plt.plot(np.arange(len(model_2.val_loss)), model_2.loss, lw=4, label='Train loss square model')\n",
        "plt.plot(np.arange(len(model_3.val_loss)), model_3.loss, lw=4, label='Train loss cube model')\n",
        "\n",
        "\n",
        "plt.title(\"Scratch Model Train Loss\")\n",
        "plt.xlabel(\"Iteration\")\n",
        "plt.ylabel(\"Loss\")\n",
        "plt.legend()\n",
        "\n",
        "plt.show"
      ],
      "execution_count": 41,
      "outputs": [
        {
          "output_type": "execute_result",
          "data": {
            "text/plain": [
              "<function matplotlib.pyplot.show>"
            ]
          },
          "metadata": {},
          "execution_count": 41
        },
        {
          "output_type": "display_data",
          "data": {
            "image/png": "[encoded data removed]",
            "text/plain": [
              "<Figure size 432x288 with 1 Axes>"
            ]
          },
          "metadata": {
            "needs_background": "light"
          }
        }
      ]
    },
    {
      "cell_type": "code",
      "metadata": {
        "colab": {
          "base_uri": "https://localhost:8080/",
          "height": 312
        },
        "id": "peftxhsrrDRd",
        "outputId": "e319c5e2-ea67-42be-b97a-e02c5d89f358"
      },
      "source": [
        "plt.plot(np.arange(len(model.val_loss)), model.loss, lw=4, label='Val loss original model')\n",
        "plt.plot(np.arange(len(model_2.val_loss)), model_2.loss, lw=4, label='Val loss square model')\n",
        "plt.plot(np.arange(len(model_3.val_loss)), model_3.loss, lw=4, label='Val loss cube model')\n",
        "\n",
        "\n",
        "plt.title(\"Scratch Model Train Loss\")\n",
        "plt.xlabel(\"Iteration\")\n",
        "plt.ylabel(\"Loss\")\n",
        "plt.legend()\n",
        "\n",
        "plt.show"
      ],
      "execution_count": 42,
      "outputs": [
        {
          "output_type": "execute_result",
          "data": {
            "text/plain": [
              "<function matplotlib.pyplot.show>"
            ]
          },
          "metadata": {},
          "execution_count": 42
        },
        {
          "output_type": "display_data",
          "data": {
            "image/png": "[encoded data removed]",
            "text/plain": [
              "<Figure size 432x288 with 1 Axes>"
            ]
          },
          "metadata": {
            "needs_background": "light"
          }
        }
      ]
    },
    {
      "cell_type": "markdown",
      "metadata": {
        "id": "NY6W-R3GrKU5"
      },
      "source": [
        "## 【problem 10】(Advance task) Derivation of update formula"
      ]
    },
    {
      "cell_type": "code",
      "metadata": {
        "id": "ym7GQFHfrNLz"
      },
      "source": [
        ""
      ],
      "execution_count": null,
      "outputs": []
    }
  ]
}