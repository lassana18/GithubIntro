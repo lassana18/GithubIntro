{
  "nbformat": 4,
  "nbformat_minor": 0,
  "metadata": {
    "colab": {
      "name": "ThirdAssigment.ipynb",
      "provenance": [],
      "collapsed_sections": [],
      "authorship_tag": "ABX9TyPuEb+MMf3QDXwWF5mRDZMX",
      "include_colab_link": true
    },
    "kernelspec": {
      "name": "python3",
      "display_name": "Python 3"
    },
    "language_info": {
      "name": "python"
    }
  },
  "cells": [
    {
      "cell_type": "markdown",
      "metadata": {
        "id": "view-in-github",
        "colab_type": "text"
      },
      "source": [
        "<a href=\"https://colab.research.google.com/github/pafernannapi18/GithubIntro/blob/main/ThirdAssigment.ipynb\" target=\"_parent\"><img src=\"https://colab.research.google.com/assets/colab-badge.svg\" alt=\"Open In Colab\"/></a>"
      ]
    },
    {
      "cell_type": "code",
      "metadata": {
        "colab": {
          "base_uri": "https://localhost:8080/"
        },
        "id": "73HAsCiGttGF",
        "outputId": "154261b0-0207-41cf-ebb4-d0549c5da9b6"
      },
      "source": [
        "#*** Mt. Fuji**#\n",
        "\n",
        "a = 1 \n",
        "e = 0.00008\n",
        "H = []\n",
        "C = int(30)\n",
        "H.insert(0, 0.0008)\n",
        "for b in range (C):\n",
        "     if b <=25:\n",
        "       a = (a * 2)\n",
        "       f = a * e\n",
        "       if f > 3776:\n",
        "         print(f)\n",
        "         print(b)\n",
        "         print(\"The minimum number of times to fold the paper required for the thickness to exceed the height of Mt. Fuji is\", b,\".\")  "
      ],
      "execution_count": 147,
      "outputs": [
        {
          "output_type": "stream",
          "name": "stdout",
          "text": [
            "5368.70912\n",
            "25\n",
            "The minimum number of times to fold the paper required for the thickness to exceed the height of Mt. Fuji is 25 .\n"
          ]
        }
      ]
    },
    {
      "cell_type": "code",
      "metadata": {
        "id": "qO4uOH5Dtuqd",
        "colab": {
          "base_uri": "https://localhost:8080/"
        },
        "outputId": "96cd15a6-fe00-4286-81f5-2573a4ac2c7f"
      },
      "source": [
        "def compute_arbitrary_thickness(f, g, d, a= 1, e= 0.00008):\n",
        "\n",
        "#***(a= paper unit, b is the required times to fold the paper, c is the range for counts, d is the distance to star, e is the paper thickness, f is the thickness with time and folds***\n",
        "   #a = 1\n",
        "   #H = []\n",
        "   #H.insert(0,1)\n",
        "   #e= 0.00008\n",
        "   for b in range (f):\n",
        "    if b <= g:\n",
        "      a= a*2\n",
        "      f = e*a\n",
        "    if f >=d:\n",
        "     print(b)\n",
        "     print(f)\n",
        "     print(\"You need to fold the paper\", b, \"times to rieach the nearest non-sun star.\")\n",
        "     break \n",
        "compute_arbitrary_thickness(100, 100, 4.0175*(10**16))\n",
        "      "
      ],
      "execution_count": 159,
      "outputs": [
        {
          "output_type": "stream",
          "name": "stdout",
          "text": [
            "68\n",
            "4.7223664828696456e+16\n",
            "You need to fold the paper 68 times to rieach the nearest non-sun star.\n"
          ]
        }
      ]
    },
    {
      "cell_type": "code",
      "metadata": {
        "colab": {
          "base_uri": "https://localhost:8080/"
        },
        "id": "PRTnTiJxyHJQ",
        "outputId": "65e6806e-4c5e-467f-f75e-fa0935ff7e54"
      },
      "source": [
        "def compute_required_length(n, e, z, f, g, c= 0.00008, P=3.142):\n",
        "\n",
        "#***(a= paper unit, b is the required times to fold the paper, c is the paper thickness,n is paper folds, P = 3.142,  d is the distance to star, e is the paper thickness, f is the thickness with time and folds***\n",
        "   #a = 1\n",
        "   #H = []\n",
        "   #H.insert(0,1)\n",
        "   #e= 0.00008\n",
        "   for b in range (f):\n",
        "    if b <= g:\n",
        "      L = ((P*c)/6)*((2**n)+4)*((2**n)-1)\n",
        "      print(\"You a paper of\", L, \"meters folded to n times to reach the moon\")\n",
        "      print(\"You a paper of\", L, \"meters folded to e times to reach Mt. Fuji\")\n",
        "      print(\"You a paper of\", L, \"meters folded to z times to reach the stars closest to the sun\")\n",
        "      return L\n",
        "compute_required_length(43, 25, 68, 100, 100)\n",
        "    "
      ],
      "execution_count": 160,
      "outputs": [
        {
          "output_type": "stream",
          "name": "stdout",
          "text": [
            "You a paper of 3.2413396695299926e+21 meters folded to n times to reach the moon\n",
            "You a paper of 3.2413396695299926e+21 meters folded to e times to reach Mt. Fuji\n",
            "You a paper of 3.2413396695299926e+21 meters folded to z times to reach the stars closest to the sun\n"
          ]
        },
        {
          "output_type": "execute_result",
          "data": {
            "text/plain": [
              "3.2413396695299926e+21"
            ]
          },
          "metadata": {},
          "execution_count": 160
        }
      ]
    },
    {
      "cell_type": "code",
      "metadata": {
        "id": "gBJfy3EB4R-A"
      },
      "source": [
        ""
      ],
      "execution_count": null,
      "outputs": []
    }
  ]
}