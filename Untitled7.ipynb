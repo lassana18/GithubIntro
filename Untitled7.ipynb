{
  "nbformat": 4,
  "nbformat_minor": 0,
  "metadata": {
    "colab": {
      "name": "Untitled7.ipynb",
      "provenance": [],
      "collapsed_sections": [],
      "mount_file_id": "1TCIgNpmeq_U35XTdUxgVJP4dhgOHiVyi",
      "authorship_tag": "ABX9TyPT1eVOR4OiJMqSbU67Ux27",
      "include_colab_link": true
    },
    "kernelspec": {
      "name": "python3",
      "display_name": "Python 3"
    },
    "language_info": {
      "name": "python"
    }
  },
  "cells": [
    {
      "cell_type": "markdown",
      "metadata": {
        "id": "view-in-github",
        "colab_type": "text"
      },
      "source": [
        "<a href=\"https://colab.research.google.com/github/pafernannapi18/GithubIntro/blob/main/Untitled7.ipynb\" target=\"_parent\"><img src=\"https://colab.research.google.com/assets/colab-badge.svg\" alt=\"Open In Colab\"/></a>"
      ]
    },
    {
      "cell_type": "code",
      "metadata": {
        "id": "Im6FvmXR3GPm"
      },
      "source": [
        "def predict(self, X):\n",
        "  self.y_pred = np.zeros(X.shape[0]).reshape([X.shape[0], 1)\n",
        "  self.y_pred[X[:, self.ind2] >= self.decision_threshold] = self.Greater_label\n",
        "  self.y_pred[X[:, self.ind2] < self.decision_threshold] = self.Less_label\n",
        "  return self.y_pred"
      ],
      "execution_count": null,
      "outputs": []
    },
    {
      "cell_type": "code",
      "metadata": {
        "id": "8VP77FBDd5s-"
      },
      "source": [
        "class ScratchDecesionTreeClassifier():\n",
        "  def _gini_impurity(self, X, y):\n",
        "    a = 0 \n",
        "    for i in np.unique(y):\n",
        "      a += (len(y[y[:, 0]==i]) / len(X)) ** 2 \n",
        "    self.gini = 1 - a\n",
        "    return self.gini\n",
        "\n",
        "  def _info_gain(self, X, y):\n",
        "    n = len(X)\n",
        "    IG = self._gini_impurity(X, y) - len(self.X_left) / n * self._gini_impurity(self.X_left, self.y_left) - len(sel\n",
        "  f.X_right) / n * self._gini_impurity(self.X_right, self.y_right)\n",
        "    return IG \n",
        "\n",
        "  def fit(self, X, y):\n",
        "    self.list_info_gain_max = []\n",
        "    self.threshold_max = []\n",
        "\n",
        "    for i in range(X.shape[1]):\n",
        "      self.list_info_gain = []\n",
        "      self.Threshold = []\n",
        "\n",
        "      for j in np.unique(X[:,i]):\n",
        "        \n",
        "  "
      ],
      "execution_count": null,
      "outputs": []
    },
    {
      "cell_type": "code",
      "metadata": {
        "id": "IJF2UIHeaCIJ"
      },
      "source": [
        "def information_gain(ln_class, rn_class):\n",
        "  n1 = sum(ln_class)\n",
        "  n2 = sum(rn_class)\n",
        "  p_sample = n1 + n2 \n",
        "  p_class = ln_class + rn_class "
      ],
      "execution_count": null,
      "outputs": []
    },
    {
      "cell_type": "code",
      "metadata": {
        "id": "PWNFB2riDSjW"
      },
      "source": [
        "def fit(self, X, y):\n",
        "  self.list_info_gain_max = []\n",
        "  sel.threshold_max_max =[]\n",
        "\n",
        "  for i in range(X.shape[1]):\n",
        "    self.Threshold = []\n",
        "\n",
        "    for j in np.unique(X[:,i]):\n",
        "      self.Threshold.append(j)\n",
        "      self.X_right = X[X[:,i] >= j]\n",
        "      self.y_right = y[X[:,i] >= j] \n",
        "      self.X_left = X[X[:,i] < j]\n",
        "      self.y_left = y[X[:,i] < j]\n",
        "      self.list_info_gain_max.append(self._info_gain(X, y))\n",
        "\n",
        "    self.list_info_gain_max.append(max(self.list_info_gain))\n",
        "    self.ind = self.list_info_gain.index(max(self.list_info_gain))\n",
        "    self.threshold_max.append(self.Threshold[self.ind])\n",
        "\n",
        "  self.ind2 = self.list_info_gain_max.index(max(self.list_info_gain_max))\n",
        "  self.decision_threshold = self.threshold_max[self.ind2]\n",
        "  self.Greater_label = stats.mode(y[X[: , self.ind2] >= self.dicision_threshold]).mode\n",
        "  self.Less_label = stats.mode(y[X[: , self.ind2] < self.dicision_threshold]).mode\n",
        "\n",
        "  def predict(self,X):\n",
        "    self.y_pred - np.zeros(X.shape[0]).reshape(X.shape[0]], 1)\n",
        "    self.y_pred[X[:, self.ind2] >= self.decision_threshold] = self.Greater_label\n",
        "    self.y_pred[X[:, self.ind2] < self.decision_threshold] = self.Less_label\n",
        "    return self.y_pred"
      ],
      "execution_count": null,
      "outputs": []
    },
    {
      "cell_type": "code",
      "metadata": {
        "id": "vJoCyQMsAKO6"
      },
      "source": [
        "iris = load_iris()\n",
        "X = iris.data[50:,:]\n",
        "y = iris.target[50:]\n",
        "X = X:[:, [2,3]]\n",
        "y = np.where(y == 1, 1, 0)\n",
        "y = y.reshape(100, 1)\n",
        "iris = np.hstack((y, X))\n",
        "np.unique(iris[:,0])"
      ],
      "execution_count": null,
      "outputs": []
    },
    {
      "cell_type": "code",
      "metadata": {
        "id": "hsfQILbtBik7"
      },
      "source": [
        "ScDT = ScratchDecesionTreeClassifier()\n",
        "ScDT.fit(X, y)"
      ],
      "execution_count": null,
      "outputs": []
    },
    {
      "cell_type": "code",
      "metadata": {
        "id": "UXYV-L2rB10T"
      },
      "source": [
        "ScDT.predict(X)"
      ],
      "execution_count": null,
      "outputs": []
    },
    {
      "cell_type": "code",
      "metadata": {
        "id": "zMov5sjGCVU0"
      },
      "source": [
        "(X_train, X_test, y_train, y_test) = train_test_split(X, y, test_size=0.3, random_state=0)\n",
        "ScDT = ScratchDecesionTreeClassifier()\n",
        "ScDT.fit(X_train, y_train)\n",
        "y_pred = ScDT.predict(X_test)"
      ],
      "execution_count": null,
      "outputs": []
    },
    {
      "cell_type": "code",
      "metadata": {
        "id": "4dmsb8W5DLnv"
      },
      "source": [
        "print(\"{}\".format(precision_score(y_test, y_pred)))\n",
        "print(\"{}\".format(recall_score(y_test, y_pred)))\n",
        "print(\"{}\".format(f1_score(y_test, y_pred)))\n",
        "print(confusion_matrix(y_test, y_pred))"
      ],
      "execution_count": null,
      "outputs": []
    },
    {
      "cell_type": "markdown",
      "metadata": {
        "id": "yWLZXFpHERNN"
      },
      "source": [
        "## Decision region"
      ]
    },
    {
      "cell_type": "code",
      "metadata": {
        "id": "4ruGRV9OEYYd"
      },
      "source": [
        "def decision_region(X, y, model, step=0.01, title='decision tree', xlabel='xlabel', ylabel='ylabel', target_names=['versicolor','virginica']):\n",
        "  #setting\n",
        "  scatter_color = ['red', 'blue']\n",
        "  contourf_color = ['pink', 'skyblue']\n",
        "  n_class = 2\n",
        "  # pred\n",
        "  mesh_f0, mesh_f1 = np.meshgrid(np.arange(np.min(X[:,0])-0.5, np.max(X[:,0])+0.5, step), np.arange(np.min(X[:,1])-0.5, np.max(X[:,1])+0.5, step))\n",
        "  mesh = np.c_[np.ravel(mesh_f0), np.ravel(mesh_f1)]\n",
        "  y_pred = model.predict(mesh).reshape(mesh_f0.shape)\n",
        "\n",
        "  #plot\n",
        "  plt.title(title)\n",
        "  plt.xlabel(xlabel)\n",
        "  plt.ylabel(ylabel)\n",
        "  plt.contourf(mesh_f0, mesh_f1, y_pred, n_class-1, cmap=ListedColormap(contourf_color))\n",
        "  plt.contour(mesh_f0, mesh_f1, y_pred, n_class-1, colors ='y', linewidth =3, alpa =0.5)\n",
        "  for i, target in enumerate(set(y)):\n",
        "    plt.scatter(X[y==target][:, 0], X[y==target][:,1], s=80, color = scatter_color[i], label=target_names[i], marker='o')\n",
        "  patches = [mpatches.Patch(color=scatter_color[i], label = target_names[i]) for i in range(n_class)]\n",
        "  plt.legend(handles=patches)\n",
        "  plt.legend()\n",
        "  plt.show() \n"
      ],
      "execution_count": null,
      "outputs": []
    },
    {
      "cell_type": "code",
      "metadata": {
        "id": "AAdWZ1P1E-Ds"
      },
      "source": [
        "decision_region(X = X, y= [:,0], model = ScDT, step = 0.01, title='Decision_tree', xlabel='xlabel', ylabel = 'ylabel')"
      ],
      "execution_count": null,
      "outputs": []
    },
    {
      "cell_type": "code",
      "metadata": {
        "id": "dohhW6G_Gim5"
      },
      "source": [
        "decision_region(X = X, y= [:,0], model = ScDT, step = 0.01, title='Decision_tree', xlabel='xlabel', ylabel = 'ylabel')"
      ],
      "execution_count": null,
      "outputs": []
    },
    {
      "cell_type": "code",
      "metadata": {
        "id": "G0MDAgfREZT6"
      },
      "source": [
        ""
      ],
      "execution_count": null,
      "outputs": []
    }
  ]
}