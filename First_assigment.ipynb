{
  "nbformat": 4,
  "nbformat_minor": 0,
  "metadata": {
    "colab": {
      "name": "First assigment.ipynb",
      "provenance": [],
      "collapsed_sections": [],
      "authorship_tag": "ABX9TyMfyIEIGm8rx0cBMEN9dnyA",
      "include_colab_link": true
    },
    "kernelspec": {
      "name": "python3",
      "display_name": "Python 3"
    },
    "language_info": {
      "name": "python"
    }
  },
  "cells": [
    {
      "cell_type": "markdown",
      "metadata": {
        "id": "view-in-github",
        "colab_type": "text"
      },
      "source": [
        "<a href=\"https://colab.research.google.com/github/pafernannapi18/GithubIntro/blob/main/First_assigment.ipynb\" target=\"_parent\"><img src=\"https://colab.research.google.com/assets/colab-badge.svg\" alt=\"Open In Colab\"/></a>"
      ]
    },
    {
      "cell_type": "code",
      "metadata": {
        "colab": {
          "base_uri": "https://localhost:8080/"
        },
        "id": "4Bt02hEDUi9t",
        "outputId": "f4e4146b-7fd8-4dbc-e6af-af7608399522"
      },
      "source": [
        "THICKNESS = 0.00008\n",
        "folded_thickness = THICKNESS * (2**43)\n",
        "print(\"Thickness: {} meters\".format(folded_thickness))"
      ],
      "execution_count": null,
      "outputs": [
        {
          "output_type": "stream",
          "name": "stdout",
          "text": [
            "Thickness: 703687441.77664 meters\n"
          ]
        }
      ]
    },
    {
      "cell_type": "code",
      "metadata": {
        "colab": {
          "base_uri": "https://localhost:8080/"
        },
        "id": "DpvY94Q3VLbh",
        "outputId": "2cd108c0-fda7-4742-b541-afa532505c30"
      },
      "source": [
        "import time\n",
        "start = time.time()\n",
        "THICKNESS = 0.00008\n",
        "folded_thickness = THICKNESS * (2**43)\n",
        "# Convert meters to kilometers and display with two decimal places\n",
        "Pkm = (\"10^4\")\n",
        "print(\"Thickness: {: .2f}x{}, kilometers\".format((folded_thickness / 10000000), Pkm))\n",
        "\n",
        "elapsed_time = time.time() - start\n",
        "print(\"time : {}[s]\".format(elapsed_time))\n",
        "\n"
      ],
      "execution_count": 13,
      "outputs": [
        {
          "output_type": "stream",
          "name": "stdout",
          "text": [
            "Thickness:  70.37x10^4, kilometers\n",
            "time : 0.0015668869018554688[s]\n"
          ]
        }
      ]
    },
    {
      "cell_type": "code",
      "metadata": {
        "id": "TZgmzESGWRlR",
        "colab": {
          "base_uri": "https://localhost:8080/"
        },
        "outputId": "931f4b73-3de3-4bc1-fb85-b5dcb04c9325"
      },
      "source": [
        "import time\n",
        "start = time.time()\n",
        "a = 1 \n",
        "d = 0.00008\n",
        "Pkm = (\"10^4\")\n",
        "for b in range (43):\n",
        "   if b == '43': \n",
        "    a = a*2\n",
        "    C = a*d\n",
        "else:\n",
        "    print(C)\n",
        "    print(\"Thickness: {: .2f}x{}, kilometers\".format((C / 10000000), Pkm))\n",
        "    elapsed_time = time.time() - start\n",
        "print(\"time : {}[s]\".format(elapsed_time))"
      ],
      "execution_count": 14,
      "outputs": [
        {
          "output_type": "stream",
          "name": "stdout",
          "text": [
            "703687441.77664\n",
            "Thickness:  70.37x10^4, kilometers\n",
            "time : 0.0042498111724853516[s]\n"
          ]
        }
      ]
    },
    {
      "cell_type": "code",
      "metadata": {
        "colab": {
          "base_uri": "https://localhost:8080/"
        },
        "id": "ME_LqA5w5ROj",
        "outputId": "7570f8cb-dc7f-491b-9f2c-b8b332ea5419"
      },
      "source": [
        "import time\n",
        "start = time.time()\n",
        "a = 1 \n",
        "d = 0.00008\n",
        "M = []\n",
        "M.insert(0, 0.00008)\n",
        "Pkm = (\"10^4\")\n",
        "for b in range (43):\n",
        " \n",
        "    a = a*2\n",
        "    C = a*d\n",
        "    Folded_list = M.append(C)\n",
        "    \n",
        "    #print(\"Thickness: {: .2f}x{}, kilometers\".format((C / 10000000), Pkm))\n",
        "    elapsed_time = time.time() - start\n",
        "print(\"time : {}[s]\".format(elapsed_time))\n",
        "print(M)\n",
        "print(len(M))"
      ],
      "execution_count": 18,
      "outputs": [
        {
          "output_type": "stream",
          "name": "stdout",
          "text": [
            "time : 0.0001571178436279297[s]\n",
            "[8e-05, 0.00016, 0.00032, 0.00064, 0.00128, 0.00256, 0.00512, 0.01024, 0.02048, 0.04096, 0.08192, 0.16384, 0.32768, 0.65536, 1.31072, 2.62144, 5.24288, 10.48576, 20.97152, 41.94304, 83.88608, 167.77216, 335.54432, 671.08864, 1342.17728, 2684.35456, 5368.70912, 10737.41824, 21474.83648, 42949.67296, 85899.34592, 171798.69184, 343597.38368, 687194.76736, 1374389.53472, 2748779.06944, 5497558.13888, 10995116.27776, 21990232.55552, 43980465.11104, 87960930.22208, 175921860.44416, 351843720.88832, 703687441.77664]\n",
            "44\n"
          ]
        }
      ]
    },
    {
      "cell_type": "code",
      "metadata": {
        "colab": {
          "base_uri": "https://localhost:8080/",
          "height": 312
        },
        "id": "zvVsnYJGxVbe",
        "outputId": "aed42747-f571-4194-d01c-a5ac8e9ff021"
      },
      "source": [
        "import matplotlib.pyplot as plt\n",
        "%matplotlib inline\n",
        "\n",
        "import time\n",
        "start = time.time()\n",
        "a = 1 \n",
        "d = 0.00008\n",
        "M = []\n",
        "M.insert(0, 0.00008)\n",
        "Pkm = (\"10^4\")\n",
        "for b in range (43):\n",
        " \n",
        "    a = a*2\n",
        "    C = a*d\n",
        "    Folded_list = M.append(C)\n",
        "    \n",
        "    #print(\"Thickness: {: .2f}x{}, kilometers\".format((C / 10000000), Pkm))\n",
        "   # elapsed_time = time.time() - start\n",
        "   # print(\"time : {}[s]\".format(elapsed_time))\n",
        "plt.title(\"thickness of folded paper\")\n",
        "plt.xlabel(\"number of folds\")\n",
        "plt.ylabel(\"thickness [Km]\")\n",
        "plt.plot(M)\n",
        "#print(M)\n",
        "#print(len(M))"
      ],
      "execution_count": 22,
      "outputs": [
        {
          "output_type": "execute_result",
          "data": {
            "text/plain": [
              "[<matplotlib.lines.Line2D at 0x7ff456de8290>]"
            ]
          },
          "metadata": {},
          "execution_count": 22
        },
        {
          "output_type": "display_data",
          "data": {
            "image/png": "[encoded data removed]",
            "text/plain": [
              "<Figure size 432x288 with 1 Axes>"
            ]
          },
          "metadata": {
            "needs_background": "light"
          }
        }
      ]
    },
    {
      "cell_type": "code",
      "metadata": {
        "colab": {
          "base_uri": "https://localhost:8080/",
          "height": 304
        },
        "id": "wDl9iOztziKP",
        "outputId": "589fba80-1b3c-47b0-db47-79def80172ef"
      },
      "source": [
        "import matplotlib.pyplot as plt\n",
        "%matplotlib inline\n",
        "\n",
        "import time\n",
        "start = time.time()\n",
        "a = 1 \n",
        "d = 0.00008\n",
        "M = []\n",
        "M.insert(0, 0.00008)\n",
        "Pkm = (\"10^4\")\n",
        "for b in range (43):\n",
        " \n",
        "    a = a*2\n",
        "    C = a*d\n",
        "    Folded_list = M.append(C)\n",
        "    \n",
        "    #print(\"Thickness: {: .2f}x{}, kilometers\".format((C / 10000000), Pkm))\n",
        "   # elapsed_time = time.time() - start\n",
        "   # print(\"time : {}[s]\".format(elapsed_time))\n",
        "plt.title(\"thickness of folded paper\")\n",
        "plt.xlabel(\"number of folds\")\n",
        "plt.ylabel(\"thickness [Km]\")\n",
        "plt.plot(M, color='red')\n",
        "plt.tick_params(labelsize=20)\n",
        "\n",
        "#print(M)\n",
        "#print(len(M))"
      ],
      "execution_count": 28,
      "outputs": [
        {
          "output_type": "display_data",
          "data": {
            "image/png": "[encoded data removed]",
            "text/plain": [
              "<Figure size 432x288 with 1 Axes>"
            ]
          },
          "metadata": {
            "needs_background": "light"
          }
        }
      ]
    }
  ]
}